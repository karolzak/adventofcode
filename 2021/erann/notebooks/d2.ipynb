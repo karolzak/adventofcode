{
 "cells": [
  {
   "cell_type": "code",
   "execution_count": 1,
   "metadata": {},
   "outputs": [],
   "source": [
    "%load_ext lab_black\n",
    "from IPython.core.interactiveshell import InteractiveShell\n",
    "\n",
    "InteractiveShell.ast_node_interactivity = \"all\"\n",
    "\n",
    "import re"
   ]
  },
  {
   "cell_type": "code",
   "execution_count": 2,
   "metadata": {},
   "outputs": [],
   "source": [
    "input = \"\"\"forward 5\n",
    "down 5\n",
    "forward 8\n",
    "up 3\n",
    "down 8\n",
    "forward 2\"\"\"\n",
    "\n",
    "test_input = open(\"../inputs/d2.txt\", \"r\").read()"
   ]
  },
  {
   "cell_type": "code",
   "execution_count": 3,
   "metadata": {},
   "outputs": [
    {
     "data": {
      "text/plain": [
       "1840243"
      ]
     },
     "execution_count": 3,
     "metadata": {},
     "output_type": "execute_result"
    }
   ],
   "source": [
    "horizontal = 0\n",
    "depth = 0\n",
    "for row in test_input.splitlines():\n",
    "    command = re.findall(\"[a-z]+\", row)[0]\n",
    "    value = int(re.findall(\"\\d+\", row)[0])\n",
    "    if command == \"forward\":\n",
    "        horizontal += value\n",
    "    elif command == \"up\":\n",
    "        depth -= value\n",
    "    elif command == \"down\":\n",
    "        depth += value\n",
    "\n",
    "horizontal * depth"
   ]
  },
  {
   "cell_type": "markdown",
   "metadata": {},
   "source": [
    "# Part 2"
   ]
  },
  {
   "cell_type": "code",
   "execution_count": 4,
   "metadata": {},
   "outputs": [
    {
     "data": {
      "text/plain": [
       "900"
      ]
     },
     "execution_count": 4,
     "metadata": {},
     "output_type": "execute_result"
    }
   ],
   "source": [
    "horizontal = 0\n",
    "depth = 0\n",
    "aim = 0\n",
    "for row in input.splitlines():\n",
    "    command = re.findall(\"[a-z]+\", row)[0]\n",
    "    value = int(re.findall(\"\\d+\", row)[0])\n",
    "    if command == \"forward\":\n",
    "        horizontal += value\n",
    "        depth += aim * value\n",
    "    elif command == \"up\":\n",
    "        aim -= value\n",
    "    elif command == \"down\":\n",
    "        aim += value\n",
    "horizontal * depth"
   ]
  }
 ],
 "metadata": {
  "interpreter": {
   "hash": "01d07d01b22d403fd78beb6cf2eb3b31a9dbfc705bba6d5aea7b5407ac3939ae"
  },
  "kernelspec": {
   "display_name": "Python 3.9.7 64-bit ('advent_of_code_2021': conda)",
   "language": "python",
   "name": "python3"
  },
  "language_info": {
   "codemirror_mode": {
    "name": "ipython",
    "version": 3
   },
   "file_extension": ".py",
   "mimetype": "text/x-python",
   "name": "python",
   "nbconvert_exporter": "python",
   "pygments_lexer": "ipython3",
   "version": "3.9.7"
  },
  "orig_nbformat": 4
 },
 "nbformat": 4,
 "nbformat_minor": 2
}
