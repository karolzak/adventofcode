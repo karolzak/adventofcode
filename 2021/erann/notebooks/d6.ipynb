{
 "cells": [
  {
   "cell_type": "code",
   "execution_count": 1,
   "metadata": {},
   "outputs": [],
   "source": [
    "%load_ext lab_black\n",
    "from IPython.core.interactiveshell import InteractiveShell\n",
    "\n",
    "InteractiveShell.ast_node_interactivity = \"all\"\n",
    "\n",
    "import re\n",
    "import numpy as np"
   ]
  },
  {
   "cell_type": "code",
   "execution_count": 2,
   "metadata": {},
   "outputs": [],
   "source": [
    "input = \"\"\"3,4,3,1,2\"\"\"\n",
    "\n",
    "with open(\"../inputs/d6.txt\", \"r\") as input_file:\n",
    "    test_input = input_file.read()"
   ]
  },
  {
   "cell_type": "code",
   "execution_count": 4,
   "metadata": {},
   "outputs": [
    {
     "name": "stdout",
     "output_type": "stream",
     "text": [
      "length after 18 days: 1749\n",
      "length after 79 days: 376194\n"
     ]
    }
   ],
   "source": [
    "fishes = re.findall(\"\\d+\", test_input)\n",
    "fishes = list(map(int, fishes))\n",
    "\n",
    "days = 80\n",
    "for d in range(days):\n",
    "    if d == 18:\n",
    "        print(f\"length after {d} days: {len(fishes)}\")\n",
    "    zeroes_count = 0\n",
    "    for i, val in enumerate(fishes):\n",
    "        if val == 0:\n",
    "            zeroes_count += 1\n",
    "            fishes[i] = 6\n",
    "        else:\n",
    "            fishes[i] -= 1\n",
    "    fishes = np.append(fishes, [8] * zeroes_count)\n",
    "\n",
    "print(f\"length after {d} days: {len(fishes)}\")"
   ]
  },
  {
   "cell_type": "code",
   "execution_count": null,
   "metadata": {},
   "outputs": [],
   "source": []
  }
 ],
 "metadata": {
  "interpreter": {
   "hash": "01d07d01b22d403fd78beb6cf2eb3b31a9dbfc705bba6d5aea7b5407ac3939ae"
  },
  "kernelspec": {
   "display_name": "Python 3.9.7 64-bit ('advent_of_code_2021': conda)",
   "language": "python",
   "name": "python3"
  },
  "language_info": {
   "codemirror_mode": {
    "name": "ipython",
    "version": 3
   },
   "file_extension": ".py",
   "mimetype": "text/x-python",
   "name": "python",
   "nbconvert_exporter": "python",
   "pygments_lexer": "ipython3",
   "version": "3.9.7"
  },
  "orig_nbformat": 4
 },
 "nbformat": 4,
 "nbformat_minor": 2
}
