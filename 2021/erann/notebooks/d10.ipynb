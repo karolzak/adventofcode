{
 "cells": [
  {
   "cell_type": "code",
   "execution_count": 1,
   "metadata": {},
   "outputs": [],
   "source": [
    "%load_ext lab_black\n",
    "from IPython.core.interactiveshell import InteractiveShell\n",
    "\n",
    "InteractiveShell.ast_node_interactivity = \"all\"\n",
    "\n",
    "import re\n",
    "import numpy as np"
   ]
  },
  {
   "cell_type": "code",
   "execution_count": 2,
   "metadata": {},
   "outputs": [],
   "source": [
    "input = \"\"\"[({(<(())[]>[[{[]{<()<>>\n",
    "[(()[<>])]({[<{<<[]>>(\n",
    "{([(<{}[<>[]}>{[]{[(<()>\n",
    "(((({<>}<{<{<>}{[]{[]{}\n",
    "[[<[([]))<([[{}[[()]]]\n",
    "[{[{({}]{}}([{[{{{}}([]\n",
    "{<[[]]>}<{[{[{[]{()[[[]\n",
    "[<(<(<(<{}))><([]([]()\n",
    "<{([([[(<>()){}]>(<<{{\n",
    "<{([{{}}[<[[[<>{}]]]>[]]\"\"\"\n",
    "\n",
    "with open(\"../inputs/d10.txt\", \"r\") as input_file:\n",
    "    test_input = input_file.read()"
   ]
  },
  {
   "cell_type": "code",
   "execution_count": 3,
   "metadata": {},
   "outputs": [],
   "source": [
    "points = {\n",
    "    \")\": 3,\n",
    "    \"]\": 57,\n",
    "    \"}\": 1197,\n",
    "    \">\": 25137,\n",
    "}\n",
    "close_to_open = {\")\": \"(\", \"]\": \"[\", \"}\": \"{\", \">\": \"<\"}"
   ]
  },
  {
   "cell_type": "code",
   "execution_count": 4,
   "metadata": {},
   "outputs": [],
   "source": [
    "def get_score(input):\n",
    "    lines = input.splitlines()\n",
    "    score = 0\n",
    "    for line in lines:\n",
    "        stack = []\n",
    "        for c in line:\n",
    "            if c in close_to_open:\n",
    "                if len(stack) == 0:\n",
    "                    score += points[c]\n",
    "                    break\n",
    "                if stack.pop() != close_to_open[c]:\n",
    "                    score += points[c]\n",
    "                    break\n",
    "            else:\n",
    "                stack.append(c)\n",
    "    return score"
   ]
  },
  {
   "cell_type": "code",
   "execution_count": 5,
   "metadata": {},
   "outputs": [
    {
     "data": {
      "text/plain": [
       "26397"
      ]
     },
     "execution_count": 5,
     "metadata": {},
     "output_type": "execute_result"
    },
    {
     "data": {
      "text/plain": [
       "369105"
      ]
     },
     "execution_count": 5,
     "metadata": {},
     "output_type": "execute_result"
    }
   ],
   "source": [
    "get_score(input)\n",
    "get_score(test_input)"
   ]
  },
  {
   "cell_type": "markdown",
   "metadata": {},
   "source": [
    "# Part 2"
   ]
  },
  {
   "cell_type": "code",
   "execution_count": 6,
   "metadata": {},
   "outputs": [],
   "source": [
    "def get_stack(line):\n",
    "    stack = []\n",
    "    for c in line:\n",
    "        if c in close_to_open:\n",
    "            if len(stack) == 0:\n",
    "                return []\n",
    "            if stack.pop() != close_to_open[c]:\n",
    "                return []\n",
    "        else:\n",
    "            stack.append(c)\n",
    "    return stack"
   ]
  },
  {
   "cell_type": "code",
   "execution_count": 7,
   "metadata": {},
   "outputs": [],
   "source": [
    "def get_comp(stack):\n",
    "    open_to_close = {\"(\": \")\", \"[\": \"]\", \"{\": \"}\", \"<\": \">\"}\n",
    "    comp = []\n",
    "    while len(stack):\n",
    "        comp.append(open_to_close[stack.pop()])\n",
    "    return comp"
   ]
  },
  {
   "cell_type": "code",
   "execution_count": 8,
   "metadata": {},
   "outputs": [],
   "source": [
    "def get_score(comp):\n",
    "    points = {\n",
    "        \")\": 1,\n",
    "        \"]\": 2,\n",
    "        \"}\": 3,\n",
    "        \">\": 4,\n",
    "    }\n",
    "    score = 0\n",
    "    for c in comp:\n",
    "        score = score * 5 + points[c]\n",
    "    return score"
   ]
  },
  {
   "cell_type": "code",
   "execution_count": 9,
   "metadata": {},
   "outputs": [],
   "source": [
    "def get_median_score(input):\n",
    "    lines = input.splitlines()\n",
    "    scores = []\n",
    "    for line in lines:\n",
    "        stack = get_stack(line)\n",
    "        comp = get_comp(stack)\n",
    "        score = get_score(comp)\n",
    "        if score != 0:\n",
    "            scores.append(score)\n",
    "    return int(np.median(np.sort(scores)))"
   ]
  },
  {
   "cell_type": "code",
   "execution_count": 10,
   "metadata": {},
   "outputs": [
    {
     "data": {
      "text/plain": [
       "288957"
      ]
     },
     "execution_count": 10,
     "metadata": {},
     "output_type": "execute_result"
    },
    {
     "data": {
      "text/plain": [
       "3999363569"
      ]
     },
     "execution_count": 10,
     "metadata": {},
     "output_type": "execute_result"
    }
   ],
   "source": [
    "get_median_score(input)\n",
    "get_median_score(test_input)"
   ]
  }
 ],
 "metadata": {
  "interpreter": {
   "hash": "01d07d01b22d403fd78beb6cf2eb3b31a9dbfc705bba6d5aea7b5407ac3939ae"
  },
  "kernelspec": {
   "display_name": "Python 3.9.7 64-bit ('advent_of_code_2021': conda)",
   "language": "python",
   "name": "python3"
  },
  "language_info": {
   "codemirror_mode": {
    "name": "ipython",
    "version": 3
   },
   "file_extension": ".py",
   "mimetype": "text/x-python",
   "name": "python",
   "nbconvert_exporter": "python",
   "pygments_lexer": "ipython3",
   "version": "3.9.7"
  },
  "orig_nbformat": 4
 },
 "nbformat": 4,
 "nbformat_minor": 2
}
