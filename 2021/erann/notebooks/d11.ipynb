{
 "cells": [
  {
   "cell_type": "code",
   "execution_count": 14,
   "metadata": {},
   "outputs": [
    {
     "name": "stdout",
     "output_type": "stream",
     "text": [
      "The lab_black extension is already loaded. To reload it, use:\n",
      "  %reload_ext lab_black\n"
     ]
    }
   ],
   "source": [
    "%load_ext lab_black\n",
    "from IPython.core.interactiveshell import InteractiveShell\n",
    "\n",
    "InteractiveShell.ast_node_interactivity = \"all\"\n",
    "\n",
    "import re\n",
    "import numpy as np"
   ]
  },
  {
   "cell_type": "code",
   "execution_count": 15,
   "metadata": {},
   "outputs": [],
   "source": [
    "input = \"\"\"5483143223\n",
    "2745854711\n",
    "5264556173\n",
    "6141336146\n",
    "6357385478\n",
    "4167524645\n",
    "2176841721\n",
    "6882881134\n",
    "4846848554\n",
    "5283751526\"\"\"\n",
    "\n",
    "with open(\"../inputs/d11.txt\", \"r\") as input_file:\n",
    "    test_input = input_file.read()"
   ]
  },
  {
   "cell_type": "code",
   "execution_count": 12,
   "metadata": {},
   "outputs": [],
   "source": [
    "matrix = np.array(list(map(int, re.findall(\"\\d\", test_input)))).reshape(10, 10)"
   ]
  },
  {
   "cell_type": "code",
   "execution_count": 4,
   "metadata": {},
   "outputs": [],
   "source": [
    "def get_adjacent(i):\n",
    "    x, y = i\n",
    "    adj = np.array(\n",
    "        [\n",
    "            (x - 1, y - 1),\n",
    "            (x, y - 1),\n",
    "            (x + 1, y - 1),\n",
    "            (x - 1, y),\n",
    "            (x + 1, y),\n",
    "            (x - 1, y + 1),\n",
    "            (x, y + 1),\n",
    "            (x + 1, y + 1),\n",
    "        ]\n",
    "    )\n",
    "    adj = adj[np.apply_along_axis(all, 1, (adj >= 0) & (adj < 10))]\n",
    "    return list(map(tuple, adj))"
   ]
  },
  {
   "cell_type": "code",
   "execution_count": 5,
   "metadata": {},
   "outputs": [],
   "source": [
    "def up(matrix):\n",
    "    mask = matrix > 9\n",
    "    matrix[mask] = 0\n",
    "    flashes_i = list(map(tuple, np.argwhere(mask)))\n",
    "    flashes_sum = np.sum(mask)\n",
    "    for fi in flashes_i:\n",
    "        adj_i = get_adjacent(fi)\n",
    "        for ai in adj_i:\n",
    "            if matrix[ai] != 0:\n",
    "                matrix[ai] += 1\n",
    "        flashes_sum += up(matrix)\n",
    "    return flashes_sum"
   ]
  },
  {
   "cell_type": "code",
   "execution_count": 6,
   "metadata": {},
   "outputs": [
    {
     "name": "stdout",
     "output_type": "stream",
     "text": [
      "matrix:\n",
      "[[6 6 6 6 6 6 6 6 6 6]\n",
      " [6 6 6 6 6 6 6 6 6 6]\n",
      " [6 7 8 9 9 9 9 9 8 7]\n",
      " [7 9 0 3 3 1 4 3 4 9]\n",
      " [9 6 6 6 5 8 5 4 6 0]\n",
      " [0 5 5 0 0 6 7 7 0 0]\n",
      " [0 0 0 0 0 0 0 0 0 0]\n",
      " [0 0 0 0 0 0 0 0 0 0]\n",
      " [0 0 0 0 0 0 0 0 0 0]\n",
      " [8 0 0 0 0 0 0 0 0 8]]\n",
      "total flashes: 1585\n"
     ]
    }
   ],
   "source": [
    "flashes_sum = 0\n",
    "steps = 100\n",
    "for s in range(steps):\n",
    "    matrix += 1\n",
    "    flashes_sum += up(matrix)\n",
    "\n",
    "print(f\"matrix:\")\n",
    "print(matrix)\n",
    "print(f\"total flashes: {flashes_sum}\")"
   ]
  },
  {
   "cell_type": "markdown",
   "metadata": {},
   "source": [
    "# Part 2"
   ]
  },
  {
   "cell_type": "code",
   "execution_count": 18,
   "metadata": {},
   "outputs": [],
   "source": [
    "matrix = np.array(list(map(int, re.findall(\"\\d\", test_input)))).reshape(10, 10)"
   ]
  },
  {
   "cell_type": "code",
   "execution_count": 19,
   "metadata": {},
   "outputs": [
    {
     "name": "stdout",
     "output_type": "stream",
     "text": [
      "382\n"
     ]
    }
   ],
   "source": [
    "step = 0\n",
    "while np.sum(matrix) != 0:\n",
    "    matrix += 1\n",
    "    garbage = up(matrix)\n",
    "    step += 1\n",
    "\n",
    "print(step)"
   ]
  }
 ],
 "metadata": {
  "interpreter": {
   "hash": "01d07d01b22d403fd78beb6cf2eb3b31a9dbfc705bba6d5aea7b5407ac3939ae"
  },
  "kernelspec": {
   "display_name": "Python 3.9.7 64-bit ('advent_of_code_2021': conda)",
   "language": "python",
   "name": "python3"
  },
  "language_info": {
   "codemirror_mode": {
    "name": "ipython",
    "version": 3
   },
   "file_extension": ".py",
   "mimetype": "text/x-python",
   "name": "python",
   "nbconvert_exporter": "python",
   "pygments_lexer": "ipython3",
   "version": "3.9.7"
  },
  "orig_nbformat": 4
 },
 "nbformat": 4,
 "nbformat_minor": 2
}
