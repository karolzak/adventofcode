{
 "cells": [
  {
   "cell_type": "code",
   "execution_count": 85,
   "metadata": {},
   "outputs": [
    {
     "name": "stdout",
     "output_type": "stream",
     "text": [
      "The lab_black extension is already loaded. To reload it, use:\n",
      "  %reload_ext lab_black\n"
     ]
    }
   ],
   "source": [
    "%load_ext lab_black\n",
    "from IPython.core.interactiveshell import InteractiveShell\n",
    "\n",
    "InteractiveShell.ast_node_interactivity = \"all\"\n",
    "\n",
    "import re\n",
    "import numpy as np\n",
    "import math\n",
    "import collections"
   ]
  },
  {
   "cell_type": "code",
   "execution_count": 86,
   "metadata": {},
   "outputs": [],
   "source": [
    "input = \"\"\"target area: x=20..30, y=-10..-5\"\"\"\n",
    "\n",
    "with open(\"../inputs/d17.txt\", \"r\") as input_file:\n",
    "    test_input = input_file.read()"
   ]
  },
  {
   "cell_type": "code",
   "execution_count": 87,
   "metadata": {},
   "outputs": [],
   "source": [
    "# target_min_x, target_max_x = 20, 30\n",
    "# target_min_y, target_max_y = -10, -5\n",
    "\n",
    "target_min_x, target_max_x = 150, 171\n",
    "target_min_y, target_max_y = -129, -70"
   ]
  },
  {
   "cell_type": "code",
   "execution_count": 88,
   "metadata": {},
   "outputs": [],
   "source": [
    "def shot(x_vel, y_vel):\n",
    "    curr_x = 0\n",
    "    curr_y = 0\n",
    "    curr_step = 0\n",
    "    steps = 0\n",
    "    max_y = curr_y\n",
    "\n",
    "    while True:\n",
    "        steps += 1\n",
    "\n",
    "        curr_x += x_vel\n",
    "        curr_y += y_vel\n",
    "        max_y = max(max_y, curr_y)\n",
    "\n",
    "        if (\n",
    "            target_min_x <= curr_x\n",
    "            and curr_x <= target_max_x\n",
    "            and target_min_y <= curr_y\n",
    "            and curr_y <= target_max_y\n",
    "        ):\n",
    "            return True, max_y\n",
    "\n",
    "        elif (curr_x > target_max_x and x_vel >= 0) or (\n",
    "            curr_x < target_min_x and x_vel <= 0\n",
    "        ):\n",
    "            return False, 0\n",
    "\n",
    "        elif curr_y < target_min_y and y_vel <= 0:\n",
    "            return False, 0\n",
    "\n",
    "        y_vel -= 1\n",
    "        if x_vel > 0:\n",
    "            x_vel -= 1\n",
    "        elif x_vel < 0:\n",
    "            x_vel += 1"
   ]
  },
  {
   "cell_type": "code",
   "execution_count": 90,
   "metadata": {},
   "outputs": [],
   "source": [
    "heights = []\n",
    "hits = []\n",
    "for x in range(target_max_x + 1):\n",
    "    for y in range(target_min_y, max(abs(target_min_y), abs(target_max_y))):\n",
    "        hit, max_height = shot(x, y)\n",
    "        heights.append(max_height)\n",
    "        hits.append(hit)"
   ]
  },
  {
   "cell_type": "code",
   "execution_count": 91,
   "metadata": {},
   "outputs": [
    {
     "data": {
      "text/plain": [
       "8256"
      ]
     },
     "execution_count": 91,
     "metadata": {},
     "output_type": "execute_result"
    },
    {
     "data": {
      "text/plain": [
       "2326"
      ]
     },
     "execution_count": 91,
     "metadata": {},
     "output_type": "execute_result"
    }
   ],
   "source": [
    "max(heights)\n",
    "sum(hits)"
   ]
  }
 ],
 "metadata": {
  "interpreter": {
   "hash": "01d07d01b22d403fd78beb6cf2eb3b31a9dbfc705bba6d5aea7b5407ac3939ae"
  },
  "kernelspec": {
   "display_name": "Python 3.9.7 64-bit ('advent_of_code_2021': conda)",
   "language": "python",
   "name": "python3"
  },
  "language_info": {
   "codemirror_mode": {
    "name": "ipython",
    "version": 3
   },
   "file_extension": ".py",
   "mimetype": "text/x-python",
   "name": "python",
   "nbconvert_exporter": "python",
   "pygments_lexer": "ipython3",
   "version": "3.9.7"
  },
  "orig_nbformat": 4
 },
 "nbformat": 4,
 "nbformat_minor": 2
}
