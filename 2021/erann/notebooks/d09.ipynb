{
 "cells": [
  {
   "cell_type": "code",
   "execution_count": 105,
   "metadata": {},
   "outputs": [
    {
     "name": "stdout",
     "output_type": "stream",
     "text": [
      "The lab_black extension is already loaded. To reload it, use:\n",
      "  %reload_ext lab_black\n"
     ]
    }
   ],
   "source": [
    "%load_ext lab_black\n",
    "from IPython.core.interactiveshell import InteractiveShell\n",
    "\n",
    "InteractiveShell.ast_node_interactivity = \"all\"\n",
    "\n",
    "import re\n",
    "import numpy as np\n",
    "import math\n",
    "import collections"
   ]
  },
  {
   "cell_type": "code",
   "execution_count": 106,
   "metadata": {},
   "outputs": [],
   "source": [
    "input = \"\"\"2199943210\n",
    "3987894921\n",
    "9856789892\n",
    "8767896789\n",
    "9899965678\"\"\"\n",
    "\n",
    "with open(\"../inputs/d09.txt\", \"r\") as input_file:\n",
    "    test_input = input_file.read()"
   ]
  },
  {
   "cell_type": "code",
   "execution_count": 107,
   "metadata": {},
   "outputs": [],
   "source": [
    "mat = re.findall(\"\\d\", input)"
   ]
  },
  {
   "cell_type": "code",
   "execution_count": 108,
   "metadata": {},
   "outputs": [
    {
     "data": {
      "text/plain": [
       "array([[9, 8, 7, ..., 6, 6, 7],\n",
       "       [5, 9, 9, ..., 4, 5, 6],\n",
       "       [6, 9, 7, ..., 3, 4, 7],\n",
       "       ...,\n",
       "       [9, 4, 9, ..., 7, 8, 9],\n",
       "       [5, 3, 2, ..., 8, 9, 5],\n",
       "       [6, 2, 1, ..., 9, 3, 4]])"
      ]
     },
     "execution_count": 108,
     "metadata": {},
     "output_type": "execute_result"
    },
    {
     "data": {
      "text/plain": [
       "(100, 100)"
      ]
     },
     "execution_count": 108,
     "metadata": {},
     "output_type": "execute_result"
    }
   ],
   "source": [
    "mat = np.array(\n",
    "    [list(map(int, re.findall(\"\\d\", row))) for row in test_input.splitlines()]\n",
    ")\n",
    "mat\n",
    "mat.shape"
   ]
  },
  {
   "cell_type": "code",
   "execution_count": 109,
   "metadata": {},
   "outputs": [],
   "source": [
    "def get_adjacent_indices(i, j, m, n):\n",
    "    adjacent_indices = []\n",
    "    if i > 0:\n",
    "        adjacent_indices.append((i - 1, j))\n",
    "    if i + 1 < m:\n",
    "        adjacent_indices.append((i + 1, j))\n",
    "    if j > 0:\n",
    "        adjacent_indices.append((i, j - 1))\n",
    "    if j + 1 < n:\n",
    "        adjacent_indices.append((i, j + 1))\n",
    "    return adjacent_indices"
   ]
  },
  {
   "cell_type": "code",
   "execution_count": 110,
   "metadata": {},
   "outputs": [
    {
     "data": {
      "text/plain": [
       "5"
      ]
     },
     "execution_count": 110,
     "metadata": {},
     "output_type": "execute_result"
    }
   ],
   "source": [
    "np.min([mat[t] for t in get_adjacent_indices(0, 9, mat.shape[0], mat.shape[1])])"
   ]
  },
  {
   "cell_type": "code",
   "execution_count": 111,
   "metadata": {},
   "outputs": [],
   "source": [
    "lowest = []\n",
    "for row in range(mat.shape[0]):\n",
    "    for col in range(mat.shape[1]):\n",
    "        val = mat[row, col]\n",
    "        min_val = np.min(\n",
    "            [mat[t] for t in get_adjacent_indices(row, col, mat.shape[0], mat.shape[1])]\n",
    "        )\n",
    "        if val < min_val:\n",
    "            lowest.append(val)"
   ]
  },
  {
   "cell_type": "code",
   "execution_count": 113,
   "metadata": {},
   "outputs": [
    {
     "data": {
      "text/plain": [
       "486"
      ]
     },
     "execution_count": 113,
     "metadata": {},
     "output_type": "execute_result"
    }
   ],
   "source": [
    "np.sum([x + 1 for x in lowest])"
   ]
  },
  {
   "cell_type": "code",
   "execution_count": null,
   "metadata": {},
   "outputs": [],
   "source": []
  }
 ],
 "metadata": {
  "interpreter": {
   "hash": "01d07d01b22d403fd78beb6cf2eb3b31a9dbfc705bba6d5aea7b5407ac3939ae"
  },
  "kernelspec": {
   "display_name": "Python 3.9.7 64-bit ('advent_of_code_2021': conda)",
   "language": "python",
   "name": "python3"
  },
  "language_info": {
   "codemirror_mode": {
    "name": "ipython",
    "version": 3
   },
   "file_extension": ".py",
   "mimetype": "text/x-python",
   "name": "python",
   "nbconvert_exporter": "python",
   "pygments_lexer": "ipython3",
   "version": "3.9.7"
  },
  "orig_nbformat": 4
 },
 "nbformat": 4,
 "nbformat_minor": 2
}
