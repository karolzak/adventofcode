{
 "cells": [
  {
   "cell_type": "code",
   "execution_count": 1,
   "metadata": {},
   "outputs": [],
   "source": [
    "%load_ext lab_black\n",
    "from IPython.core.interactiveshell import InteractiveShell\n",
    "\n",
    "InteractiveShell.ast_node_interactivity = \"all\"\n",
    "\n",
    "import re\n",
    "import numpy as np\n",
    "import math\n",
    "import collections"
   ]
  },
  {
   "cell_type": "code",
   "execution_count": 2,
   "metadata": {},
   "outputs": [],
   "source": [
    "input = \"\"\"2199943210\n",
    "3987894921\n",
    "9856789892\n",
    "8767896789\n",
    "9899965678\"\"\"\n",
    "\n",
    "with open(\"../inputs/d09.txt\", \"r\") as input_file:\n",
    "    test_input = input_file.read()"
   ]
  },
  {
   "cell_type": "code",
   "execution_count": 3,
   "metadata": {},
   "outputs": [],
   "source": [
    "mat = np.array(\n",
    "    [list(map(int, re.findall(\"\\d\", row))) for row in test_input.splitlines()]\n",
    ")\n",
    "n_rows = mat.shape[0]\n",
    "n_cols = mat.shape[1]"
   ]
  },
  {
   "cell_type": "code",
   "execution_count": 4,
   "metadata": {},
   "outputs": [],
   "source": [
    "def get_adjacent_indices(i, j):\n",
    "    adjacent_indices = []\n",
    "    if i > 0:\n",
    "        adjacent_indices.append((i - 1, j))\n",
    "    if i + 1 < n_rows:\n",
    "        adjacent_indices.append((i + 1, j))\n",
    "    if j > 0:\n",
    "        adjacent_indices.append((i, j - 1))\n",
    "    if j + 1 < n_cols:\n",
    "        adjacent_indices.append((i, j + 1))\n",
    "    return adjacent_indices"
   ]
  },
  {
   "cell_type": "code",
   "execution_count": 5,
   "metadata": {},
   "outputs": [
    {
     "data": {
      "text/plain": [
       "486"
      ]
     },
     "execution_count": 5,
     "metadata": {},
     "output_type": "execute_result"
    }
   ],
   "source": [
    "lowest = []\n",
    "for row in range(mat.shape[0]):\n",
    "    for col in range(mat.shape[1]):\n",
    "        min_val = np.min([mat[t] for t in get_adjacent_indices(row, col)])\n",
    "        if mat[row, col] < min_val:\n",
    "            lowest.append((row, col))\n",
    "sum([mat[l] for l in lowest]) + len(lowest)"
   ]
  },
  {
   "cell_type": "markdown",
   "metadata": {},
   "source": [
    "# Part 2"
   ]
  },
  {
   "cell_type": "code",
   "execution_count": 6,
   "metadata": {},
   "outputs": [],
   "source": [
    "def get_basin_len(low_point, basin_points):\n",
    "    adj_list = get_adjacent_indices(*low_point)\n",
    "    for adj in adj_list:\n",
    "        if mat[adj] < 9 and adj not in basin_points:\n",
    "            basin_points.append(adj)\n",
    "            get_basin_len(adj, basin_points)\n",
    "    return len(basin_points)"
   ]
  },
  {
   "cell_type": "code",
   "execution_count": 7,
   "metadata": {},
   "outputs": [],
   "source": [
    "basin_length = []\n",
    "for l in lowest:\n",
    "    basin_length.append(get_basin_len(l, []))"
   ]
  },
  {
   "cell_type": "code",
   "execution_count": 8,
   "metadata": {},
   "outputs": [
    {
     "data": {
      "text/plain": [
       "1059300"
      ]
     },
     "execution_count": 8,
     "metadata": {},
     "output_type": "execute_result"
    }
   ],
   "source": [
    "basin_length.sort()\n",
    "basin_length[-1] * basin_length[-2] * basin_length[-3]"
   ]
  }
 ],
 "metadata": {
  "interpreter": {
   "hash": "01d07d01b22d403fd78beb6cf2eb3b31a9dbfc705bba6d5aea7b5407ac3939ae"
  },
  "kernelspec": {
   "display_name": "Python 3.9.7 64-bit ('advent_of_code_2021': conda)",
   "language": "python",
   "name": "python3"
  },
  "language_info": {
   "codemirror_mode": {
    "name": "ipython",
    "version": 3
   },
   "file_extension": ".py",
   "mimetype": "text/x-python",
   "name": "python",
   "nbconvert_exporter": "python",
   "pygments_lexer": "ipython3",
   "version": "3.9.7"
  },
  "orig_nbformat": 4
 },
 "nbformat": 4,
 "nbformat_minor": 2
}
