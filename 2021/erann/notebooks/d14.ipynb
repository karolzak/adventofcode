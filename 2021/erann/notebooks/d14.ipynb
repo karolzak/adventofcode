{
 "cells": [
  {
   "cell_type": "code",
   "execution_count": 28,
   "metadata": {},
   "outputs": [
    {
     "name": "stdout",
     "output_type": "stream",
     "text": [
      "The lab_black extension is already loaded. To reload it, use:\n",
      "  %reload_ext lab_black\n"
     ]
    }
   ],
   "source": [
    "%load_ext lab_black\n",
    "from IPython.core.interactiveshell import InteractiveShell\n",
    "\n",
    "InteractiveShell.ast_node_interactivity = \"all\"\n",
    "\n",
    "import re\n",
    "import numpy as np\n",
    "import collections"
   ]
  },
  {
   "cell_type": "code",
   "execution_count": 29,
   "metadata": {},
   "outputs": [],
   "source": [
    "input = \"\"\"NNCB\n",
    "\n",
    "CH -> B\n",
    "HH -> N\n",
    "CB -> H\n",
    "NH -> C\n",
    "HB -> C\n",
    "HC -> B\n",
    "HN -> C\n",
    "NN -> C\n",
    "BH -> H\n",
    "NC -> B\n",
    "NB -> B\n",
    "BN -> B\n",
    "BB -> N\n",
    "BC -> B\n",
    "CC -> N\n",
    "CN -> C\"\"\"\n",
    "\n",
    "with open(\"../inputs/d14.txt\", \"r\") as input_file:\n",
    "    test_input = input_file.read()"
   ]
  },
  {
   "cell_type": "code",
   "execution_count": 30,
   "metadata": {},
   "outputs": [],
   "source": [
    "template, actions = input.split(\"\\n\\n\")[0], input.split(\"\\n\\n\")[1].splitlines()"
   ]
  },
  {
   "cell_type": "code",
   "execution_count": 31,
   "metadata": {},
   "outputs": [],
   "source": [
    "def update_template(template, actions):\n",
    "    char_map = {\n",
    "        x: y\n",
    "        for x, y in zip(\n",
    "            [a.split(\" -> \")[0] for a in actions], [a.split(\" -> \")[1] for a in actions]\n",
    "        )\n",
    "    }\n",
    "    str_res = \"\"\n",
    "    for i in range(len(template) - 1):\n",
    "        sbs = template[i : i + 2]\n",
    "        if sbs in char_map:\n",
    "            str_res += sbs[0] + char_map[sbs]\n",
    "        else:\n",
    "            str_res += sbs[0]\n",
    "\n",
    "    str_res += template[-1]\n",
    "    return str_res"
   ]
  },
  {
   "cell_type": "code",
   "execution_count": 32,
   "metadata": {},
   "outputs": [],
   "source": [
    "def get_char_counter(input, steps, print_template=False):\n",
    "    template, actions = input.split(\"\\n\\n\")[0], input.split(\"\\n\\n\")[1].splitlines()\n",
    "    for i in range(steps):\n",
    "        template = update_template(template, actions)\n",
    "        if print_template:\n",
    "            print(f\"step: {i+1}: {template}\")\n",
    "    return collections.Counter(template)"
   ]
  },
  {
   "cell_type": "code",
   "execution_count": 33,
   "metadata": {},
   "outputs": [],
   "source": [
    "def get_max_min_count_diff(input, steps, print_template=False):\n",
    "    final_template = get_char_counter(input, steps, print_template)\n",
    "    counts = [count for count in final_template.values()]\n",
    "    return np.max(counts) - np.min(counts)"
   ]
  },
  {
   "cell_type": "code",
   "execution_count": 34,
   "metadata": {},
   "outputs": [
    {
     "name": "stdout",
     "output_type": "stream",
     "text": [
      "step: 1: NCNBCHB\n",
      "step: 2: NBCCNBBBCBHCB\n",
      "step: 3: NBBBCNCCNBBNBNBBCHBHHBCHB\n",
      "step: 4: NBBNBNBBCCNBCNCCNBBNBBNBBBNBBNBBCBHCBHHNHCBBCBHCB\n",
      "step: 5: NBBNBBNBBBNBBNBBCNCCNBBBCCNBCNCCNBBNBBNBBNBBNBBNBNBBNBBNBBNBBNBBCHBHHBCHBHHNHCNCHBCHBNBBCHBHHBCHB\n"
     ]
    },
    {
     "data": {
      "text/plain": [
       "33"
      ]
     },
     "execution_count": 34,
     "metadata": {},
     "output_type": "execute_result"
    }
   ],
   "source": [
    "get_max_min_count_diff(input, 5, True)"
   ]
  },
  {
   "cell_type": "markdown",
   "metadata": {},
   "source": [
    "# Par 2"
   ]
  },
  {
   "cell_type": "code",
   "execution_count": 35,
   "metadata": {},
   "outputs": [],
   "source": [
    "template, actions = input.split(\"\\n\\n\")[0], input.split(\"\\n\\n\")[1].splitlines()"
   ]
  },
  {
   "cell_type": "code",
   "execution_count": 36,
   "metadata": {},
   "outputs": [
    {
     "data": {
      "text/plain": [
       "'NNCB'"
      ]
     },
     "execution_count": 36,
     "metadata": {},
     "output_type": "execute_result"
    }
   ],
   "source": [
    "template"
   ]
  },
  {
   "cell_type": "code",
   "execution_count": 37,
   "metadata": {},
   "outputs": [
    {
     "data": {
      "text/plain": [
       "{'NN': 1, 'NC': 1, 'CB': 1}"
      ]
     },
     "execution_count": 37,
     "metadata": {},
     "output_type": "execute_result"
    }
   ],
   "source": [
    "pairs_count = {}\n",
    "for i in range(len(template) - 1):\n",
    "    if template[i : i + 2] not in pairs_count:\n",
    "        pairs_count[template[i : i + 2]] = 0\n",
    "    pairs_count[template[i : i + 2]] += 1\n",
    "\n",
    "pairs_count"
   ]
  },
  {
   "cell_type": "code",
   "execution_count": 38,
   "metadata": {},
   "outputs": [],
   "source": [
    "def update_pairs_count(action, pairs_count, local_pairs_count):\n",
    "    pair, char = action.split(\" -> \")[0], action.split(\" -> \")[1]\n",
    "    if pair not in pairs_count or pairs_count[pair] == 0:\n",
    "        return\n",
    "    pairs_to_add = [pair[0] + char, char + pair[1]]\n",
    "    for pta in pairs_to_add:\n",
    "        if pta not in local_pairs_count:\n",
    "            local_pairs_count[pta] = 0\n",
    "        local_pairs_count[pta] += pairs_count[pair]\n",
    "    local_pairs_count[pair] -= pairs_count[pair]"
   ]
  },
  {
   "cell_type": "code",
   "execution_count": 39,
   "metadata": {},
   "outputs": [],
   "source": [
    "local_pairs_count = pairs_count.copy()\n",
    "for act in actions:\n",
    "    update_pairs_count(act, pairs_count, local_pairs_count)"
   ]
  },
  {
   "cell_type": "code",
   "execution_count": 40,
   "metadata": {},
   "outputs": [
    {
     "data": {
      "text/plain": [
       "{'NN': 1, 'NC': 1, 'CB': 1}"
      ]
     },
     "execution_count": 40,
     "metadata": {},
     "output_type": "execute_result"
    },
    {
     "data": {
      "text/plain": [
       "{'NN': 0, 'NC': 1, 'CB': 0, 'CH': 1, 'HB': 1, 'CN': 1, 'NB': 1, 'BC': 1}"
      ]
     },
     "execution_count": 40,
     "metadata": {},
     "output_type": "execute_result"
    }
   ],
   "source": [
    "pairs_count\n",
    "local_pairs_count"
   ]
  },
  {
   "cell_type": "code",
   "execution_count": null,
   "metadata": {},
   "outputs": [],
   "source": []
  }
 ],
 "metadata": {
  "interpreter": {
   "hash": "01d07d01b22d403fd78beb6cf2eb3b31a9dbfc705bba6d5aea7b5407ac3939ae"
  },
  "kernelspec": {
   "display_name": "Python 3.9.7 64-bit ('advent_of_code_2021': conda)",
   "language": "python",
   "name": "python3"
  },
  "language_info": {
   "codemirror_mode": {
    "name": "ipython",
    "version": 3
   },
   "file_extension": ".py",
   "mimetype": "text/x-python",
   "name": "python",
   "nbconvert_exporter": "python",
   "pygments_lexer": "ipython3",
   "version": "3.9.7"
  },
  "orig_nbformat": 4
 },
 "nbformat": 4,
 "nbformat_minor": 2
}
