{
 "cells": [
  {
   "cell_type": "code",
   "execution_count": 1,
   "metadata": {},
   "outputs": [],
   "source": [
    "%load_ext lab_black\n",
    "from IPython.core.interactiveshell import InteractiveShell\n",
    "\n",
    "InteractiveShell.ast_node_interactivity = \"all\"\n",
    "\n",
    "import re\n",
    "import numpy as np"
   ]
  },
  {
   "cell_type": "code",
   "execution_count": 2,
   "metadata": {},
   "outputs": [],
   "source": [
    "input = \"\"\"7,4,9,5,11,17,23,2,0,14,21,24,10,16,13,6,15,25,12,22,18,20,8,19,3,26,1\n",
    "\n",
    "22 13 17 11  0\n",
    " 8  2 23  4 24\n",
    "21  9 14 16  7\n",
    " 6 10  3 18  5\n",
    " 1 12 20 15 19\n",
    "\n",
    " 3 15  0  2 22\n",
    " 9 18 13 17  5\n",
    "19  8  7 25 23\n",
    "20 11 10 24  4\n",
    "14 21 16 12  6\n",
    "\n",
    "14 21 17 24  4\n",
    "10 16 15  9 19\n",
    "18  8 23 26 20\n",
    "22 11 13  6  5\n",
    " 2  0 12  3  7\"\"\"\n",
    "\n",
    "test_input = open(\"../inputs/d4.txt\", \"r\").read()"
   ]
  },
  {
   "cell_type": "code",
   "execution_count": 3,
   "metadata": {},
   "outputs": [],
   "source": [
    "def input_to_numbers_and_cards(input):\n",
    "    numbers = input.split(\"\\n\")[:1]\n",
    "    numbers = list(map(lambda x: re.findall(\"\\d{1,2}\", x), np.array(numbers)))[0]\n",
    "    numbers = [int(n) for n in numbers]\n",
    "\n",
    "    cards = np.array(input.split(\"\\n\")[2:])\n",
    "    cards = cards[cards != \"\"]\n",
    "    cards = list(\n",
    "        map(lambda x: [int(n) for n in re.findall(\"\\d{1,2}\", x)], np.array(cards))\n",
    "    )\n",
    "    cards = np.array(cards).reshape(-1, 5, 5)\n",
    "\n",
    "    return numbers, cards"
   ]
  },
  {
   "cell_type": "code",
   "execution_count": 4,
   "metadata": {},
   "outputs": [],
   "source": [
    "def mark_number(number, cards, marks):\n",
    "    i_arr = np.argwhere(cards == number)\n",
    "    for i in i_arr:\n",
    "        marks[i[0], i[1], i[2]] = 1"
   ]
  },
  {
   "cell_type": "code",
   "execution_count": 5,
   "metadata": {},
   "outputs": [],
   "source": [
    "def get_winning_card_indices(marks):\n",
    "    bingo_row = np.apply_along_axis(any, 1, np.apply_along_axis(all, 2, marks))\n",
    "    bingo_col = np.apply_along_axis(any, 1, np.apply_along_axis(all, 1, marks))\n",
    "    if any(bingo_row):\n",
    "        card_indices = np.argwhere(bingo_row == True)\n",
    "        return card_indices.flatten()\n",
    "    elif any(bingo_col):\n",
    "        card_indices = np.argwhere(bingo_col == True)\n",
    "        return card_indices.flatten()\n",
    "    return []"
   ]
  },
  {
   "cell_type": "code",
   "execution_count": 7,
   "metadata": {},
   "outputs": [
    {
     "name": "stdout",
     "output_type": "stream",
     "text": [
      "first win score: 58838\n",
      "last win score: 6256\n"
     ]
    }
   ],
   "source": [
    "numbers, cards = input_to_numbers_and_cards(test_input)\n",
    "marks = np.zeros(cards.shape)\n",
    "scores = []\n",
    "winning_card, winning_mark, winning_score = None, None, None\n",
    "for num in numbers:\n",
    "    mark_number(num, cards, marks)\n",
    "    winning_card_indices = get_winning_card_indices(marks)\n",
    "    for winning_card_index in winning_card_indices:\n",
    "        winning_card = cards[winning_card_index]\n",
    "        winning_mark = marks[winning_card_index]\n",
    "        winning_score = winning_card[winning_mark == 0].sum() * num\n",
    "        scores.append(winning_score)\n",
    "\n",
    "    cards = np.delete(cards, winning_card_indices, 0)\n",
    "    marks = np.delete(marks, winning_card_indices, 0)\n",
    "\n",
    "    if len(cards) == 0:\n",
    "        break\n",
    "\n",
    "print(f\"first win score: {scores[0]}\")\n",
    "print(f\"last win score: {scores[-1]}\")"
   ]
  }
 ],
 "metadata": {
  "interpreter": {
   "hash": "01d07d01b22d403fd78beb6cf2eb3b31a9dbfc705bba6d5aea7b5407ac3939ae"
  },
  "kernelspec": {
   "display_name": "Python 3.9.7 64-bit ('advent_of_code_2021': conda)",
   "language": "python",
   "name": "python3"
  },
  "language_info": {
   "codemirror_mode": {
    "name": "ipython",
    "version": 3
   },
   "file_extension": ".py",
   "mimetype": "text/x-python",
   "name": "python",
   "nbconvert_exporter": "python",
   "pygments_lexer": "ipython3",
   "version": "3.9.7"
  },
  "orig_nbformat": 4
 },
 "nbformat": 4,
 "nbformat_minor": 2
}
