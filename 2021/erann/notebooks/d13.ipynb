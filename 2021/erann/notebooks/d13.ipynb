{
 "cells": [
  {
   "cell_type": "code",
   "execution_count": 1,
   "metadata": {},
   "outputs": [],
   "source": [
    "%load_ext lab_black\n",
    "from IPython.core.interactiveshell import InteractiveShell\n",
    "\n",
    "InteractiveShell.ast_node_interactivity = \"all\"\n",
    "\n",
    "import re\n",
    "import numpy as np"
   ]
  },
  {
   "cell_type": "code",
   "execution_count": 2,
   "metadata": {},
   "outputs": [],
   "source": [
    "input = \"\"\"6,10\n",
    "0,14\n",
    "9,10\n",
    "0,3\n",
    "10,4\n",
    "4,11\n",
    "6,0\n",
    "6,12\n",
    "4,1\n",
    "0,13\n",
    "10,12\n",
    "3,4\n",
    "3,0\n",
    "8,4\n",
    "1,10\n",
    "2,14\n",
    "8,10\n",
    "9,0\n",
    "\n",
    "fold along y=7\n",
    "fold along x=5\"\"\"\n",
    "\n",
    "with open(\"../inputs/d13.txt\", \"r\") as input_file:\n",
    "    test_input = input_file.read()"
   ]
  },
  {
   "cell_type": "code",
   "execution_count": 3,
   "metadata": {},
   "outputs": [],
   "source": [
    "def prepare_paper(input):\n",
    "    dots = input.split(\"\\n\\n\")[0]\n",
    "    folds = input.split(\"\\n\\n\")[1]\n",
    "\n",
    "    dots = list(\n",
    "        map(tuple, np.array(list(map(int, re.findall(\"\\d+\", dots)))).reshape(-1, 2))\n",
    "    )\n",
    "\n",
    "    x_max = np.max([d[0] for d in dots])\n",
    "    y_max = np.max([d[1] for d in dots])\n",
    "\n",
    "    paper = np.zeros((y_max + 1, x_max + 1))\n",
    "    for i in dots:\n",
    "        paper[i[1], i[0]] = 1\n",
    "\n",
    "    return paper, folds"
   ]
  },
  {
   "cell_type": "code",
   "execution_count": 4,
   "metadata": {},
   "outputs": [],
   "source": [
    "def apply_folds_on_paper(input, only_first_fold=False):\n",
    "    paper, folds = prepare_paper(input)\n",
    "    for line in folds.splitlines():\n",
    "        fold_val = int(re.findall(\"\\d+\", line)[0])\n",
    "        if \"fold along y=\" in line:\n",
    "            # spliting by fold\n",
    "            p1, p2 = paper[:fold_val, :], paper[fold_val + 1 :, :]\n",
    "            # swap second paper rows\n",
    "            for i in range(int(p2.shape[0] / 2)):\n",
    "                p2[[i, p2.shape[0] - 1 - i]] = p2[[p2.shape[0] - 1 - i, i]]\n",
    "        elif \"fold along x=\" in line:\n",
    "            # spliting by fold\n",
    "            p1, p2 = paper[:, :fold_val], paper[:, fold_val + 1 :]\n",
    "            # swap second paper columns\n",
    "            for i in range(int(p2.shape[1] / 2)):\n",
    "                p2[:, [i, p2.shape[1] - 1 - i]] = p2[:, [p2.shape[1] - 1 - i, i]]\n",
    "        # add papers\n",
    "        paper = p1 + p2\n",
    "        # replace any positive number with 1\n",
    "        paper[paper > 1] = 1\n",
    "        # for part 1\n",
    "        if only_first_fold:\n",
    "            break\n",
    "\n",
    "    print(f\"visible dots: {paper.sum()}\")\n",
    "    # print results\n",
    "    for i in paper:\n",
    "        print(\"\".join(list(map(lambda x: \" # \" if x == 1 else \"   \", i))))"
   ]
  },
  {
   "cell_type": "code",
   "execution_count": 5,
   "metadata": {},
   "outputs": [
    {
     "name": "stdout",
     "output_type": "stream",
     "text": [
      "visible dots: 17.0\n",
      " #     #  #        #        #    \n",
      " #           #                   \n",
      "                   #           # \n",
      " #           #                   \n",
      "    #     #        #     #  #  # \n",
      "                                 \n",
      "                                 \n"
     ]
    }
   ],
   "source": [
    "apply_folds_on_paper(input, only_first_fold=True)"
   ]
  },
  {
   "cell_type": "code",
   "execution_count": 6,
   "metadata": {},
   "outputs": [
    {
     "name": "stdout",
     "output_type": "stream",
     "text": [
      "visible dots: 95.0\n",
      " #  #  #           #  #        #        #     #  #  #        #        #     #              #        #     #             \n",
      " #        #     #        #     #        #     #        #     #     #        #              #     #        #             \n",
      " #        #     #              #  #  #  #     #        #     #  #           #              #  #           #             \n",
      " #  #  #        #     #  #     #        #     #  #  #        #     #        #              #     #        #             \n",
      " #              #        #     #        #     #     #        #     #        #              #     #        #             \n",
      " #                 #  #  #     #        #     #        #     #        #     #  #  #  #     #        #     #  #  #  #    \n"
     ]
    }
   ],
   "source": [
    "apply_folds_on_paper(test_input, only_first_fold=False)"
   ]
  }
 ],
 "metadata": {
  "interpreter": {
   "hash": "01d07d01b22d403fd78beb6cf2eb3b31a9dbfc705bba6d5aea7b5407ac3939ae"
  },
  "kernelspec": {
   "display_name": "Python 3.9.7 64-bit ('advent_of_code_2021': conda)",
   "language": "python",
   "name": "python3"
  },
  "language_info": {
   "codemirror_mode": {
    "name": "ipython",
    "version": 3
   },
   "file_extension": ".py",
   "mimetype": "text/x-python",
   "name": "python",
   "nbconvert_exporter": "python",
   "pygments_lexer": "ipython3",
   "version": "3.9.7"
  },
  "orig_nbformat": 4
 },
 "nbformat": 4,
 "nbformat_minor": 2
}
