{
 "cells": [
  {
   "cell_type": "code",
   "execution_count": 1,
   "metadata": {},
   "outputs": [],
   "source": [
    "%load_ext lab_black\n",
    "from IPython.core.interactiveshell import InteractiveShell\n",
    "\n",
    "InteractiveShell.ast_node_interactivity = \"all\"\n",
    "\n",
    "import re\n",
    "import numpy as np\n",
    "import math\n",
    "import collections"
   ]
  },
  {
   "cell_type": "code",
   "execution_count": 2,
   "metadata": {},
   "outputs": [],
   "source": [
    "input = \"\"\"be cfbegad cbdgef fgaecd cgeb fdcge agebfd fecdb fabcd edb | fdgacbe cefdb cefbgd gcbe\n",
    "edbfga begcd cbg gc gcadebf fbgde acbgfd abcde gfcbed gfec | fcgedb cgb dgebacf gc\n",
    "fgaebd cg bdaec gdafb agbcfd gdcbef bgcad gfac gcb cdgabef | cg cg fdcagb cbg\n",
    "fbegcd cbd adcefb dageb afcb bc aefdc ecdab fgdeca fcdbega | efabcd cedba gadfec cb\n",
    "aecbfdg fbg gf bafeg dbefa fcge gcbea fcaegb dgceab fcbdga | gecf egdcabf bgf bfgea\n",
    "fgeab ca afcebg bdacfeg cfaedg gcfdb baec bfadeg bafgc acf | gebdcfa ecba ca fadegcb\n",
    "dbcfg fgd bdegcaf fgec aegbdf ecdfab fbedc dacgb gdcebf gf | cefg dcbef fcge gbcadfe\n",
    "bdfegc cbegaf gecbf dfcage bdacg ed bedf ced adcbefg gebcd | ed bcgafe cdgba cbgef\n",
    "egadfb cdbfeg cegd fecab cgb gbdefca cg fgcdab egfdb bfceg | gbdfcae bgc cg cgb\n",
    "gcafb gcf dcaebfg ecagb gf abcdeg gaef cafbge fdbac fegbdc | fgae cfgab fg bagce\"\"\"\n",
    "\n",
    "with open(\"../inputs/d08.txt\", \"r\") as input_file:\n",
    "    test_input = input_file.read()"
   ]
  },
  {
   "cell_type": "code",
   "execution_count": 3,
   "metadata": {},
   "outputs": [],
   "source": [
    "outputs = [o.split(\" | \")[1] for o in test_input.splitlines()]"
   ]
  },
  {
   "cell_type": "code",
   "execution_count": 4,
   "metadata": {},
   "outputs": [
    {
     "data": {
      "text/plain": [
       "416"
      ]
     },
     "execution_count": 4,
     "metadata": {},
     "output_type": "execute_result"
    }
   ],
   "source": [
    "sum([sum([len(s) in [2, 3, 4, 7] for s in o.split(\" \")]) for o in outputs])"
   ]
  },
  {
   "cell_type": "markdown",
   "metadata": {},
   "source": [
    "# Part 2"
   ]
  },
  {
   "cell_type": "code",
   "execution_count": 5,
   "metadata": {},
   "outputs": [
    {
     "data": {
      "text/plain": [
       "1043697"
      ]
     },
     "execution_count": 5,
     "metadata": {},
     "output_type": "execute_result"
    }
   ],
   "source": [
    "res = []\n",
    "for line in test_input.splitlines():\n",
    "    exmp, entry = line.split(\" | \")\n",
    "    examples = list(map(set, exmp.split(\" \")))\n",
    "    entries = list(map(set, entry.split(\" \")))\n",
    "\n",
    "    digit_chars = {\n",
    "        1: set([e for e in examples if len(e) == 2][0]),\n",
    "        4: set([e for e in examples if len(e) == 4][0]),\n",
    "        7: set([e for e in examples if len(e) == 3][0]),\n",
    "        8: set([e for e in examples if len(e) == 7][0]),\n",
    "    }\n",
    "\n",
    "    five_len_digit_char = [x for x in examples if len(x) == 5]\n",
    "    six_len_digit_char = [x for x in examples if len(x) == 6]\n",
    "\n",
    "    horizontal_chars = (\n",
    "        five_len_digit_char[0] & five_len_digit_char[1] & five_len_digit_char[2]\n",
    "    )\n",
    "\n",
    "    digit_chars[0] = [\n",
    "        c for c in six_len_digit_char if not horizontal_chars.issubset(c)\n",
    "    ][0]\n",
    "\n",
    "    digit_chars[9] = [\n",
    "        c\n",
    "        for c in six_len_digit_char\n",
    "        if horizontal_chars.issubset(c) and digit_chars[1].issubset(c)\n",
    "    ][0]\n",
    "\n",
    "    digit_chars[6] = [\n",
    "        c for c in six_len_digit_char if c != digit_chars[9] and c != digit_chars[0]\n",
    "    ][0]\n",
    "\n",
    "    digit_chars[3] = [c for c in five_len_digit_char if digit_chars[1].issubset(c)][0]\n",
    "\n",
    "    five_or_two = [s for s in examples if s not in digit_chars.values()]\n",
    "\n",
    "    if len(digit_chars[9] & five_or_two[0]) == 5:\n",
    "        digit_chars[5] = five_or_two[0]\n",
    "        digit_chars[2] = five_or_two[1]\n",
    "    else:\n",
    "        digit_chars[5] = five_or_two[1]\n",
    "        digit_chars[2] = five_or_two[0]\n",
    "\n",
    "    n = \"\"\n",
    "    for e in entries:\n",
    "        for num in digit_chars:\n",
    "            if digit_chars[num] == e:\n",
    "                n += str(num)\n",
    "\n",
    "    res.append(int(n))\n",
    "\n",
    "sum(res)"
   ]
  }
 ],
 "metadata": {
  "interpreter": {
   "hash": "01d07d01b22d403fd78beb6cf2eb3b31a9dbfc705bba6d5aea7b5407ac3939ae"
  },
  "kernelspec": {
   "display_name": "Python 3.9.7 64-bit ('advent_of_code_2021': conda)",
   "language": "python",
   "name": "python3"
  },
  "language_info": {
   "codemirror_mode": {
    "name": "ipython",
    "version": 3
   },
   "file_extension": ".py",
   "mimetype": "text/x-python",
   "name": "python",
   "nbconvert_exporter": "python",
   "pygments_lexer": "ipython3",
   "version": "3.9.7"
  },
  "orig_nbformat": 4
 },
 "nbformat": 4,
 "nbformat_minor": 2
}
