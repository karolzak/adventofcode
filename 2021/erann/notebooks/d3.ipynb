{
 "cells": [
  {
   "cell_type": "code",
   "execution_count": 1,
   "metadata": {},
   "outputs": [],
   "source": [
    "%load_ext lab_black\n",
    "from IPython.core.interactiveshell import InteractiveShell\n",
    "\n",
    "InteractiveShell.ast_node_interactivity = \"all\"\n",
    "\n",
    "import numpy as np"
   ]
  },
  {
   "cell_type": "code",
   "execution_count": 2,
   "metadata": {},
   "outputs": [],
   "source": [
    "input = \"\"\"00100\n",
    "11110\n",
    "10110\n",
    "10111\n",
    "10101\n",
    "01111\n",
    "00111\n",
    "11100\n",
    "10000\n",
    "11001\n",
    "00010\n",
    "01010\"\"\"\n",
    "\n",
    "test_input = open(\"../inputs/d3.txt\", \"r\").read()"
   ]
  },
  {
   "cell_type": "code",
   "execution_count": 3,
   "metadata": {},
   "outputs": [],
   "source": [
    "matrix = np.array([list(x) for x in input.splitlines()])"
   ]
  },
  {
   "cell_type": "code",
   "execution_count": 4,
   "metadata": {},
   "outputs": [],
   "source": [
    "import collections\n",
    "\n",
    "\n",
    "def get_most_common(s):\n",
    "    return collections.Counter(s).most_common(1)[0][0]"
   ]
  },
  {
   "cell_type": "code",
   "execution_count": 5,
   "metadata": {},
   "outputs": [],
   "source": [
    "import collections\n",
    "import numpy as np\n",
    "\n",
    "\n",
    "def get_most_common(s):\n",
    "    return collections.Counter(s).most_common(1)[0][0]\n",
    "\n",
    "\n",
    "def func(input):\n",
    "    matrix = np.array([list(x) for x in input.splitlines()])\n",
    "    g_arr = np.apply_along_axis(get_most_common, 0, matrix)\n",
    "    gamma = \"\".join(list(g_arr))\n",
    "    epsilon = \"\".join([str(int(x) ^ 1) for x in gamma])\n",
    "    res = int(gamma, 2) * int(epsilon, 2)\n",
    "    return res"
   ]
  },
  {
   "cell_type": "code",
   "execution_count": 6,
   "metadata": {},
   "outputs": [
    {
     "data": {
      "text/plain": [
       "198"
      ]
     },
     "execution_count": 6,
     "metadata": {},
     "output_type": "execute_result"
    }
   ],
   "source": [
    "func(input)"
   ]
  },
  {
   "cell_type": "code",
   "execution_count": 7,
   "metadata": {},
   "outputs": [
    {
     "data": {
      "text/plain": [
       "3882564"
      ]
     },
     "execution_count": 7,
     "metadata": {},
     "output_type": "execute_result"
    }
   ],
   "source": [
    "func(test_input)"
   ]
  },
  {
   "cell_type": "markdown",
   "metadata": {},
   "source": [
    "# Part 2"
   ]
  },
  {
   "cell_type": "code",
   "execution_count": 8,
   "metadata": {},
   "outputs": [],
   "source": [
    "matrix = np.array([list(x) for x in test_input.splitlines()])"
   ]
  },
  {
   "cell_type": "code",
   "execution_count": 9,
   "metadata": {},
   "outputs": [],
   "source": [
    "def get_most_common_defualt(s, default=0):\n",
    "    counter_dict = collections.Counter(s)\n",
    "    if counter_dict[\"0\"] > counter_dict[\"1\"]:\n",
    "        return \"0\"\n",
    "    elif counter_dict[\"1\"] > counter_dict[\"1\"]:\n",
    "        return \"1\"\n",
    "\n",
    "    return str(default)"
   ]
  },
  {
   "cell_type": "code",
   "execution_count": 10,
   "metadata": {},
   "outputs": [
    {
     "data": {
      "text/plain": [
       "'010100011001'"
      ]
     },
     "execution_count": 10,
     "metadata": {},
     "output_type": "execute_result"
    },
    {
     "data": {
      "text/plain": [
       "1305"
      ]
     },
     "execution_count": 10,
     "metadata": {},
     "output_type": "execute_result"
    }
   ],
   "source": [
    "m = matrix\n",
    "g_i = 0\n",
    "while len(m) > 1:\n",
    "    gamma_arr = np.apply_along_axis(lambda x: get_most_common_defualt(x, 1), 0, m)\n",
    "    m = m[np.apply_along_axis(lambda x: x[g_i] == gamma_arr[g_i], 1, m), :]\n",
    "    g_i += 1\n",
    "m = \"\".join(m[0])\n",
    "m\n",
    "oxygen_rating = int(m, 2)\n",
    "oxygen_rating"
   ]
  },
  {
   "cell_type": "code",
   "execution_count": 11,
   "metadata": {},
   "outputs": [
    {
     "data": {
      "text/plain": [
       "'101000100010'"
      ]
     },
     "execution_count": 11,
     "metadata": {},
     "output_type": "execute_result"
    },
    {
     "data": {
      "text/plain": [
       "2594"
      ]
     },
     "execution_count": 11,
     "metadata": {},
     "output_type": "execute_result"
    }
   ],
   "source": [
    "m = matrix\n",
    "g_i = 0\n",
    "while len(m) > 1:\n",
    "    gamma_arr = np.apply_along_axis(lambda x: get_most_common_defualt(x, 1), 0, m)\n",
    "    m = m[np.apply_along_axis(lambda x: x[g_i] != gamma_arr[g_i], 1, m), :]\n",
    "    g_i += 1\n",
    "m = \"\".join(m[0])\n",
    "m\n",
    "scrubber = int(m, 2)\n",
    "scrubber"
   ]
  },
  {
   "cell_type": "code",
   "execution_count": 12,
   "metadata": {},
   "outputs": [
    {
     "data": {
      "text/plain": [
       "3385170"
      ]
     },
     "execution_count": 12,
     "metadata": {},
     "output_type": "execute_result"
    }
   ],
   "source": [
    "oxygen_rating * scrubber"
   ]
  }
 ],
 "metadata": {
  "interpreter": {
   "hash": "01d07d01b22d403fd78beb6cf2eb3b31a9dbfc705bba6d5aea7b5407ac3939ae"
  },
  "kernelspec": {
   "display_name": "Python 3.9.7 64-bit ('advent_of_code_2021': conda)",
   "language": "python",
   "name": "python3"
  },
  "language_info": {
   "codemirror_mode": {
    "name": "ipython",
    "version": 3
   },
   "file_extension": ".py",
   "mimetype": "text/x-python",
   "name": "python",
   "nbconvert_exporter": "python",
   "pygments_lexer": "ipython3",
   "version": "3.9.7"
  },
  "orig_nbformat": 4
 },
 "nbformat": 4,
 "nbformat_minor": 2
}
