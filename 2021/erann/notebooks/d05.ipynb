{
 "cells": [
  {
   "cell_type": "code",
   "execution_count": 186,
   "metadata": {},
   "outputs": [
    {
     "name": "stdout",
     "output_type": "stream",
     "text": [
      "The lab_black extension is already loaded. To reload it, use:\n",
      "  %reload_ext lab_black\n"
     ]
    }
   ],
   "source": [
    "%load_ext lab_black\n",
    "from IPython.core.interactiveshell import InteractiveShell\n",
    "\n",
    "InteractiveShell.ast_node_interactivity = \"all\"\n",
    "\n",
    "import re\n",
    "import numpy as np"
   ]
  },
  {
   "cell_type": "code",
   "execution_count": 187,
   "metadata": {},
   "outputs": [],
   "source": [
    "input = \"\"\"0,9 -> 5,9\n",
    "8,0 -> 0,8\n",
    "9,4 -> 3,4\n",
    "2,2 -> 2,1\n",
    "7,0 -> 7,4\n",
    "6,4 -> 2,0\n",
    "0,9 -> 2,9\n",
    "3,4 -> 1,4\n",
    "0,0 -> 8,8\n",
    "5,5 -> 8,2\"\"\"\n",
    "\n",
    "with open(\"../inputs/d05.txt\", \"r\") as input_file:\n",
    "    test_input = input_file.read()"
   ]
  },
  {
   "cell_type": "code",
   "execution_count": 188,
   "metadata": {},
   "outputs": [
    {
     "data": {
      "text/plain": [
       "(500, 2, 2)"
      ]
     },
     "execution_count": 188,
     "metadata": {},
     "output_type": "execute_result"
    }
   ],
   "source": [
    "dots_arr = np.array(list(map(int, np.array(re.findall(\"\\d+\", test_input))))).reshape(\n",
    "    -1, 2, 2\n",
    ")\n",
    "dots_arr.shape"
   ]
  },
  {
   "cell_type": "code",
   "execution_count": 189,
   "metadata": {},
   "outputs": [
    {
     "data": {
      "text/plain": [
       "[{'x1': 777, 'y1': 778, 'x2': 777, 'y2': 676},\n",
       " {'x1': 500, 'y1': 510, 'x2': 378, 'y2': 510},\n",
       " {'x1': 441, 'y1': 657, 'x2': 441, 'y2': 638},\n",
       " {'x1': 724, 'y1': 480, 'x2': 724, 'y2': 778},\n",
       " {'x1': 702, 'y1': 85, 'x2': 44, 'y2': 85}]"
      ]
     },
     "execution_count": 189,
     "metadata": {},
     "output_type": "execute_result"
    }
   ],
   "source": [
    "lines = list(\n",
    "    map(\n",
    "        lambda x: {\"x1\": x[0][0], \"y1\": x[0][1], \"x2\": x[1][0], \"y2\": x[1][1]}, dots_arr\n",
    "    )\n",
    ")\n",
    "lines[:5]"
   ]
  },
  {
   "cell_type": "code",
   "execution_count": 190,
   "metadata": {},
   "outputs": [
    {
     "data": {
      "text/plain": [
       "array([[0., 0., 0., ..., 0., 0., 0.],\n",
       "       [0., 0., 0., ..., 0., 0., 0.],\n",
       "       [0., 0., 0., ..., 0., 0., 0.],\n",
       "       ...,\n",
       "       [0., 0., 0., ..., 0., 0., 0.],\n",
       "       [0., 0., 0., ..., 0., 0., 0.],\n",
       "       [0., 0., 0., ..., 0., 0., 0.]])"
      ]
     },
     "execution_count": 190,
     "metadata": {},
     "output_type": "execute_result"
    }
   ],
   "source": [
    "diagram = np.zeros((1000, 1000))\n",
    "for line in lines:\n",
    "    if line[\"x1\"] != line[\"x2\"] and line[\"y1\"] != line[\"y2\"]:\n",
    "        continue\n",
    "    elif line[\"x1\"] == line[\"x2\"]:\n",
    "        for y in range(\n",
    "            np.min([line[\"y1\"], line[\"y2\"]]), np.max([line[\"y1\"], line[\"y2\"]]) + 1\n",
    "        ):\n",
    "            diagram[y, line[\"x1\"]] += 1\n",
    "    elif line[\"y1\"] == line[\"y2\"]:\n",
    "        for x in range(\n",
    "            np.min([line[\"x1\"], line[\"x2\"]]), np.max([line[\"x1\"], line[\"x2\"]]) + 1\n",
    "        ):\n",
    "            diagram[line[\"y1\"], x] += 1\n",
    "diagram"
   ]
  },
  {
   "cell_type": "code",
   "execution_count": 191,
   "metadata": {},
   "outputs": [
    {
     "data": {
      "text/plain": [
       "6283"
      ]
     },
     "execution_count": 191,
     "metadata": {},
     "output_type": "execute_result"
    }
   ],
   "source": [
    "dangerous_areas = np.sum([x >= 2 for x in diagram.flatten()])\n",
    "dangerous_areas"
   ]
  },
  {
   "cell_type": "markdown",
   "metadata": {},
   "source": [
    "# Part 2"
   ]
  },
  {
   "cell_type": "code",
   "execution_count": 192,
   "metadata": {},
   "outputs": [
    {
     "data": {
      "text/plain": [
       "array([[0., 0., 0., ..., 0., 0., 0.],\n",
       "       [0., 0., 0., ..., 0., 0., 0.],\n",
       "       [0., 0., 0., ..., 0., 0., 0.],\n",
       "       ...,\n",
       "       [0., 0., 0., ..., 0., 0., 0.],\n",
       "       [0., 0., 0., ..., 0., 0., 0.],\n",
       "       [0., 0., 0., ..., 0., 0., 0.]])"
      ]
     },
     "execution_count": 192,
     "metadata": {},
     "output_type": "execute_result"
    }
   ],
   "source": [
    "diagram = np.zeros((1000, 1000))\n",
    "for line in lines:\n",
    "    if line[\"x1\"] != line[\"x2\"] and line[\"y1\"] != line[\"y2\"]:\n",
    "        min_x = np.min([line[\"x1\"], line[\"x2\"]])\n",
    "        max_x = np.max([line[\"x1\"], line[\"x2\"]])\n",
    "        min_y = np.min([line[\"y1\"], line[\"y2\"]])\n",
    "        max_y = np.max([line[\"y1\"], line[\"y2\"]])\n",
    "\n",
    "        start_x = min_x if line[\"x1\"] == min_x else max_x\n",
    "        start_y = min_y if line[\"y1\"] == min_y else max_y\n",
    "        x_direction = 1 if line[\"x1\"] < max_x else -1\n",
    "        y_direction = 1 if line[\"y1\"] < max_y else -1\n",
    "        for i in range(max_y - min_y + 1):\n",
    "            diagram[\n",
    "                start_y + y_direction * i,\n",
    "                start_x + x_direction * i,\n",
    "            ] += 1\n",
    "    elif line[\"x1\"] == line[\"x2\"]:\n",
    "        for y in range(\n",
    "            np.min([line[\"y1\"], line[\"y2\"]]), np.max([line[\"y1\"], line[\"y2\"]]) + 1\n",
    "        ):\n",
    "            diagram[y, line[\"x1\"]] += 1\n",
    "    elif line[\"y1\"] == line[\"y2\"]:\n",
    "        for x in range(\n",
    "            np.min([line[\"x1\"], line[\"x2\"]]), np.max([line[\"x1\"], line[\"x2\"]]) + 1\n",
    "        ):\n",
    "            diagram[line[\"y1\"], x] += 1\n",
    "diagram"
   ]
  },
  {
   "cell_type": "code",
   "execution_count": 193,
   "metadata": {},
   "outputs": [
    {
     "data": {
      "text/plain": [
       "array([[0., 0., 0., 0., 0., 0., 0., 0., 0., 0.],\n",
       "       [0., 0., 0., 0., 0., 0., 0., 0., 0., 0.],\n",
       "       [0., 0., 0., 0., 0., 0., 0., 0., 0., 0.],\n",
       "       [0., 0., 0., 0., 0., 0., 0., 0., 0., 0.],\n",
       "       [0., 0., 0., 0., 0., 0., 0., 0., 0., 0.],\n",
       "       [0., 0., 0., 0., 0., 0., 0., 0., 0., 0.],\n",
       "       [0., 0., 0., 0., 0., 0., 0., 0., 0., 0.],\n",
       "       [0., 0., 0., 0., 0., 0., 0., 0., 0., 0.],\n",
       "       [0., 0., 0., 0., 0., 0., 0., 0., 0., 0.],\n",
       "       [0., 0., 0., 0., 0., 0., 0., 0., 0., 0.]])"
      ]
     },
     "execution_count": 193,
     "metadata": {},
     "output_type": "execute_result"
    }
   ],
   "source": [
    "diagram[:10, :10]"
   ]
  },
  {
   "cell_type": "code",
   "execution_count": 194,
   "metadata": {},
   "outputs": [
    {
     "data": {
      "text/plain": [
       "18864"
      ]
     },
     "execution_count": 194,
     "metadata": {},
     "output_type": "execute_result"
    }
   ],
   "source": [
    "dangerous_areas = np.sum([x >= 2 for x in diagram.flatten()])\n",
    "dangerous_areas"
   ]
  },
  {
   "cell_type": "code",
   "execution_count": null,
   "metadata": {},
   "outputs": [],
   "source": []
  }
 ],
 "metadata": {
  "interpreter": {
   "hash": "01d07d01b22d403fd78beb6cf2eb3b31a9dbfc705bba6d5aea7b5407ac3939ae"
  },
  "kernelspec": {
   "display_name": "Python 3.9.7 64-bit ('advent_of_code_2021': conda)",
   "language": "python",
   "name": "python3"
  },
  "language_info": {
   "codemirror_mode": {
    "name": "ipython",
    "version": 3
   },
   "file_extension": ".py",
   "mimetype": "text/x-python",
   "name": "python",
   "nbconvert_exporter": "python",
   "pygments_lexer": "ipython3",
   "version": "3.9.7"
  },
  "orig_nbformat": 4
 },
 "nbformat": 4,
 "nbformat_minor": 2
}
