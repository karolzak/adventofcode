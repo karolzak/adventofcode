{
 "cells": [
  {
   "cell_type": "markdown",
   "metadata": {},
   "source": [
    "# Day 1"
   ]
  },
  {
   "cell_type": "markdown",
   "metadata": {},
   "source": [
    "## Part 1"
   ]
  },
  {
   "cell_type": "code",
   "execution_count": 3,
   "metadata": {},
   "outputs": [],
   "source": [
    "import pandas as pd\n",
    "f = open(\"../../../input.txt\", \"r\")\n",
    "c = f.readlines()\n"
   ]
  },
  {
   "cell_type": "code",
   "execution_count": 2,
   "metadata": {},
   "outputs": [],
   "source": [
    "data = [int(x.replace('\\n','')) for x in c]\n",
    "df = pd.Series(data)\n"
   ]
  },
  {
   "cell_type": "code",
   "execution_count": 4,
   "metadata": {},
   "outputs": [
    {
     "data": {
      "text/plain": [
       "1653"
      ]
     },
     "execution_count": 4,
     "metadata": {},
     "output_type": "execute_result"
    }
   ],
   "source": [
    "## add manually last 2 records since the rolling works on left side\n",
    "tmp = df.rolling(window=3,center=False, min_periods=3).sum().dropna()\n",
    "(tmp.append(pd.Series([17125,8562 ]), ignore_index=False).diff()>0).sum()"
   ]
  },
  {
   "cell_type": "code",
   "execution_count": null,
   "metadata": {},
   "outputs": [],
   "source": []
  },
  {
   "cell_type": "markdown",
   "metadata": {},
   "source": [
    "# Day2"
   ]
  },
  {
   "cell_type": "markdown",
   "metadata": {},
   "source": [
    "## Part 1"
   ]
  },
  {
   "cell_type": "code",
   "execution_count": 18,
   "metadata": {},
   "outputs": [],
   "source": [
    "f = open(\"./input2.txt\", \"r\")\n",
    "c = f.readlines()"
   ]
  },
  {
   "cell_type": "code",
   "execution_count": 21,
   "metadata": {},
   "outputs": [],
   "source": [
    "df = pd.DataFrame(c)[0].str.replace('\\n','').str.split(' ').apply(pd.Series)\n"
   ]
  },
  {
   "cell_type": "code",
   "execution_count": 22,
   "metadata": {},
   "outputs": [],
   "source": [
    "df.loc[df[0]=='forward','forward'] = df[1]\n",
    "df.loc[df[0]!='forward','depth'] = df[1]\n"
   ]
  },
  {
   "cell_type": "code",
   "execution_count": 23,
   "metadata": {},
   "outputs": [],
   "source": [
    "df['sign'] = 1\n",
    "df.loc[df[0]=='up', 'sign'] = -1\n"
   ]
  },
  {
   "cell_type": "code",
   "execution_count": 24,
   "metadata": {},
   "outputs": [],
   "source": [
    "df['forward'].fillna(0, inplace=True)\n",
    "df['depth_copy'] = df['depth'].copy()\n",
    "df['depth'].fillna(0, inplace=True)\n",
    "df['depth_copy'].ffill(inplace=True)\n"
   ]
  },
  {
   "cell_type": "code",
   "execution_count": 27,
   "metadata": {},
   "outputs": [],
   "source": [
    "df['depth'] = df['depth'].astype(int)\n",
    "df['forward'] = df['forward'].astype(int)\n",
    "df['dpth_sign'] = df['depth'].multiply(df['sign'])\n"
   ]
  },
  {
   "cell_type": "code",
   "execution_count": 28,
   "metadata": {},
   "outputs": [
    {
     "data": {
      "text/plain": [
       "forward      2065\n",
       "dpth_sign     917\n",
       "dtype: int64"
      ]
     },
     "execution_count": 28,
     "metadata": {},
     "output_type": "execute_result"
    }
   ],
   "source": [
    "df[['forward','dpth_sign']].sum()"
   ]
  },
  {
   "cell_type": "code",
   "execution_count": 176,
   "metadata": {},
   "outputs": [
    {
     "data": {
      "text/plain": [
       "1893605"
      ]
     },
     "execution_count": 176,
     "metadata": {},
     "output_type": "execute_result"
    }
   ],
   "source": [
    "2065*917"
   ]
  },
  {
   "cell_type": "markdown",
   "metadata": {},
   "source": [
    "## Part 2"
   ]
  },
  {
   "cell_type": "code",
   "execution_count": 29,
   "metadata": {},
   "outputs": [],
   "source": [
    "df['aim'] = df['dpth_sign']"
   ]
  },
  {
   "cell_type": "code",
   "execution_count": 30,
   "metadata": {},
   "outputs": [],
   "source": [
    "df['aim_cumsum'] = df['aim'].cumsum()"
   ]
  },
  {
   "cell_type": "code",
   "execution_count": 31,
   "metadata": {},
   "outputs": [
    {
     "name": "stdout",
     "output_type": "stream",
     "text": [
      "1026990 917 2065\n"
     ]
    }
   ],
   "source": [
    "depth = 0\n",
    "aim = 0\n",
    "forward = 0\n",
    "\n",
    "for _, row in df.iterrows():\n",
    "    value = int(row[1])\n",
    "    if row[0]=='up':\n",
    "        # depth  = depth - value\n",
    "        aim = aim - value\n",
    "    elif row[0]== 'down':\n",
    "        # depth  = depth + value\n",
    "        aim = aim + value\n",
    "    else:\n",
    "        forward = forward + value\n",
    "        depth = depth + (aim * value)\n",
    "        \n",
    "        \n",
    "print(depth, aim, forward)\n",
    "    \n",
    "    \n",
    "    "
   ]
  },
  {
   "cell_type": "code",
   "execution_count": 210,
   "metadata": {},
   "outputs": [
    {
     "data": {
      "text/plain": [
       "2120734350"
      ]
     },
     "execution_count": 210,
     "metadata": {},
     "output_type": "execute_result"
    }
   ],
   "source": [
    "1026990  * 2065"
   ]
  },
  {
   "cell_type": "markdown",
   "metadata": {},
   "source": [
    "# Day3"
   ]
  },
  {
   "cell_type": "markdown",
   "metadata": {},
   "source": [
    "## Part 1"
   ]
  },
  {
   "cell_type": "code",
   "execution_count": 230,
   "metadata": {},
   "outputs": [],
   "source": [
    "df = pd.read_csv('./input3.csv', header=None,dtype=object)"
   ]
  },
  {
   "cell_type": "code",
   "execution_count": 32,
   "metadata": {},
   "outputs": [],
   "source": [
    "df = pd.read_csv('./input3.csv', header=None,dtype=object)\n",
    "df_split = df[0].apply(lambda x: list(x)).apply(pd.Series)"
   ]
  },
  {
   "cell_type": "code",
   "execution_count": 37,
   "metadata": {},
   "outputs": [],
   "source": [
    "bin1 = ''.join(df_split.mode(axis=0).values[0])"
   ]
  },
  {
   "cell_type": "code",
   "execution_count": 38,
   "metadata": {},
   "outputs": [
    {
     "data": {
      "text/plain": [
       "190"
      ]
     },
     "execution_count": 38,
     "metadata": {},
     "output_type": "execute_result"
    }
   ],
   "source": [
    "int(bin1, 2)"
   ]
  },
  {
   "cell_type": "code",
   "execution_count": 240,
   "metadata": {},
   "outputs": [
    {
     "data": {
      "text/plain": [
       "3905"
      ]
     },
     "execution_count": 240,
     "metadata": {},
     "output_type": "execute_result"
    }
   ],
   "source": [
    "# manually reverse bits\n",
    "int(\"111101000001\",2)"
   ]
  },
  {
   "cell_type": "markdown",
   "metadata": {},
   "source": [
    "## Part 2"
   ]
  },
  {
   "cell_type": "code",
   "execution_count": 54,
   "metadata": {},
   "outputs": [
    {
     "name": "stdout",
     "output_type": "stream",
     "text": [
      "(511, 12)\n",
      "(256, 11)\n",
      "(126, 10)\n",
      "(72, 9)\n",
      "(37, 8)\n",
      "(15, 7)\n",
      "(8, 6)\n",
      "(4, 5)\n",
      "(2, 4)\n",
      "(1, 3)\n",
      "Int64Index([272], dtype='int64') single oxy\n",
      "(489, 12)\n",
      "(243, 11)\n",
      "(109, 10)\n",
      "(62, 9)\n",
      "(28, 8)\n",
      "(17, 7)\n",
      "(7, 6)\n",
      "(2, 5)\n",
      "(1, 4)\n",
      "Int64Index([522], dtype='int64') single oxy\n"
     ]
    }
   ],
   "source": [
    "df = pd.read_csv('./input3.csv', header=None,dtype=object)\n",
    "df_split = df[0].apply(lambda x: list(x)).apply(pd.Series)\n",
    "\n",
    "\n",
    "col = 0\n",
    "def find_oxy(df, col):\n",
    "    if df.shape[0]==1:\n",
    "        print(df.index, 'single oxy')\n",
    "        return df\n",
    "    else:\n",
    "        # print ('working on column', col)\n",
    "        most_common = df[col].mode().max()\n",
    "        col = col+1\n",
    "        # print (df.columns)\n",
    "        print (df[df[col]==most_common].shape)\n",
    "        find_oxy(df[df[col]==most_common][df.columns[1::]], col)\n",
    "    return df\n",
    "\n",
    "\n",
    "def find_co2(df, col):\n",
    "    if df.shape[0]==1:\n",
    "        print(df.index, 'single co2')\n",
    "        return df\n",
    "    else:\n",
    "        # print ('working on column', col)\n",
    "        most_common = df[col].mode().max()\n",
    "        least_common = \"1\" if most_common==\"0\" else \"1\"\n",
    "        col = col+1\n",
    "        # print (df.columns)\n",
    "        print (df[df[col]==least_common].shape)\n",
    "        find_oxy(df[df[col]==least_common][df.columns[1::]], col)\n",
    "    return df\n",
    "\n",
    "        \n",
    "a = find_oxy(df_split, col=0)\n",
    "a = find_co2(df_split, col=0)"
   ]
  },
  {
   "cell_type": "code",
   "execution_count": 291,
   "metadata": {},
   "outputs": [
    {
     "data": {
      "text/plain": [
       "False"
      ]
     },
     "execution_count": 291,
     "metadata": {},
     "output_type": "execute_result"
    }
   ],
   "source": [
    "178\n",
    "255"
   ]
  },
  {
   "cell_type": "code",
   "execution_count": 40,
   "metadata": {},
   "outputs": [],
   "source": [
    "a = ''.join(df_split.loc[178].values) # oxy\n",
    "b = ''.join(df_split.loc[255].values) # CO2"
   ]
  },
  {
   "cell_type": "code",
   "execution_count": 41,
   "metadata": {},
   "outputs": [
    {
     "data": {
      "text/plain": [
       "282"
      ]
     },
     "execution_count": 41,
     "metadata": {},
     "output_type": "execute_result"
    }
   ],
   "source": [
    "int(a,2)"
   ]
  },
  {
   "cell_type": "code",
   "execution_count": 42,
   "metadata": {},
   "outputs": [
    {
     "data": {
      "text/plain": [
       "3205"
      ]
     },
     "execution_count": 42,
     "metadata": {},
     "output_type": "execute_result"
    }
   ],
   "source": [
    "int(b,2)"
   ]
  },
  {
   "cell_type": "code",
   "execution_count": 43,
   "metadata": {},
   "outputs": [
    {
     "data": {
      "text/plain": [
       "903810"
      ]
     },
     "execution_count": 43,
     "metadata": {},
     "output_type": "execute_result"
    }
   ],
   "source": [
    "int(a,2) * int(b,2)"
   ]
  },
  {
   "cell_type": "markdown",
   "metadata": {},
   "source": [
    "## Day 4"
   ]
  },
  {
   "cell_type": "code",
   "execution_count": 9,
   "metadata": {},
   "outputs": [
    {
     "data": {
      "text/plain": [
       "100"
      ]
     },
     "execution_count": 9,
     "metadata": {},
     "output_type": "execute_result"
    }
   ],
   "source": [
    "order = [62,55,98,93,48,28,82,78,19,96,31,42,76,25,34,4,18,80,66,6,14,17,57,54,90,27,40,47,9,36,97,56,87,61,91,1,64,71,99,38,70,5,94,85,49,59,69,26,21,60,0,79,2,95,11,84,20,24,8,51,46,44,88,22,16,53,7,32,89,67,15,86,41,92,10,77,68,63,43,75,33,30,81,37,83,3,39,65,12,45,23,73,72,29,52,58,35,50,13,74]\n",
    "len(order)"
   ]
  },
  {
   "cell_type": "code",
   "execution_count": 10,
   "metadata": {},
   "outputs": [],
   "source": [
    "f = open(\"../../../input4.txt\", \"r\")\n",
    "c = f.readlines()"
   ]
  },
  {
   "cell_type": "code",
   "execution_count": 11,
   "metadata": {},
   "outputs": [],
   "source": [
    "df = pd.DataFrame(pd.DataFrame(c)[0].str.replace('\\n',''))\n",
    "df = df[df[0].str.len()==14]\n",
    "df = df[0].str.split(' ').apply(lambda x: [y for y in x if y!='']).apply(pd.Series)\n",
    "df = df.astype(int)\n"
   ]
  },
  {
   "cell_type": "code",
   "execution_count": 12,
   "metadata": {},
   "outputs": [],
   "source": [
    "arr3d = df.copy().to_numpy().reshape(100,5,5)"
   ]
  },
  {
   "cell_type": "code",
   "execution_count": 13,
   "metadata": {},
   "outputs": [
    {
     "name": "stdout",
     "output_type": "stream",
     "text": [
      "winner vert\n",
      "(array([20], dtype=int64), array([0], dtype=int64))\n",
      "winning num 14\n",
      "winner vert\n",
      "(array([41], dtype=int64), array([0], dtype=int64))\n",
      "winning num 90\n",
      "winner hor\n",
      "(array([86], dtype=int64), array([4], dtype=int64))\n",
      "winning num 40\n",
      "winner hor\n",
      "(array([72], dtype=int64), array([1], dtype=int64))\n",
      "winning num 47\n",
      "winner hor\n",
      "(array([35], dtype=int64), array([4], dtype=int64))\n",
      "winning num 87\n",
      "winner hor\n",
      "(array([74], dtype=int64), array([1], dtype=int64))\n",
      "winning num 61\n",
      "winner vert\n",
      "(array([56], dtype=int64), array([3], dtype=int64))\n",
      "winning num 61\n",
      "winner hor\n",
      "(array([73], dtype=int64), array([0], dtype=int64))\n",
      "winning num 1\n",
      "winner hor\n",
      "(array([8], dtype=int64), array([4], dtype=int64))\n",
      "winning num 99\n",
      "winner vert\n",
      "(array([55, 59], dtype=int64), array([0, 1], dtype=int64))\n",
      "winning num 99\n",
      "winner hor\n",
      "(array([54], dtype=int64), array([0], dtype=int64))\n",
      "winning num 70\n",
      "winner hor\n",
      "(array([14], dtype=int64), array([2], dtype=int64))\n",
      "winning num 94\n",
      "winner vert\n",
      "(array([96], dtype=int64), array([0], dtype=int64))\n",
      "winning num 85\n",
      "winner hor\n",
      "(array([89], dtype=int64), array([1], dtype=int64))\n",
      "winning num 49\n",
      "winner vert\n",
      "(array([32, 85], dtype=int64), array([1, 4], dtype=int64))\n",
      "winning num 59\n",
      "winner hor\n",
      "(array([80], dtype=int64), array([1], dtype=int64))\n",
      "winning num 69\n",
      "winner vert\n",
      "(array([80, 99], dtype=int64), array([4, 2], dtype=int64))\n",
      "winning num 69\n",
      "winner vert\n",
      "(array([53], dtype=int64), array([2], dtype=int64))\n",
      "winning num 26\n",
      "winner hor\n",
      "(array([22], dtype=int64), array([4], dtype=int64))\n",
      "winning num 21\n",
      "winner vert\n",
      "(array([40, 75], dtype=int64), array([3, 2], dtype=int64))\n",
      "winning num 21\n",
      "winner vert\n",
      "(array([21], dtype=int64), array([2], dtype=int64))\n",
      "winning num 60\n",
      "winner vert\n",
      "(array([51, 76], dtype=int64), array([0, 3], dtype=int64))\n",
      "winning num 0\n",
      "winner hor\n",
      "(array([0], dtype=int64), array([2], dtype=int64))\n",
      "winning num 2\n",
      "winner vert\n",
      "(array([ 7,  9, 29, 30, 34], dtype=int64), array([4, 0, 4, 4, 1], dtype=int64))\n",
      "winning num 2\n",
      "winner hor\n",
      "(array([15, 26, 45], dtype=int64), array([3, 3, 0], dtype=int64))\n",
      "winning num 95\n",
      "winner vert\n",
      "(array([ 6, 70], dtype=int64), array([4, 0], dtype=int64))\n",
      "winning num 95\n",
      "winner hor\n",
      "(array([10, 11, 57], dtype=int64), array([1, 4, 3], dtype=int64))\n",
      "winning num 11\n",
      "winner hor\n",
      "(array([23], dtype=int64), array([1], dtype=int64))\n",
      "winning num 84\n",
      "winner vert\n",
      "(array([23, 61, 71, 91], dtype=int64), array([4, 4, 0, 0], dtype=int64))\n",
      "winning num 84\n",
      "winner hor\n",
      "(array([60], dtype=int64), array([4], dtype=int64))\n",
      "winning num 20\n",
      "winner vert\n",
      "(array([16, 65], dtype=int64), array([1, 4], dtype=int64))\n",
      "winning num 20\n",
      "winner hor\n",
      "(array([63], dtype=int64), array([4], dtype=int64))\n",
      "winning num 24\n",
      "winner vert\n",
      "(array([25, 63], dtype=int64), array([2, 3], dtype=int64))\n",
      "winning num 24\n",
      "winner hor\n",
      "(array([31, 68], dtype=int64), array([1, 2], dtype=int64))\n",
      "winning num 8\n",
      "winner vert\n",
      "(array([42], dtype=int64), array([4], dtype=int64))\n",
      "winning num 8\n",
      "winner hor\n",
      "(array([13, 39], dtype=int64), array([0, 1], dtype=int64))\n",
      "winning num 51\n",
      "winner vert\n",
      "(array([95, 98], dtype=int64), array([3, 3], dtype=int64))\n",
      "winning num 51\n",
      "winner hor\n",
      "(array([1], dtype=int64), array([1], dtype=int64))\n",
      "winning num 46\n",
      "winner vert\n",
      "(array([81], dtype=int64), array([1], dtype=int64))\n",
      "winning num 46\n",
      "winner hor\n",
      "(array([49, 88], dtype=int64), array([4, 3], dtype=int64))\n",
      "winning num 44\n",
      "winner vert\n",
      "(array([49, 50, 88], dtype=int64), array([1, 1, 4], dtype=int64))\n",
      "winning num 44\n",
      "winner vert\n",
      "(array([38, 48], dtype=int64), array([0, 1], dtype=int64))\n",
      "winning num 88\n",
      "winner hor\n",
      "(array([27, 78, 90], dtype=int64), array([2, 4, 2], dtype=int64))\n",
      "winning num 22\n",
      "winner vert\n",
      "(array([ 4, 36, 69, 82], dtype=int64), array([0, 2, 1, 3], dtype=int64))\n",
      "winning num 16\n",
      "winner hor\n",
      "(array([12], dtype=int64), array([4], dtype=int64))\n",
      "winning num 53\n",
      "winner vert\n",
      "(array([33, 64, 66], dtype=int64), array([1, 1, 3], dtype=int64))\n",
      "winning num 53\n",
      "winner vert\n",
      "(array([28, 44], dtype=int64), array([1, 2], dtype=int64))\n",
      "winning num 7\n",
      "winner vert\n",
      "(array([2], dtype=int64), array([2], dtype=int64))\n",
      "winning num 32\n",
      "winner hor\n",
      "(array([77], dtype=int64), array([2], dtype=int64))\n",
      "winning num 89\n",
      "winner hor\n",
      "(array([67], dtype=int64), array([0], dtype=int64))\n",
      "winning num 67\n",
      "winner vert\n",
      "(array([67], dtype=int64), array([2], dtype=int64))\n",
      "winning num 67\n",
      "winner hor\n",
      "(array([18, 24], dtype=int64), array([4, 4], dtype=int64))\n",
      "winning num 15\n",
      "winner vert\n",
      "(array([18, 24], dtype=int64), array([0, 1], dtype=int64))\n",
      "winning num 15\n",
      "winner hor\n",
      "(array([97], dtype=int64), array([2], dtype=int64))\n",
      "winning num 86\n",
      "winner vert\n",
      "(array([58], dtype=int64), array([0], dtype=int64))\n",
      "winning num 86\n",
      "winner vert\n",
      "(array([ 5, 19], dtype=int64), array([2, 2], dtype=int64))\n",
      "winning num 41\n",
      "winner hor\n",
      "(array([17, 43, 94], dtype=int64), array([1, 3, 2], dtype=int64))\n",
      "winning num 10\n",
      "winner hor\n",
      "(array([ 3, 52], dtype=int64), array([2, 2], dtype=int64))\n",
      "winning num 77\n",
      "winner vert\n",
      "(array([ 3, 52], dtype=int64), array([1, 0], dtype=int64))\n",
      "winning num 77\n",
      "winner vert\n",
      "(array([83], dtype=int64), array([4], dtype=int64))\n",
      "winning num 68\n",
      "winner hor\n",
      "(array([46, 93], dtype=int64), array([4, 3], dtype=int64))\n",
      "winning num 63\n",
      "winner vert\n",
      "(array([93], dtype=int64), array([0], dtype=int64))\n",
      "winning num 63\n",
      "winner vert\n",
      "(array([84, 87], dtype=int64), array([2, 0], dtype=int64))\n",
      "winning num 43\n",
      "winner hor\n",
      "(array([92], dtype=int64), array([1], dtype=int64))\n",
      "winning num 75\n",
      "winner vert\n",
      "(array([79], dtype=int64), array([0], dtype=int64))\n",
      "winning num 75\n",
      "winner hor\n",
      "(array([37], dtype=int64), array([4], dtype=int64))\n",
      "winning num 33\n",
      "winner vert\n",
      "(array([62], dtype=int64), array([1], dtype=int64))\n",
      "winning num 30\n",
      "winner hor\n",
      "(array([47], dtype=int64), array([2], dtype=int64))\n",
      "winning num 81\n"
     ]
    }
   ],
   "source": [
    "import numpy as np\n",
    "history = []\n",
    "dict = ()\n",
    "for i in order:\n",
    "    # print(i)\n",
    "    history.append(i)\n",
    "    hor = np.isin(arr3d, history).sum(axis=1)\n",
    "    ver = np.isin(arr3d, history).sum(axis=2)\n",
    "    if len(np.where(hor == 5)[0]) > 0:\n",
    "        print('winner hor')\n",
    "        print (np.where(hor == 5))\n",
    "        print('winning num', i)\n",
    "        arr3d[np.where(hor == 5)[0]] = -1 # mark minus so the board doesnt play anymore\n",
    "        win_num = i\n",
    "        win_board = np.where(hor == 5)\n",
    "\n",
    "    if len(np.where(ver == 5)[0]) > 0:\n",
    "        print('winner vert')\n",
    "        print( np.where(ver == 5))\n",
    "        print('winning num', i)\n",
    "        arr3d[np.where(ver == 5)[0]] = -1 # mark minus so the board doesnt play anymore\n",
    "        win_num = i\n",
    "        win_board = np.where(hor == 5)"
   ]
  },
  {
   "cell_type": "code",
   "execution_count": 14,
   "metadata": {},
   "outputs": [
    {
     "name": "stdout",
     "output_type": "stream",
     "text": [
      "last_board_to_win 81 47\n"
     ]
    }
   ],
   "source": [
    "print('last_board_to_win', win_num , win_board[0][0])\n",
    "# init to remove all the (-1)\n",
    "arr3d = df.to_numpy().reshape(100,5,5)\n",
    "last_win = pd.DataFrame(arr3d[win_board[0][0]])\n",
    "ind_of_winning_number = np.where(np.array(order) == win_num)[0][0]"
   ]
  },
  {
   "cell_type": "code",
   "execution_count": 110,
   "metadata": {},
   "outputs": [
    {
     "data": {
      "text/plain": [
       "18063.0"
      ]
     },
     "execution_count": 110,
     "metadata": {},
     "output_type": "execute_result"
    }
   ],
   "source": [
    "last_win[~last_win.isin(history[0:ind_of_winning_number+1])].sum().sum()*win_num"
   ]
  },
  {
   "cell_type": "markdown",
   "metadata": {},
   "source": [
    "## Day 5"
   ]
  },
  {
   "cell_type": "code",
   "execution_count": 15,
   "metadata": {},
   "outputs": [],
   "source": [
    "\n",
    "f = open(\"../../../input5.txt\", \"r\")\n",
    "c = f.readlines()"
   ]
  },
  {
   "cell_type": "code",
   "execution_count": 16,
   "metadata": {},
   "outputs": [],
   "source": [
    "import pandas as pd"
   ]
  },
  {
   "cell_type": "code",
   "execution_count": 17,
   "metadata": {},
   "outputs": [],
   "source": [
    "df = pd.DataFrame(c)\n",
    "df = df[0].str.replace('\\n','').str.replace('->',',').str.split(',').apply(pd.Series)\n",
    "df = df.astype(int)\n",
    "df['filter'] = df.apply(lambda row: 1 if ((row[0]==row[2])|(row[1]==row[3])) else 0, axis=1)   # keep only vertical and horizontal lines\n"
   ]
  },
  {
   "cell_type": "code",
   "execution_count": 66,
   "metadata": {},
   "outputs": [
    {
     "data": {
      "text/plain": [
       "1    337\n",
       "0    163\n",
       "Name: filter, dtype: int64"
      ]
     },
     "execution_count": 66,
     "metadata": {},
     "output_type": "execute_result"
    }
   ],
   "source": [
    "df['filter'].value_counts()"
   ]
  },
  {
   "cell_type": "code",
   "execution_count": 67,
   "metadata": {},
   "outputs": [],
   "source": [
    "df_lines = df[df['filter']==1]"
   ]
  },
  {
   "cell_type": "code",
   "execution_count": 69,
   "metadata": {},
   "outputs": [
    {
     "data": {
      "text/plain": [
       "990"
      ]
     },
     "execution_count": 69,
     "metadata": {},
     "output_type": "execute_result"
    }
   ],
   "source": [
    "# check max size of board\n",
    "df[[0,1,2,3]].max().max()"
   ]
  },
  {
   "cell_type": "code",
   "execution_count": 21,
   "metadata": {},
   "outputs": [],
   "source": [
    "import numpy as np\n",
    "zero = pd.DataFrame(0, index=np.arange(df[[0,1,2,3]].max().max()+1), columns=np.arange(df[[0,1,2,3]].max().max()+1))"
   ]
  },
  {
   "cell_type": "code",
   "execution_count": 22,
   "metadata": {},
   "outputs": [],
   "source": [
    "# get all points on diagonal with start and end point\n",
    "def get_line(x1, y1, x2, y2):\n",
    "    points = []\n",
    "    issteep = abs(y2-y1) > abs(x2-x1)\n",
    "    if issteep:\n",
    "        x1, y1 = y1, x1\n",
    "        x2, y2 = y2, x2\n",
    "    rev = False\n",
    "    if x1 > x2:\n",
    "        x1, x2 = x2, x1\n",
    "        y1, y2 = y2, y1\n",
    "        rev = True\n",
    "    deltax = x2 - x1\n",
    "    deltay = abs(y2-y1)\n",
    "    error = int(deltax / 2)\n",
    "    y = y1\n",
    "    ystep = None\n",
    "    if y1 < y2:\n",
    "        ystep = 1\n",
    "    else:\n",
    "        ystep = -1\n",
    "    for x in range(x1, x2 + 1):\n",
    "        if issteep:\n",
    "            points.append((y, x))\n",
    "        else:\n",
    "            points.append((x, y))\n",
    "        error -= deltay\n",
    "        if error < 0:\n",
    "            y += ystep\n",
    "            error += deltax\n",
    "    # Reverse the list if the coordinates were reversed\n",
    "    if rev:\n",
    "        points.reverse()\n",
    "    return points"
   ]
  },
  {
   "cell_type": "code",
   "execution_count": 23,
   "metadata": {},
   "outputs": [],
   "source": [
    "def add_counter(df_zero, x1, x2, x3, x4):\n",
    "    if x1==x3:\n",
    "        min_x = np.min([x2, x4])\n",
    "        max_x = np.max([x2, x4])\n",
    "        # print (min_x, max_x)\n",
    "        df_zero.loc[x1][df_zero.columns[min_x:max_x+1]]  = df_zero.loc[x1][df_zero.columns[min_x:max_x+1]]+1\n",
    "    elif x2 == x4:\n",
    "        min_x = np.min([x1, x3])\n",
    "        max_x = np.max([x1, x3])\n",
    "        # print (min_x, max_x)\n",
    "        df_zero.loc[min_x:max_x][x2]  = df_zero.loc[min_x:max_x][x2] + 1\n",
    "    # with diagonal for part 2\n",
    "    else:\n",
    "        points = get_line(x1, x2, x3, x4)\n",
    "        for point in points:\n",
    "            x = point[0]\n",
    "            y = point[1]\n",
    "            df_zero.loc[x][y] = df_zero.loc[x][y] + 1\n",
    "        \n",
    "    return df_zero\n",
    "    "
   ]
  },
  {
   "cell_type": "code",
   "execution_count": 24,
   "metadata": {},
   "outputs": [
    {
     "name": "stderr",
     "output_type": "stream",
     "text": [
      "C:\\Users\\MELMAT~1\\AppData\\Local\\Temp/ipykernel_56560/2220614848.py:11: SettingWithCopyWarning: \n",
      "A value is trying to be set on a copy of a slice from a DataFrame.\n",
      "Try using .loc[row_indexer,col_indexer] = value instead\n",
      "\n",
      "See the caveats in the documentation: https://pandas.pydata.org/pandas-docs/stable/user_guide/indexing.html#returning-a-view-versus-a-copy\n",
      "  df_zero.loc[min_x:max_x][x2]  = df_zero.loc[min_x:max_x][x2] + 1\n"
     ]
    }
   ],
   "source": [
    "for i, row in df.iterrows():\n",
    "    zero = add_counter(zero, row[0], row[1], row[2], row[3])"
   ]
  },
  {
   "cell_type": "code",
   "execution_count": 26,
   "metadata": {},
   "outputs": [
    {
     "data": {
      "text/plain": [
       "17193"
      ]
     },
     "execution_count": 26,
     "metadata": {},
     "output_type": "execute_result"
    }
   ],
   "source": [
    "len(np.where(zero.values>=2)[0])"
   ]
  },
  {
   "cell_type": "markdown",
   "metadata": {},
   "source": [
    "# Day 6"
   ]
  },
  {
   "cell_type": "markdown",
   "metadata": {},
   "source": [
    "## Part 1"
   ]
  },
  {
   "cell_type": "code",
   "execution_count": 284,
   "metadata": {},
   "outputs": [],
   "source": [
    "f = open(\"../../../input6.txt\", \"r\")\n",
    "c = f.readlines()"
   ]
  },
  {
   "cell_type": "code",
   "execution_count": 285,
   "metadata": {},
   "outputs": [],
   "source": [
    "import pandas as pd\n",
    "import numpy as np\n",
    "\n",
    "df = pd.DataFrame(c)\n",
    "df = df[0].str.split(',').apply(pd.Series).astype(int)\n",
    "df  = df.T"
   ]
  },
  {
   "cell_type": "code",
   "execution_count": 185,
   "metadata": {},
   "outputs": [],
   "source": [
    "res = dict()\n",
    "for step in np.arange(80):\n",
    "    \n",
    "    zeros = (df[0] == 0).sum()\n",
    "    # print ('new', zeros)\n",
    "    df = df.replace(0,7)\n",
    "    df = df.subtract(1)\n",
    "    new = pd.DataFrame(8, index=np.arange(zeros), columns=[0])\n",
    "    df = df.append(new)\n",
    "    res[step] = df.shape[0]\n",
    "    # print(df.shape)"
   ]
  },
  {
   "cell_type": "code",
   "execution_count": 186,
   "metadata": {},
   "outputs": [
    {
     "data": {
      "text/plain": [
       "(363101, 1)"
      ]
     },
     "execution_count": 186,
     "metadata": {},
     "output_type": "execute_result"
    }
   ],
   "source": [
    "df.shape"
   ]
  },
  {
   "cell_type": "markdown",
   "metadata": {},
   "source": [
    "## Part 2"
   ]
  },
  {
   "cell_type": "code",
   "execution_count": 187,
   "metadata": {},
   "outputs": [
    {
     "data": {
      "image/png": "[encoded data removed]",
      "text/plain": [
       "<Figure size 432x288 with 1 Axes>"
      ]
     },
     "metadata": {
      "needs_background": "light"
     },
     "output_type": "display_data"
    }
   ],
   "source": [
    "curve = pd.DataFrame.from_dict(res, orient='index')\n",
    "ax = curve.plot()"
   ]
  },
  {
   "cell_type": "code",
   "execution_count": 308,
   "metadata": {},
   "outputs": [],
   "source": [
    "import pandas as pd\n",
    "import numpy as np\n",
    "\n",
    "df = pd.DataFrame(c)\n",
    "df = df[0].str.split(',').apply(pd.Series).astype(int)\n",
    "df  = df.T"
   ]
  },
  {
   "cell_type": "code",
   "execution_count": 348,
   "metadata": {},
   "outputs": [],
   "source": [
    "dicts = df[0].value_counts().to_dict()"
   ]
  },
  {
   "cell_type": "code",
   "execution_count": 380,
   "metadata": {},
   "outputs": [],
   "source": [
    "fish = pd.DataFrame(0, index=[0,1,2,3,4,5,6,7,8], columns=[0])"
   ]
  },
  {
   "cell_type": "code",
   "execution_count": 381,
   "metadata": {},
   "outputs": [],
   "source": [
    "for key in dicts.keys():\n",
    "    fish.loc[key] = dicts[key]    \n"
   ]
  },
  {
   "cell_type": "code",
   "execution_count": 382,
   "metadata": {},
   "outputs": [
    {
     "data": {
      "text/html": [
       "<div>\n",
       "<style scoped>\n",
       "    .dataframe tbody tr th:only-of-type {\n",
       "        vertical-align: middle;\n",
       "    }\n",
       "\n",
       "    .dataframe tbody tr th {\n",
       "        vertical-align: top;\n",
       "    }\n",
       "\n",
       "    .dataframe thead th {\n",
       "        text-align: right;\n",
       "    }\n",
       "</style>\n",
       "<table border=\"1\" class=\"dataframe\">\n",
       "  <thead>\n",
       "    <tr style=\"text-align: right;\">\n",
       "      <th></th>\n",
       "      <th>0</th>\n",
       "    </tr>\n",
       "  </thead>\n",
       "  <tbody>\n",
       "    <tr>\n",
       "      <th>0</th>\n",
       "      <td>0</td>\n",
       "    </tr>\n",
       "    <tr>\n",
       "      <th>1</th>\n",
       "      <td>115</td>\n",
       "    </tr>\n",
       "    <tr>\n",
       "      <th>2</th>\n",
       "      <td>52</td>\n",
       "    </tr>\n",
       "    <tr>\n",
       "      <th>3</th>\n",
       "      <td>47</td>\n",
       "    </tr>\n",
       "    <tr>\n",
       "      <th>4</th>\n",
       "      <td>49</td>\n",
       "    </tr>\n",
       "    <tr>\n",
       "      <th>5</th>\n",
       "      <td>37</td>\n",
       "    </tr>\n",
       "    <tr>\n",
       "      <th>6</th>\n",
       "      <td>0</td>\n",
       "    </tr>\n",
       "    <tr>\n",
       "      <th>7</th>\n",
       "      <td>0</td>\n",
       "    </tr>\n",
       "    <tr>\n",
       "      <th>8</th>\n",
       "      <td>0</td>\n",
       "    </tr>\n",
       "  </tbody>\n",
       "</table>\n",
       "</div>"
      ],
      "text/plain": [
       "     0\n",
       "0    0\n",
       "1  115\n",
       "2   52\n",
       "3   47\n",
       "4   49\n",
       "5   37\n",
       "6    0\n",
       "7    0\n",
       "8    0"
      ]
     },
     "execution_count": 382,
     "metadata": {},
     "output_type": "execute_result"
    }
   ],
   "source": [
    "fish"
   ]
  },
  {
   "cell_type": "code",
   "execution_count": 383,
   "metadata": {},
   "outputs": [],
   "source": [
    "for i in np.arange(256):\n",
    "    zeros = fish.loc[0][0]\n",
    "    fish.loc[7,0] = zeros + fish.loc[7,0]\n",
    "    fish = fish.shift(-1).fillna(0)\n",
    "    fish.loc[8,0] = zeros + fish.loc[8,0]\n",
    "    # print(fish)\n"
   ]
  },
  {
   "cell_type": "code",
   "execution_count": 386,
   "metadata": {},
   "outputs": [
    {
     "data": {
      "text/plain": [
       "1644286074024"
      ]
     },
     "execution_count": 386,
     "metadata": {},
     "output_type": "execute_result"
    }
   ],
   "source": [
    "int(fish.sum())"
   ]
  },
  {
   "cell_type": "markdown",
   "metadata": {},
   "source": [
    "# Day 7"
   ]
  },
  {
   "cell_type": "markdown",
   "metadata": {},
   "source": [
    "## Part 1"
   ]
  },
  {
   "cell_type": "code",
   "execution_count": 4,
   "metadata": {},
   "outputs": [],
   "source": [
    "f = open(\"./data/input7.txt\", \"r\")\n",
    "c = f.readlines()\n",
    "import pandas as pd"
   ]
  },
  {
   "cell_type": "code",
   "execution_count": 5,
   "metadata": {},
   "outputs": [],
   "source": [
    "df = pd.DataFrame(c)"
   ]
  },
  {
   "cell_type": "code",
   "execution_count": 10,
   "metadata": {},
   "outputs": [],
   "source": [
    "df = df[0].str.split(',').apply(pd.Series).astype(int).T"
   ]
  },
  {
   "cell_type": "code",
   "execution_count": 30,
   "metadata": {},
   "outputs": [
    {
     "data": {
      "text/plain": [
       "<AxesSubplot:xlabel='index', ylabel='0'>"
      ]
     },
     "execution_count": 30,
     "metadata": {},
     "output_type": "execute_result"
    },
    {
     "data": {
      "image/png": "[encoded data removed]",
      "text/plain": [
       "<Figure size 432x288 with 1 Axes>"
      ]
     },
     "metadata": {
      "needs_background": "light"
     },
     "output_type": "display_data"
    }
   ],
   "source": [
    "df['index'] = df.index\n",
    "df.plot.scatter(x = 'index', y=0)"
   ]
  },
  {
   "cell_type": "code",
   "execution_count": 58,
   "metadata": {},
   "outputs": [
    {
     "name": "stdout",
     "output_type": "stream",
     "text": [
      "383.0\n"
     ]
    },
    {
     "data": {
      "text/plain": [
       "352254.0"
      ]
     },
     "execution_count": 58,
     "metadata": {},
     "output_type": "execute_result"
    }
   ],
   "source": [
    "# use median since half will be bigger and half smaller - so it's least steps\n",
    "median  = df[0].median()\n",
    "print (median)\n",
    "(df[0]-median).abs().sum()"
   ]
  },
  {
   "cell_type": "markdown",
   "metadata": {},
   "source": [
    "## Part 2"
   ]
  },
  {
   "cell_type": "code",
   "execution_count": 53,
   "metadata": {},
   "outputs": [],
   "source": [
    "import numpy as np"
   ]
  },
  {
   "cell_type": "code",
   "execution_count": 90,
   "metadata": {},
   "outputs": [],
   "source": [
    "align  = np.floor(df[0].mean())\n"
   ]
  },
  {
   "cell_type": "code",
   "execution_count": 91,
   "metadata": {},
   "outputs": [
    {
     "data": {
      "text/plain": [
       "99053143.0"
      ]
     },
     "execution_count": 91,
     "metadata": {},
     "output_type": "execute_result"
    }
   ],
   "source": [
    "df['steps'] = (df[0] - align).abs()\n",
    "df['fuel'] = df['steps'].apply(lambda x: np.arange(1,x+1).sum())\n",
    "df['fuel'].sum()"
   ]
  },
  {
   "cell_type": "markdown",
   "metadata": {},
   "source": [
    "# Day 8"
   ]
  },
  {
   "cell_type": "markdown",
   "metadata": {},
   "source": [
    "## Part 1"
   ]
  },
  {
   "cell_type": "code",
   "execution_count": 1,
   "metadata": {},
   "outputs": [],
   "source": [
    "f = open(\"./data/input8.txt\", \"r\")\n",
    "c = f.readlines()\n"
   ]
  },
  {
   "cell_type": "code",
   "execution_count": 2,
   "metadata": {},
   "outputs": [],
   "source": [
    "import pandas as pd\n",
    "df = pd.DataFrame(c)\n",
    "    "
   ]
  },
  {
   "cell_type": "code",
   "execution_count": 19,
   "metadata": {},
   "outputs": [],
   "source": [
    "tmp = df[0].str.split('|').apply(pd.Series)\n",
    "input = tmp[0]\n",
    "output = tmp[1]"
   ]
  },
  {
   "cell_type": "code",
   "execution_count": 20,
   "metadata": {},
   "outputs": [],
   "source": [
    "input = input.str.split(' ').apply(pd.Series).drop(10, axis=1)\n",
    "output = output.str.split(' ').apply(pd.Series).drop(0, axis=1)\n",
    "output[4] = output[4].str.replace('\\n','')"
   ]
  },
  {
   "cell_type": "code",
   "execution_count": 30,
   "metadata": {},
   "outputs": [],
   "source": [
    "res = []\n",
    "for col in input.columns:\n",
    "    res.append(input[col].str.len())\n",
    "lengths = pd.concat(res, axis=1)"
   ]
  },
  {
   "cell_type": "code",
   "execution_count": 31,
   "metadata": {},
   "outputs": [
    {
     "data": {
      "text/html": [
       "<div>\n",
       "<style scoped>\n",
       "    .dataframe tbody tr th:only-of-type {\n",
       "        vertical-align: middle;\n",
       "    }\n",
       "\n",
       "    .dataframe tbody tr th {\n",
       "        vertical-align: top;\n",
       "    }\n",
       "\n",
       "    .dataframe thead th {\n",
       "        text-align: right;\n",
       "    }\n",
       "</style>\n",
       "<table border=\"1\" class=\"dataframe\">\n",
       "  <thead>\n",
       "    <tr style=\"text-align: right;\">\n",
       "      <th></th>\n",
       "      <th>0</th>\n",
       "      <th>1</th>\n",
       "      <th>2</th>\n",
       "      <th>3</th>\n",
       "      <th>4</th>\n",
       "      <th>5</th>\n",
       "      <th>6</th>\n",
       "      <th>7</th>\n",
       "      <th>8</th>\n",
       "      <th>9</th>\n",
       "    </tr>\n",
       "  </thead>\n",
       "  <tbody>\n",
       "    <tr>\n",
       "      <th>0</th>\n",
       "      <td>6</td>\n",
       "      <td>6</td>\n",
       "      <td>4</td>\n",
       "      <td>5</td>\n",
       "      <td>6</td>\n",
       "      <td>2</td>\n",
       "      <td>5</td>\n",
       "      <td>5</td>\n",
       "      <td>7</td>\n",
       "      <td>3</td>\n",
       "    </tr>\n",
       "    <tr>\n",
       "      <th>1</th>\n",
       "      <td>7</td>\n",
       "      <td>3</td>\n",
       "      <td>5</td>\n",
       "      <td>6</td>\n",
       "      <td>6</td>\n",
       "      <td>6</td>\n",
       "      <td>5</td>\n",
       "      <td>5</td>\n",
       "      <td>4</td>\n",
       "      <td>2</td>\n",
       "    </tr>\n",
       "    <tr>\n",
       "      <th>2</th>\n",
       "      <td>7</td>\n",
       "      <td>4</td>\n",
       "      <td>6</td>\n",
       "      <td>3</td>\n",
       "      <td>6</td>\n",
       "      <td>5</td>\n",
       "      <td>5</td>\n",
       "      <td>5</td>\n",
       "      <td>2</td>\n",
       "      <td>6</td>\n",
       "    </tr>\n",
       "    <tr>\n",
       "      <th>3</th>\n",
       "      <td>4</td>\n",
       "      <td>6</td>\n",
       "      <td>5</td>\n",
       "      <td>6</td>\n",
       "      <td>2</td>\n",
       "      <td>7</td>\n",
       "      <td>6</td>\n",
       "      <td>5</td>\n",
       "      <td>3</td>\n",
       "      <td>5</td>\n",
       "    </tr>\n",
       "    <tr>\n",
       "      <th>4</th>\n",
       "      <td>6</td>\n",
       "      <td>5</td>\n",
       "      <td>2</td>\n",
       "      <td>5</td>\n",
       "      <td>7</td>\n",
       "      <td>6</td>\n",
       "      <td>3</td>\n",
       "      <td>6</td>\n",
       "      <td>5</td>\n",
       "      <td>4</td>\n",
       "    </tr>\n",
       "    <tr>\n",
       "      <th>...</th>\n",
       "      <td>...</td>\n",
       "      <td>...</td>\n",
       "      <td>...</td>\n",
       "      <td>...</td>\n",
       "      <td>...</td>\n",
       "      <td>...</td>\n",
       "      <td>...</td>\n",
       "      <td>...</td>\n",
       "      <td>...</td>\n",
       "      <td>...</td>\n",
       "    </tr>\n",
       "    <tr>\n",
       "      <th>195</th>\n",
       "      <td>2</td>\n",
       "      <td>6</td>\n",
       "      <td>5</td>\n",
       "      <td>7</td>\n",
       "      <td>3</td>\n",
       "      <td>6</td>\n",
       "      <td>5</td>\n",
       "      <td>6</td>\n",
       "      <td>5</td>\n",
       "      <td>4</td>\n",
       "    </tr>\n",
       "    <tr>\n",
       "      <th>196</th>\n",
       "      <td>5</td>\n",
       "      <td>4</td>\n",
       "      <td>6</td>\n",
       "      <td>6</td>\n",
       "      <td>5</td>\n",
       "      <td>7</td>\n",
       "      <td>3</td>\n",
       "      <td>6</td>\n",
       "      <td>5</td>\n",
       "      <td>2</td>\n",
       "    </tr>\n",
       "    <tr>\n",
       "      <th>197</th>\n",
       "      <td>5</td>\n",
       "      <td>3</td>\n",
       "      <td>6</td>\n",
       "      <td>6</td>\n",
       "      <td>6</td>\n",
       "      <td>4</td>\n",
       "      <td>5</td>\n",
       "      <td>5</td>\n",
       "      <td>2</td>\n",
       "      <td>7</td>\n",
       "    </tr>\n",
       "    <tr>\n",
       "      <th>198</th>\n",
       "      <td>6</td>\n",
       "      <td>5</td>\n",
       "      <td>7</td>\n",
       "      <td>6</td>\n",
       "      <td>4</td>\n",
       "      <td>3</td>\n",
       "      <td>6</td>\n",
       "      <td>2</td>\n",
       "      <td>5</td>\n",
       "      <td>5</td>\n",
       "    </tr>\n",
       "    <tr>\n",
       "      <th>199</th>\n",
       "      <td>6</td>\n",
       "      <td>4</td>\n",
       "      <td>7</td>\n",
       "      <td>5</td>\n",
       "      <td>5</td>\n",
       "      <td>2</td>\n",
       "      <td>6</td>\n",
       "      <td>6</td>\n",
       "      <td>5</td>\n",
       "      <td>3</td>\n",
       "    </tr>\n",
       "  </tbody>\n",
       "</table>\n",
       "<p>200 rows × 10 columns</p>\n",
       "</div>"
      ],
      "text/plain": [
       "     0  1  2  3  4  5  6  7  8  9\n",
       "0    6  6  4  5  6  2  5  5  7  3\n",
       "1    7  3  5  6  6  6  5  5  4  2\n",
       "2    7  4  6  3  6  5  5  5  2  6\n",
       "3    4  6  5  6  2  7  6  5  3  5\n",
       "4    6  5  2  5  7  6  3  6  5  4\n",
       "..  .. .. .. .. .. .. .. .. .. ..\n",
       "195  2  6  5  7  3  6  5  6  5  4\n",
       "196  5  4  6  6  5  7  3  6  5  2\n",
       "197  5  3  6  6  6  4  5  5  2  7\n",
       "198  6  5  7  6  4  3  6  2  5  5\n",
       "199  6  4  7  5  5  2  6  6  5  3\n",
       "\n",
       "[200 rows x 10 columns]"
      ]
     },
     "execution_count": 31,
     "metadata": {},
     "output_type": "execute_result"
    }
   ],
   "source": [
    "4 - has length 4\n",
    "1 - has length 2\n",
    "7 - has length 3\n",
    "8 - has length 7"
   ]
  },
  {
   "cell_type": "code",
   "execution_count": 51,
   "metadata": {},
   "outputs": [],
   "source": [
    "res = []\n",
    "for col in output.columns:\n",
    "    res.append(output[col].str.len())\n",
    "output_lengths = pd.concat(res, axis=1)"
   ]
  },
  {
   "cell_type": "code",
   "execution_count": 53,
   "metadata": {},
   "outputs": [
    {
     "data": {
      "text/plain": [
       "303"
      ]
     },
     "execution_count": 53,
     "metadata": {},
     "output_type": "execute_result"
    }
   ],
   "source": [
    "(output_lengths==4).sum().sum() + (output_lengths==2).sum().sum() +  (output_lengths==3).sum().sum() +  (output_lengths==7).sum().sum()"
   ]
  },
  {
   "cell_type": "markdown",
   "metadata": {},
   "source": [
    "## Part 2"
   ]
  },
  {
   "cell_type": "code",
   "execution_count": 74,
   "metadata": {},
   "outputs": [],
   "source": [
    "def get_digit(dict, str):\n",
    "   \n",
    "    if len(str) == 5:\n",
    "        if len(set(dict[1])&set(str))==2:\n",
    "            dict[3] = str\n",
    "        elif len(set(dict[4])& set(str))==3:\n",
    "            dict[5] = str\n",
    "        else:\n",
    "            dict[2]=str\n",
    "        return dict\n",
    "    elif len(str) == 6:\n",
    "        if len(set(dict[7])& set(str))==2:\n",
    "            dict[6] = str\n",
    "        elif len(set(dict[4])&set(str))==4:\n",
    "            dict[9]=str\n",
    "        else:\n",
    "            dict[0]=str\n",
    "        return dict\n",
    "    else:\n",
    "        return dict\n",
    "\n",
    "        \n",
    "        "
   ]
  },
  {
   "cell_type": "code",
   "execution_count": 75,
   "metadata": {},
   "outputs": [],
   "source": [
    "dict = {}\n",
    "vv = input.loc[0].to_list()\n",
    "dict[1] = [x for x in vv if len(x)==2][0]\n",
    "dict[4] = [x for x in vv if len(x)==4][0]\n",
    "dict[7] = [x for x in vv if len(x)==3][0]\n",
    "dict[8] = [x for x in vv if len(x)==7][0]\n",
    "\n",
    "for v in vv:\n",
    "    digits = get_digit(dict, v)"
   ]
  },
  {
   "cell_type": "code",
   "execution_count": 76,
   "metadata": {},
   "outputs": [
    {
     "data": {
      "text/plain": [
       "{1: 'gd',\n",
       " 4: 'aegd',\n",
       " 7: 'dfg',\n",
       " 8: 'cbgeafd',\n",
       " 0: 'ecfdbg',\n",
       " 6: 'decfba',\n",
       " 3: 'fdcag',\n",
       " 9: 'fagecd',\n",
       " 2: 'gcafb',\n",
       " 5: 'efdac'}"
      ]
     },
     "execution_count": 76,
     "metadata": {},
     "output_type": "execute_result"
    }
   ],
   "source": [
    "digits"
   ]
  },
  {
   "cell_type": "markdown",
   "metadata": {},
   "source": []
  }
 ],
 "metadata": {
  "interpreter": {
   "hash": "6ecc0689792541d76a25e7b014039b88b249ed9a7602218eac2dab3ca0c68a27"
  },
  "kernelspec": {
   "display_name": "Python 3.8.5 64-bit ('nlp-task': conda)",
   "language": "python",
   "name": "python3"
  },
  "language_info": {
   "codemirror_mode": {
    "name": "ipython",
    "version": 3
   },
   "file_extension": ".py",
   "mimetype": "text/x-python",
   "name": "python",
   "nbconvert_exporter": "python",
   "pygments_lexer": "ipython3",
   "version": "3.8.12"
  },
  "orig_nbformat": 4
 },
 "nbformat": 4,
 "nbformat_minor": 2
}
