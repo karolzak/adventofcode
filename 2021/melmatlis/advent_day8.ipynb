{
 "cells": [
  {
   "cell_type": "markdown",
   "metadata": {},
   "source": [
    "# Day 8"
   ]
  },
  {
   "cell_type": "code",
   "execution_count": null,
   "metadata": {},
   "outputs": [],
   "source": []
  },
  {
   "cell_type": "markdown",
   "metadata": {},
   "source": [
    "## Part 1"
   ]
  },
  {
   "cell_type": "code",
   "execution_count": null,
   "metadata": {},
   "outputs": [],
   "source": [
    "f = open(\"./data/input8.txt\", \"r\")\n",
    "c = f.readlines()\n"
   ]
  },
  {
   "cell_type": "code",
   "execution_count": null,
   "metadata": {},
   "outputs": [],
   "source": [
    "import pandas as pd\n",
    "df = pd.DataFrame(c)\n",
    "    "
   ]
  },
  {
   "cell_type": "code",
   "execution_count": null,
   "metadata": {},
   "outputs": [],
   "source": [
    "tmp = df[0].str.split('|').apply(pd.Series)\n",
    "input = tmp[0]\n",
    "output = tmp[1]"
   ]
  },
  {
   "cell_type": "code",
   "execution_count": null,
   "metadata": {},
   "outputs": [],
   "source": [
    "input = input.str.split(' ').apply(pd.Series).drop(10, axis=1)\n",
    "output = output.str.split(' ').apply(pd.Series).drop(0, axis=1)\n",
    "output[4] = output[4].str.replace('\\n','')"
   ]
  },
  {
   "cell_type": "code",
   "execution_count": null,
   "metadata": {},
   "outputs": [],
   "source": [
    "res = []\n",
    "for col in input.columns:\n",
    "    res.append(input[col].str.len())\n",
    "lengths = pd.concat(res, axis=1)"
   ]
  },
  {
   "cell_type": "code",
   "execution_count": null,
   "metadata": {},
   "outputs": [],
   "source": [
    "4 - has length 4\n",
    "1 - has length 2\n",
    "7 - has length 3\n",
    "8 - has length 7"
   ]
  },
  {
   "cell_type": "code",
   "execution_count": null,
   "metadata": {},
   "outputs": [],
   "source": [
    "res = []\n",
    "for col in output.columns:\n",
    "    res.append(output[col].str.len())\n",
    "output_lengths = pd.concat(res, axis=1)"
   ]
  },
  {
   "cell_type": "code",
   "execution_count": null,
   "metadata": {},
   "outputs": [],
   "source": [
    "(output_lengths==4).sum().sum() + (output_lengths==2).sum().sum() +  (output_lengths==3).sum().sum() +  (output_lengths==7).sum().sum()"
   ]
  },
  {
   "cell_type": "markdown",
   "metadata": {},
   "source": [
    "## Part 2"
   ]
  },
  {
   "cell_type": "code",
   "execution_count": null,
   "metadata": {},
   "outputs": [],
   "source": [
    "def get_digit(dict, str):\n",
    "   \n",
    "    if len(str) == 5:\n",
    "        if len(set(dict[1])&set(str))==2:\n",
    "            dict[3] = str\n",
    "        elif len(set(dict[4])& set(str))==3:\n",
    "            dict[5] = str\n",
    "        else:\n",
    "            dict[2]=str\n",
    "        return dict\n",
    "    elif len(str) == 6:\n",
    "        if len(set(dict[7])& set(str))==2:\n",
    "            dict[6] = str\n",
    "        elif len(set(dict[4])&set(str))==4:\n",
    "            dict[9]=str\n",
    "        else:\n",
    "            dict[0]=str\n",
    "        return dict\n",
    "    else:\n",
    "        return dict\n",
    "\n",
    "        \n",
    "        "
   ]
  },
  {
   "cell_type": "code",
   "execution_count": null,
   "metadata": {},
   "outputs": [],
   "source": [
    "def find_digits(vv):\n",
    "    dict = {}\n",
    "    dict[1] = [x for x in vv if len(x)==2][0]\n",
    "    dict[4] = [x for x in vv if len(x)==4][0]\n",
    "    dict[7] = [x for x in vv if len(x)==3][0]\n",
    "    dict[8] = [x for x in vv if len(x)==7][0]\n",
    "\n",
    "    for v in vv:\n",
    "        digits = get_digit(dict, v)\n",
    "    return digits\n",
    "\n",
    "digit_finder = lambda x: int(''.join([str(inv_dig[''.join(sorted(y))]) for y in x]))\n"
   ]
  },
  {
   "cell_type": "code",
   "execution_count": null,
   "metadata": {},
   "outputs": [],
   "source": [
    "import numpy as np\n",
    "final_arr = []\n",
    "for i in np.arange(input.shape[0]):\n",
    "    digits = find_digits(input.loc[i].to_list())\n",
    "    inv_dig = {''.join(sorted(v)): k for k, v in digits.items()}\n",
    "    number = digit_finder(output.loc[i].to_list())\n",
    "    final_arr.append(number)"
   ]
  },
  {
   "cell_type": "code",
   "execution_count": null,
   "metadata": {},
   "outputs": [],
   "source": [
    "np.array(final_arr).sum()\n"
   ]
  },
  {
   "cell_type": "markdown",
   "metadata": {},
   "source": [
    "# Day 9"
   ]
  },
  {
   "cell_type": "markdown",
   "metadata": {},
   "source": [
    "## Part 1"
   ]
  },
  {
   "cell_type": "code",
   "execution_count": null,
   "metadata": {},
   "outputs": [],
   "source": [
    "import pandas as pd\n",
    "import numpy as np"
   ]
  },
  {
   "cell_type": "code",
   "execution_count": null,
   "metadata": {},
   "outputs": [],
   "source": [
    "f = open(\"./data/input9.txt\", \"r\")\n",
    "c = f.readlines()\n",
    "df = pd.DataFrame(c)\n",
    "df = df[0].apply(lambda x: list(x)).apply(pd.Series).drop(100, axis=1)\n",
    "df = df.astype(int)\n",
    "df_t = df.T\n",
    "\n"
   ]
  },
  {
   "cell_type": "code",
   "execution_count": null,
   "metadata": {},
   "outputs": [],
   "source": [
    "a = df < df.shift(1).fillna(10)\n",
    "b = df < df.shift(-1).fillna(10)\n",
    "c = (df_t < df_t.shift(1).fillna(10)).T\n",
    "d = (df_t < df_t.shift(-1).fillna(10)).T\n"
   ]
  },
  {
   "cell_type": "code",
   "execution_count": null,
   "metadata": {},
   "outputs": [],
   "source": [
    "df[(a==True)&(b==True)&(c==True)&(d==True)].sum().sum(), df[(a==True)&(b==True)&(c==True)&(d==True)].count().sum()\n"
   ]
  },
  {
   "cell_type": "code",
   "execution_count": null,
   "metadata": {},
   "outputs": [],
   "source": [
    "276+224"
   ]
  },
  {
   "cell_type": "markdown",
   "metadata": {},
   "source": [
    "## Part 2"
   ]
  },
  {
   "cell_type": "code",
   "execution_count": null,
   "metadata": {},
   "outputs": [],
   "source": [
    "arr = df[(a==True)&(b==True)&(c==True)&(d==True)].fillna(999).to_numpy()\n",
    "low_points = np.where(arr!=999)"
   ]
  },
  {
   "cell_type": "code",
   "execution_count": null,
   "metadata": {},
   "outputs": [],
   "source": [
    "x = low_points[0]\n",
    "y = low_points[1]\n",
    "low_points = pd.DataFrame(zip(x,y))"
   ]
  },
  {
   "cell_type": "code",
   "execution_count": null,
   "metadata": {},
   "outputs": [],
   "source": [
    "low_points.shape"
   ]
  },
  {
   "cell_type": "code",
   "execution_count": null,
   "metadata": {},
   "outputs": [],
   "source": [
    "def discover_basin(basin, df, x, y):\n",
    "    \n",
    "    # search right\n",
    "    if df.loc[x,y]==9:\n",
    "        return basin\n",
    "    \n",
    "    if not (x,y) in basin:\n",
    "        if x>0:\n",
    "            basin.append((x,y))\n",
    "            discover_basin(basin, df, x-1, y)\n",
    "        if x < df.shape[0]-1:\n",
    "            \n",
    "            basin.append((x,y))\n",
    "            discover_basin(basin, df, x+1, y)\n",
    "        if y>0:\n",
    "            \n",
    "            basin.append((x,y))\n",
    "            discover_basin(basin, df, x, y-1)\n",
    "        if y < df.shape[1]-1:\n",
    "            \n",
    "            basin.append((x,y))\n",
    "            discover_basin(basin, df, x, y+1)\n",
    "    return basin    \n",
    "    \n",
    "    "
   ]
  },
  {
   "cell_type": "code",
   "execution_count": null,
   "metadata": {},
   "outputs": [],
   "source": [
    "%%timeit\n",
    "all_basins = []\n",
    "\n",
    "for _, row in low_points.iterrows():\n",
    "    basin = []\n",
    "    res = discover_basin(basin, df, row[0], row[1])\n",
    "    all_basins.append(len(list(set(res))))"
   ]
  },
  {
   "cell_type": "code",
   "execution_count": null,
   "metadata": {},
   "outputs": [],
   "source": [
    "pd.Series(all_basins).sort_values(ascending=False).head(3)"
   ]
  },
  {
   "cell_type": "code",
   "execution_count": null,
   "metadata": {},
   "outputs": [],
   "source": [
    "100*99*98"
   ]
  },
  {
   "cell_type": "markdown",
   "metadata": {},
   "source": [
    "# Day 10 "
   ]
  },
  {
   "cell_type": "markdown",
   "metadata": {},
   "source": [
    "## Part 1"
   ]
  },
  {
   "cell_type": "code",
   "execution_count": null,
   "metadata": {},
   "outputs": [],
   "source": [
    "f = open(\"./data/input10.txt\", \"r\")\n",
    "c = f.readlines()\n",
    "df = pd.DataFrame(c)\n",
    "df[0] = df[0].str.replace('\\n','')"
   ]
  },
  {
   "cell_type": "code",
   "execution_count": null,
   "metadata": {},
   "outputs": [],
   "source": [
    "opening_chars = [\"(\",\"<\",\"{\",\"[\"]\n",
    "open_close_dict = {\"(\":\")\",\"{\":\"}\",\"[\":\"]\",\"<\":\">\"}\n",
    "error_points = {\")\":3,\"]\":57,\"}\":1197,\">\":25137}\n",
    "closing_points = {\")\":1,\"]\":2,\"}\":3,\">\":4}"
   ]
  },
  {
   "cell_type": "code",
   "execution_count": null,
   "metadata": {},
   "outputs": [],
   "source": [
    "def find_first_bad_closing_only_dict_and_queus_no_pandas(sequence):\n",
    "    # print(sequence)\n",
    "    q = []\n",
    "    for char in sequence:\n",
    "        if char in opening_chars:\n",
    "            q.append(char)\n",
    "        else:\n",
    "            last  = q.pop(-1)\n",
    "            if open_close_dict[last]!=char:\n",
    "                return char\n",
    "\n",
    "            "
   ]
  },
  {
   "cell_type": "code",
   "execution_count": null,
   "metadata": {},
   "outputs": [],
   "source": [
    "arr = []\n",
    "for _, row in df.iterrows():\n",
    "    row = row.values[0]\n",
    "    arr.append(find_first_bad_closing_only_dict_and_queus_no_pandas(row))\n",
    "\n",
    "mapped_arr = [error_points[x] if x is not None else 0 for x in arr ]\n",
    "np.array(mapped_arr).sum()"
   ]
  },
  {
   "cell_type": "markdown",
   "metadata": {},
   "source": [
    "## Part 2"
   ]
  },
  {
   "cell_type": "code",
   "execution_count": null,
   "metadata": {},
   "outputs": [],
   "source": [
    "incomplete = np.where(np.array(mapped_arr)==0)\n",
    "print(len(incomplete[0]))\n",
    "incomplete_df = df.loc[incomplete]\n",
    "print(incomplete_df.shape)"
   ]
  },
  {
   "cell_type": "code",
   "execution_count": null,
   "metadata": {},
   "outputs": [],
   "source": [
    "def find_open_seqs(sequence):\n",
    "    # print(sequence)\n",
    "    q = []\n",
    "    for char in sequence:\n",
    "        if char in opening_chars:\n",
    "            q.append(char)\n",
    "        else:\n",
    "            last  = q.pop(-1)\n",
    "    return q\n",
    "\n",
    "\n",
    "def fill_in_q(q):\n",
    "    new_q = []\n",
    "    while len(q)>0:\n",
    "        open = q.pop(-1)\n",
    "        new_q.append(open_close_dict[open])\n",
    "    return new_q\n",
    "        "
   ]
  },
  {
   "cell_type": "code",
   "execution_count": null,
   "metadata": {},
   "outputs": [],
   "source": [
    "final_result = []\n",
    "for _, row in incomplete_df.iterrows():\n",
    "    row = row.values[0]\n",
    "    open_q = find_open_seqs(row)\n",
    "    final_result.append(fill_in_q(open_q))"
   ]
  },
  {
   "cell_type": "code",
   "execution_count": null,
   "metadata": {},
   "outputs": [],
   "source": [
    "def calculate_sequence_score(seq):\n",
    "    score = 0\n",
    "    for char in seq:\n",
    "        score = score * 5\n",
    "        score += closing_points[char]\n",
    "    return score\n",
    "    "
   ]
  },
  {
   "cell_type": "code",
   "execution_count": null,
   "metadata": {},
   "outputs": [],
   "source": [
    "all_scores = [calculate_sequence_score(x) for x in final_result]"
   ]
  },
  {
   "cell_type": "code",
   "execution_count": null,
   "metadata": {},
   "outputs": [],
   "source": [
    "sorted(all_scores)[27]"
   ]
  },
  {
   "cell_type": "markdown",
   "metadata": {},
   "source": [
    "# Day 11"
   ]
  },
  {
   "cell_type": "markdown",
   "metadata": {},
   "source": [
    "## Part 1"
   ]
  },
  {
   "cell_type": "code",
   "execution_count": null,
   "metadata": {},
   "outputs": [],
   "source": [
    "f = open(\"./data/input11.txt\", \"r\")\n",
    "c = f.readlines()\n",
    "c = [x.replace(\"\\n\",\"\") for x in c]\n",
    "c = [list(x) for x in c]\n",
    "df = pd.DataFrame(c).astype(\"float64\")\n"
   ]
  },
  {
   "cell_type": "code",
   "execution_count": null,
   "metadata": {},
   "outputs": [],
   "source": [
    "def increase_neighbors(arr , x):\n",
    "    mod_res = np.mod(x,10)\n",
    "    neighbors = [x+1, x+9, x+10, x+11, x-1, x-11, x-10, x-9]\n",
    "    # print(neighbors, '\\n')\n",
    "    legal_neighbors = [y for y in neighbors if (y>=0) & (np.mod(y,10) in [mod_res, mod_res-1, mod_res+1])& (y<100)]\n",
    "    arr[legal_neighbors] +=1\n",
    "    return arr\n",
    "    "
   ]
  },
  {
   "cell_type": "code",
   "execution_count": null,
   "metadata": {},
   "outputs": [],
   "source": [
    "arr = df.to_numpy().flatten()\n",
    "flashes = 0\n",
    "print(arr.reshape(10,10))\n",
    "for i in np.arange(100):\n",
    "    \n",
    "    # print('step', i)\n",
    "    arr += 1\n",
    "    flash_candidate = np.where(arr>9)[0]\n",
    "    while len(flash_candidate) > 0:\n",
    "        flashes += len(flash_candidate)\n",
    "        for x in flash_candidate:\n",
    "            arr = increase_neighbors(arr , x)\n",
    "            arr[x]= np.nan\n",
    "        flash_candidate = np.where(arr>9)[0]\n",
    "        # print('new_flash', flash_candidate)\n",
    "    \n",
    "    arr[np.where(np.isnan(arr))]=0\n",
    "    # print(flashes)\n",
    "    # print(f'end of step {i} \\n ', arr.reshape(10,10))\n",
    "\n",
    "\n"
   ]
  },
  {
   "cell_type": "code",
   "execution_count": null,
   "metadata": {},
   "outputs": [],
   "source": [
    "flashes"
   ]
  },
  {
   "cell_type": "markdown",
   "metadata": {},
   "source": [
    "## Part 2"
   ]
  },
  {
   "cell_type": "code",
   "execution_count": null,
   "metadata": {},
   "outputs": [],
   "source": [
    "arr = df.to_numpy().flatten()\n",
    "flashes = 0\n",
    "print(arr.reshape(10,10))\n",
    "for i in np.arange(400):\n",
    "    arr += 1\n",
    "    flash_candidate = np.where(arr>9)[0]\n",
    "    while len(flash_candidate) > 0:\n",
    "        flashes += len(flash_candidate)\n",
    "        for x in flash_candidate:\n",
    "            arr = increase_neighbors(arr , x)\n",
    "            arr[x]= np.nan\n",
    "        flash_candidate = np.where(arr>9)[0]\n",
    "    \n",
    "    arr[np.where(np.isnan(arr))]=0\n",
    "    if (arr==0).all():\n",
    "        print(i, 'all')\n",
    "        break\n",
    "    \n",
    "\n"
   ]
  },
  {
   "cell_type": "markdown",
   "metadata": {},
   "source": [
    "# Day 13"
   ]
  },
  {
   "cell_type": "markdown",
   "metadata": {},
   "source": [
    "## Part 1"
   ]
  },
  {
   "cell_type": "code",
   "execution_count": null,
   "metadata": {},
   "outputs": [],
   "source": [
    "f = open(\"./data/input13.txt\", \"r\")\n",
    "c = f.readlines()\n",
    "c = [x.replace(\"\\n\",\"\") for x in c]"
   ]
  },
  {
   "cell_type": "code",
   "execution_count": null,
   "metadata": {},
   "outputs": [],
   "source": [
    "df = pd.DataFrame(c)[0].str.split(',').apply(pd.Series)\n",
    "dots = df[df[1].notnull()].astype(int)\n",
    "instructions = df[df[1].isnull()][0].tolist()"
   ]
  },
  {
   "cell_type": "code",
   "execution_count": null,
   "metadata": {},
   "outputs": [],
   "source": [
    "max_cols = dots.max(axis=0).to_list()[0]\n",
    "max_rows = dots.max(axis=0).to_list()[1]\n",
    "\n",
    "max_rows, max_cols"
   ]
  },
  {
   "cell_type": "code",
   "execution_count": null,
   "metadata": {},
   "outputs": [],
   "source": [
    "import numpy as np\n",
    "dots_df = pd.DataFrame(0, index= np.arange(max_rows+1), columns = np.arange(max_cols+1))\n",
    "for _, i in dots.iterrows():\n",
    "    dots_df.loc[i[1],i[0]] = 1"
   ]
  },
  {
   "cell_type": "markdown",
   "metadata": {},
   "source": [
    "#### instructions\n",
    "\n",
    "fold along x=655<br>\n",
    "fold along y=447<br>\n",
    "fold along x=327<br>\n",
    "fold along y=223<br>\n",
    "fold along x=163<br>\n",
    "fold along y=111<br>\n",
    "fold along x=81<br>\n",
    "fold along y=55<br>\n",
    "fold along x=40<br>\n",
    "fold along y=27<br>\n",
    "fold along y=13<br>\n",
    "fold along y=6<br>"
   ]
  },
  {
   "cell_type": "code",
   "execution_count": null,
   "metadata": {},
   "outputs": [],
   "source": [
    "x = 655\n",
    "def fold_on_x(df, x):\n",
    "    left = df[df.columns[np.arange(x)]]\n",
    "    # print(left.shape)\n",
    "    right = df[df.columns[x+1::]]\n",
    "    # print(right.shape)\n",
    "    folded = np.maximum(left, right[right.columns[x+1::-1]])\n",
    "    return folded\n",
    "\n",
    "\n"
   ]
  },
  {
   "cell_type": "code",
   "execution_count": null,
   "metadata": {},
   "outputs": [],
   "source": [
    "fold_on_x(dots_df, x=655).sum().sum()\n"
   ]
  },
  {
   "cell_type": "markdown",
   "metadata": {},
   "source": [
    "## Part 2"
   ]
  },
  {
   "cell_type": "code",
   "execution_count": null,
   "metadata": {},
   "outputs": [],
   "source": [
    "fold_path = [('x', 655), ('y', 447),('x', 327),('y', 223),('x', 163),('y', 111),('x', 81),('y', 55),('x', 40),('y', 27),('y', 13),('y', 6),]\n",
    "all_folds = dots_df.copy()\n"
   ]
  },
  {
   "cell_type": "code",
   "execution_count": null,
   "metadata": {},
   "outputs": [],
   "source": [
    "for path in fold_path:\n",
    "    if path[0] =='x':\n",
    "        all_folds = fold_on_x(all_folds, x=path[1])\n",
    "    else:\n",
    "        all_folds = fold_on_x(all_folds.T, x=path[1]).T"
   ]
  },
  {
   "cell_type": "code",
   "execution_count": null,
   "metadata": {},
   "outputs": [],
   "source": [
    "import matplotlib.pyplot as plt\n",
    "import numpy as np\n",
    "\n",
    "\n",
    "plt.subplot(211)\n",
    "plt.imshow(all_folds)\n",
    "plt.subplot(212)\n",
    "plt.imshow(all_folds, cmap='Greys',  interpolation='nearest')\n",
    "plt.savefig('blkwht.png')\n",
    "\n",
    "plt.show()"
   ]
  },
  {
   "cell_type": "markdown",
   "metadata": {},
   "source": [
    "# Day 12"
   ]
  },
  {
   "cell_type": "code",
   "execution_count": 19,
   "metadata": {},
   "outputs": [],
   "source": [
    "f = open(\"./data/exmple.txt\", \"r\")\n",
    "c = f.readlines()\n",
    "c = [x.replace(\"\\n\",\"\") for x in c]"
   ]
  },
  {
   "cell_type": "code",
   "execution_count": 20,
   "metadata": {},
   "outputs": [
    {
     "data": {
      "image/png": "[encoded data removed]",
      "text/plain": [
       "<Figure size 432x288 with 1 Axes>"
      ]
     },
     "metadata": {},
     "output_type": "display_data"
    }
   ],
   "source": [
    "import networkx as nx\n",
    "G = nx.Graph()\n",
    "edges = [(x.split('-')[0],x.split('-')[1]) for x in c]\n",
    "G.add_edges_from(edges)\n",
    "nx.draw_networkx(G)"
   ]
  },
  {
   "cell_type": "code",
   "execution_count": 22,
   "metadata": {},
   "outputs": [],
   "source": [
    "all_paths = []\n",
    "\n",
    "def find_all_paths(G, all_paths, source, target, path=[]):\n",
    "    local_path = path.copy() # ahhhh this caused me so much pain\n",
    "    local_path.append(source)\n",
    "    for n in G.neighbors(source):\n",
    "        \n",
    "        if n==target:\n",
    "            local_path.append(n)\n",
    "            all_paths.append(local_path)\n",
    "            local_path.pop()\n",
    "            continue\n",
    "             \n",
    "        if n == 'start':\n",
    "            continue\n",
    "                \n",
    "        if n.isupper() | (n not in local_path):\n",
    "        \n",
    "            find_all_paths(G, all_paths, n, target, local_path)\n",
    "    \n",
    "    return all_paths"
   ]
  },
  {
   "cell_type": "code",
   "execution_count": 23,
   "metadata": {},
   "outputs": [],
   "source": [
    "res = find_all_paths(G, all_paths=[], source='start', target='end',path=[])"
   ]
  },
  {
   "cell_type": "code",
   "execution_count": 24,
   "metadata": {},
   "outputs": [
    {
     "data": {
      "text/plain": [
       "19"
      ]
     },
     "execution_count": 24,
     "metadata": {},
     "output_type": "execute_result"
    }
   ],
   "source": [
    "len(res)"
   ]
  },
  {
   "cell_type": "code",
   "execution_count": 25,
   "metadata": {},
   "outputs": [
    {
     "data": {
      "text/plain": [
       "[['start', 'HN', 'dc'],\n",
       " ['start', 'HN', 'dc', 'HN'],\n",
       " ['start', 'HN', 'dc', 'HN', 'kj', 'HN'],\n",
       " ['start', 'HN', 'dc', 'kj', 'HN'],\n",
       " ['start', 'HN'],\n",
       " ['start', 'HN', 'kj', 'HN', 'dc'],\n",
       " ['start', 'HN', 'kj', 'HN', 'dc', 'HN'],\n",
       " ['start', 'HN', 'kj', 'HN'],\n",
       " ['start', 'HN', 'kj', 'dc'],\n",
       " ['start', 'HN', 'kj', 'dc', 'HN'],\n",
       " ['start', 'kj', 'HN', 'dc'],\n",
       " ['start', 'kj', 'HN', 'dc', 'HN'],\n",
       " ['start', 'kj', 'HN'],\n",
       " ['start', 'kj', 'dc'],\n",
       " ['start', 'kj', 'dc', 'HN'],\n",
       " ['start', 'dc'],\n",
       " ['start', 'dc', 'HN'],\n",
       " ['start', 'dc', 'HN', 'kj', 'HN'],\n",
       " ['start', 'dc', 'kj', 'HN']]"
      ]
     },
     "execution_count": 25,
     "metadata": {},
     "output_type": "execute_result"
    }
   ],
   "source": [
    "res"
   ]
  },
  {
   "cell_type": "markdown",
   "metadata": {},
   "source": [
    "## Part 2"
   ]
  },
  {
   "cell_type": "code",
   "execution_count": 68,
   "metadata": {},
   "outputs": [],
   "source": [
    "f = open(\"./data/input12.txt\", \"r\")\n",
    "c = f.readlines()\n",
    "c = [x.replace(\"\\n\",\"\") for x in c]"
   ]
  },
  {
   "cell_type": "code",
   "execution_count": 69,
   "metadata": {},
   "outputs": [
    {
     "data": {
      "image/png": "[encoded data removed]",
      "text/plain": [
       "<Figure size 432x288 with 1 Axes>"
      ]
     },
     "metadata": {},
     "output_type": "display_data"
    }
   ],
   "source": [
    "import networkx as nx\n",
    "G = nx.Graph()\n",
    "edges = [(x.split('-')[0],x.split('-')[1]) for x in c]\n",
    "G.add_edges_from(edges)\n",
    "nx.draw_networkx(G)"
   ]
  },
  {
   "cell_type": "code",
   "execution_count": 70,
   "metadata": {},
   "outputs": [
    {
     "data": {
      "text/plain": [
       "1"
      ]
     },
     "execution_count": 70,
     "metadata": {},
     "output_type": "execute_result"
    }
   ],
   "source": [
    "from collections import Counter\n",
    "import numpy as np"
   ]
  },
  {
   "cell_type": "code",
   "execution_count": 72,
   "metadata": {},
   "outputs": [],
   "source": [
    "all_paths = []\n",
    "\n",
    "def no_small_twice(path):\n",
    "    local_path = path.copy()\n",
    "    lower = [x for x in local_path if x.islower() and (not x in ['start','end']) ]\n",
    "    \n",
    "    if len(lower) == 0:\n",
    "        return True\n",
    "    return np.max(list(Counter(lower).values())) < 2\n",
    "\n",
    "\n",
    "def find_all_paths(G, all_paths, source, target, path=[]):\n",
    "    local_path = path.copy() # ahhhh this caused me so much pain\n",
    "    local_path.append(source)\n",
    "    \n",
    "    for n in G.neighbors(source):\n",
    "        no_small = no_small_twice(local_path)\n",
    "        \n",
    "        if n==target:\n",
    "            local_path.append(n)\n",
    "            all_paths.append(local_path)\n",
    "            local_path.pop()\n",
    "            continue\n",
    "             \n",
    "        if n == 'start':\n",
    "            continue\n",
    "                \n",
    "        if (n.isupper()) | (((n  in local_path) & (no_small==True))| (n not in local_path)):\n",
    "        \n",
    "            find_all_paths(G, all_paths, n, target, local_path)\n",
    "    \n",
    "    return all_paths"
   ]
  },
  {
   "cell_type": "code",
   "execution_count": 73,
   "metadata": {},
   "outputs": [],
   "source": [
    "res = find_all_paths(G, all_paths=[], source='start', target='end',path=[])"
   ]
  },
  {
   "cell_type": "code",
   "execution_count": 74,
   "metadata": {},
   "outputs": [
    {
     "data": {
      "text/plain": [
       "155477"
      ]
     },
     "execution_count": 74,
     "metadata": {},
     "output_type": "execute_result"
    }
   ],
   "source": [
    "len(res)"
   ]
  },
  {
   "cell_type": "markdown",
   "metadata": {},
   "source": [
    "# Day 14"
   ]
  },
  {
   "cell_type": "markdown",
   "metadata": {},
   "source": [
    "## Part 1"
   ]
  },
  {
   "cell_type": "code",
   "execution_count": null,
   "metadata": {},
   "outputs": [],
   "source": [
    "initial_template = \"NNCB\"\n",
    "import pandas as pd"
   ]
  },
  {
   "cell_type": "code",
   "execution_count": null,
   "metadata": {},
   "outputs": [],
   "source": [
    "f = open(\"./data/exmple.txt\", \"r\")\n",
    "c = f.readlines()\n",
    "c = [x.replace(\"\\n\",\"\") for x in c]"
   ]
  },
  {
   "cell_type": "code",
   "execution_count": null,
   "metadata": {},
   "outputs": [],
   "source": [
    "insertions = pd.DataFrame(c)[0].str.split('->').apply(pd.Series)\n",
    "insertions[0] = insertions[0].str.strip()\n",
    "insertions[1] = insertions[1].str.strip()\n",
    "insertion_dict = insertions.set_index(0).T.to_dict('records')[0]\n"
   ]
  },
  {
   "cell_type": "code",
   "execution_count": null,
   "metadata": {},
   "outputs": [],
   "source": [
    "def step(views, insertion_dict):\n",
    "    new_string = []\n",
    "    for view in views:\n",
    "        if view not in insertion_dict.keys():\n",
    "            new_string.append(view[0])\n",
    "        else:\n",
    "            letter = insertion_dict[view]\n",
    "            new_string.append(f\"{view[0]}{letter}\")\n",
    "    new_string.append(view[1])\n",
    "    # print(''.join(new_string))\n",
    "    return ''.join(new_string)\n"
   ]
  },
  {
   "cell_type": "code",
   "execution_count": null,
   "metadata": {},
   "outputs": [],
   "source": [
    "template = np.array(list(initial_template))\n",
    "\n",
    "for i in np.arange(10):\n",
    "    views = sliding_window_view(template,2)\n",
    "    views = [''.join(x) for x in views]\n",
    "    template = step(views, insertion_dict)\n",
    "    template = np.array(list(template))"
   ]
  },
  {
   "cell_type": "code",
   "execution_count": null,
   "metadata": {},
   "outputs": [],
   "source": [
    "pd.Series(template).value_counts()"
   ]
  },
  {
   "cell_type": "code",
   "execution_count": null,
   "metadata": {},
   "outputs": [],
   "source": [
    "5052-535"
   ]
  },
  {
   "cell_type": "markdown",
   "metadata": {},
   "source": [
    "# Part 2"
   ]
  },
  {
   "cell_type": "markdown",
   "metadata": {},
   "source": [
    "# Day 15"
   ]
  },
  {
   "cell_type": "markdown",
   "metadata": {},
   "source": [
    "## Part 1"
   ]
  },
  {
   "cell_type": "code",
   "execution_count": null,
   "metadata": {},
   "outputs": [],
   "source": [
    "f = open(\"./data/input15.txt\", \"r\")\n",
    "c = f.readlines()\n",
    "c = [x.replace(\"\\n\",\"\") for x in c]\n",
    "arr = pd.DataFrame(c)[0].apply(lambda x: list(x)).apply(pd.Series).astype(int).to_numpy()"
   ]
  },
  {
   "cell_type": "code",
   "execution_count": null,
   "metadata": {},
   "outputs": [],
   "source": [
    "nodes = []\n",
    "for i in range(arr.shape[0]):\n",
    "    for j in range(arr.shape[1]):\n",
    "        nodes.append((i,j))"
   ]
  },
  {
   "cell_type": "code",
   "execution_count": null,
   "metadata": {},
   "outputs": [],
   "source": [
    "len(nodes)"
   ]
  },
  {
   "cell_type": "code",
   "execution_count": null,
   "metadata": {},
   "outputs": [],
   "source": [
    "edges = []\n",
    "for node in nodes:\n",
    "    \n",
    "    adjacent_points = [(node[0], node[1]+1), (node[0], node[1]-1), (node[0]+1, node[1]), (node[0]-1, node[1])]\n",
    "    for point in adjacent_points:\n",
    "        if (point[0]>=0) & (point[1]>=0)& (point[1]< arr.shape[1]) & (point[0]< arr.shape[0]):\n",
    "            edges.append((node, point, arr[point[0], point[1]]))\n",
    "        \n",
    "print(len(edges))"
   ]
  },
  {
   "cell_type": "code",
   "execution_count": null,
   "metadata": {},
   "outputs": [],
   "source": [
    "import networkx as nx\n",
    "import numpy as np\n",
    "from networkx.algorithms.shortest_paths.weighted import single_source_dijkstra\n",
    "from networkx.algorithms.shortest_paths.generic import shortest_path\n",
    "from networkx.algorithms.shortest_paths.weighted import multi_source_dijkstra\n",
    "G = nx.DiGraph()\n",
    "G.add_weighted_edges_from(edges)"
   ]
  },
  {
   "cell_type": "code",
   "execution_count": null,
   "metadata": {},
   "outputs": [],
   "source": [
    "sum = 0\n",
    "shortest = multi_source_dijkstra(G, [(0,0)], (99,99), weight='weight')\n",
    "shortest[0]\n"
   ]
  },
  {
   "cell_type": "markdown",
   "metadata": {},
   "source": [
    "## Part 2"
   ]
  },
  {
   "cell_type": "code",
   "execution_count": null,
   "metadata": {},
   "outputs": [],
   "source": [
    "f = open(\"./data/input15.txt\", \"r\")\n",
    "c = f.readlines()\n",
    "c = [x.replace(\"\\n\",\"\") for x in c]\n",
    "arr = pd.DataFrame(c)[0].apply(lambda x: list(x)).apply(pd.Series).astype(int).to_numpy()"
   ]
  },
  {
   "cell_type": "markdown",
   "metadata": {},
   "source": [
    "## duplicate map"
   ]
  },
  {
   "cell_type": "code",
   "execution_count": null,
   "metadata": {},
   "outputs": [],
   "source": [
    "extended = []\n",
    "arr_tmp  = arr.copy()\n",
    "for i in range(4):\n",
    "    arr_tmp = arr_tmp+1\n",
    "    bigger = np.where(arr_tmp>9)\n",
    "    arr_tmp[bigger] = 1\n",
    "    extended.append(arr_tmp)\n",
    "    \n",
    "row1 = np.concatenate((arr, extended[0], extended[1], extended[2], extended[3]), axis=1)\n",
    "\n",
    "\n",
    "extended = []\n",
    "row_tmp  = row1.copy()\n",
    "for i in range(4):\n",
    "    row_tmp = row_tmp+1\n",
    "    bigger = np.where(row_tmp>9)\n",
    "    row_tmp[bigger] = 1\n",
    "    extended.append(row_tmp)\n",
    "\n",
    "\n",
    "full_arr  = np.concatenate((row1, extended[0], extended[1], extended[2], extended[3]), axis=0)\n",
    "print(full_arr.shape)"
   ]
  },
  {
   "cell_type": "code",
   "execution_count": null,
   "metadata": {},
   "outputs": [],
   "source": [
    "nodes = []\n",
    "for i in range(full_arr.shape[0]):\n",
    "    for j in range(full_arr.shape[1]):\n",
    "        nodes.append((i,j))\n",
    "print(len(nodes), 'nodes')\n",
    "\n",
    "\n",
    "edges = []\n",
    "for node in nodes:\n",
    "    adjacent_points = [(node[0], node[1]+1), (node[0], node[1]-1), (node[0]+1, node[1]), (node[0]-1, node[1])]\n",
    "    for point in adjacent_points:\n",
    "        if (point[0]>=0) & (point[1]>=0)& (point[1]< full_arr.shape[0]) & (point[0]< full_arr.shape[1]):\n",
    "            edges.append((node, point, full_arr[point[0], point[1]]))\n",
    "        \n",
    "print(len(edges), 'edges')"
   ]
  },
  {
   "cell_type": "code",
   "execution_count": null,
   "metadata": {},
   "outputs": [],
   "source": [
    "import networkx as nx\n",
    "import numpy as np\n",
    "from networkx.algorithms.shortest_paths.weighted import single_source_dijkstra, single_source_bellman_ford\n",
    "from networkx.algorithms.shortest_paths.generic import shortest_path\n",
    "from networkx.algorithms.shortest_paths.weighted import multi_source_dijkstra\n",
    "G = nx.DiGraph()\n",
    "G.add_weighted_edges_from(edges)"
   ]
  },
  {
   "cell_type": "code",
   "execution_count": null,
   "metadata": {},
   "outputs": [],
   "source": [
    "shortest = single_source_bellman_ford(G, (0,0), (full_arr.shape[0]-1,full_arr.shape[1]-1), weight='weight')\n",
    "shortest[0]"
   ]
  }
 ],
 "metadata": {
  "interpreter": {
   "hash": "6ecc0689792541d76a25e7b014039b88b249ed9a7602218eac2dab3ca0c68a27"
  },
  "kernelspec": {
   "display_name": "Python 3.8.5 64-bit ('nlp-task': conda)",
   "language": "python",
   "name": "python3"
  },
  "language_info": {
   "codemirror_mode": {
    "name": "ipython",
    "version": 3
   },
   "file_extension": ".py",
   "mimetype": "text/x-python",
   "name": "python",
   "nbconvert_exporter": "python",
   "pygments_lexer": "ipython3",
   "version": "3.8.5"
  },
  "orig_nbformat": 4
 },
 "nbformat": 4,
 "nbformat_minor": 2
}
