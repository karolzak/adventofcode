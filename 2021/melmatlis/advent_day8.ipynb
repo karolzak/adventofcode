{
 "cells": [
  {
   "cell_type": "markdown",
   "metadata": {},
   "source": [
    "# Day 8"
   ]
  },
  {
   "cell_type": "markdown",
   "metadata": {},
   "source": [
    "## Part 1"
   ]
  },
  {
   "cell_type": "code",
   "execution_count": 1,
   "metadata": {},
   "outputs": [],
   "source": [
    "f = open(\"./data/input8.txt\", \"r\")\n",
    "c = f.readlines()\n"
   ]
  },
  {
   "cell_type": "code",
   "execution_count": 2,
   "metadata": {},
   "outputs": [],
   "source": [
    "import pandas as pd\n",
    "df = pd.DataFrame(c)\n",
    "    "
   ]
  },
  {
   "cell_type": "code",
   "execution_count": 19,
   "metadata": {},
   "outputs": [],
   "source": [
    "tmp = df[0].str.split('|').apply(pd.Series)\n",
    "input = tmp[0]\n",
    "output = tmp[1]"
   ]
  },
  {
   "cell_type": "code",
   "execution_count": 20,
   "metadata": {},
   "outputs": [],
   "source": [
    "input = input.str.split(' ').apply(pd.Series).drop(10, axis=1)\n",
    "output = output.str.split(' ').apply(pd.Series).drop(0, axis=1)\n",
    "output[4] = output[4].str.replace('\\n','')"
   ]
  },
  {
   "cell_type": "code",
   "execution_count": 30,
   "metadata": {},
   "outputs": [],
   "source": [
    "res = []\n",
    "for col in input.columns:\n",
    "    res.append(input[col].str.len())\n",
    "lengths = pd.concat(res, axis=1)"
   ]
  },
  {
   "cell_type": "code",
   "execution_count": 31,
   "metadata": {},
   "outputs": [
    {
     "data": {
      "text/html": [
       "<div>\n",
       "<style scoped>\n",
       "    .dataframe tbody tr th:only-of-type {\n",
       "        vertical-align: middle;\n",
       "    }\n",
       "\n",
       "    .dataframe tbody tr th {\n",
       "        vertical-align: top;\n",
       "    }\n",
       "\n",
       "    .dataframe thead th {\n",
       "        text-align: right;\n",
       "    }\n",
       "</style>\n",
       "<table border=\"1\" class=\"dataframe\">\n",
       "  <thead>\n",
       "    <tr style=\"text-align: right;\">\n",
       "      <th></th>\n",
       "      <th>0</th>\n",
       "      <th>1</th>\n",
       "      <th>2</th>\n",
       "      <th>3</th>\n",
       "      <th>4</th>\n",
       "      <th>5</th>\n",
       "      <th>6</th>\n",
       "      <th>7</th>\n",
       "      <th>8</th>\n",
       "      <th>9</th>\n",
       "    </tr>\n",
       "  </thead>\n",
       "  <tbody>\n",
       "    <tr>\n",
       "      <th>0</th>\n",
       "      <td>6</td>\n",
       "      <td>6</td>\n",
       "      <td>4</td>\n",
       "      <td>5</td>\n",
       "      <td>6</td>\n",
       "      <td>2</td>\n",
       "      <td>5</td>\n",
       "      <td>5</td>\n",
       "      <td>7</td>\n",
       "      <td>3</td>\n",
       "    </tr>\n",
       "    <tr>\n",
       "      <th>1</th>\n",
       "      <td>7</td>\n",
       "      <td>3</td>\n",
       "      <td>5</td>\n",
       "      <td>6</td>\n",
       "      <td>6</td>\n",
       "      <td>6</td>\n",
       "      <td>5</td>\n",
       "      <td>5</td>\n",
       "      <td>4</td>\n",
       "      <td>2</td>\n",
       "    </tr>\n",
       "    <tr>\n",
       "      <th>2</th>\n",
       "      <td>7</td>\n",
       "      <td>4</td>\n",
       "      <td>6</td>\n",
       "      <td>3</td>\n",
       "      <td>6</td>\n",
       "      <td>5</td>\n",
       "      <td>5</td>\n",
       "      <td>5</td>\n",
       "      <td>2</td>\n",
       "      <td>6</td>\n",
       "    </tr>\n",
       "    <tr>\n",
       "      <th>3</th>\n",
       "      <td>4</td>\n",
       "      <td>6</td>\n",
       "      <td>5</td>\n",
       "      <td>6</td>\n",
       "      <td>2</td>\n",
       "      <td>7</td>\n",
       "      <td>6</td>\n",
       "      <td>5</td>\n",
       "      <td>3</td>\n",
       "      <td>5</td>\n",
       "    </tr>\n",
       "    <tr>\n",
       "      <th>4</th>\n",
       "      <td>6</td>\n",
       "      <td>5</td>\n",
       "      <td>2</td>\n",
       "      <td>5</td>\n",
       "      <td>7</td>\n",
       "      <td>6</td>\n",
       "      <td>3</td>\n",
       "      <td>6</td>\n",
       "      <td>5</td>\n",
       "      <td>4</td>\n",
       "    </tr>\n",
       "    <tr>\n",
       "      <th>...</th>\n",
       "      <td>...</td>\n",
       "      <td>...</td>\n",
       "      <td>...</td>\n",
       "      <td>...</td>\n",
       "      <td>...</td>\n",
       "      <td>...</td>\n",
       "      <td>...</td>\n",
       "      <td>...</td>\n",
       "      <td>...</td>\n",
       "      <td>...</td>\n",
       "    </tr>\n",
       "    <tr>\n",
       "      <th>195</th>\n",
       "      <td>2</td>\n",
       "      <td>6</td>\n",
       "      <td>5</td>\n",
       "      <td>7</td>\n",
       "      <td>3</td>\n",
       "      <td>6</td>\n",
       "      <td>5</td>\n",
       "      <td>6</td>\n",
       "      <td>5</td>\n",
       "      <td>4</td>\n",
       "    </tr>\n",
       "    <tr>\n",
       "      <th>196</th>\n",
       "      <td>5</td>\n",
       "      <td>4</td>\n",
       "      <td>6</td>\n",
       "      <td>6</td>\n",
       "      <td>5</td>\n",
       "      <td>7</td>\n",
       "      <td>3</td>\n",
       "      <td>6</td>\n",
       "      <td>5</td>\n",
       "      <td>2</td>\n",
       "    </tr>\n",
       "    <tr>\n",
       "      <th>197</th>\n",
       "      <td>5</td>\n",
       "      <td>3</td>\n",
       "      <td>6</td>\n",
       "      <td>6</td>\n",
       "      <td>6</td>\n",
       "      <td>4</td>\n",
       "      <td>5</td>\n",
       "      <td>5</td>\n",
       "      <td>2</td>\n",
       "      <td>7</td>\n",
       "    </tr>\n",
       "    <tr>\n",
       "      <th>198</th>\n",
       "      <td>6</td>\n",
       "      <td>5</td>\n",
       "      <td>7</td>\n",
       "      <td>6</td>\n",
       "      <td>4</td>\n",
       "      <td>3</td>\n",
       "      <td>6</td>\n",
       "      <td>2</td>\n",
       "      <td>5</td>\n",
       "      <td>5</td>\n",
       "    </tr>\n",
       "    <tr>\n",
       "      <th>199</th>\n",
       "      <td>6</td>\n",
       "      <td>4</td>\n",
       "      <td>7</td>\n",
       "      <td>5</td>\n",
       "      <td>5</td>\n",
       "      <td>2</td>\n",
       "      <td>6</td>\n",
       "      <td>6</td>\n",
       "      <td>5</td>\n",
       "      <td>3</td>\n",
       "    </tr>\n",
       "  </tbody>\n",
       "</table>\n",
       "<p>200 rows × 10 columns</p>\n",
       "</div>"
      ],
      "text/plain": [
       "     0  1  2  3  4  5  6  7  8  9\n",
       "0    6  6  4  5  6  2  5  5  7  3\n",
       "1    7  3  5  6  6  6  5  5  4  2\n",
       "2    7  4  6  3  6  5  5  5  2  6\n",
       "3    4  6  5  6  2  7  6  5  3  5\n",
       "4    6  5  2  5  7  6  3  6  5  4\n",
       "..  .. .. .. .. .. .. .. .. .. ..\n",
       "195  2  6  5  7  3  6  5  6  5  4\n",
       "196  5  4  6  6  5  7  3  6  5  2\n",
       "197  5  3  6  6  6  4  5  5  2  7\n",
       "198  6  5  7  6  4  3  6  2  5  5\n",
       "199  6  4  7  5  5  2  6  6  5  3\n",
       "\n",
       "[200 rows x 10 columns]"
      ]
     },
     "execution_count": 31,
     "metadata": {},
     "output_type": "execute_result"
    }
   ],
   "source": [
    "4 - has length 4\n",
    "1 - has length 2\n",
    "7 - has length 3\n",
    "8 - has length 7"
   ]
  },
  {
   "cell_type": "code",
   "execution_count": 51,
   "metadata": {},
   "outputs": [],
   "source": [
    "res = []\n",
    "for col in output.columns:\n",
    "    res.append(output[col].str.len())\n",
    "output_lengths = pd.concat(res, axis=1)"
   ]
  },
  {
   "cell_type": "code",
   "execution_count": 53,
   "metadata": {},
   "outputs": [
    {
     "data": {
      "text/plain": [
       "303"
      ]
     },
     "execution_count": 53,
     "metadata": {},
     "output_type": "execute_result"
    }
   ],
   "source": [
    "(output_lengths==4).sum().sum() + (output_lengths==2).sum().sum() +  (output_lengths==3).sum().sum() +  (output_lengths==7).sum().sum()"
   ]
  },
  {
   "cell_type": "markdown",
   "metadata": {},
   "source": [
    "## Part 2"
   ]
  },
  {
   "cell_type": "code",
   "execution_count": 98,
   "metadata": {},
   "outputs": [],
   "source": [
    "def get_digit(dict, str):\n",
    "   \n",
    "    if len(str) == 5:\n",
    "        if len(set(dict[1])&set(str))==2:\n",
    "            dict[3] = str\n",
    "        elif len(set(dict[4])& set(str))==3:\n",
    "            dict[5] = str\n",
    "        else:\n",
    "            dict[2]=str\n",
    "        return dict\n",
    "    elif len(str) == 6:\n",
    "        if len(set(dict[7])& set(str))==2:\n",
    "            dict[6] = str\n",
    "        elif len(set(dict[4])&set(str))==4:\n",
    "            dict[9]=str\n",
    "        else:\n",
    "            dict[0]=str\n",
    "        return dict\n",
    "    else:\n",
    "        return dict\n",
    "\n",
    "        \n",
    "        "
   ]
  },
  {
   "cell_type": "code",
   "execution_count": 106,
   "metadata": {},
   "outputs": [],
   "source": [
    "def find_digits(vv):\n",
    "    dict = {}\n",
    "    dict[1] = [x for x in vv if len(x)==2][0]\n",
    "    dict[4] = [x for x in vv if len(x)==4][0]\n",
    "    dict[7] = [x for x in vv if len(x)==3][0]\n",
    "    dict[8] = [x for x in vv if len(x)==7][0]\n",
    "\n",
    "    for v in vv:\n",
    "        digits = get_digit(dict, v)\n",
    "    return digits\n",
    "\n",
    "digit_finder = lambda x: int(''.join([str(inv_dig[''.join(sorted(y))]) for y in x]))\n"
   ]
  },
  {
   "cell_type": "code",
   "execution_count": 111,
   "metadata": {},
   "outputs": [],
   "source": [
    "import numpy as np\n",
    "final_arr = []\n",
    "for i in np.arange(input.shape[0]):\n",
    "    digits = find_digits(input.loc[i].to_list())\n",
    "    inv_dig = {''.join(sorted(v)): k for k, v in digits.items()}\n",
    "    number = digit_finder(output.loc[i].to_list())\n",
    "    final_arr.append(number)"
   ]
  },
  {
   "cell_type": "code",
   "execution_count": 110,
   "metadata": {},
   "outputs": [
    {
     "data": {
      "text/plain": [
       "961734"
      ]
     },
     "execution_count": 110,
     "metadata": {},
     "output_type": "execute_result"
    }
   ],
   "source": [
    "np.array(final_arr).sum()\n"
   ]
  },
  {
   "cell_type": "markdown",
   "metadata": {},
   "source": [
    "# Day 9"
   ]
  },
  {
   "cell_type": "markdown",
   "metadata": {},
   "source": [
    "## Part 1"
   ]
  },
  {
   "cell_type": "code",
   "execution_count": 1,
   "metadata": {},
   "outputs": [],
   "source": [
    "import pandas as pd\n",
    "import numpy as np"
   ]
  },
  {
   "cell_type": "code",
   "execution_count": 2,
   "metadata": {},
   "outputs": [],
   "source": [
    "f = open(\"./data/input9.txt\", \"r\")\n",
    "c = f.readlines()\n",
    "df = pd.DataFrame(c)\n",
    "df = df[0].apply(lambda x: list(x)).apply(pd.Series).drop(100, axis=1)\n",
    "df = df.astype(int)\n",
    "df_t = df.T\n",
    "\n"
   ]
  },
  {
   "cell_type": "code",
   "execution_count": 3,
   "metadata": {},
   "outputs": [],
   "source": [
    "a = df < df.shift(1).fillna(10)\n",
    "b = df < df.shift(-1).fillna(10)\n",
    "c = (df_t < df_t.shift(1).fillna(10)).T\n",
    "d = (df_t < df_t.shift(-1).fillna(10)).T\n"
   ]
  },
  {
   "cell_type": "code",
   "execution_count": 4,
   "metadata": {},
   "outputs": [
    {
     "data": {
      "text/plain": [
       "(276.0, 224)"
      ]
     },
     "execution_count": 4,
     "metadata": {},
     "output_type": "execute_result"
    }
   ],
   "source": [
    "df[(a==True)&(b==True)&(c==True)&(d==True)].sum().sum(), df[(a==True)&(b==True)&(c==True)&(d==True)].count().sum()\n"
   ]
  },
  {
   "cell_type": "code",
   "execution_count": 5,
   "metadata": {},
   "outputs": [
    {
     "data": {
      "text/plain": [
       "500"
      ]
     },
     "execution_count": 5,
     "metadata": {},
     "output_type": "execute_result"
    }
   ],
   "source": [
    "276+224"
   ]
  },
  {
   "cell_type": "markdown",
   "metadata": {},
   "source": [
    "## Part 2"
   ]
  },
  {
   "cell_type": "code",
   "execution_count": 6,
   "metadata": {},
   "outputs": [],
   "source": [
    "arr = df[(a==True)&(b==True)&(c==True)&(d==True)].fillna(999).to_numpy()\n",
    "low_points = np.where(arr!=999)"
   ]
  },
  {
   "cell_type": "code",
   "execution_count": 7,
   "metadata": {},
   "outputs": [],
   "source": [
    "x = low_points[0]\n",
    "y = low_points[1]\n",
    "low_points = pd.DataFrame(zip(x,y))"
   ]
  },
  {
   "cell_type": "code",
   "execution_count": 143,
   "metadata": {},
   "outputs": [
    {
     "data": {
      "text/plain": [
       "(224, 2)"
      ]
     },
     "execution_count": 143,
     "metadata": {},
     "output_type": "execute_result"
    }
   ],
   "source": [
    "low_points.shape"
   ]
  },
  {
   "cell_type": "code",
   "execution_count": 179,
   "metadata": {},
   "outputs": [],
   "source": [
    "def discover_basin(basin, df, x, y):\n",
    "    \n",
    "    # search right\n",
    "    if df.loc[x,y]==9:\n",
    "        return basin\n",
    "    \n",
    "    if not (x,y) in basin:\n",
    "        if x>0:\n",
    "            basin.append((x,y))\n",
    "            discover_basin(basin, df, x-1, y)\n",
    "        if x < df.shape[0]-1:\n",
    "            \n",
    "            basin.append((x,y))\n",
    "            discover_basin(basin, df, x+1, y)\n",
    "        if y>0:\n",
    "            \n",
    "            basin.append((x,y))\n",
    "            discover_basin(basin, df, x, y-1)\n",
    "        if y < df.shape[1]-1:\n",
    "            \n",
    "            basin.append((x,y))\n",
    "            discover_basin(basin, df, x, y+1)\n",
    "    return basin    \n",
    "    \n",
    "    "
   ]
  },
  {
   "cell_type": "code",
   "execution_count": 184,
   "metadata": {},
   "outputs": [
    {
     "name": "stdout",
     "output_type": "stream",
     "text": [
      "272 ms ± 3.53 ms per loop (mean ± std. dev. of 7 runs, 1 loop each)\n"
     ]
    }
   ],
   "source": [
    "%%timeit\n",
    "all_basins = []\n",
    "\n",
    "for _, row in low_points.iterrows():\n",
    "    basin = []\n",
    "    res = discover_basin(basin, df, row[0], row[1])\n",
    "    all_basins.append(len(list(set(res))))"
   ]
  },
  {
   "cell_type": "code",
   "execution_count": 181,
   "metadata": {},
   "outputs": [
    {
     "data": {
      "text/plain": [
       "132    100\n",
       "96      99\n",
       "41      98\n",
       "dtype: int64"
      ]
     },
     "execution_count": 181,
     "metadata": {},
     "output_type": "execute_result"
    }
   ],
   "source": [
    "pd.Series(all_basins).sort_values(ascending=False).head(3)"
   ]
  },
  {
   "cell_type": "code",
   "execution_count": 176,
   "metadata": {},
   "outputs": [
    {
     "data": {
      "text/plain": [
       "970200"
      ]
     },
     "execution_count": 176,
     "metadata": {},
     "output_type": "execute_result"
    }
   ],
   "source": [
    "100*99*98"
   ]
  },
  {
   "cell_type": "markdown",
   "metadata": {},
   "source": [
    "# Day 10 "
   ]
  },
  {
   "cell_type": "markdown",
   "metadata": {},
   "source": [
    "## Part 1"
   ]
  },
  {
   "cell_type": "code",
   "execution_count": 252,
   "metadata": {},
   "outputs": [],
   "source": [
    "f = open(\"./data/input10.txt\", \"r\")\n",
    "c = f.readlines()\n",
    "df = pd.DataFrame(c)\n",
    "df[0] = df[0].str.replace('\\n','')"
   ]
  },
  {
   "cell_type": "code",
   "execution_count": 285,
   "metadata": {},
   "outputs": [],
   "source": [
    "opening_chars = [\"(\",\"<\",\"{\",\"[\"]\n",
    "open_close_dict = {\"(\":\")\",\"{\":\"}\",\"[\":\"]\",\"<\":\">\"}\n",
    "error_points = {\")\":3,\"]\":57,\"}\":1197,\">\":25137}\n",
    "closing_points = {\")\":1,\"]\":2,\"}\":3,\">\":4}"
   ]
  },
  {
   "cell_type": "code",
   "execution_count": 267,
   "metadata": {},
   "outputs": [],
   "source": [
    "def find_first_bad_closing_only_dict_and_queus_no_pandas(sequence):\n",
    "    # print(sequence)\n",
    "    q = []\n",
    "    for char in sequence:\n",
    "        if char in opening_chars:\n",
    "            q.append(char)\n",
    "        else:\n",
    "            last  = q.pop(-1)\n",
    "            if open_close_dict[last]!=char:\n",
    "                return char\n",
    "\n",
    "            "
   ]
  },
  {
   "cell_type": "code",
   "execution_count": 268,
   "metadata": {},
   "outputs": [
    {
     "data": {
      "text/plain": [
       "392421"
      ]
     },
     "execution_count": 268,
     "metadata": {},
     "output_type": "execute_result"
    }
   ],
   "source": [
    "arr = []\n",
    "for _, row in df.iterrows():\n",
    "    row = row.values[0]\n",
    "    arr.append(find_first_bad_closing_only_dict_and_queus_no_pandas(row))\n",
    "\n",
    "mapped_arr = [error_points[x] if x is not None else 0 for x in arr ]\n",
    "np.array(mapped_arr).sum()"
   ]
  },
  {
   "cell_type": "markdown",
   "metadata": {},
   "source": [
    "## Part 2"
   ]
  },
  {
   "cell_type": "code",
   "execution_count": 277,
   "metadata": {},
   "outputs": [
    {
     "name": "stdout",
     "output_type": "stream",
     "text": [
      "55\n",
      "(55, 1)\n"
     ]
    }
   ],
   "source": [
    "incomplete = np.where(np.array(mapped_arr)==0)\n",
    "print(len(incomplete[0]))\n",
    "incomplete_df = df.loc[incomplete]\n",
    "print(incomplete_df.shape)"
   ]
  },
  {
   "cell_type": "code",
   "execution_count": 278,
   "metadata": {},
   "outputs": [],
   "source": [
    "def find_open_seqs(sequence):\n",
    "    # print(sequence)\n",
    "    q = []\n",
    "    for char in sequence:\n",
    "        if char in opening_chars:\n",
    "            q.append(char)\n",
    "        else:\n",
    "            last  = q.pop(-1)\n",
    "    return q\n",
    "\n",
    "\n",
    "def fill_in_q(q):\n",
    "    new_q = []\n",
    "    while len(q)>0:\n",
    "        open = q.pop(-1)\n",
    "        new_q.append(open_close_dict[open])\n",
    "    return new_q\n",
    "        "
   ]
  },
  {
   "cell_type": "code",
   "execution_count": 279,
   "metadata": {},
   "outputs": [],
   "source": [
    "final_result = []\n",
    "for _, row in incomplete_df.iterrows():\n",
    "    row = row.values[0]\n",
    "    open_q = find_open_seqs(row)\n",
    "    final_result.append(fill_in_q(open_q))"
   ]
  },
  {
   "cell_type": "code",
   "execution_count": 286,
   "metadata": {},
   "outputs": [],
   "source": [
    "def calculate_sequence_score(seq):\n",
    "    score = 0\n",
    "    for char in seq:\n",
    "        score = score * 5\n",
    "        score += closing_points[char]\n",
    "    return score\n",
    "    "
   ]
  },
  {
   "cell_type": "code",
   "execution_count": 287,
   "metadata": {},
   "outputs": [],
   "source": [
    "all_scores = [calculate_sequence_score(x) for x in final_result]"
   ]
  },
  {
   "cell_type": "code",
   "execution_count": 290,
   "metadata": {},
   "outputs": [
    {
     "data": {
      "text/plain": [
       "2769449099"
      ]
     },
     "execution_count": 290,
     "metadata": {},
     "output_type": "execute_result"
    }
   ],
   "source": [
    "sorted(all_scores)[27]"
   ]
  },
  {
   "cell_type": "markdown",
   "metadata": {},
   "source": [
    "# Day 11"
   ]
  },
  {
   "cell_type": "markdown",
   "metadata": {},
   "source": [
    "## Part 1"
   ]
  },
  {
   "cell_type": "code",
   "execution_count": 428,
   "metadata": {},
   "outputs": [],
   "source": [
    "f = open(\"./data/input11.txt\", \"r\")\n",
    "c = f.readlines()\n",
    "c = [x.replace(\"\\n\",\"\") for x in c]\n",
    "c = [list(x) for x in c]\n",
    "df = pd.DataFrame(c).astype(\"float64\")\n"
   ]
  },
  {
   "cell_type": "code",
   "execution_count": 430,
   "metadata": {},
   "outputs": [],
   "source": [
    "def increase_neighbors(arr , x):\n",
    "    mod_res = np.mod(x,10)\n",
    "    neighbors = [x+1, x+9, x+10, x+11, x-1, x-11, x-10, x-9]\n",
    "    # print(neighbors, '\\n')\n",
    "    legal_neighbors = [y for y in neighbors if (y>0) & (np.mod(y,10) in [mod_res, mod_res-1, mod_res+1])& (y<100)]\n",
    "    arr[legal_neighbors] +=1\n",
    "    return arr\n",
    "    "
   ]
  },
  {
   "cell_type": "code",
   "execution_count": 431,
   "metadata": {},
   "outputs": [
    {
     "name": "stdout",
     "output_type": "stream",
     "text": [
      "step 0\n",
      "step 1\n",
      "step 2\n",
      "step 3\n",
      "step 4\n",
      "step 5\n",
      "step 6\n",
      "step 7\n",
      "step 8\n",
      "step 9\n",
      "step 10\n",
      "step 11\n",
      "step 12\n",
      "step 13\n",
      "step 14\n",
      "step 15\n",
      "step 16\n",
      "step 17\n",
      "step 18\n",
      "step 19\n",
      "step 20\n",
      "step 21\n",
      "step 22\n",
      "step 23\n",
      "step 24\n",
      "step 25\n",
      "step 26\n",
      "step 27\n",
      "step 28\n",
      "step 29\n",
      "step 30\n",
      "step 31\n",
      "step 32\n",
      "step 33\n",
      "step 34\n",
      "step 35\n",
      "step 36\n",
      "step 37\n",
      "step 38\n",
      "step 39\n",
      "step 40\n",
      "step 41\n",
      "step 42\n",
      "step 43\n",
      "step 44\n",
      "step 45\n",
      "step 46\n",
      "step 47\n",
      "step 48\n",
      "step 49\n",
      "step 50\n",
      "step 51\n",
      "step 52\n",
      "step 53\n",
      "step 54\n",
      "step 55\n",
      "step 56\n",
      "step 57\n",
      "step 58\n",
      "step 59\n",
      "step 60\n",
      "step 61\n",
      "step 62\n",
      "step 63\n",
      "step 64\n",
      "step 65\n",
      "step 66\n",
      "step 67\n",
      "step 68\n",
      "step 69\n",
      "step 70\n",
      "step 71\n",
      "step 72\n",
      "step 73\n",
      "step 74\n",
      "step 75\n",
      "step 76\n",
      "step 77\n",
      "step 78\n",
      "step 79\n",
      "step 80\n",
      "step 81\n",
      "step 82\n",
      "step 83\n",
      "step 84\n",
      "step 85\n",
      "step 86\n",
      "step 87\n",
      "step 88\n",
      "step 89\n",
      "step 90\n",
      "step 91\n",
      "step 92\n",
      "step 93\n",
      "step 94\n",
      "step 95\n",
      "step 96\n",
      "step 97\n",
      "step 98\n",
      "step 99\n"
     ]
    }
   ],
   "source": [
    "arr = df.to_numpy().flatten()\n",
    "flashes = 0\n",
    "for i in np.arange(100):\n",
    "    print('step', i)\n",
    "    arr += 1\n",
    "    while len(np.where(arr>9)[0]) > 0:\n",
    "        flash_candidate = np.where(arr>9)\n",
    "        flashes += len(flash_candidate[0])\n",
    "        print(flashes)\n",
    "        for x in flash_candidate[0]:\n",
    "            arr = increase_neighbors(arr , x)\n",
    "            arr[flash_candidate[0]]= np.nan\n",
    "        arr[np.where(arr == np.nan)] = 0\n",
    "\n",
    "\n"
   ]
  },
  {
   "cell_type": "code",
   "execution_count": 432,
   "metadata": {},
   "outputs": [
    {
     "data": {
      "text/plain": [
       "100"
      ]
     },
     "execution_count": 432,
     "metadata": {},
     "output_type": "execute_result"
    }
   ],
   "source": [
    "flashes"
   ]
  },
  {
   "cell_type": "code",
   "execution_count": 337,
   "metadata": {},
   "outputs": [
    {
     "data": {
      "text/html": [
       "<div>\n",
       "<style scoped>\n",
       "    .dataframe tbody tr th:only-of-type {\n",
       "        vertical-align: middle;\n",
       "    }\n",
       "\n",
       "    .dataframe tbody tr th {\n",
       "        vertical-align: top;\n",
       "    }\n",
       "\n",
       "    .dataframe thead th {\n",
       "        text-align: right;\n",
       "    }\n",
       "</style>\n",
       "<table border=\"1\" class=\"dataframe\">\n",
       "  <thead>\n",
       "    <tr style=\"text-align: right;\">\n",
       "      <th></th>\n",
       "      <th>0</th>\n",
       "      <th>1</th>\n",
       "      <th>2</th>\n",
       "      <th>3</th>\n",
       "      <th>4</th>\n",
       "      <th>5</th>\n",
       "      <th>6</th>\n",
       "      <th>7</th>\n",
       "      <th>8</th>\n",
       "      <th>9</th>\n",
       "    </tr>\n",
       "  </thead>\n",
       "  <tbody>\n",
       "    <tr>\n",
       "      <th>0</th>\n",
       "      <td>7</td>\n",
       "      <td>3</td>\n",
       "      <td>1</td>\n",
       "      <td>3</td>\n",
       "      <td>5</td>\n",
       "      <td>1</td>\n",
       "      <td>1</td>\n",
       "      <td>5</td>\n",
       "      <td>5</td>\n",
       "      <td>1</td>\n",
       "    </tr>\n",
       "    <tr>\n",
       "      <th>1</th>\n",
       "      <td>3</td>\n",
       "      <td>7</td>\n",
       "      <td>2</td>\n",
       "      <td>4</td>\n",
       "      <td>8</td>\n",
       "      <td>5</td>\n",
       "      <td>5</td>\n",
       "      <td>8</td>\n",
       "      <td>6</td>\n",
       "      <td>7</td>\n",
       "    </tr>\n",
       "    <tr>\n",
       "      <th>2</th>\n",
       "      <td>2</td>\n",
       "      <td>3</td>\n",
       "      <td>7</td>\n",
       "      <td>4</td>\n",
       "      <td>3</td>\n",
       "      <td>3</td>\n",
       "      <td>1</td>\n",
       "      <td>5</td>\n",
       "      <td>7</td>\n",
       "      <td>1</td>\n",
       "    </tr>\n",
       "    <tr>\n",
       "      <th>3</th>\n",
       "      <td>4</td>\n",
       "      <td>4</td>\n",
       "      <td>3</td>\n",
       "      <td>8</td>\n",
       "      <td>2</td>\n",
       "      <td>1</td>\n",
       "      <td>3</td>\n",
       "      <td>4</td>\n",
       "      <td>3</td>\n",
       "      <td>7</td>\n",
       "    </tr>\n",
       "    <tr>\n",
       "      <th>4</th>\n",
       "      <td>6</td>\n",
       "      <td>5</td>\n",
       "      <td>1</td>\n",
       "      <td>1</td>\n",
       "      <td>5</td>\n",
       "      <td>6</td>\n",
       "      <td>6</td>\n",
       "      <td>2</td>\n",
       "      <td>8</td>\n",
       "      <td>7</td>\n",
       "    </tr>\n",
       "    <tr>\n",
       "      <th>5</th>\n",
       "      <td>6</td>\n",
       "      <td>7</td>\n",
       "      <td>2</td>\n",
       "      <td>7</td>\n",
       "      <td>2</td>\n",
       "      <td>4</td>\n",
       "      <td>5</td>\n",
       "      <td>5</td>\n",
       "      <td>3</td>\n",
       "      <td>2</td>\n",
       "    </tr>\n",
       "    <tr>\n",
       "      <th>6</th>\n",
       "      <td>3</td>\n",
       "      <td>7</td>\n",
       "      <td>3</td>\n",
       "      <td>6</td>\n",
       "      <td>8</td>\n",
       "      <td>6</td>\n",
       "      <td>8</td>\n",
       "      <td>6</td>\n",
       "      <td>6</td>\n",
       "      <td>2</td>\n",
       "    </tr>\n",
       "    <tr>\n",
       "      <th>7</th>\n",
       "      <td>2</td>\n",
       "      <td>3</td>\n",
       "      <td>4</td>\n",
       "      <td>8</td>\n",
       "      <td>1</td>\n",
       "      <td>3</td>\n",
       "      <td>8</td>\n",
       "      <td>2</td>\n",
       "      <td>6</td>\n",
       "      <td>3</td>\n",
       "    </tr>\n",
       "    <tr>\n",
       "      <th>8</th>\n",
       "      <td>2</td>\n",
       "      <td>4</td>\n",
       "      <td>1</td>\n",
       "      <td>7</td>\n",
       "      <td>4</td>\n",
       "      <td>8</td>\n",
       "      <td>3</td>\n",
       "      <td>1</td>\n",
       "      <td>2</td>\n",
       "      <td>1</td>\n",
       "    </tr>\n",
       "    <tr>\n",
       "      <th>9</th>\n",
       "      <td>8</td>\n",
       "      <td>8</td>\n",
       "      <td>1</td>\n",
       "      <td>2</td>\n",
       "      <td>6</td>\n",
       "      <td>1</td>\n",
       "      <td>7</td>\n",
       "      <td>1</td>\n",
       "      <td>1</td>\n",
       "      <td>2</td>\n",
       "    </tr>\n",
       "  </tbody>\n",
       "</table>\n",
       "</div>"
      ],
      "text/plain": [
       "   0  1  2  3  4  5  6  7  8  9\n",
       "0  7  3  1  3  5  1  1  5  5  1\n",
       "1  3  7  2  4  8  5  5  8  6  7\n",
       "2  2  3  7  4  3  3  1  5  7  1\n",
       "3  4  4  3  8  2  1  3  4  3  7\n",
       "4  6  5  1  1  5  6  6  2  8  7\n",
       "5  6  7  2  7  2  4  5  5  3  2\n",
       "6  3  7  3  6  8  6  8  6  6  2\n",
       "7  2  3  4  8  1  3  8  2  6  3\n",
       "8  2  4  1  7  4  8  3  1  2  1\n",
       "9  8  8  1  2  6  1  7  1  1  2"
      ]
     },
     "execution_count": 337,
     "metadata": {},
     "output_type": "execute_result"
    }
   ],
   "source": [
    "df"
   ]
  },
  {
   "cell_type": "code",
   "execution_count": 329,
   "metadata": {},
   "outputs": [
    {
     "data": {
      "text/plain": [
       "array([[[[7, 3, 1],\n",
       "         [3, 7, 2],\n",
       "         [2, 3, 7]],\n",
       "\n",
       "        [[3, 1, 3],\n",
       "         [7, 2, 4],\n",
       "         [3, 7, 4]],\n",
       "\n",
       "        [[1, 3, 5],\n",
       "         [2, 4, 8],\n",
       "         [7, 4, 3]],\n",
       "\n",
       "        [[3, 5, 1],\n",
       "         [4, 8, 5],\n",
       "         [4, 3, 3]],\n",
       "\n",
       "        [[5, 1, 1],\n",
       "         [8, 5, 5],\n",
       "         [3, 3, 1]],\n",
       "\n",
       "        [[1, 1, 5],\n",
       "         [5, 5, 8],\n",
       "         [3, 1, 5]],\n",
       "\n",
       "        [[1, 5, 5],\n",
       "         [5, 8, 6],\n",
       "         [1, 5, 7]],\n",
       "\n",
       "        [[5, 5, 1],\n",
       "         [8, 6, 7],\n",
       "         [5, 7, 1]]],\n",
       "\n",
       "\n",
       "       [[[3, 7, 2],\n",
       "         [2, 3, 7],\n",
       "         [4, 4, 3]],\n",
       "\n",
       "        [[7, 2, 4],\n",
       "         [3, 7, 4],\n",
       "         [4, 3, 8]],\n",
       "\n",
       "        [[2, 4, 8],\n",
       "         [7, 4, 3],\n",
       "         [3, 8, 2]],\n",
       "\n",
       "        [[4, 8, 5],\n",
       "         [4, 3, 3],\n",
       "         [8, 2, 1]],\n",
       "\n",
       "        [[8, 5, 5],\n",
       "         [3, 3, 1],\n",
       "         [2, 1, 3]],\n",
       "\n",
       "        [[5, 5, 8],\n",
       "         [3, 1, 5],\n",
       "         [1, 3, 4]],\n",
       "\n",
       "        [[5, 8, 6],\n",
       "         [1, 5, 7],\n",
       "         [3, 4, 3]],\n",
       "\n",
       "        [[8, 6, 7],\n",
       "         [5, 7, 1],\n",
       "         [4, 3, 7]]],\n",
       "\n",
       "\n",
       "       [[[2, 3, 7],\n",
       "         [4, 4, 3],\n",
       "         [6, 5, 1]],\n",
       "\n",
       "        [[3, 7, 4],\n",
       "         [4, 3, 8],\n",
       "         [5, 1, 1]],\n",
       "\n",
       "        [[7, 4, 3],\n",
       "         [3, 8, 2],\n",
       "         [1, 1, 5]],\n",
       "\n",
       "        [[4, 3, 3],\n",
       "         [8, 2, 1],\n",
       "         [1, 5, 6]],\n",
       "\n",
       "        [[3, 3, 1],\n",
       "         [2, 1, 3],\n",
       "         [5, 6, 6]],\n",
       "\n",
       "        [[3, 1, 5],\n",
       "         [1, 3, 4],\n",
       "         [6, 6, 2]],\n",
       "\n",
       "        [[1, 5, 7],\n",
       "         [3, 4, 3],\n",
       "         [6, 2, 8]],\n",
       "\n",
       "        [[5, 7, 1],\n",
       "         [4, 3, 7],\n",
       "         [2, 8, 7]]],\n",
       "\n",
       "\n",
       "       [[[4, 4, 3],\n",
       "         [6, 5, 1],\n",
       "         [6, 7, 2]],\n",
       "\n",
       "        [[4, 3, 8],\n",
       "         [5, 1, 1],\n",
       "         [7, 2, 7]],\n",
       "\n",
       "        [[3, 8, 2],\n",
       "         [1, 1, 5],\n",
       "         [2, 7, 2]],\n",
       "\n",
       "        [[8, 2, 1],\n",
       "         [1, 5, 6],\n",
       "         [7, 2, 4]],\n",
       "\n",
       "        [[2, 1, 3],\n",
       "         [5, 6, 6],\n",
       "         [2, 4, 5]],\n",
       "\n",
       "        [[1, 3, 4],\n",
       "         [6, 6, 2],\n",
       "         [4, 5, 5]],\n",
       "\n",
       "        [[3, 4, 3],\n",
       "         [6, 2, 8],\n",
       "         [5, 5, 3]],\n",
       "\n",
       "        [[4, 3, 7],\n",
       "         [2, 8, 7],\n",
       "         [5, 3, 2]]],\n",
       "\n",
       "\n",
       "       [[[6, 5, 1],\n",
       "         [6, 7, 2],\n",
       "         [3, 7, 3]],\n",
       "\n",
       "        [[5, 1, 1],\n",
       "         [7, 2, 7],\n",
       "         [7, 3, 6]],\n",
       "\n",
       "        [[1, 1, 5],\n",
       "         [2, 7, 2],\n",
       "         [3, 6, 8]],\n",
       "\n",
       "        [[1, 5, 6],\n",
       "         [7, 2, 4],\n",
       "         [6, 8, 6]],\n",
       "\n",
       "        [[5, 6, 6],\n",
       "         [2, 4, 5],\n",
       "         [8, 6, 8]],\n",
       "\n",
       "        [[6, 6, 2],\n",
       "         [4, 5, 5],\n",
       "         [6, 8, 6]],\n",
       "\n",
       "        [[6, 2, 8],\n",
       "         [5, 5, 3],\n",
       "         [8, 6, 6]],\n",
       "\n",
       "        [[2, 8, 7],\n",
       "         [5, 3, 2],\n",
       "         [6, 6, 2]]],\n",
       "\n",
       "\n",
       "       [[[6, 7, 2],\n",
       "         [3, 7, 3],\n",
       "         [2, 3, 4]],\n",
       "\n",
       "        [[7, 2, 7],\n",
       "         [7, 3, 6],\n",
       "         [3, 4, 8]],\n",
       "\n",
       "        [[2, 7, 2],\n",
       "         [3, 6, 8],\n",
       "         [4, 8, 1]],\n",
       "\n",
       "        [[7, 2, 4],\n",
       "         [6, 8, 6],\n",
       "         [8, 1, 3]],\n",
       "\n",
       "        [[2, 4, 5],\n",
       "         [8, 6, 8],\n",
       "         [1, 3, 8]],\n",
       "\n",
       "        [[4, 5, 5],\n",
       "         [6, 8, 6],\n",
       "         [3, 8, 2]],\n",
       "\n",
       "        [[5, 5, 3],\n",
       "         [8, 6, 6],\n",
       "         [8, 2, 6]],\n",
       "\n",
       "        [[5, 3, 2],\n",
       "         [6, 6, 2],\n",
       "         [2, 6, 3]]],\n",
       "\n",
       "\n",
       "       [[[3, 7, 3],\n",
       "         [2, 3, 4],\n",
       "         [2, 4, 1]],\n",
       "\n",
       "        [[7, 3, 6],\n",
       "         [3, 4, 8],\n",
       "         [4, 1, 7]],\n",
       "\n",
       "        [[3, 6, 8],\n",
       "         [4, 8, 1],\n",
       "         [1, 7, 4]],\n",
       "\n",
       "        [[6, 8, 6],\n",
       "         [8, 1, 3],\n",
       "         [7, 4, 8]],\n",
       "\n",
       "        [[8, 6, 8],\n",
       "         [1, 3, 8],\n",
       "         [4, 8, 3]],\n",
       "\n",
       "        [[6, 8, 6],\n",
       "         [3, 8, 2],\n",
       "         [8, 3, 1]],\n",
       "\n",
       "        [[8, 6, 6],\n",
       "         [8, 2, 6],\n",
       "         [3, 1, 2]],\n",
       "\n",
       "        [[6, 6, 2],\n",
       "         [2, 6, 3],\n",
       "         [1, 2, 1]]],\n",
       "\n",
       "\n",
       "       [[[2, 3, 4],\n",
       "         [2, 4, 1],\n",
       "         [8, 8, 1]],\n",
       "\n",
       "        [[3, 4, 8],\n",
       "         [4, 1, 7],\n",
       "         [8, 1, 2]],\n",
       "\n",
       "        [[4, 8, 1],\n",
       "         [1, 7, 4],\n",
       "         [1, 2, 6]],\n",
       "\n",
       "        [[8, 1, 3],\n",
       "         [7, 4, 8],\n",
       "         [2, 6, 1]],\n",
       "\n",
       "        [[1, 3, 8],\n",
       "         [4, 8, 3],\n",
       "         [6, 1, 7]],\n",
       "\n",
       "        [[3, 8, 2],\n",
       "         [8, 3, 1],\n",
       "         [1, 7, 1]],\n",
       "\n",
       "        [[8, 2, 6],\n",
       "         [3, 1, 2],\n",
       "         [7, 1, 1]],\n",
       "\n",
       "        [[2, 6, 3],\n",
       "         [1, 2, 1],\n",
       "         [1, 1, 2]]]])"
      ]
     },
     "execution_count": 329,
     "metadata": {},
     "output_type": "execute_result"
    }
   ],
   "source": [
    "import numpy as np\n",
    "arr = df.to_numpy()\n",
    "np.lib.stride_tricks.sliding_window_view(arr, (3,3))\n"
   ]
  },
  {
   "cell_type": "markdown",
   "metadata": {},
   "source": []
  }
 ],
 "metadata": {
  "interpreter": {
   "hash": "6ecc0689792541d76a25e7b014039b88b249ed9a7602218eac2dab3ca0c68a27"
  },
  "kernelspec": {
   "display_name": "Python 3.8.5 64-bit ('nlp-task': conda)",
   "language": "python",
   "name": "python3"
  },
  "language_info": {
   "codemirror_mode": {
    "name": "ipython",
    "version": 3
   },
   "file_extension": ".py",
   "mimetype": "text/x-python",
   "name": "python",
   "nbconvert_exporter": "python",
   "pygments_lexer": "ipython3",
   "version": "3.8.5"
  },
  "orig_nbformat": 4
 },
 "nbformat": 4,
 "nbformat_minor": 2
}
