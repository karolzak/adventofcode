{
 "cells": [
  {
   "cell_type": "markdown",
   "metadata": {},
   "source": [
    "### Navigation\n",
    "1. [Day 11](#Day-11)  \n",
    "1. [Day 12](#Day-12)  \n",
    "1. [Day 13](#Day-13)  "
   ]
  },
  {
   "cell_type": "markdown",
   "metadata": {},
   "source": [
    "# Day 11\n",
    "[[back to navigation]](#Navigation)  \n",
    "\n",
    "Task details: https://adventofcode.com/2021/day/11"
   ]
  },
  {
   "cell_type": "markdown",
   "metadata": {},
   "source": [
    "### --- Part One ---"
   ]
  },
  {
   "cell_type": "code",
   "execution_count": 1,
   "metadata": {},
   "outputs": [],
   "source": [
    "import numpy as np\n",
    "\n",
    "with open(\"data/day11-input1.txt\", 'r') as file:\n",
    "    inputs = [line.replace('\\n', '') for line in file.readlines()]\n",
    "    inputs = np.asarray([[int(c) for c in r] for r in inputs])\n",
    "    inputs = np.pad(inputs, [(1,1),(1,1)], constant_values=11)"
   ]
  },
  {
   "cell_type": "code",
   "execution_count": 2,
   "metadata": {},
   "outputs": [
    {
     "data": {
      "text/plain": [
       "array([[11, 11, 11, 11, 11, 11, 11, 11, 11, 11, 11, 11],\n",
       "       [11,  1,  2,  2,  4,  3,  4,  6,  3,  8,  4, 11],\n",
       "       [11,  5,  6,  2,  1,  1,  2,  8,  5,  8,  7, 11],\n",
       "       [11,  6,  3,  8,  8,  4,  2,  6,  5,  4,  6, 11],\n",
       "       [11,  1,  5,  5,  6,  2,  4,  7,  7,  5,  6, 11],\n",
       "       [11,  1,  4,  5,  1,  8,  1,  1,  5,  7,  3, 11],\n",
       "       [11,  1,  8,  3,  2,  3,  8,  8,  1,  2,  2, 11],\n",
       "       [11,  2,  7,  4,  8,  5,  4,  5,  6,  4,  7, 11],\n",
       "       [11,  2,  5,  8,  2,  8,  7,  7,  4,  3,  2, 11],\n",
       "       [11,  3,  1,  8,  5,  6,  4,  3,  8,  7,  1, 11],\n",
       "       [11,  2,  2,  2,  4,  8,  7,  6,  6,  2,  7, 11],\n",
       "       [11, 11, 11, 11, 11, 11, 11, 11, 11, 11, 11, 11]])"
      ]
     },
     "execution_count": 2,
     "metadata": {},
     "output_type": "execute_result"
    }
   ],
   "source": [
    "inputs"
   ]
  },
  {
   "cell_type": "code",
   "execution_count": 3,
   "metadata": {},
   "outputs": [],
   "source": [
    "def recursion(inputs, zero_points=[]):\n",
    "    # get all with power 10\n",
    "    power10 = np.where(inputs==10)\n",
    "    power10_pts = list(zip(power10[0], power10[1]))\n",
    "    # move all the 10s to 11s so that we dont count them anymore\n",
    "    for pt in power10_pts:\n",
    "        inputs[pt] += 1\n",
    "    zero_points += power10_pts\n",
    "    for r, c in power10_pts:\n",
    "        inputs[r-1:r+2, c-1:c+2] += 1\n",
    "        inputs, zero_points = recursion(inputs, zero_points)\n",
    "    return inputs, zero_points"
   ]
  },
  {
   "cell_type": "code",
   "execution_count": 4,
   "metadata": {
    "scrolled": false
   },
   "outputs": [
    {
     "name": "stdout",
     "output_type": "stream",
     "text": [
      "Answer for part one: 1591\n",
      "Answer for part two: 314\n"
     ]
    }
   ],
   "source": [
    "flash_counter = 0\n",
    "i = 0\n",
    "while(True):\n",
    "    i += 1\n",
    "    # increase power by 1\n",
    "    inputs += 1\n",
    "    inputs, zero_points = recursion(inputs, zero_points=[])\n",
    "    # increase flash counter\n",
    "    flash_counter += len(zero_points)\n",
    "    # replace flashed points with zeros\n",
    "    for pt in zero_points:\n",
    "        inputs[pt] = 0\n",
    "    if i == 100:\n",
    "        print(\"Answer for part one:\", flash_counter)\n",
    "    if len(zero_points) == 100:\n",
    "        print(\"Answer for part two:\", i)\n",
    "        break\n",
    "    "
   ]
  },
  {
   "cell_type": "markdown",
   "metadata": {},
   "source": [
    "# Day 12\n",
    "[[back to navigation]](#Navigation)  \n",
    "\n",
    "Task details: https://adventofcode.com/2021/day/12"
   ]
  },
  {
   "cell_type": "markdown",
   "metadata": {},
   "source": [
    "### --- Part One ---"
   ]
  },
  {
   "cell_type": "code",
   "execution_count": 5,
   "metadata": {},
   "outputs": [],
   "source": [
    "with open(\"data/day12-input1.txt\", 'r') as file:\n",
    "    inputs = [line.replace('\\n', '') for line in file.readlines()]"
   ]
  },
  {
   "cell_type": "code",
   "execution_count": 6,
   "metadata": {},
   "outputs": [],
   "source": [
    "from collections import Counter\n",
    "\n",
    "def add_to_graph(graph, a, b):\n",
    "    if a in graph.keys():\n",
    "        graph[a] += [b]\n",
    "    else:\n",
    "        graph[a] = [b]\n",
    "    return graph\n",
    "\n",
    "def check_revisit_possible(path):\n",
    "    path = [cave for cave in path\n",
    "            if str.islower(cave) and cave not in ['start', 'end']]\n",
    "    counts = Counter(path)\n",
    "    if sum(counts.values()) == len(counts.keys()):\n",
    "        return True\n",
    "    return False\n",
    "\n",
    "def count_paths(curr_paths, graph, paths_counter, part_two=True):\n",
    "    for curr_path in curr_paths:\n",
    "        last_position = curr_path[-1]\n",
    "        posible_moves = graph[last_position]\n",
    "        if part_two:\n",
    "            revisit = check_revisit_possible(curr_path)\n",
    "        for pos_move in posible_moves:\n",
    "            if pos_move == 'end':\n",
    "                paths_counter += 1\n",
    "            elif (str.isupper(pos_move) or pos_move not in curr_path\n",
    "                  or (part_two\n",
    "                      and pos_move != 'start'\n",
    "                      and revisit)):\n",
    "                # recursion\n",
    "                paths_counter = count_paths(\n",
    "                    [curr_path + [pos_move]], graph, paths_counter, part_two)\n",
    "    return paths_counter"
   ]
  },
  {
   "cell_type": "code",
   "execution_count": 7,
   "metadata": {},
   "outputs": [],
   "source": [
    "graph = {}\n",
    "for mapping in inputs:\n",
    "    a, b = mapping.split('-')\n",
    "    add_to_graph(graph, a, b)\n",
    "    add_to_graph(graph, b, a)"
   ]
  },
  {
   "cell_type": "code",
   "execution_count": 8,
   "metadata": {},
   "outputs": [
    {
     "name": "stdout",
     "output_type": "stream",
     "text": [
      "Wall time: 17 ms\n"
     ]
    },
    {
     "data": {
      "text/plain": [
       "3802"
      ]
     },
     "execution_count": 8,
     "metadata": {},
     "output_type": "execute_result"
    }
   ],
   "source": [
    "%%time\n",
    "all_paths = count_paths([['start']], graph, 0, False)\n",
    "all_paths"
   ]
  },
  {
   "cell_type": "markdown",
   "metadata": {},
   "source": [
    "### --- Part Two ---"
   ]
  },
  {
   "cell_type": "code",
   "execution_count": 9,
   "metadata": {},
   "outputs": [
    {
     "name": "stdout",
     "output_type": "stream",
     "text": [
      "Wall time: 1.29 s\n"
     ]
    },
    {
     "data": {
      "text/plain": [
       "99448"
      ]
     },
     "execution_count": 9,
     "metadata": {},
     "output_type": "execute_result"
    }
   ],
   "source": [
    "%%time\n",
    "all_paths = count_paths([['start']], graph, 0, True)\n",
    "all_paths"
   ]
  },
  {
   "cell_type": "markdown",
   "metadata": {},
   "source": [
    "# Day 13\n",
    "[[back to navigation]](#Navigation)  \n",
    "\n",
    "Task details: https://adventofcode.com/2021/day/13"
   ]
  },
  {
   "cell_type": "markdown",
   "metadata": {},
   "source": [
    "### --- Part One ---"
   ]
  },
  {
   "cell_type": "code",
   "execution_count": 10,
   "metadata": {},
   "outputs": [],
   "source": [
    "with open(\"data/day13-input1.txt\", 'r') as file:\n",
    "    inputs = [line.replace('\\n', '') for line in file.readlines() if line != '\\n']\n",
    "    dots = [[int(v) for v in line.split(',')] for line in inputs if ',' in line]\n",
    "    instructions = [line.split('=') for line in inputs if '=' in line]"
   ]
  },
  {
   "cell_type": "code",
   "execution_count": 11,
   "metadata": {},
   "outputs": [],
   "source": [
    "import numpy as np\n",
    "\n",
    "dots_np = np.asarray(dots)\n",
    "\n",
    "x_max = np.asarray(dots_np)[:,0].max() + 1\n",
    "y_max = np.asarray(dots_np)[:,1].max() + 1\n",
    "\n",
    "x_max = x_max + 1 if x_max % 2 == 0 else x_max\n",
    "y_max = y_max + 1 if y_max % 2 == 0 else y_max\n",
    "\n",
    "dots_paper_np = np.zeros((y_max, x_max))\n",
    "for x, y in dots_np:\n",
    "    dots_paper_np[y, x] = 1"
   ]
  },
  {
   "cell_type": "code",
   "execution_count": 12,
   "metadata": {},
   "outputs": [],
   "source": [
    "def fold_paper(paper, instr, v):\n",
    "    if 'x' in instr:\n",
    "        paper_a = paper[:,:v]\n",
    "        paper_b = np.fliplr(paper[:,v+1:])\n",
    "    elif 'y' in instr:\n",
    "        paper_a = paper[:v,:]\n",
    "        paper_b = np.flipud(paper[v+1:,:])\n",
    "    return np.logical_or(paper_a, paper_b)"
   ]
  },
  {
   "cell_type": "code",
   "execution_count": 13,
   "metadata": {},
   "outputs": [
    {
     "name": "stdout",
     "output_type": "stream",
     "text": [
      "Answer part one: 737\n"
     ]
    }
   ],
   "source": [
    "folded_paper = dots_paper_np.copy()\n",
    "for i, instr in enumerate(instructions[:]):\n",
    "    instr, v = instr\n",
    "    folded_paper = fold_paper(folded_paper, instr, int(v))\n",
    "    if i == 0:\n",
    "        print(\"Answer part one:\",folded_paper.sum())"
   ]
  },
  {
   "cell_type": "markdown",
   "metadata": {},
   "source": [
    "### --- Part Two ---"
   ]
  },
  {
   "cell_type": "code",
   "execution_count": 14,
   "metadata": {},
   "outputs": [
    {
     "name": "stdout",
     "output_type": "stream",
     "text": [
      "---Letter  1 ---\n",
      "[[1 1 1 1]\n",
      " [0 0 0 1]\n",
      " [0 0 1 0]\n",
      " [0 1 0 0]\n",
      " [1 0 0 0]\n",
      " [1 1 1 1]]\n",
      "---Letter  2 ---\n",
      "[[1 0 0 1]\n",
      " [1 0 0 1]\n",
      " [1 0 0 1]\n",
      " [1 0 0 1]\n",
      " [1 0 0 1]\n",
      " [0 1 1 0]]\n",
      "---Letter  3 ---\n",
      "[[0 0 1 1]\n",
      " [0 0 0 1]\n",
      " [0 0 0 1]\n",
      " [0 0 0 1]\n",
      " [1 0 0 1]\n",
      " [0 1 1 0]]\n",
      "---Letter  4 ---\n",
      "[[1 0 0 1]\n",
      " [1 0 0 1]\n",
      " [1 0 0 1]\n",
      " [1 0 0 1]\n",
      " [1 0 0 1]\n",
      " [0 1 1 0]]\n",
      "---Letter  5 ---\n",
      "[[0 1 1 0]\n",
      " [1 0 0 1]\n",
      " [1 0 0 1]\n",
      " [1 1 1 1]\n",
      " [1 0 0 1]\n",
      " [1 0 0 1]]\n",
      "---Letter  6 ---\n",
      "[[1 1 1 1]\n",
      " [1 0 0 0]\n",
      " [1 1 1 0]\n",
      " [1 0 0 0]\n",
      " [1 0 0 0]\n",
      " [1 0 0 0]]\n",
      "---Letter  7 ---\n",
      "[[1 0 0 1]\n",
      " [1 0 0 1]\n",
      " [1 1 1 1]\n",
      " [1 0 0 1]\n",
      " [1 0 0 1]\n",
      " [1 0 0 1]]\n",
      "---Letter  8 ---\n",
      "[[1 1 1 0]\n",
      " [1 0 0 1]\n",
      " [1 0 0 1]\n",
      " [1 1 1 0]\n",
      " [1 0 0 0]\n",
      " [1 0 0 0]]\n"
     ]
    }
   ],
   "source": [
    "for i, v in enumerate(range(4,40,5)):\n",
    "    print(\"---Letter \", i+1, \"---\")\n",
    "    print(folded_paper[:,v-4:v] * 1)"
   ]
  },
  {
   "cell_type": "code",
   "execution_count": null,
   "metadata": {},
   "outputs": [],
   "source": []
  }
 ],
 "metadata": {
  "kernelspec": {
   "display_name": "Python [conda env:kaggle]",
   "language": "python",
   "name": "conda-env-kaggle-py"
  },
  "language_info": {
   "codemirror_mode": {
    "name": "ipython",
    "version": 3
   },
   "file_extension": ".py",
   "mimetype": "text/x-python",
   "name": "python",
   "nbconvert_exporter": "python",
   "pygments_lexer": "ipython3",
   "version": "3.7.6"
  }
 },
 "nbformat": 4,
 "nbformat_minor": 4
}
