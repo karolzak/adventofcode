{
 "cells": [
  {
   "cell_type": "markdown",
   "metadata": {},
   "source": [
    "### Navigation\n",
    "1. [Day 11](#Day-11)  \n",
    "1. [Day 12](#Day-12)  \n",
    "1. [Day 13](#Day-13)  \n",
    "1. [Day 14](#Day-14)  \n",
    "1. [Day 15](#Day-15)  "
   ]
  },
  {
   "cell_type": "markdown",
   "metadata": {},
   "source": [
    "# Day 11\n",
    "[[back to navigation]](#Navigation)  \n",
    "\n",
    "Task details: https://adventofcode.com/2021/day/11"
   ]
  },
  {
   "cell_type": "markdown",
   "metadata": {},
   "source": [
    "### --- Part One ---"
   ]
  },
  {
   "cell_type": "code",
   "execution_count": 1,
   "metadata": {},
   "outputs": [],
   "source": [
    "import numpy as np\n",
    "\n",
    "with open(\"data/day11-input1.txt\", 'r') as file:\n",
    "    inputs = [line.replace('\\n', '') for line in file.readlines()]\n",
    "    inputs = np.asarray([[int(c) for c in r] for r in inputs])\n",
    "    inputs = np.pad(inputs, [(1,1),(1,1)], constant_values=11)"
   ]
  },
  {
   "cell_type": "code",
   "execution_count": 2,
   "metadata": {},
   "outputs": [
    {
     "data": {
      "text/plain": [
       "array([[11, 11, 11, 11, 11, 11, 11, 11, 11, 11, 11, 11],\n",
       "       [11,  1,  2,  2,  4,  3,  4,  6,  3,  8,  4, 11],\n",
       "       [11,  5,  6,  2,  1,  1,  2,  8,  5,  8,  7, 11],\n",
       "       [11,  6,  3,  8,  8,  4,  2,  6,  5,  4,  6, 11],\n",
       "       [11,  1,  5,  5,  6,  2,  4,  7,  7,  5,  6, 11],\n",
       "       [11,  1,  4,  5,  1,  8,  1,  1,  5,  7,  3, 11],\n",
       "       [11,  1,  8,  3,  2,  3,  8,  8,  1,  2,  2, 11],\n",
       "       [11,  2,  7,  4,  8,  5,  4,  5,  6,  4,  7, 11],\n",
       "       [11,  2,  5,  8,  2,  8,  7,  7,  4,  3,  2, 11],\n",
       "       [11,  3,  1,  8,  5,  6,  4,  3,  8,  7,  1, 11],\n",
       "       [11,  2,  2,  2,  4,  8,  7,  6,  6,  2,  7, 11],\n",
       "       [11, 11, 11, 11, 11, 11, 11, 11, 11, 11, 11, 11]])"
      ]
     },
     "execution_count": 2,
     "metadata": {},
     "output_type": "execute_result"
    }
   ],
   "source": [
    "inputs"
   ]
  },
  {
   "cell_type": "code",
   "execution_count": 3,
   "metadata": {},
   "outputs": [],
   "source": [
    "def recursion(inputs, zero_points=[]):\n",
    "    # get all with power 10\n",
    "    power10 = np.where(inputs==10)\n",
    "    power10_pts = list(zip(power10[0], power10[1]))\n",
    "    # move all the 10s to 11s so that we dont count them anymore\n",
    "    for pt in power10_pts:\n",
    "        inputs[pt] += 1\n",
    "    zero_points += power10_pts\n",
    "    for r, c in power10_pts:\n",
    "        inputs[r-1:r+2, c-1:c+2] += 1\n",
    "        inputs, zero_points = recursion(inputs, zero_points)\n",
    "    return inputs, zero_points"
   ]
  },
  {
   "cell_type": "code",
   "execution_count": 4,
   "metadata": {
    "scrolled": false
   },
   "outputs": [
    {
     "name": "stdout",
     "output_type": "stream",
     "text": [
      "Answer for part one: 1591\n",
      "Answer for part two: 314\n"
     ]
    }
   ],
   "source": [
    "flash_counter = 0\n",
    "i = 0\n",
    "while(True):\n",
    "    i += 1\n",
    "    # increase power by 1\n",
    "    inputs += 1\n",
    "    inputs, zero_points = recursion(inputs, zero_points=[])\n",
    "    # increase flash counter\n",
    "    flash_counter += len(zero_points)\n",
    "    # replace flashed points with zeros\n",
    "    for pt in zero_points:\n",
    "        inputs[pt] = 0\n",
    "    if i == 100:\n",
    "        print(\"Answer for part one:\", flash_counter)\n",
    "    if len(zero_points) == 100:\n",
    "        print(\"Answer for part two:\", i)\n",
    "        break\n",
    "    "
   ]
  },
  {
   "cell_type": "markdown",
   "metadata": {},
   "source": [
    "# Day 12\n",
    "[[back to navigation]](#Navigation)  \n",
    "\n",
    "Task details: https://adventofcode.com/2021/day/12"
   ]
  },
  {
   "cell_type": "markdown",
   "metadata": {},
   "source": [
    "### --- Part One ---"
   ]
  },
  {
   "cell_type": "code",
   "execution_count": 5,
   "metadata": {},
   "outputs": [],
   "source": [
    "with open(\"data/day12-input1.txt\", 'r') as file:\n",
    "    inputs = [line.replace('\\n', '') for line in file.readlines()]"
   ]
  },
  {
   "cell_type": "code",
   "execution_count": 6,
   "metadata": {},
   "outputs": [],
   "source": [
    "from collections import Counter\n",
    "\n",
    "def add_to_graph(graph, a, b):\n",
    "    if a in graph.keys():\n",
    "        graph[a] += [b]\n",
    "    else:\n",
    "        graph[a] = [b]\n",
    "    return graph\n",
    "\n",
    "def check_revisit_possible(path):\n",
    "    path = [cave for cave in path\n",
    "            if str.islower(cave) and cave not in ['start', 'end']]\n",
    "    counts = Counter(path)\n",
    "    if sum(counts.values()) == len(counts.keys()):\n",
    "        return True\n",
    "    return False\n",
    "\n",
    "def count_paths(curr_paths, graph, paths_counter, part_two=True):\n",
    "    for curr_path in curr_paths:\n",
    "        last_position = curr_path[-1]\n",
    "        posible_moves = graph[last_position]\n",
    "        if part_two:\n",
    "            revisit = check_revisit_possible(curr_path)\n",
    "        for pos_move in posible_moves:\n",
    "            if pos_move == 'end':\n",
    "                paths_counter += 1\n",
    "            elif (str.isupper(pos_move) or pos_move not in curr_path\n",
    "                  or (part_two\n",
    "                      and pos_move != 'start'\n",
    "                      and revisit)):\n",
    "                # recursion\n",
    "                paths_counter = count_paths(\n",
    "                    [curr_path + [pos_move]], graph, paths_counter, part_two)\n",
    "    return paths_counter"
   ]
  },
  {
   "cell_type": "code",
   "execution_count": 7,
   "metadata": {},
   "outputs": [],
   "source": [
    "graph = {}\n",
    "for mapping in inputs:\n",
    "    a, b = mapping.split('-')\n",
    "    add_to_graph(graph, a, b)\n",
    "    add_to_graph(graph, b, a)"
   ]
  },
  {
   "cell_type": "code",
   "execution_count": 8,
   "metadata": {},
   "outputs": [
    {
     "name": "stdout",
     "output_type": "stream",
     "text": [
      "Wall time: 24.9 ms\n"
     ]
    },
    {
     "data": {
      "text/plain": [
       "3802"
      ]
     },
     "execution_count": 8,
     "metadata": {},
     "output_type": "execute_result"
    }
   ],
   "source": [
    "%%time\n",
    "all_paths = count_paths([['start']], graph, 0, False)\n",
    "all_paths"
   ]
  },
  {
   "cell_type": "markdown",
   "metadata": {},
   "source": [
    "### --- Part Two ---"
   ]
  },
  {
   "cell_type": "code",
   "execution_count": 9,
   "metadata": {},
   "outputs": [
    {
     "name": "stdout",
     "output_type": "stream",
     "text": [
      "Wall time: 1.73 s\n"
     ]
    },
    {
     "data": {
      "text/plain": [
       "99448"
      ]
     },
     "execution_count": 9,
     "metadata": {},
     "output_type": "execute_result"
    }
   ],
   "source": [
    "%%time\n",
    "all_paths = count_paths([['start']], graph, 0, True)\n",
    "all_paths"
   ]
  },
  {
   "cell_type": "markdown",
   "metadata": {},
   "source": [
    "# Day 13\n",
    "[[back to navigation]](#Navigation)  \n",
    "\n",
    "Task details: https://adventofcode.com/2021/day/13"
   ]
  },
  {
   "cell_type": "markdown",
   "metadata": {},
   "source": [
    "### --- Part One ---"
   ]
  },
  {
   "cell_type": "code",
   "execution_count": 10,
   "metadata": {},
   "outputs": [],
   "source": [
    "with open(\"data/day13-input1.txt\", 'r') as file:\n",
    "    inputs = [line.replace('\\n', '') for line in file.readlines() if line != '\\n']\n",
    "    dots = [[int(v) for v in line.split(',')] for line in inputs if ',' in line]\n",
    "    instructions = [line.split('=') for line in inputs if '=' in line]"
   ]
  },
  {
   "cell_type": "code",
   "execution_count": 11,
   "metadata": {},
   "outputs": [],
   "source": [
    "import numpy as np\n",
    "\n",
    "dots_np = np.asarray(dots)\n",
    "\n",
    "x_max = np.asarray(dots_np)[:,0].max() + 1\n",
    "y_max = np.asarray(dots_np)[:,1].max() + 1\n",
    "\n",
    "x_max = x_max + 1 if x_max % 2 == 0 else x_max\n",
    "y_max = y_max + 1 if y_max % 2 == 0 else y_max\n",
    "\n",
    "dots_paper_np = np.zeros((y_max, x_max))\n",
    "for x, y in dots_np:\n",
    "    dots_paper_np[y, x] = 1"
   ]
  },
  {
   "cell_type": "code",
   "execution_count": 12,
   "metadata": {},
   "outputs": [],
   "source": [
    "def fold_paper(paper, instr, v):\n",
    "    if 'x' in instr:\n",
    "        paper_a = paper[:,:v]\n",
    "        paper_b = np.fliplr(paper[:,v+1:])\n",
    "    elif 'y' in instr:\n",
    "        paper_a = paper[:v,:]\n",
    "        paper_b = np.flipud(paper[v+1:,:])\n",
    "    return np.logical_or(paper_a, paper_b)"
   ]
  },
  {
   "cell_type": "code",
   "execution_count": 13,
   "metadata": {},
   "outputs": [
    {
     "name": "stdout",
     "output_type": "stream",
     "text": [
      "Answer part one: 737\n"
     ]
    }
   ],
   "source": [
    "folded_paper = dots_paper_np.copy()\n",
    "for i, instr in enumerate(instructions[:]):\n",
    "    instr, v = instr\n",
    "    folded_paper = fold_paper(folded_paper, instr, int(v))\n",
    "    if i == 0:\n",
    "        print(\"Answer part one:\",folded_paper.sum())"
   ]
  },
  {
   "cell_type": "markdown",
   "metadata": {},
   "source": [
    "### --- Part Two ---"
   ]
  },
  {
   "cell_type": "code",
   "execution_count": 14,
   "metadata": {},
   "outputs": [
    {
     "name": "stdout",
     "output_type": "stream",
     "text": [
      "---Letter  1 ---\n",
      "[[1 1 1 1]\n",
      " [0 0 0 1]\n",
      " [0 0 1 0]\n",
      " [0 1 0 0]\n",
      " [1 0 0 0]\n",
      " [1 1 1 1]]\n",
      "---Letter  2 ---\n",
      "[[1 0 0 1]\n",
      " [1 0 0 1]\n",
      " [1 0 0 1]\n",
      " [1 0 0 1]\n",
      " [1 0 0 1]\n",
      " [0 1 1 0]]\n",
      "---Letter  3 ---\n",
      "[[0 0 1 1]\n",
      " [0 0 0 1]\n",
      " [0 0 0 1]\n",
      " [0 0 0 1]\n",
      " [1 0 0 1]\n",
      " [0 1 1 0]]\n",
      "---Letter  4 ---\n",
      "[[1 0 0 1]\n",
      " [1 0 0 1]\n",
      " [1 0 0 1]\n",
      " [1 0 0 1]\n",
      " [1 0 0 1]\n",
      " [0 1 1 0]]\n",
      "---Letter  5 ---\n",
      "[[0 1 1 0]\n",
      " [1 0 0 1]\n",
      " [1 0 0 1]\n",
      " [1 1 1 1]\n",
      " [1 0 0 1]\n",
      " [1 0 0 1]]\n",
      "---Letter  6 ---\n",
      "[[1 1 1 1]\n",
      " [1 0 0 0]\n",
      " [1 1 1 0]\n",
      " [1 0 0 0]\n",
      " [1 0 0 0]\n",
      " [1 0 0 0]]\n",
      "---Letter  7 ---\n",
      "[[1 0 0 1]\n",
      " [1 0 0 1]\n",
      " [1 1 1 1]\n",
      " [1 0 0 1]\n",
      " [1 0 0 1]\n",
      " [1 0 0 1]]\n",
      "---Letter  8 ---\n",
      "[[1 1 1 0]\n",
      " [1 0 0 1]\n",
      " [1 0 0 1]\n",
      " [1 1 1 0]\n",
      " [1 0 0 0]\n",
      " [1 0 0 0]]\n"
     ]
    }
   ],
   "source": [
    "for i, v in enumerate(range(4,40,5)):\n",
    "    print(\"---Letter \", i+1, \"---\")\n",
    "    print(folded_paper[:,v-4:v] * 1)"
   ]
  },
  {
   "cell_type": "markdown",
   "metadata": {},
   "source": [
    "# Day 14\n",
    "[[back to navigation]](#Navigation)  \n",
    "\n",
    "Task details: https://adventofcode.com/2021/day/14"
   ]
  },
  {
   "cell_type": "markdown",
   "metadata": {},
   "source": [
    "### --- Part One ---"
   ]
  },
  {
   "cell_type": "code",
   "execution_count": 15,
   "metadata": {},
   "outputs": [],
   "source": [
    "with open(\"data/day14-input1.txt\", 'r') as file:\n",
    "    inputs_raw = file.read()\n",
    "    inputs = [line for line in inputs_raw.split('\\n') if line != '']\n",
    "    instructions = [line.replace(' ', '').split('->')\n",
    "                    for line in inputs if '>' in line]"
   ]
  },
  {
   "cell_type": "markdown",
   "metadata": {},
   "source": [
    "This is an example of template breakdown I'm trying to implement with my code\n",
    "```\n",
    "Template:     NNC\n",
    "              NN NC\n",
    "After step 1: NCN NBC\n",
    "              NC CN NB BC\n",
    "After step 2: NBC CCN NBB BBC\n",
    "              NB BC CC CN NB BB BB BC\n",
    "After step 3: NBB BBC CNC CCN NBB BNB BNB BBC\n",
    "              NB BB BB BC CN NC CC CN NB BB BN NB BN NB BB BC\n",
    "```\n",
    "At the end what I get is char pairs counter dictionary.  \n",
    "I then break down this pairs counter into final per-char counter.  \n",
    "Because of how the breakdown is made I end up with duplicate counts.  \n",
    "Only characters that are not duplicated are the edge chars from the template ('N' and 'C')"
   ]
  },
  {
   "cell_type": "code",
   "execution_count": 16,
   "metadata": {},
   "outputs": [],
   "source": [
    "def calc_rounds(rounds, template, instructions):\n",
    "    formula_mapping = dict(instructions)\n",
    "    # formula_mapping = {'FK': 'O', 'BK': 'B', 'PB': 'N', 'VS': 'P', ...}\n",
    "    pairs_counter = dict(\n",
    "        [(k, 0) for k in formula_mapping.keys()]\n",
    "    )\n",
    "    # pairs_counter = {'FK': 0, 'BK': 0, 'PB': 0, 'VS': 0, 'OF': 0, ...}\n",
    "    # slice input template chars into a set of pairs\n",
    "    for i in range(len(template)-1):\n",
    "        # and count occurances of each pair\n",
    "        pairs_counter[template[i:i+2]] += 1\n",
    "    # iterate rounds\n",
    "    for i in range(rounds):\n",
    "        counter_pairs = pairs_counter.copy().items()\n",
    "        # iterate through keys and values of pairs_counter\n",
    "        for k, v in counter_pairs:\n",
    "            # engage only if counter indicates given pair exist in current template\n",
    "            if v > 0:\n",
    "                # for given pair (k) find a char to be inserted between k[0] and k[1]\n",
    "                # ex: k == 'CN' and r == 'B'\n",
    "                r = formula_mapping[k]\n",
    "                # build new pairs and copy occurances from k pair\n",
    "                # ex: k[0] + r == 'CB'\n",
    "                #     r + k[1] == 'BN'\n",
    "                pairs_counter[k[0] + r] += v\n",
    "                pairs_counter[r + k[1]] += v\n",
    "                # since we broke this pair into new pairs\n",
    "                # decrease occurances for old pair\n",
    "                pairs_counter[k] -= v\n",
    "    # calc score\n",
    "    return calculate_score(\n",
    "        formula_mapping,\n",
    "        pairs_counter,\n",
    "        edge_chars=[template[0], template[-1]])\n",
    "\n",
    "def calculate_score(formula_mapping, pairs_counter, edge_chars):\n",
    "    # formula_mapping = {'FK': 'O', 'BK': 'B', 'PB': 'N', 'VS': 'P', ...}\n",
    "    # pairs_counter = {'FK': 43, 'BK': 799, 'PB': 163, 'VS': 1, 'OF': 161, ...}\n",
    "    final_counter = {}\n",
    "    for c in ''.join(formula_mapping.keys()):\n",
    "        final_counter[c] = 0\n",
    "    for c, v in [(c, i[1]) for i in pairs_counter.items()\n",
    "                 for c in i[0]]:\n",
    "        final_counter[c] += v\n",
    "    # final_counter = {'F': 2494, 'K': 6204, 'B': 6774, 'P': 1652, 'V': 1288, ...}\n",
    "    \n",
    "    # find characters with max and min number of values\n",
    "    max_k = max(final_counter, key=final_counter.get)\n",
    "    min_k = min(final_counter, key=final_counter.get)\n",
    "    # subtract value for min_k from max_k to create a score\n",
    "    score = final_counter[max_k] - final_counter[min_k]\n",
    "    # edge chars from the template where not duplicated\n",
    "    # so we need to add / substract them from the score respectively\n",
    "    score = score + 1 if max_k in edge_chars else score\n",
    "    score = score - 1 if min_k in edge_chars else score\n",
    "    # floor the final score if needed and return it\n",
    "    # for the final count values we need to divide each by 2\n",
    "    # because we made duplicates when breaking down original template into pairs\n",
    "    return int(score / 2)"
   ]
  },
  {
   "cell_type": "code",
   "execution_count": 17,
   "metadata": {},
   "outputs": [
    {
     "name": "stdout",
     "output_type": "stream",
     "text": [
      "Wall time: 1.06 ms\n"
     ]
    },
    {
     "data": {
      "text/plain": [
       "3306"
      ]
     },
     "execution_count": 17,
     "metadata": {},
     "output_type": "execute_result"
    }
   ],
   "source": [
    "%%time\n",
    "calc_rounds(10, inputs[0], instructions)"
   ]
  },
  {
   "cell_type": "markdown",
   "metadata": {},
   "source": [
    "### --- Part Two ---"
   ]
  },
  {
   "cell_type": "code",
   "execution_count": 18,
   "metadata": {},
   "outputs": [
    {
     "name": "stdout",
     "output_type": "stream",
     "text": [
      "Wall time: 5.5 ms\n"
     ]
    },
    {
     "data": {
      "text/plain": [
       "3760312702877"
      ]
     },
     "execution_count": 18,
     "metadata": {},
     "output_type": "execute_result"
    }
   ],
   "source": [
    "%%time\n",
    "calc_rounds(40, inputs[0], instructions)"
   ]
  },
  {
   "cell_type": "markdown",
   "metadata": {},
   "source": [
    "# Day 15\n",
    "[[back to navigation]](#Navigation)  \n",
    "\n",
    "Task details: https://adventofcode.com/2021/day/15"
   ]
  },
  {
   "cell_type": "markdown",
   "metadata": {},
   "source": [
    "### --- Part One ---"
   ]
  },
  {
   "cell_type": "code",
   "execution_count": 19,
   "metadata": {},
   "outputs": [],
   "source": [
    "inputs = \"\"\"1163751742\n",
    "1381373672\n",
    "2136511328\n",
    "3694931569\n",
    "7463417111\n",
    "1319128137\n",
    "1359912421\n",
    "3125421639\n",
    "1293138521\n",
    "2311944581\"\"\""
   ]
  },
  {
   "cell_type": "code",
   "execution_count": 20,
   "metadata": {},
   "outputs": [],
   "source": [
    "import numpy as np\n",
    "\n",
    "with open(\"data/day15-input1.txt\", 'r') as file:\n",
    "    inputs = file.read()"
   ]
  },
  {
   "cell_type": "code",
   "execution_count": 21,
   "metadata": {},
   "outputs": [],
   "source": [
    "inputs = [line for line in inputs.split('\\n')]\n",
    "inputs = np.asarray([[int(i) for i in line] for line in inputs])"
   ]
  },
  {
   "cell_type": "code",
   "execution_count": 22,
   "metadata": {},
   "outputs": [],
   "source": [
    "import numpy as np\n",
    "\n",
    "def min_risk(risk_map, r, c):\n",
    "    risk_map = np.asarray(risk_map)\n",
    "    # total risk matrix\n",
    "    tr = np.zeros_like(risk_map)\n",
    "    rang = list(range(1, r+1))\n",
    " \n",
    "    # Initialize first row of tc array\n",
    "    # because it's unaffected by adjacent cells\n",
    "    for j in rang:\n",
    "        tr[0, j] = tr[0, j-1] + risk_map[0, j]\n",
    "    # Initialize first column of total cost(tc) array\n",
    "    # because it's unaffected by adjacent cells\n",
    "    for i in rang:\n",
    "        tr[i, 0] = tr[i-1, 0] + risk_map[i, 0]\n",
    " \n",
    "    # Construct rest of the tr array\n",
    "    for i in rang:\n",
    "        for j in rang:\n",
    "            tr[i, j] = min(tr[i-1, j], tr[i, j-1]) + risk_map[i, j]\n",
    "\n",
    "    return tr[r,c]"
   ]
  },
  {
   "cell_type": "code",
   "execution_count": 23,
   "metadata": {},
   "outputs": [
    {
     "data": {
      "text/plain": [
       "390"
      ]
     },
     "execution_count": 23,
     "metadata": {},
     "output_type": "execute_result"
    }
   ],
   "source": [
    "min_risk(inputs, len(inputs)-1, len(inputs)-1)"
   ]
  },
  {
   "cell_type": "markdown",
   "metadata": {},
   "source": [
    "### --- Part Two ---"
   ]
  },
  {
   "cell_type": "code",
   "execution_count": 24,
   "metadata": {},
   "outputs": [],
   "source": [
    "# construct larger cave\n",
    "\n",
    "size = len(inputs)\n",
    "M = np.zeros((size * 5, size * 5))\n",
    "M[:size, :size] = inputs\n",
    "\n",
    "for c in range(1, 5):\n",
    "    M[:size, size*c:size*(c+1)] = M[:size, size*(c-1):size*c] + 1\n",
    "\n",
    "for c in range(0, 5):\n",
    "    for r in range(1, 5):\n",
    "        M[size*r:size*(r+1), size*c:size*(c+1)] = M[size*(r-1):size*r, size*c:size*(c+1)] + 1\n",
    "\n",
    "# np.where faster than M > 9, 4.40ms vs 6.40ms\n",
    "M = np.where(M > 9, M - 9, M)\n",
    "# mask = M > 9\n",
    "# M[mask] -= 9"
   ]
  },
  {
   "cell_type": "code",
   "execution_count": 25,
   "metadata": {},
   "outputs": [],
   "source": [
    "from queue import PriorityQueue\n",
    "from collections import defaultdict\n",
    "        \n",
    "def dijkstra(risk_map, start_vertex=(0, 0)):\n",
    "    r_max, c_max = len(risk_map), len(risk_map[0])\n",
    "    visited = set()\n",
    "    D = {}\n",
    "    D[start_vertex] = 0\n",
    "\n",
    "    pq = PriorityQueue()\n",
    "    pq.put((0, start_vertex))\n",
    "\n",
    "    while not pq.empty():\n",
    "        (dist, current_vertex) = pq.get()\n",
    "        visited.add(current_vertex)\n",
    "\n",
    "        r, c = current_vertex\n",
    "\n",
    "        neighbors = set()\n",
    "        if r > 0: neighbors.add((r-1, c))\n",
    "        if r < r_max-1: neighbors.add((r+1, c))        \n",
    "        if c > 0: neighbors.add((r, c-1))\n",
    "        if c < c_max-1: neighbors.add((r, c+1))\n",
    "\n",
    "        for neighbor in neighbors:\n",
    "            distance = risk_map[neighbor]\n",
    "            if neighbor not in visited:\n",
    "                old_cost = D[neighbor] if neighbor in D.keys() else float('inf')\n",
    "                new_cost = D[current_vertex] + distance\n",
    "                if new_cost < old_cost:\n",
    "                    pq.put((new_cost, neighbor))\n",
    "                    D[neighbor] = new_cost\n",
    "    return D"
   ]
  },
  {
   "cell_type": "code",
   "execution_count": 26,
   "metadata": {},
   "outputs": [
    {
     "name": "stdout",
     "output_type": "stream",
     "text": [
      "2814.0\n",
      "Wall time: 3.15 s\n"
     ]
    }
   ],
   "source": [
    "%%time\n",
    "\n",
    "r_max, c_max = len(M), len(M[0])\n",
    "\n",
    "D = dijkstra(M)\n",
    "print(D[(r_max-1, c_max-1)])"
   ]
  },
  {
   "cell_type": "code",
   "execution_count": null,
   "metadata": {},
   "outputs": [],
   "source": []
  }
 ],
 "metadata": {
  "kernelspec": {
   "display_name": "Python [conda env:kaggle]",
   "language": "python",
   "name": "conda-env-kaggle-py"
  },
  "language_info": {
   "codemirror_mode": {
    "name": "ipython",
    "version": 3
   },
   "file_extension": ".py",
   "mimetype": "text/x-python",
   "name": "python",
   "nbconvert_exporter": "python",
   "pygments_lexer": "ipython3",
   "version": "3.7.6"
  }
 },
 "nbformat": 4,
 "nbformat_minor": 4
}
