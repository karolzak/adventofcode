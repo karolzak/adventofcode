{
 "cells": [
  {
   "cell_type": "markdown",
   "metadata": {},
   "source": [
    "### Navigation\n",
    "1. [Day 11](#Day-11)  \n",
    "1. [Day 12](#Day-12)  \n",
    "1. [Day 13](#Day-13)  \n",
    "1. [Day 14](#Day-14)  \n",
    "1. [Day 15](#Day-15)   \n",
    "1. [Day 16](#Day-16)  \n",
    "1. [Day 17](#Day-17)  \n",
    "1. [Day 18](#Day-18)  \n",
    "1. [Day 19](#Day-19)  \n",
    "1. [Day 20](#Day-20)  "
   ]
  },
  {
   "cell_type": "markdown",
   "metadata": {},
   "source": [
    "# Day 11\n",
    "[[back to navigation]](#Navigation)  \n",
    "\n",
    "Task details: https://adventofcode.com/2021/day/11"
   ]
  },
  {
   "cell_type": "markdown",
   "metadata": {},
   "source": [
    "### --- Part One ---"
   ]
  },
  {
   "cell_type": "code",
   "execution_count": 1,
   "metadata": {},
   "outputs": [],
   "source": [
    "import numpy as np\n",
    "\n",
    "with open(\"data/day11-input1.txt\", 'r') as file:\n",
    "    inputs = [line.replace('\\n', '') for line in file.readlines()]\n",
    "    inputs = np.asarray([[int(c) for c in r] for r in inputs])\n",
    "    inputs = np.pad(inputs, [(1,1),(1,1)], constant_values=11)"
   ]
  },
  {
   "cell_type": "code",
   "execution_count": 2,
   "metadata": {},
   "outputs": [
    {
     "data": {
      "text/plain": [
       "array([[11, 11, 11, 11, 11, 11, 11, 11, 11, 11, 11, 11],\n",
       "       [11,  1,  2,  2,  4,  3,  4,  6,  3,  8,  4, 11],\n",
       "       [11,  5,  6,  2,  1,  1,  2,  8,  5,  8,  7, 11],\n",
       "       [11,  6,  3,  8,  8,  4,  2,  6,  5,  4,  6, 11],\n",
       "       [11,  1,  5,  5,  6,  2,  4,  7,  7,  5,  6, 11],\n",
       "       [11,  1,  4,  5,  1,  8,  1,  1,  5,  7,  3, 11],\n",
       "       [11,  1,  8,  3,  2,  3,  8,  8,  1,  2,  2, 11],\n",
       "       [11,  2,  7,  4,  8,  5,  4,  5,  6,  4,  7, 11],\n",
       "       [11,  2,  5,  8,  2,  8,  7,  7,  4,  3,  2, 11],\n",
       "       [11,  3,  1,  8,  5,  6,  4,  3,  8,  7,  1, 11],\n",
       "       [11,  2,  2,  2,  4,  8,  7,  6,  6,  2,  7, 11],\n",
       "       [11, 11, 11, 11, 11, 11, 11, 11, 11, 11, 11, 11]])"
      ]
     },
     "execution_count": 2,
     "metadata": {},
     "output_type": "execute_result"
    }
   ],
   "source": [
    "inputs"
   ]
  },
  {
   "cell_type": "code",
   "execution_count": 3,
   "metadata": {},
   "outputs": [],
   "source": [
    "def recursion(inputs, zero_points=[]):\n",
    "    # get all with power 10\n",
    "    power10 = np.where(inputs==10)\n",
    "    power10_pts = list(zip(power10[0], power10[1]))\n",
    "    # move all the 10s to 11s so that we dont count them anymore\n",
    "    for pt in power10_pts:\n",
    "        inputs[pt] += 1\n",
    "    zero_points += power10_pts\n",
    "    for r, c in power10_pts:\n",
    "        inputs[r-1:r+2, c-1:c+2] += 1\n",
    "        inputs, zero_points = recursion(inputs, zero_points)\n",
    "    return inputs, zero_points"
   ]
  },
  {
   "cell_type": "code",
   "execution_count": 4,
   "metadata": {
    "scrolled": false
   },
   "outputs": [
    {
     "name": "stdout",
     "output_type": "stream",
     "text": [
      "Answer for part one: 1591\n",
      "Answer for part two: 314\n"
     ]
    }
   ],
   "source": [
    "flash_counter = 0\n",
    "i = 0\n",
    "while(True):\n",
    "    i += 1\n",
    "    # increase power by 1\n",
    "    inputs += 1\n",
    "    inputs, zero_points = recursion(inputs, zero_points=[])\n",
    "    # increase flash counter\n",
    "    flash_counter += len(zero_points)\n",
    "    # replace flashed points with zeros\n",
    "    for pt in zero_points:\n",
    "        inputs[pt] = 0\n",
    "    if i == 100:\n",
    "        print(\"Answer for part one:\", flash_counter)\n",
    "    if len(zero_points) == 100:\n",
    "        print(\"Answer for part two:\", i)\n",
    "        break\n",
    "    "
   ]
  },
  {
   "cell_type": "markdown",
   "metadata": {},
   "source": [
    "# Day 12\n",
    "[[back to navigation]](#Navigation)  \n",
    "\n",
    "Task details: https://adventofcode.com/2021/day/12"
   ]
  },
  {
   "cell_type": "markdown",
   "metadata": {},
   "source": [
    "### --- Part One ---"
   ]
  },
  {
   "cell_type": "code",
   "execution_count": 5,
   "metadata": {},
   "outputs": [],
   "source": [
    "with open(\"data/day12-input1.txt\", 'r') as file:\n",
    "    inputs = [line.replace('\\n', '') for line in file.readlines()]"
   ]
  },
  {
   "cell_type": "code",
   "execution_count": 6,
   "metadata": {},
   "outputs": [],
   "source": [
    "from collections import Counter\n",
    "\n",
    "def add_to_graph(graph, a, b):\n",
    "    if a in graph.keys():\n",
    "        graph[a] += [b]\n",
    "    else:\n",
    "        graph[a] = [b]\n",
    "    return graph\n",
    "\n",
    "def check_revisit_possible(path):\n",
    "    path = [cave for cave in path\n",
    "            if str.islower(cave) and cave not in ['start', 'end']]\n",
    "    counts = Counter(path)\n",
    "    if sum(counts.values()) == len(counts.keys()):\n",
    "        return True\n",
    "    return False\n",
    "\n",
    "def count_paths(curr_paths, graph, paths_counter, part_two=True):\n",
    "    for curr_path in curr_paths:\n",
    "        last_position = curr_path[-1]\n",
    "        posible_moves = graph[last_position]\n",
    "        if part_two:\n",
    "            revisit = check_revisit_possible(curr_path)\n",
    "        for pos_move in posible_moves:\n",
    "            if pos_move == 'end':\n",
    "                paths_counter += 1\n",
    "            elif (str.isupper(pos_move) or pos_move not in curr_path\n",
    "                  or (part_two\n",
    "                      and pos_move != 'start'\n",
    "                      and revisit)):\n",
    "                # recursion\n",
    "                paths_counter = count_paths(\n",
    "                    [curr_path + [pos_move]], graph, paths_counter, part_two)\n",
    "    return paths_counter"
   ]
  },
  {
   "cell_type": "code",
   "execution_count": 7,
   "metadata": {},
   "outputs": [],
   "source": [
    "graph = {}\n",
    "for mapping in inputs:\n",
    "    a, b = mapping.split('-')\n",
    "    add_to_graph(graph, a, b)\n",
    "    add_to_graph(graph, b, a)"
   ]
  },
  {
   "cell_type": "code",
   "execution_count": 8,
   "metadata": {},
   "outputs": [
    {
     "name": "stdout",
     "output_type": "stream",
     "text": [
      "Wall time: 9.06 ms\n"
     ]
    },
    {
     "data": {
      "text/plain": [
       "3802"
      ]
     },
     "execution_count": 8,
     "metadata": {},
     "output_type": "execute_result"
    }
   ],
   "source": [
    "%%time\n",
    "all_paths = count_paths([['start']], graph, 0, False)\n",
    "all_paths"
   ]
  },
  {
   "cell_type": "markdown",
   "metadata": {},
   "source": [
    "### --- Part Two ---"
   ]
  },
  {
   "cell_type": "code",
   "execution_count": 9,
   "metadata": {},
   "outputs": [
    {
     "name": "stdout",
     "output_type": "stream",
     "text": [
      "Wall time: 1.48 s\n"
     ]
    },
    {
     "data": {
      "text/plain": [
       "99448"
      ]
     },
     "execution_count": 9,
     "metadata": {},
     "output_type": "execute_result"
    }
   ],
   "source": [
    "%%time\n",
    "all_paths = count_paths([['start']], graph, 0, True)\n",
    "all_paths"
   ]
  },
  {
   "cell_type": "markdown",
   "metadata": {},
   "source": [
    "# Day 13\n",
    "[[back to navigation]](#Navigation)  \n",
    "\n",
    "Task details: https://adventofcode.com/2021/day/13"
   ]
  },
  {
   "cell_type": "markdown",
   "metadata": {},
   "source": [
    "### --- Part One ---"
   ]
  },
  {
   "cell_type": "code",
   "execution_count": 10,
   "metadata": {},
   "outputs": [],
   "source": [
    "with open(\"data/day13-input1.txt\", 'r') as file:\n",
    "    inputs = [line.replace('\\n', '') for line in file.readlines() if line != '\\n']\n",
    "    dots = [[int(v) for v in line.split(',')] for line in inputs if ',' in line]\n",
    "    instructions = [line.split('=') for line in inputs if '=' in line]"
   ]
  },
  {
   "cell_type": "code",
   "execution_count": 11,
   "metadata": {},
   "outputs": [],
   "source": [
    "import numpy as np\n",
    "\n",
    "dots_np = np.asarray(dots)\n",
    "\n",
    "x_max = np.asarray(dots_np)[:,0].max() + 1\n",
    "y_max = np.asarray(dots_np)[:,1].max() + 1\n",
    "\n",
    "x_max = x_max + 1 if x_max % 2 == 0 else x_max\n",
    "y_max = y_max + 1 if y_max % 2 == 0 else y_max\n",
    "\n",
    "dots_paper_np = np.zeros((y_max, x_max))\n",
    "for x, y in dots_np:\n",
    "    dots_paper_np[y, x] = 1"
   ]
  },
  {
   "cell_type": "code",
   "execution_count": 12,
   "metadata": {},
   "outputs": [],
   "source": [
    "def fold_paper(paper, instr, v):\n",
    "    if 'x' in instr:\n",
    "        paper_a = paper[:,:v]\n",
    "        paper_b = np.fliplr(paper[:,v+1:])\n",
    "    elif 'y' in instr:\n",
    "        paper_a = paper[:v,:]\n",
    "        paper_b = np.flipud(paper[v+1:,:])\n",
    "    return np.logical_or(paper_a, paper_b)"
   ]
  },
  {
   "cell_type": "code",
   "execution_count": 13,
   "metadata": {},
   "outputs": [
    {
     "name": "stdout",
     "output_type": "stream",
     "text": [
      "Answer part one: 737\n"
     ]
    }
   ],
   "source": [
    "folded_paper = dots_paper_np.copy()\n",
    "for i, instr in enumerate(instructions[:]):\n",
    "    instr, v = instr\n",
    "    folded_paper = fold_paper(folded_paper, instr, int(v))\n",
    "    if i == 0:\n",
    "        print(\"Answer part one:\",folded_paper.sum())"
   ]
  },
  {
   "cell_type": "markdown",
   "metadata": {},
   "source": [
    "### --- Part Two ---"
   ]
  },
  {
   "cell_type": "code",
   "execution_count": 14,
   "metadata": {},
   "outputs": [
    {
     "name": "stdout",
     "output_type": "stream",
     "text": [
      "---Letter  1 ---\n",
      "[[1 1 1 1]\n",
      " [0 0 0 1]\n",
      " [0 0 1 0]\n",
      " [0 1 0 0]\n",
      " [1 0 0 0]\n",
      " [1 1 1 1]]\n",
      "---Letter  2 ---\n",
      "[[1 0 0 1]\n",
      " [1 0 0 1]\n",
      " [1 0 0 1]\n",
      " [1 0 0 1]\n",
      " [1 0 0 1]\n",
      " [0 1 1 0]]\n",
      "---Letter  3 ---\n",
      "[[0 0 1 1]\n",
      " [0 0 0 1]\n",
      " [0 0 0 1]\n",
      " [0 0 0 1]\n",
      " [1 0 0 1]\n",
      " [0 1 1 0]]\n",
      "---Letter  4 ---\n",
      "[[1 0 0 1]\n",
      " [1 0 0 1]\n",
      " [1 0 0 1]\n",
      " [1 0 0 1]\n",
      " [1 0 0 1]\n",
      " [0 1 1 0]]\n",
      "---Letter  5 ---\n",
      "[[0 1 1 0]\n",
      " [1 0 0 1]\n",
      " [1 0 0 1]\n",
      " [1 1 1 1]\n",
      " [1 0 0 1]\n",
      " [1 0 0 1]]\n",
      "---Letter  6 ---\n",
      "[[1 1 1 1]\n",
      " [1 0 0 0]\n",
      " [1 1 1 0]\n",
      " [1 0 0 0]\n",
      " [1 0 0 0]\n",
      " [1 0 0 0]]\n",
      "---Letter  7 ---\n",
      "[[1 0 0 1]\n",
      " [1 0 0 1]\n",
      " [1 1 1 1]\n",
      " [1 0 0 1]\n",
      " [1 0 0 1]\n",
      " [1 0 0 1]]\n",
      "---Letter  8 ---\n",
      "[[1 1 1 0]\n",
      " [1 0 0 1]\n",
      " [1 0 0 1]\n",
      " [1 1 1 0]\n",
      " [1 0 0 0]\n",
      " [1 0 0 0]]\n"
     ]
    }
   ],
   "source": [
    "for i, v in enumerate(range(4,40,5)):\n",
    "    print(\"---Letter \", i+1, \"---\")\n",
    "    print(folded_paper[:,v-4:v] * 1)"
   ]
  },
  {
   "cell_type": "markdown",
   "metadata": {},
   "source": [
    "# Day 14\n",
    "[[back to navigation]](#Navigation)  \n",
    "\n",
    "Task details: https://adventofcode.com/2021/day/14"
   ]
  },
  {
   "cell_type": "markdown",
   "metadata": {},
   "source": [
    "### --- Part One ---"
   ]
  },
  {
   "cell_type": "code",
   "execution_count": 15,
   "metadata": {},
   "outputs": [],
   "source": [
    "with open(\"data/day14-input1.txt\", 'r') as file:\n",
    "    inputs_raw = file.read()\n",
    "    inputs = [line for line in inputs_raw.split('\\n') if line != '']\n",
    "    instructions = [line.replace(' ', '').split('->')\n",
    "                    for line in inputs if '>' in line]"
   ]
  },
  {
   "cell_type": "markdown",
   "metadata": {},
   "source": [
    "This is an example of template breakdown I'm trying to implement with my code\n",
    "```\n",
    "Template:     NNC\n",
    "              NN NC\n",
    "After step 1: NCN NBC\n",
    "              NC CN NB BC\n",
    "After step 2: NBC CCN NBB BBC\n",
    "              NB BC CC CN NB BB BB BC\n",
    "After step 3: NBB BBC CNC CCN NBB BNB BNB BBC\n",
    "              NB BB BB BC CN NC CC CN NB BB BN NB BN NB BB BC\n",
    "```\n",
    "At the end what I get is char pairs counter dictionary.  \n",
    "I then break down this pairs counter into final per-char counter.  \n",
    "Because of how the breakdown is made I end up with duplicate counts.  \n",
    "Only characters that are not duplicated are the edge chars from the template ('N' and 'C')"
   ]
  },
  {
   "cell_type": "code",
   "execution_count": 16,
   "metadata": {},
   "outputs": [],
   "source": [
    "def calc_rounds(rounds, template, instructions):\n",
    "    formula_mapping = dict(instructions)\n",
    "    # formula_mapping = {'FK': 'O', 'BK': 'B', 'PB': 'N', 'VS': 'P', ...}\n",
    "    pairs_counter = dict(\n",
    "        [(k, 0) for k in formula_mapping.keys()]\n",
    "    )\n",
    "    # pairs_counter = {'FK': 0, 'BK': 0, 'PB': 0, 'VS': 0, 'OF': 0, ...}\n",
    "    # slice input template chars into a set of pairs\n",
    "    for i in range(len(template)-1):\n",
    "        # and count occurances of each pair\n",
    "        pairs_counter[template[i:i+2]] += 1\n",
    "    # iterate rounds\n",
    "    for i in range(rounds):\n",
    "        counter_pairs = pairs_counter.copy().items()\n",
    "        # iterate through keys and values of pairs_counter\n",
    "        for k, v in counter_pairs:\n",
    "            # engage only if counter indicates given pair exist in current template\n",
    "            if v > 0:\n",
    "                # for given pair (k) find a char to be inserted between k[0] and k[1]\n",
    "                # ex: k == 'CN' and r == 'B'\n",
    "                r = formula_mapping[k]\n",
    "                # build new pairs and copy occurances from k pair\n",
    "                # ex: k[0] + r == 'CB'\n",
    "                #     r + k[1] == 'BN'\n",
    "                pairs_counter[k[0] + r] += v\n",
    "                pairs_counter[r + k[1]] += v\n",
    "                # since we broke this pair into new pairs\n",
    "                # decrease occurances for old pair\n",
    "                pairs_counter[k] -= v\n",
    "    # calc score\n",
    "    return calculate_score(\n",
    "        formula_mapping,\n",
    "        pairs_counter,\n",
    "        edge_chars=[template[0], template[-1]])\n",
    "\n",
    "def calculate_score(formula_mapping, pairs_counter, edge_chars):\n",
    "    # formula_mapping = {'FK': 'O', 'BK': 'B', 'PB': 'N', 'VS': 'P', ...}\n",
    "    # pairs_counter = {'FK': 43, 'BK': 799, 'PB': 163, 'VS': 1, 'OF': 161, ...}\n",
    "    final_counter = {}\n",
    "    for c in ''.join(formula_mapping.keys()):\n",
    "        final_counter[c] = 0\n",
    "    for c, v in [(c, i[1]) for i in pairs_counter.items()\n",
    "                 for c in i[0]]:\n",
    "        final_counter[c] += v\n",
    "    # final_counter = {'F': 2494, 'K': 6204, 'B': 6774, 'P': 1652, 'V': 1288, ...}\n",
    "    \n",
    "    # find characters with max and min number of values\n",
    "    max_k = max(final_counter, key=final_counter.get)\n",
    "    min_k = min(final_counter, key=final_counter.get)\n",
    "    # subtract value for min_k from max_k to create a score\n",
    "    score = final_counter[max_k] - final_counter[min_k]\n",
    "    # edge chars from the template where not duplicated\n",
    "    # so we need to add / substract them from the score respectively\n",
    "    score = score + 1 if max_k in edge_chars else score\n",
    "    score = score - 1 if min_k in edge_chars else score\n",
    "    # floor the final score if needed and return it\n",
    "    # for the final count values we need to divide each by 2\n",
    "    # because we made duplicates when breaking down original template into pairs\n",
    "    return int(score / 2)"
   ]
  },
  {
   "cell_type": "code",
   "execution_count": 17,
   "metadata": {},
   "outputs": [
    {
     "name": "stdout",
     "output_type": "stream",
     "text": [
      "Wall time: 998 µs\n"
     ]
    },
    {
     "data": {
      "text/plain": [
       "3306"
      ]
     },
     "execution_count": 17,
     "metadata": {},
     "output_type": "execute_result"
    }
   ],
   "source": [
    "%%time\n",
    "calc_rounds(10, inputs[0], instructions)"
   ]
  },
  {
   "cell_type": "markdown",
   "metadata": {},
   "source": [
    "### --- Part Two ---"
   ]
  },
  {
   "cell_type": "code",
   "execution_count": 18,
   "metadata": {},
   "outputs": [
    {
     "name": "stdout",
     "output_type": "stream",
     "text": [
      "Wall time: 1.99 ms\n"
     ]
    },
    {
     "data": {
      "text/plain": [
       "3760312702877"
      ]
     },
     "execution_count": 18,
     "metadata": {},
     "output_type": "execute_result"
    }
   ],
   "source": [
    "%%time\n",
    "calc_rounds(40, inputs[0], instructions)"
   ]
  },
  {
   "cell_type": "markdown",
   "metadata": {},
   "source": [
    "# Day 15\n",
    "[[back to navigation]](#Navigation)  \n",
    "\n",
    "Task details: https://adventofcode.com/2021/day/15"
   ]
  },
  {
   "cell_type": "markdown",
   "metadata": {},
   "source": [
    "### --- Part One ---"
   ]
  },
  {
   "cell_type": "code",
   "execution_count": 19,
   "metadata": {},
   "outputs": [],
   "source": [
    "inputs = \"\"\"1163751742\n",
    "1381373672\n",
    "2136511328\n",
    "3694931569\n",
    "7463417111\n",
    "1319128137\n",
    "1359912421\n",
    "3125421639\n",
    "1293138521\n",
    "2311944581\"\"\""
   ]
  },
  {
   "cell_type": "code",
   "execution_count": 20,
   "metadata": {},
   "outputs": [],
   "source": [
    "import numpy as np\n",
    "\n",
    "with open(\"data/day15-input1.txt\", 'r') as file:\n",
    "    inputs = file.read()"
   ]
  },
  {
   "cell_type": "code",
   "execution_count": 21,
   "metadata": {},
   "outputs": [],
   "source": [
    "inputs = [line for line in inputs.split('\\n')]\n",
    "inputs = np.asarray([[int(i) for i in line] for line in inputs])"
   ]
  },
  {
   "cell_type": "code",
   "execution_count": 22,
   "metadata": {},
   "outputs": [],
   "source": [
    "import numpy as np\n",
    "\n",
    "def min_risk(risk_map, r, c):\n",
    "    risk_map = np.asarray(risk_map)\n",
    "    # total risk matrix\n",
    "    tr = np.zeros_like(risk_map)\n",
    "    rang = list(range(1, r+1))\n",
    " \n",
    "    # Initialize first row of tc array\n",
    "    # because it's unaffected by adjacent cells\n",
    "    for j in rang:\n",
    "        tr[0, j] = tr[0, j-1] + risk_map[0, j]\n",
    "    # Initialize first column of total cost(tc) array\n",
    "    # because it's unaffected by adjacent cells\n",
    "    for i in rang:\n",
    "        tr[i, 0] = tr[i-1, 0] + risk_map[i, 0]\n",
    " \n",
    "    # Construct rest of the tr array\n",
    "    for i in rang:\n",
    "        for j in rang:\n",
    "            tr[i, j] = min(tr[i-1, j], tr[i, j-1]) + risk_map[i, j]\n",
    "\n",
    "    return tr[r,c]"
   ]
  },
  {
   "cell_type": "code",
   "execution_count": 23,
   "metadata": {},
   "outputs": [
    {
     "data": {
      "text/plain": [
       "390"
      ]
     },
     "execution_count": 23,
     "metadata": {},
     "output_type": "execute_result"
    }
   ],
   "source": [
    "min_risk(inputs, len(inputs)-1, len(inputs)-1)"
   ]
  },
  {
   "cell_type": "markdown",
   "metadata": {},
   "source": [
    "### --- Part Two ---"
   ]
  },
  {
   "cell_type": "code",
   "execution_count": 24,
   "metadata": {},
   "outputs": [],
   "source": [
    "# construct larger cave\n",
    "\n",
    "size = len(inputs)\n",
    "M = np.zeros((size * 5, size * 5))\n",
    "M[:size, :size] = inputs\n",
    "\n",
    "for c in range(1, 5):\n",
    "    M[:size, size*c:size*(c+1)] = M[:size, size*(c-1):size*c] + 1\n",
    "\n",
    "for c in range(0, 5):\n",
    "    for r in range(1, 5):\n",
    "        M[size*r:size*(r+1), size*c:size*(c+1)] = M[size*(r-1):size*r, size*c:size*(c+1)] + 1\n",
    "\n",
    "# np.where faster than M > 9, 4.40ms vs 6.40ms\n",
    "M = np.where(M > 9, M - 9, M)\n",
    "# mask = M > 9\n",
    "# M[mask] -= 9"
   ]
  },
  {
   "cell_type": "code",
   "execution_count": 25,
   "metadata": {},
   "outputs": [],
   "source": [
    "from queue import PriorityQueue\n",
    "from collections import defaultdict\n",
    "        \n",
    "def dijkstra(risk_map, start_vertex=(0, 0)):\n",
    "    r_max, c_max = len(risk_map), len(risk_map[0])\n",
    "    visited = set()\n",
    "    D = {}\n",
    "    D[start_vertex] = 0\n",
    "\n",
    "    pq = PriorityQueue()\n",
    "    pq.put((0, start_vertex))\n",
    "\n",
    "    while not pq.empty():\n",
    "        (dist, current_vertex) = pq.get()\n",
    "        visited.add(current_vertex)\n",
    "\n",
    "        r, c = current_vertex\n",
    "\n",
    "        neighbors = set()\n",
    "        if r > 0: neighbors.add((r-1, c))\n",
    "        if r < r_max-1: neighbors.add((r+1, c))        \n",
    "        if c > 0: neighbors.add((r, c-1))\n",
    "        if c < c_max-1: neighbors.add((r, c+1))\n",
    "\n",
    "        for neighbor in neighbors:\n",
    "            distance = risk_map[neighbor]\n",
    "            if neighbor not in visited:\n",
    "                old_cost = D[neighbor] if neighbor in D.keys() else float('inf')\n",
    "                new_cost = D[current_vertex] + distance\n",
    "                if new_cost < old_cost:\n",
    "                    pq.put((new_cost, neighbor))\n",
    "                    D[neighbor] = new_cost\n",
    "    return D"
   ]
  },
  {
   "cell_type": "code",
   "execution_count": 26,
   "metadata": {},
   "outputs": [
    {
     "name": "stdout",
     "output_type": "stream",
     "text": [
      "2814.0\n",
      "Wall time: 2.59 s\n"
     ]
    }
   ],
   "source": [
    "%%time\n",
    "\n",
    "r_max, c_max = len(M), len(M[0])\n",
    "\n",
    "D = dijkstra(M)\n",
    "print(D[(r_max-1, c_max-1)])"
   ]
  },
  {
   "cell_type": "markdown",
   "metadata": {},
   "source": [
    "# Day 16\n",
    "[[back to navigation]](#Navigation)  \n",
    "\n",
    "Task details: https://adventofcode.com/2021/day/16"
   ]
  },
  {
   "cell_type": "code",
   "execution_count": 27,
   "metadata": {},
   "outputs": [],
   "source": [
    "import numpy as np\n",
    "\n",
    "with open(\"data/day16-input.txt\", 'r') as file:\n",
    "    inputs = file.read()"
   ]
  },
  {
   "cell_type": "code",
   "execution_count": 28,
   "metadata": {},
   "outputs": [],
   "source": [
    "from functools import reduce\n",
    "\n",
    "packets_dict = {\n",
    "    0: sum,\n",
    "    1: lambda l: reduce((lambda x, y: x * y), l),\n",
    "    2: min,\n",
    "    3: max,\n",
    "    5: lambda l: 1 if l[0] > l[1] else 0,\n",
    "    6: lambda l: 1 if l[0] < l[1] else 0,\n",
    "    7: lambda l: 1 if l[0] == l[1] else 0\n",
    "}\n",
    "\n",
    "def hex_to_bin(hex_string):\n",
    "    return ''.join(\n",
    "        [bin(int(h, 16))[2:].zfill(4) for h in hex_string]\n",
    "    )\n",
    "\n",
    "def get_v_and_pid(bits, idx):\n",
    "    # get packet version, bin->int\n",
    "    v = int(bits[idx:idx+3], 2)\n",
    "    # packet id, bin->int\n",
    "    pid = int(bits[idx+3:idx+6], 2)\n",
    "    idx += 6\n",
    "    return idx, v, pid"
   ]
  },
  {
   "cell_type": "code",
   "execution_count": 29,
   "metadata": {},
   "outputs": [],
   "source": [
    "def decode_packet(\n",
    "        bits, idx, \n",
    "        versions_list,\n",
    "        subpackets_num = None):\n",
    "    values_list = []\n",
    "\n",
    "    while True:\n",
    "        if idx >= len(bits):\n",
    "            break\n",
    "        if len(bits[idx:]) < 11:\n",
    "            break\n",
    "        if subpackets_num is not None and subpackets_num == 0:\n",
    "            break\n",
    "        \n",
    "        idx, v, pid = get_v_and_pid(bits, idx)\n",
    "        versions_list.append(v)\n",
    "        if pid == 4:\n",
    "            num = ''\n",
    "            while True:\n",
    "                temp_num = bits[idx:idx+5]\n",
    "                num += temp_num[1:]\n",
    "                idx += 5\n",
    "                if temp_num[0] == '0':\n",
    "                    break\n",
    "            num = int(num, 2)\n",
    "            values_list.append(num)\n",
    "        else:\n",
    "            if bits[idx] == '0':\n",
    "                subpackets_length = int(bits[idx+1:idx+1+15], 2)\n",
    "                idx += 1 + 15\n",
    "                _, versions_list, values_list_temp = decode_packet(\n",
    "                    bits[idx: idx + subpackets_length], 0, versions_list)\n",
    "                idx += subpackets_length\n",
    "            elif bits[idx] == '1':\n",
    "                subpackets_num_temp = int(bits[idx+1:idx+1+11], 2)\n",
    "                idx += 1 + 11\n",
    "                idx, versions_list, values_list_temp = decode_packet(\n",
    "                    bits, idx, versions_list, subpackets_num_temp)\n",
    "            values_list.append(packets_dict[pid](values_list_temp))\n",
    "            \n",
    "        subpackets_num = subpackets_num - 1 if subpackets_num is not None else None\n",
    "\n",
    "    return idx, versions_list, values_list"
   ]
  },
  {
   "cell_type": "code",
   "execution_count": 30,
   "metadata": {},
   "outputs": [],
   "source": [
    "bits = hex_to_bin(inputs)\n",
    "_, versions, values_list = decode_packet(bits, 0, [])"
   ]
  },
  {
   "cell_type": "code",
   "execution_count": 31,
   "metadata": {},
   "outputs": [
    {
     "name": "stdout",
     "output_type": "stream",
     "text": [
      "Part 1 answer: 963\n",
      "Part 2 answer: 1549026292886\n"
     ]
    }
   ],
   "source": [
    "print(\"Part 1 answer:\", sum(versions))\n",
    "print(\"Part 2 answer:\", values_list[0])"
   ]
  },
  {
   "cell_type": "markdown",
   "metadata": {},
   "source": [
    "# Day 17\n",
    "[[back to navigation]](#Navigation)  \n",
    "\n",
    "Task details: https://adventofcode.com/2021/day/17"
   ]
  },
  {
   "cell_type": "markdown",
   "metadata": {},
   "source": [
    "### --- Part One ---"
   ]
  },
  {
   "cell_type": "code",
   "execution_count": 32,
   "metadata": {},
   "outputs": [],
   "source": [
    "inputs = \"target area: x=20..30, y=-10..-5\""
   ]
  },
  {
   "cell_type": "code",
   "execution_count": 33,
   "metadata": {},
   "outputs": [],
   "source": [
    "import numpy as np\n",
    "\n",
    "with open(\"data/day17-input1.txt\", 'r') as file:\n",
    "    inputs = file.read()"
   ]
  },
  {
   "cell_type": "code",
   "execution_count": 34,
   "metadata": {
    "scrolled": true
   },
   "outputs": [
    {
     "name": "stdout",
     "output_type": "stream",
     "text": [
      "['x=209..238', 'y=-86..-59']\n"
     ]
    }
   ],
   "source": [
    "targets = inputs.replace(' ', '').split(':')[1].split(',')\n",
    "print(targets)\n",
    "targets = [[int(v) for v in target.split('=')[1].split('..')] for target in targets]"
   ]
  },
  {
   "cell_type": "code",
   "execution_count": 35,
   "metadata": {},
   "outputs": [
    {
     "name": "stdout",
     "output_type": "stream",
     "text": [
      "X target: [209, 210, 211, 212, 213, 214, 215, 216, 217, 218, 219, 220, 221, 222, 223, 224, 225, 226, 227, 228, 229, 230, 231, 232, 233, 234, 235, 236, 237, 238]\n",
      "Y target: [-59, -60, -61, -62, -63, -64, -65, -66, -67, -68, -69, -70, -71, -72, -73, -74, -75, -76, -77, -78, -79, -80, -81, -82, -83, -84, -85, -86]\n"
     ]
    }
   ],
   "source": [
    "x_target_range = list(range(targets[0][0], targets[0][1] + 1))\n",
    "y_target_range = list(range(targets[1][0], targets[1][1] + 1))\n",
    "y_target_range.reverse()\n",
    "print(\"X target:\", x_target_range)\n",
    "print(\"Y target:\", y_target_range)\n",
    "x_target_min, x_target_max = x_target_range[0], x_target_range[-1]\n",
    "y_target_min, y_target_max = y_target_range[0], y_target_range[-1]"
   ]
  },
  {
   "cell_type": "code",
   "execution_count": 36,
   "metadata": {},
   "outputs": [],
   "source": [
    "def step(s, v, y_high=0):\n",
    "    s = [sum(x) for x in zip(s, v)]\n",
    "    v[1] -= 1\n",
    "    if v[1] == 0:\n",
    "        y_high = s[1]\n",
    "\n",
    "    if v[0] > 0:\n",
    "        v[0] -= 1\n",
    "    elif v[0] < 0:\n",
    "        v[0] += 1\n",
    "    \n",
    "    if s[0] in x_target_range and s[1] in y_target_range:\n",
    "        return True, y_high\n",
    "    if s[0] > x_target_max or s[1] < y_target_max:\n",
    "        return False, 0\n",
    "    \n",
    "    return step(s, v, y_high)"
   ]
  },
  {
   "cell_type": "code",
   "execution_count": 37,
   "metadata": {},
   "outputs": [],
   "source": [
    "y_high_max = 0\n",
    "v_list = set()\n",
    "\n",
    "for vx in range(0, x_target_max + 1):\n",
    "    for vy in range(y_target_max, 90):\n",
    "        on_target, y_high = step((0,0), [vx, vy])\n",
    "        if on_target:\n",
    "            v_list.add((vx, vy))\n",
    "            if y_high > y_high_max:\n",
    "                y_high_max = y_high"
   ]
  },
  {
   "cell_type": "code",
   "execution_count": 38,
   "metadata": {},
   "outputs": [
    {
     "data": {
      "text/plain": [
       "3655"
      ]
     },
     "execution_count": 38,
     "metadata": {},
     "output_type": "execute_result"
    }
   ],
   "source": [
    "y_high_max"
   ]
  },
  {
   "cell_type": "markdown",
   "metadata": {},
   "source": [
    "### --- Part Two ---"
   ]
  },
  {
   "cell_type": "code",
   "execution_count": 39,
   "metadata": {},
   "outputs": [
    {
     "data": {
      "text/plain": [
       "1447"
      ]
     },
     "execution_count": 39,
     "metadata": {},
     "output_type": "execute_result"
    }
   ],
   "source": [
    "len(v_list)"
   ]
  },
  {
   "cell_type": "markdown",
   "metadata": {},
   "source": [
    "# Day 18\n",
    "[[back to navigation]](#Navigation)  \n",
    "\n",
    "Task details: https://adventofcode.com/2021/day/18"
   ]
  },
  {
   "cell_type": "markdown",
   "metadata": {},
   "source": [
    "### --- Part One ---"
   ]
  },
  {
   "cell_type": "code",
   "execution_count": 40,
   "metadata": {},
   "outputs": [],
   "source": [
    "import numpy as np\n",
    "\n",
    "with open(\"data/day18-input.txt\", 'r') as file:\n",
    "    inputs = file.read()"
   ]
  },
  {
   "cell_type": "code",
   "execution_count": 41,
   "metadata": {},
   "outputs": [],
   "source": [
    "import copy\n",
    "\n",
    "\n",
    "def explode(s_in):\n",
    "    s = [c for c in s_in]\n",
    "    level_count = 0\n",
    "    l_reg = ''\n",
    "    l_reg_i = None\n",
    "    r_reg = ''\n",
    "    exploded = False\n",
    "    collect = False\n",
    "    pair = ''\n",
    "    i = 0\n",
    "    i_max = len(s)\n",
    "    while True:\n",
    "        if level_count == 4 and s[i] == '[' and not exploded:\n",
    "            collect = True\n",
    "        if collect:\n",
    "            j = i\n",
    "            while j >= 0:\n",
    "                j -= 1\n",
    "                if s[j] not in [',', '[', ']']:\n",
    "                    l_reg = s[j] + l_reg\n",
    "                    s[j] = 'L'\n",
    "                elif s[j+1] == 'L':\n",
    "                    break\n",
    "            while True:\n",
    "                pair += s[i]\n",
    "                s[i] = 'P'\n",
    "                i += 1\n",
    "                if pair[-1] == ']':\n",
    "                    break\n",
    "            collect = False\n",
    "            exploded = True\n",
    "        elif s[i] == '[':\n",
    "            level_count += 1\n",
    "        elif s[i] == ']':\n",
    "            level_count -= 1\n",
    "        elif s[i] not in [',', '[', ']'] and exploded:\n",
    "            while True:\n",
    "                r_reg += s[i]\n",
    "                s[i] = 'R'\n",
    "                i += 1\n",
    "                if s[i] in [',', '[', ']']:\n",
    "                    break\n",
    "            break\n",
    "\n",
    "        i += 1\n",
    "        if i >= i_max:\n",
    "            break\n",
    "\n",
    "    s = ''.join(s)\n",
    "    if pair != '':\n",
    "        # do the math\n",
    "        pair_length = len(pair)\n",
    "        pair = [int(v) for v in pair.replace('[', '').replace(']', '').split(',')]\n",
    "        # replace left_regular with left most value from the pair\n",
    "        if l_reg != '':\n",
    "            s = s.replace(\n",
    "                ''.join(['L' for p in l_reg]),\n",
    "                str((int(l_reg) + pair[0])))\n",
    "        # replace right_regular with left most value from the pair\n",
    "        if r_reg != '':\n",
    "            s = s.replace(\n",
    "                ''.join(['R' for p in r_reg]),\n",
    "                str((int(r_reg) + pair[1])))\n",
    "        # replace exploded pair with 0\n",
    "        s = s.replace(\n",
    "            ''.join(['P' for p in range(pair_length)]),\n",
    "            '0')\n",
    "        \n",
    "        s_in = s\n",
    "    return s_in\n",
    "\n",
    "\n",
    "def split(s_in):\n",
    "    if type(s_in) != list and s_in >= 10:\n",
    "        s_in = [int(np.floor(s_in/2)), int(np.ceil(s_in/2))]\n",
    "        return s_in\n",
    "    elif type(s_in) == list:\n",
    "        for i, s in enumerate(s_in):\n",
    "            s1 = split(copy.copy(s))\n",
    "            if str(s1) != str(s):\n",
    "                s_in[i] = s1\n",
    "                break\n",
    "    return s_in\n",
    "\n",
    "\n",
    "def calc_magnitude(s_in, idx=None):\n",
    "    if type(s_in) == list:\n",
    "        for i, s in enumerate(s_in):\n",
    "            s = calc_magnitude(s, i)\n",
    "            s_in[i] = s\n",
    "        s_in = sum(s_in)\n",
    "    if idx is not None:\n",
    "        if idx == 0:\n",
    "            return s_in * 3\n",
    "        if idx == 1:\n",
    "            return s_in * 2\n",
    "    return s_in    "
   ]
  },
  {
   "cell_type": "code",
   "execution_count": 42,
   "metadata": {},
   "outputs": [
    {
     "data": {
      "text/plain": [
       "3359"
      ]
     },
     "execution_count": 42,
     "metadata": {},
     "output_type": "execute_result"
    }
   ],
   "source": [
    "import ast\n",
    "\n",
    "# snail_numbers = [ast.literal_eval(v) for v in inputs.split('\\n')]\n",
    "snail_numbers = inputs.split('\\n')\n",
    "\n",
    "while True:\n",
    "    a, b = snail_numbers[0], snail_numbers[1]\n",
    "    # addition\n",
    "    c = '[%s,%s]' % (a, b)\n",
    "    \n",
    "    while True:\n",
    "        # check explode\n",
    "        c2 = explode(c)\n",
    "        if c != c2:\n",
    "            c = c2\n",
    "            continue\n",
    "\n",
    "        # check split\n",
    "        c2 = split(ast.literal_eval(c))\n",
    "        c2 = str(c2).replace(' ', '')\n",
    "        if c2 != c:\n",
    "            c = c2\n",
    "            continue\n",
    "        break\n",
    "    snail_numbers[0] = c\n",
    "    snail_numbers.pop(1)\n",
    "    if len(snail_numbers) < 2:\n",
    "        break\n",
    "        \n",
    "calc_magnitude(ast.literal_eval(snail_numbers[0]))"
   ]
  },
  {
   "cell_type": "markdown",
   "metadata": {},
   "source": [
    "### --- Part Two ---"
   ]
  },
  {
   "cell_type": "code",
   "execution_count": 43,
   "metadata": {},
   "outputs": [
    {
     "data": {
      "text/plain": [
       "4616"
      ]
     },
     "execution_count": 43,
     "metadata": {},
     "output_type": "execute_result"
    }
   ],
   "source": [
    "import ast\n",
    "import itertools\n",
    "\n",
    "snail_numbers = inputs.split('\\n')\n",
    "\n",
    "pairs_list = list(itertools.product(\n",
    "    range(len(snail_numbers)),\n",
    "    range(len(snail_numbers))))\n",
    "\n",
    "list_magnitudes = set()\n",
    "\n",
    "for x,y in pairs_list:\n",
    "    a, b = snail_numbers[x], snail_numbers[y]\n",
    "    # addition\n",
    "    c = '[%s,%s]' % (a, b)\n",
    "    while True:\n",
    "        # check explode\n",
    "        c2 = explode(c)\n",
    "        if c != c2:\n",
    "            c = c2\n",
    "            continue\n",
    "        # check split\n",
    "        c2 = split(ast.literal_eval(c))\n",
    "        c2 = str(c2).replace(' ', '')\n",
    "        if c2 != c:\n",
    "            c = c2\n",
    "            continue\n",
    "        break\n",
    "    list_magnitudes.add(calc_magnitude(ast.literal_eval(c)))\n",
    "    \n",
    "max(list_magnitudes)"
   ]
  },
  {
   "cell_type": "markdown",
   "metadata": {},
   "source": [
    "# Day 19\n",
    "[[back to navigation]](#Navigation)  \n",
    "\n",
    "Task details: https://adventofcode.com/2021/day/19"
   ]
  },
  {
   "cell_type": "markdown",
   "metadata": {},
   "source": [
    "### --- Part One ---"
   ]
  },
  {
   "cell_type": "code",
   "execution_count": 44,
   "metadata": {},
   "outputs": [],
   "source": [
    "import numpy as np\n",
    "\n",
    "with open(\"data/day19-input1.txt\", 'r') as file:\n",
    "    inputs = file.read()"
   ]
  },
  {
   "cell_type": "code",
   "execution_count": 45,
   "metadata": {},
   "outputs": [],
   "source": [
    "inputs  = [np.asarray([[int(xyz) for xyz in coords.split(',')]\n",
    "            for coords in scanner.split('\\n')[1:]])\n",
    "           for scanner in inputs.split('\\n\\n')]"
   ]
  },
  {
   "cell_type": "code",
   "execution_count": 46,
   "metadata": {},
   "outputs": [],
   "source": [
    "def generate_xy(length, half=False):\n",
    "    x1, y1 = np.triu_indices(length, 1)\n",
    "    x2, y2 = np.tril_indices(length, -1)\n",
    "    x = np.concatenate((x1, x2), axis=0)\n",
    "    y = np.concatenate((y1, y2), axis=0)\n",
    "    if half:\n",
    "        return x1, y1\n",
    "    return x, y\n",
    "\n",
    "def row_wise_abs_subtract(arr, half=False):\n",
    "    x, y = generate_xy(len(arr), half)\n",
    "    out_arr = np.abs(arr[x] - arr[y])\n",
    "    return out_arr.tolist()\n",
    "\n",
    "def get_counts_dict(beacons):\n",
    "    uniques = np.unique(beacons, return_counts=True, axis=0)\n",
    "    counts = uniques[1]\n",
    "    counts_dict = dict(zip([tuple(k.tolist()) for k in uniques[0]], counts))\n",
    "    return counts_dict\n",
    "    "
   ]
  },
  {
   "cell_type": "code",
   "execution_count": 47,
   "metadata": {
    "scrolled": false
   },
   "outputs": [
    {
     "name": "stdout",
     "output_type": "stream",
     "text": [
      "408.0\n"
     ]
    }
   ],
   "source": [
    "from collections import Counter\n",
    "\n",
    "beacons_per_scanner_count = [len(scanner) for scanner in inputs]\n",
    "# print(beacons_per_scanner_count)\n",
    "scanners = [row_wise_abs_subtract(scanner) for scanner in inputs]\n",
    "dist_per_scanner_count = [len(scanner) for scanner in scanners]\n",
    "scanners_sorted = [[sorted(beacon) for beacon in beacons] for beacons in scanners]\n",
    "\n",
    "beacons_sorted = [tuple(beacon) for scanner in scanners_sorted\n",
    "                  for beacon in scanner]\n",
    "counts_dict = get_counts_dict(beacons_sorted)\n",
    "\n",
    "total_counter = {0:0, 1:0, 2:0, 3:0, 4:0, 5:0, 6:0}\n",
    "\n",
    "current_i = 0\n",
    "\n",
    "for beacons_num, num_dists in zip(beacons_per_scanner_count, dist_per_scanner_count):\n",
    "    x, y = generate_xy(beacons_num)\n",
    "    matrix = np.zeros((beacons_num, beacons_num))\n",
    "    temp_beacons = beacons_sorted[current_i: current_i+num_dists]\n",
    "    temp_counts = [counts_dict[beacon] for beacon in temp_beacons]\n",
    "#     print(len(temp_counts), len(list(zip(x,y))))\n",
    "\n",
    "    for j, xy in enumerate(zip(x,y)):\n",
    "        matrix[xy] = temp_counts[j]/2 - 1 # duplicated so 2,4,6,8,10 -> 0,1,2,3,4\n",
    "    \n",
    "    counter = Counter(np.max(matrix, axis=0))\n",
    "    for k,v in counter.items():\n",
    "        total_counter[k] += v\n",
    "#     print(counter)\n",
    "    current_i += num_dists\n",
    "\n",
    "total_beacons = 0\n",
    "for k in total_counter.keys():\n",
    "    total_beacons += total_counter[k]/(k+1)\n",
    "print(total_beacons)"
   ]
  },
  {
   "cell_type": "markdown",
   "metadata": {},
   "source": [
    "### --- Part Two ---"
   ]
  },
  {
   "cell_type": "code",
   "execution_count": 48,
   "metadata": {},
   "outputs": [],
   "source": [
    "#!/usr/bin/python\n",
    "# src: https://github.com/nghiaho12/rigid_transform_3D\n",
    "# and really nice ang thorough read in this topic: \n",
    "# https://towardsdatascience.com/understanding-singular-value-decomposition-and-its-application-in-data-science-388a54be95d\n",
    "import numpy as np\n",
    "\n",
    "# Input: expects 3xN matrix of points\n",
    "# Returns R,t\n",
    "# R = 3x3 rotation matrix\n",
    "# t = 3x1 column vector\n",
    "\n",
    "def rigid_transform_3D(A, B):\n",
    "    assert A.shape == B.shape\n",
    "\n",
    "    num_rows, num_cols = A.shape\n",
    "    if num_rows != 3:\n",
    "        raise Exception(f\"matrix A is not 3xN, it is {num_rows}x{num_cols}\")\n",
    "\n",
    "    num_rows, num_cols = B.shape\n",
    "    if num_rows != 3:\n",
    "        raise Exception(f\"matrix B is not 3xN, it is {num_rows}x{num_cols}\")\n",
    "\n",
    "    # find mean column wise\n",
    "    centroid_A = np.mean(A, axis=1)\n",
    "    centroid_B = np.mean(B, axis=1)\n",
    "\n",
    "    # ensure centroids are 3x1\n",
    "    centroid_A = centroid_A.reshape(-1, 1)\n",
    "    centroid_B = centroid_B.reshape(-1, 1)\n",
    "\n",
    "    # subtract mean\n",
    "    Am = A - centroid_A\n",
    "    Bm = B - centroid_B\n",
    "    \n",
    "    # matrix multiplication Am x Bm.T\n",
    "    H = Am @ np.transpose(Bm)\n",
    "\n",
    "    # sanity check\n",
    "    #if linalg.matrix_rank(H) < 3:\n",
    "    #    raise ValueError(\"rank of H = {}, expecting 3\".format(linalg.matrix_rank(H)))\n",
    "\n",
    "    # find rotation using Singular Value Decomposition\n",
    "    U, S, Vt = np.linalg.svd(H)\n",
    "    # rotation matrix [3x3]\n",
    "    R = Vt.T @ U.T\n",
    "\n",
    "    # special reflection case\n",
    "    if np.linalg.det(R) < 0:\n",
    "        print(\"det(R) < R, reflection detected!, correcting for it ...\")\n",
    "        Vt[2,:] *= -1\n",
    "        R = Vt.T @ U.T\n",
    "    \n",
    "    # translation vector [3x1]\n",
    "    t = -R @ centroid_A + centroid_B\n",
    "#     return R, t\n",
    "\n",
    "    return np.round(R), np.round(t)"
   ]
  },
  {
   "cell_type": "code",
   "execution_count": 49,
   "metadata": {
    "scrolled": false
   },
   "outputs": [
    {
     "name": "stdout",
     "output_type": "stream",
     "text": [
      "Wall time: 2.03 s\n"
     ]
    }
   ],
   "source": [
    "%%time\n",
    "import itertools\n",
    "from collections import defaultdict\n",
    "\n",
    "def crack_beacons_alignment(idices_A, idices_B):\n",
    "    k_count = max(max(idices_A)) + 1\n",
    "    mapping = {}\n",
    "    while k_count > len(mapping.keys()):\n",
    "        for i in range(1, len(idices_A)):\n",
    "            ia_p = idices_A[i-1]\n",
    "            ia = idices_A[i]\n",
    "            ib_p = idices_B[i-1]\n",
    "            ib = idices_B[i]\n",
    "            if ia[0] in ia_p:\n",
    "                mapping[ia[0]] = ib[0] if ib[0] in ib_p else ib[1]\n",
    "                mapping[ia[1]] = ib[0] if ib[0] not in ib_p else ib[1]\n",
    "            elif ia[1] in ia_p:\n",
    "                mapping[ia[1]] = ib[0] if ib[0] in ib_p else ib[1]\n",
    "                mapping[ia[0]] = ib[0] if ib[0] not in ib_p else ib[1]\n",
    "            elif ia[1] in mapping.keys():\n",
    "                mapping[ia[0]] = ib[0] if ib[1] == mapping[ia[1]] else ib[1]\n",
    "            elif ia[0] in mapping.keys():\n",
    "                mapping[ia[1]] = ib[0] if ib[1] == mapping[ia[0]] else ib[1]\n",
    "    \n",
    "    return mapping\n",
    "\n",
    "correlation_map = defaultdict(list)\n",
    "transformation_map = defaultdict(list)\n",
    "\n",
    "# iterator = list(itertools.product(range(len(scanners)), range(len(scanners))))\n",
    "x, y = np.triu_indices(len(scanners), 1)\n",
    "all_examples = []\n",
    "all_examples2 = []\n",
    "all_transforms = []\n",
    "all_xy =[]\n",
    "for x, y in zip(x, y):\n",
    "    beacons_ab = np.concatenate((scanners_sorted[x], scanners_sorted[y]), axis=0)\n",
    "    uniques = np.unique(beacons_ab, return_counts=True, axis=0)\n",
    "    dupes_mask = uniques[1] == 4\n",
    "    sum_dupes = sum(dupes_mask)\n",
    "    # do the magic only if we have exactly 12 matching beacons between scanners\n",
    "    if sum_dupes == 66:\n",
    "        matrices = []\n",
    "        for idx in [x, y]:\n",
    "            temp_dict = dict([(tuple(u.tolist()), 0) for u in uniques[0]])\n",
    "            temp_dict.update(dict([(tuple(u.tolist()), 1) for u in uniques[0][dupes_mask]]))\n",
    "            temp_counts = [temp_dict[tuple(b)] for b in scanners_sorted[idx]]\n",
    "            beacons_num = beacons_per_scanner_count[idx]\n",
    "            matrix = np.zeros((beacons_num, beacons_num))\n",
    "            a, b = generate_xy(beacons_num)\n",
    "            \n",
    "            for j, xy in enumerate(zip(a, b)):\n",
    "                matrix[xy] = temp_counts[j]\n",
    "            matrices.append(matrix.max(axis=1))\n",
    "            \n",
    "        A = inputs[x][matrices[0]==1]\n",
    "        B = inputs[y][matrices[1]==1]\n",
    "        ### aligning A beacons with B beacons ###\n",
    "        list_A_dist = [dist for dist in row_wise_abs_subtract(A, half=True)]\n",
    "        list_B_dist = [dist for dist in row_wise_abs_subtract(B, half=True)]\n",
    "        list_A = [sum(dist) for dist in list_A_dist]\n",
    "        list_B = [sum(dist) for dist in list_B_dist]\n",
    "        ai, bi = generate_xy(len(A), half=True)\n",
    "        sorting_A = np.argsort(list_A)\n",
    "        sorting_B = np.argsort(list_B)\n",
    "        idices_A = list(zip(ai[sorting_A], bi[sorting_A]))\n",
    "        idices_B = list(zip(ai[sorting_B], bi[sorting_B]))        \n",
    "        beacons_mapping = crack_beacons_alignment(idices_A, idices_B)\n",
    "        B = B[[beacons_mapping[i] for i in range(len(A))]]\n",
    "        ###\n",
    "        ### getting transformation matrix for each pair\n",
    "        ret_R1, ret_t1 = rigid_transform_3D(A[:].T, B[:].T)\n",
    "        ret_R2, ret_t2 = rigid_transform_3D(B[:].T, A[:].T)\n",
    "        ###\n",
    "        ### validate correctness and save\n",
    "        ### apparently there are some points which are breaking my code\n",
    "        i = 0\n",
    "        while True:\n",
    "            if not all(np.diag(ret_R1@A[i].T + ret_t1) == B[i]):\n",
    "                B = np.delete(B, i, axis=0)\n",
    "                A = np.delete(A, i, axis=0)            \n",
    "            else:\n",
    "                i += 1\n",
    "            if len(B) == i:\n",
    "                break\n",
    "        if len(B) > 3:\n",
    "            ret_R1, ret_t1 = rigid_transform_3D(A[:].T, B[:].T)\n",
    "            ret_R2, ret_t2 = rigid_transform_3D(B[:].T, A[:].T)\n",
    "\n",
    "            correlation_map[x] += [y]\n",
    "\n",
    "            transformation_map[(x, y)] = ret_R1, ret_t1\n",
    "            transformation_map[(y, x)] = ret_R2, ret_t2\n",
    "\n",
    "            # diagnostic data\n",
    "            all_examples.append(\n",
    "                [np.asarray(list_B_dist)[sorting_B][0], np.asarray(list_A_dist)[sorting_A][0]])\n",
    "            all_examples2.append([A, B])\n",
    "            all_xy.append((x,y))\n",
    "            all_transforms.append((ret_R1, ret_t1))\n",
    "\n",
    "# we only investigated relationships in a single direction:\n",
    "# n -> m but we didn't track m -> n to save some proc time\n",
    "# so now we copy this relationship for m -> n\n",
    "for k in range(max(correlation_map.values())[0] + 1):\n",
    "    if k not in correlation_map.keys():\n",
    "        correlation_map[k] = []\n",
    "\n",
    "for k, v in correlation_map.items():\n",
    "    for vk in v:\n",
    "        if k not in correlation_map[vk]:\n",
    "            correlation_map[vk] += [k]"
   ]
  },
  {
   "cell_type": "code",
   "execution_count": 50,
   "metadata": {},
   "outputs": [],
   "source": [
    "from collections import Counter\n",
    "\n",
    "\n",
    "# for each scanner, investigate its known relationships with other scanners\n",
    "# and find the relationship path we need to follow to end up at scanner 0\n",
    "# e.g.: [34, 15, 6, 13, 21, 2, 0]\n",
    "# NOTE: below function is not fully correct but it somehow works xD \n",
    "\n",
    "def build_correlation_graph(curr_path, correlation_map):\n",
    "    final_path = curr_path\n",
    "    last_position = curr_path[-1]\n",
    "    if last_position == 0:\n",
    "        return final_path\n",
    "    possible_moves = correlation_map[last_position]\n",
    "    counter = Counter(curr_path)\n",
    "    possible_moves = [m for m in possible_moves]\n",
    "    for pos_move in sorted(possible_moves):\n",
    "        temp_path = curr_path.copy() + [pos_move]\n",
    "        if pos_move == 0 or counter[pos_move] == 2:\n",
    "            return temp_path\n",
    "        final_path = build_correlation_graph(temp_path, correlation_map)\n",
    "        if final_path[-1] == 0:\n",
    "            return final_path\n",
    "    return final_path\n",
    "\n",
    "transformation_paths = []\n",
    "for i in sorted(correlation_map.keys(), reverse=True):\n",
    "    curr_path = [i]\n",
    "    transformation_paths.append(build_correlation_graph(\n",
    "        curr_path, correlation_map))"
   ]
  },
  {
   "cell_type": "code",
   "execution_count": 51,
   "metadata": {},
   "outputs": [
    {
     "data": {
      "text/plain": [
       "13348"
      ]
     },
     "execution_count": 51,
     "metadata": {},
     "output_type": "execute_result"
    }
   ],
   "source": [
    "# calculate scanner positions in relationship to scanner 0\n",
    "# by applying matrix transformations based on transformations path\n",
    "scanner_coords = []\n",
    "for path in transformation_paths:\n",
    "    temp_coords = np.asarray([0,0,0])\n",
    "    if len(path) > 1:\n",
    "        for i in range(1, len(path)):\n",
    "            ret_R, ret_t = transformation_map[(path[i-1], path[i])]\n",
    "            temp_coords = np.diag((ret_R@temp_coords) + ret_t)\n",
    "        scanner_coords.append(temp_coords)\n",
    "\n",
    "scanner_coords = [[round(c) for c in scanner] for scanner in scanner_coords]\n",
    "scanner_coords = np.asarray(scanner_coords, dtype=int)\n",
    "\n",
    "x, y = generate_xy(len(scanner_coords))\n",
    "out_arr = np.abs(scanner_coords[x] - scanner_coords[y])\n",
    "out_arr = out_arr.sum(axis=1)\n",
    "\n",
    "max(out_arr)"
   ]
  },
  {
   "cell_type": "markdown",
   "metadata": {},
   "source": [
    "# Day 20\n",
    "[[back to navigation]](#Navigation)  \n",
    "\n",
    "Task details: https://adventofcode.com/2021/day/20"
   ]
  },
  {
   "cell_type": "code",
   "execution_count": 52,
   "metadata": {},
   "outputs": [],
   "source": [
    "import numpy as np\n",
    "\n",
    "with open(\"data/day20-input.txt\", 'r') as file:\n",
    "    inputs = file.read()\n",
    "    inputs = inputs.split('\\n\\n')\n",
    "    decoder = inputs[0]\n",
    "    decoder = decoder.replace('\\n','')\n",
    "    input_im = inputs[1]"
   ]
  },
  {
   "cell_type": "code",
   "execution_count": 53,
   "metadata": {},
   "outputs": [],
   "source": [
    "pix_dict = {'.': 0, '#': 1}\n",
    "decoder = [pix_dict[pix] for pix in decoder]\n",
    "input_im = np.asarray([[pix_dict[pix] for pix in l] for l in input_im.split('\\n')])"
   ]
  },
  {
   "cell_type": "code",
   "execution_count": 54,
   "metadata": {},
   "outputs": [
    {
     "data": {
      "text/plain": [
       "(100, 100)"
      ]
     },
     "execution_count": 54,
     "metadata": {},
     "output_type": "execute_result"
    }
   ],
   "source": [
    "input_im.shape"
   ]
  },
  {
   "cell_type": "code",
   "execution_count": 55,
   "metadata": {},
   "outputs": [
    {
     "data": {
      "text/plain": [
       "5010"
      ]
     },
     "execution_count": 55,
     "metadata": {},
     "output_type": "execute_result"
    }
   ],
   "source": [
    "input_im.sum()"
   ]
  },
  {
   "cell_type": "code",
   "execution_count": 56,
   "metadata": {},
   "outputs": [],
   "source": [
    "def enhance(input_im, decoder):\n",
    "    sum_border = (\n",
    "            input_im[0,:].sum() + input_im[:,0].sum()\n",
    "            + input_im[:,-1].sum() + input_im[-1,:].sum()\n",
    "        )\n",
    "    pad = 3\n",
    "    if sum_border == 0:\n",
    "        input_im = np.pad(input_im, pad)\n",
    "    else:\n",
    "        input_im = np.pad(input_im, pad, constant_values=1)\n",
    "    # create canvas\n",
    "    canvas = np.zeros_like(input_im)\n",
    "    # sliding window\n",
    "    for i in range(1, input_im.shape[0]-1):\n",
    "        for j in range(1, input_im.shape[1]-1):\n",
    "            window = input_im[i-1:i+2,j-1:j+2]\n",
    "            binary = ''.join([str(b) for b in window.ravel()])\n",
    "            idx = int(binary, 2)\n",
    "            canvas[i,j] = decoder[idx]\n",
    "    return canvas[2:input_im.shape[0]-2, 2:input_im.shape[0]-2]"
   ]
  },
  {
   "cell_type": "code",
   "execution_count": 57,
   "metadata": {
    "scrolled": true
   },
   "outputs": [
    {
     "name": "stdout",
     "output_type": "stream",
     "text": [
      "Part one answer:  5479\n",
      "Part two answer:  19012\n"
     ]
    }
   ],
   "source": [
    "input_im = np.pad(input_im, 1)\n",
    "for i in range(1, 51):\n",
    "    input_im = enhance(input_im, decoder)\n",
    "    if i == 2:\n",
    "        print(\"Part one answer: \", input_im.sum())\n",
    "    if i == 50:\n",
    "        print(\"Part two answer: \", input_im.sum())"
   ]
  }
 ],
 "metadata": {
  "kernelspec": {
   "display_name": "Python [conda env:kaggle]",
   "language": "python",
   "name": "conda-env-kaggle-py"
  },
  "language_info": {
   "codemirror_mode": {
    "name": "ipython",
    "version": 3
   },
   "file_extension": ".py",
   "mimetype": "text/x-python",
   "name": "python",
   "nbconvert_exporter": "python",
   "pygments_lexer": "ipython3",
   "version": "3.7.6"
  }
 },
 "nbformat": 4,
 "nbformat_minor": 4
}
