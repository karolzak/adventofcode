{
 "cells": [
  {
   "cell_type": "markdown",
   "metadata": {},
   "source": [
    "### Navigation \n",
    "1. [Day 21](#Day-21)  "
   ]
  },
  {
   "cell_type": "markdown",
   "metadata": {},
   "source": [
    "# Day 21\n",
    "[[back to navigation]](#Navigation)  \n",
    "\n",
    "Task details: https://adventofcode.com/2021/day/21"
   ]
  },
  {
   "cell_type": "markdown",
   "metadata": {},
   "source": [
    "### --- Part One ---"
   ]
  },
  {
   "cell_type": "code",
   "execution_count": 1,
   "metadata": {},
   "outputs": [
    {
     "data": {
      "text/plain": [
       "(4, 1)"
      ]
     },
     "execution_count": 1,
     "metadata": {},
     "output_type": "execute_result"
    }
   ],
   "source": [
    "inputs = \"\"\"Player 1 starting position: 4\n",
    "Player 2 starting position: 1\"\"\"\n",
    "# inputs = \"\"\"Player 1 starting position: 4\n",
    "# Player 2 starting position: 8\"\"\"\n",
    "inputs = inputs.split('\\n')\n",
    "p1_start = int(inputs[0][-1])\n",
    "p2_start = int(inputs[1][-1])\n",
    "p1_start, p2_start"
   ]
  },
  {
   "cell_type": "code",
   "execution_count": 2,
   "metadata": {},
   "outputs": [],
   "source": [
    "class DeterministicDice:\n",
    "    def __init__(self):\n",
    "        self.last_value = 0\n",
    "        self.roll_count = 0\n",
    "        \n",
    "    def roll(self):\n",
    "        if self.last_value == 100:\n",
    "            self.last_value = 0\n",
    "        self.roll_count += 1\n",
    "        self.last_value += 1\n",
    "        return self.last_value\n",
    "    \n",
    "    def roll_three(self):\n",
    "        roll_sum = sum([self.roll() for i in range(3)])\n",
    "        return roll_sum\n",
    "\n",
    "class Player:\n",
    "    def __init__(self, name, start_pos, max_score=1000):\n",
    "        self.score = 0\n",
    "        self.pos = start_pos\n",
    "        self.name = name\n",
    "        self.win = False\n",
    "        self.max_score = max_score\n",
    "        \n",
    "    def move(self, roll_value):\n",
    "        self.pos = (self.pos + roll_value) % 10\n",
    "        if self.pos == 0:\n",
    "            self.score += 10\n",
    "        else:\n",
    "            self.score += self.pos\n",
    "        if self.score >= self.max_score:\n",
    "            self.win = True"
   ]
  },
  {
   "cell_type": "code",
   "execution_count": 3,
   "metadata": {},
   "outputs": [],
   "source": [
    "def game_loop(p: Player, dice: DeterministicDice):\n",
    "    roll_v = dice.roll_three()\n",
    "    p.move(roll_v)\n",
    "    return p, dice"
   ]
  },
  {
   "cell_type": "code",
   "execution_count": 4,
   "metadata": {},
   "outputs": [
    {
     "name": "stdout",
     "output_type": "stream",
     "text": [
      "Game over, score: 913560\n"
     ]
    }
   ],
   "source": [
    "dice = DeterministicDice()\n",
    "p1 = Player('p1', p1_start)\n",
    "p2 = Player('p2', p2_start)\n",
    "\n",
    "while True:\n",
    "    p1, dice = game_loop(p1, dice)\n",
    "    if p1.win:\n",
    "        print(\"Game over, score:\", p2.score * dice.roll_count)\n",
    "        break\n",
    "    p2, dice = game_loop(p2, dice)\n",
    "    if p2.win:\n",
    "        print(\"Game over, score:\", p1.score * dice.roll_count)\n",
    "        break"
   ]
  },
  {
   "cell_type": "markdown",
   "metadata": {},
   "source": [
    "### --- Part Two ---"
   ]
  },
  {
   "cell_type": "code",
   "execution_count": null,
   "metadata": {},
   "outputs": [],
   "source": []
  }
 ],
 "metadata": {
  "kernelspec": {
   "display_name": "Python [conda env:kaggle]",
   "language": "python",
   "name": "conda-env-kaggle-py"
  },
  "language_info": {
   "codemirror_mode": {
    "name": "ipython",
    "version": 3
   },
   "file_extension": ".py",
   "mimetype": "text/x-python",
   "name": "python",
   "nbconvert_exporter": "python",
   "pygments_lexer": "ipython3",
   "version": "3.7.6"
  }
 },
 "nbformat": 4,
 "nbformat_minor": 4
}
