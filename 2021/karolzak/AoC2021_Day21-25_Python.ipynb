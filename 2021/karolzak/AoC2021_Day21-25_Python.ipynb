{
 "cells": [
  {
   "cell_type": "markdown",
   "metadata": {},
   "source": [
    "### Navigation \n",
    "1. [Day 21](#Day-21)  \n",
    "1. [Day 24](#Day-24)  \n",
    "1. [Day 25](#Day-25)  "
   ]
  },
  {
   "cell_type": "markdown",
   "metadata": {},
   "source": [
    "# Day 21\n",
    "[[back to navigation]](#Navigation)  \n",
    "\n",
    "Task details: https://adventofcode.com/2021/day/21"
   ]
  },
  {
   "cell_type": "markdown",
   "metadata": {},
   "source": [
    "### --- Part One ---"
   ]
  },
  {
   "cell_type": "code",
   "execution_count": 1,
   "metadata": {},
   "outputs": [
    {
     "data": {
      "text/plain": [
       "(4, 1)"
      ]
     },
     "execution_count": 1,
     "metadata": {},
     "output_type": "execute_result"
    }
   ],
   "source": [
    "inputs = \"\"\"Player 1 starting position: 4\n",
    "Player 2 starting position: 1\"\"\"\n",
    "# inputs = \"\"\"Player 1 starting position: 4\n",
    "# Player 2 starting position: 8\"\"\"\n",
    "inputs = inputs.split('\\n')\n",
    "p1_start = int(inputs[0][-1])\n",
    "p2_start = int(inputs[1][-1])\n",
    "p1_start, p2_start"
   ]
  },
  {
   "cell_type": "code",
   "execution_count": 2,
   "metadata": {},
   "outputs": [],
   "source": [
    "class DeterministicDice:\n",
    "    def __init__(self):\n",
    "        self.last_value = 0\n",
    "        self.roll_count = 0\n",
    "        \n",
    "    def roll(self):\n",
    "        if self.last_value == 100:\n",
    "            self.last_value = 0\n",
    "        self.roll_count += 1\n",
    "        self.last_value += 1\n",
    "        return self.last_value\n",
    "    \n",
    "    def roll_three(self):\n",
    "        roll_sum = sum([self.roll() for i in range(3)])\n",
    "        return roll_sum\n",
    "\n",
    "class Player:\n",
    "    def __init__(self, name, start_pos, max_score=1000):\n",
    "        self.score = 0\n",
    "        self.pos = start_pos\n",
    "        self.name = name\n",
    "        self.win = False\n",
    "        self.max_score = max_score\n",
    "        \n",
    "    def move(self, roll_value):\n",
    "        self.pos = (self.pos + roll_value) % 10\n",
    "        if self.pos == 0:\n",
    "            self.score += 10\n",
    "        else:\n",
    "            self.score += self.pos\n",
    "        if self.score >= self.max_score:\n",
    "            self.win = True"
   ]
  },
  {
   "cell_type": "code",
   "execution_count": 3,
   "metadata": {},
   "outputs": [],
   "source": [
    "def game_loop(p: Player, dice: DeterministicDice):\n",
    "    roll_v = dice.roll_three()\n",
    "    p.move(roll_v)\n",
    "    return p, dice"
   ]
  },
  {
   "cell_type": "code",
   "execution_count": 4,
   "metadata": {},
   "outputs": [
    {
     "name": "stdout",
     "output_type": "stream",
     "text": [
      "Game over, score: 913560\n"
     ]
    }
   ],
   "source": [
    "dice = DeterministicDice()\n",
    "p1 = Player('p1', p1_start)\n",
    "p2 = Player('p2', p2_start)\n",
    "\n",
    "while True:\n",
    "    p1, dice = game_loop(p1, dice)\n",
    "    if p1.win:\n",
    "        print(\"Game over, score:\", p2.score * dice.roll_count)\n",
    "        break\n",
    "    p2, dice = game_loop(p2, dice)\n",
    "    if p2.win:\n",
    "        print(\"Game over, score:\", p1.score * dice.roll_count)\n",
    "        break"
   ]
  },
  {
   "cell_type": "markdown",
   "metadata": {},
   "source": [
    "### --- Part Two ---"
   ]
  },
  {
   "cell_type": "code",
   "execution_count": null,
   "metadata": {},
   "outputs": [],
   "source": []
  },
  {
   "cell_type": "code",
   "execution_count": null,
   "metadata": {},
   "outputs": [],
   "source": []
  },
  {
   "cell_type": "markdown",
   "metadata": {},
   "source": [
    "# Day 24\n",
    "[[back to navigation]](#Navigation)  \n",
    "\n",
    "Task details: https://adventofcode.com/2021/day/24"
   ]
  },
  {
   "cell_type": "code",
   "execution_count": 5,
   "metadata": {},
   "outputs": [],
   "source": [
    "with open(\"data/day24-input.txt\", 'r') as file:\n",
    "    inputs = file.read()#.replace('w', 'w0')\n",
    "    inputs = inputs.split('\\n')"
   ]
  },
  {
   "cell_type": "code",
   "execution_count": 6,
   "metadata": {},
   "outputs": [],
   "source": [
    "# ALU operations\n",
    "\n",
    "def add(x, y):\n",
    "    if type(x) is int and type(y) is int:\n",
    "        return x + y\n",
    "    if x == 0:\n",
    "        return y\n",
    "    if y == 0:\n",
    "        return x\n",
    "    return '(%s+%s)' % (x, y)\n",
    "\n",
    "assert(add(2,2) == 4)\n",
    "assert(add(2,'w') == '(2+w)')\n",
    "assert(add(2,'(w+1)') == '(2+(w+1))')\n",
    "assert(add(0,'w') == 'w')\n",
    "assert(add('w','w') == '(w+w)')\n",
    "    \n",
    "def mul(x, y):\n",
    "    if type(x) is int and type(y) is int:\n",
    "        return x * y\n",
    "    if x == 0 or y == 0:\n",
    "        return 0\n",
    "    if y == 1:\n",
    "        return x\n",
    "    if x == 1:\n",
    "        return y\n",
    "    if ((type(x) is str and 'z' in x) or \n",
    "        (type(y) is str and 'z' in y)):\n",
    "        return '(%s*%s)' % (x, y)\n",
    "    if type(x) is str and type(y) is int:\n",
    "        x = x.replace('(','').replace(')', '')\n",
    "        xx = ''.join(['%s*%s+' % (y, a) for a in x.split('+')])\n",
    "        return xx[:-1]\n",
    "\n",
    "assert(mul(2,2) == 4)\n",
    "# assert(mul(2,'w') == '(2*w)')\n",
    "assert(mul(0,2) == 0)\n",
    "assert(mul(0,'(w+1)') == 0)\n",
    "assert(mul(1,'w') == 'w')\n",
    "assert(mul('w',1) == 'w')\n",
    "assert(mul('w',0) == 0)\n",
    "# assert(mul('w','w') == '(w*w)')\n",
    "assert(mul('w',26) == '26*w')\n",
    "assert(mul('(w+4)',26) == '26*w+26*4')\n",
    "    \n",
    "def div(x, y):\n",
    "    if type(x) is int and type(y) is int:\n",
    "        return int(x / y)\n",
    "    if x == 0:\n",
    "        return 0\n",
    "    if y == 1:\n",
    "        return x\n",
    "    if ((type(x) is str and 'z' in x) or \n",
    "        (type(y) is str and 'z' in y)):\n",
    "        return 'int(%s/%s)' % (x, y)\n",
    "    f = str(y)+'*'\n",
    "    # divide by 'y'\n",
    "    # if number contains a prefix of 'y*' remove prefix and keep result\n",
    "    # otherwise:\n",
    "    # since divident is always < y; w = <1,9>\n",
    "    # division result will always be < 1\n",
    "    # because we floor the results, anything < becomes 0\n",
    "    result = '+'.join([n[:i] + n[i+len(f):]\n",
    "                       for n in x.split('+')\n",
    "                       for i in [n.find(f)]\n",
    "                       if f in n])\n",
    "    return '0' if result == '' else result\n",
    "\n",
    "assert(div(4,4) == 1)\n",
    "assert(div(0,'(w+4)') == 0)\n",
    "# assert(div('(w*4)', 'w') == 'int((w*4)/w)')\n",
    "assert(div('w*4', 1) == 'w*4')\n",
    "assert(div('26*w+4', 26) == 'w')\n",
    "assert(div('26*26*w+26*4', 26) == '26*w+4')\n",
    "    \n",
    "def mod(x, y):\n",
    "    if type(x) is int and type(y) is int:\n",
    "        return x % y\n",
    "    if x == 0 or y == 1:\n",
    "        return 0\n",
    "    if type(x) is str and 'z' in x:\n",
    "        return '(%s*%s)' % (x, y)\n",
    "    f = str(y)+'*'\n",
    "    return '+'.join([n for n in x.split('+')\n",
    "                     if f not in n])\n",
    "\n",
    "assert(mod(4,4) == 0)\n",
    "assert(mod(4,3) == 1)\n",
    "assert(mod(0,'(w+4)') == 0)\n",
    "assert(mod('(w*4)', 1) == 0)\n",
    "\n",
    "def eql(x, y):\n",
    "    if type(x) is int and type(y) is int:\n",
    "        return 1 if x == y else 0\n",
    "    if x == y:\n",
    "        return 1\n",
    "    if type(x) is int and x not in range(1,10):\n",
    "        return 0\n",
    "    return '(1 if %s == %s else 0)' % (x, y)\n",
    "\n",
    "assert(eql(4,4) == 1)\n",
    "assert(eql(4,3) == 0)\n",
    "assert(eql(0,'(w+4)') == 0)\n",
    "assert(eql('(w*4)', 1) == '(1 if (w*4) == 1 else 0)')\n",
    "assert(eql('(w*4)', '(w*4)') == 1)\n",
    "\n",
    "op_dict = {\n",
    "    'add': lambda x, y: add(x, y),\n",
    "    'mul': lambda x, y: mul(x, y),\n",
    "    'div': lambda x, y: div(x, y),\n",
    "    'mod': lambda x, y: mod(x, y),\n",
    "    'eql': lambda x, y: eql(x, y),\n",
    "}"
   ]
  },
  {
   "cell_type": "code",
   "execution_count": 7,
   "metadata": {},
   "outputs": [],
   "source": [
    "def create_var_dict(count):\n",
    "    return {\n",
    "        'x': 0,\n",
    "        'y': 0,\n",
    "        'z': 0 if count == 1 else 'z' + str(count - 1),\n",
    "        'w': 'w' + str(count)\n",
    "    }\n",
    "\n",
    "w_count = 0\n",
    "var_dict_list = []\n",
    "\n",
    "for ins_str in inputs[:]:\n",
    "    ins = ins_str.split(' ')\n",
    "    op = ins[0]\n",
    "    if op == 'inp':\n",
    "        w_count += 1\n",
    "        var_dict = create_var_dict(w_count)\n",
    "        var_dict_list.append(var_dict)\n",
    "    else:\n",
    "        ins = ins_str.split(' ')\n",
    "        op = ins[0]\n",
    "        a = var_dict[ins[1]]\n",
    "        b = var_dict[ins[2]] if ins[2] in var_dict.keys() else int(ins[2])\n",
    "        var_dict[ins[1]] = op_dict[op](a, b)"
   ]
  },
  {
   "cell_type": "code",
   "execution_count": 8,
   "metadata": {},
   "outputs": [
    {
     "name": "stdout",
     "output_type": "stream",
     "text": [
      "z1: (w1+4)\n",
      "z2: ((z1*((25*(1 if (1 if ((z1*26)+14) == w2 else 0) == 0 else 0))+1))+((w2+16)*(1 if (1 if ((z1*26)+14) == w2 else 0) == 0 else 0)))\n",
      "z3: ((z2*((25*(1 if (1 if ((z2*26)+11) == w3 else 0) == 0 else 0))+1))+((w3+14)*(1 if (1 if ((z2*26)+11) == w3 else 0) == 0 else 0)))\n",
      "z4: ((int(z3/26)*((25*(1 if (1 if ((z3*26)+-13) == w4 else 0) == 0 else 0))+1))+((w4+3)*(1 if (1 if ((z3*26)+-13) == w4 else 0) == 0 else 0)))\n",
      "z5: ((z4*((25*(1 if (1 if ((z4*26)+14) == w5 else 0) == 0 else 0))+1))+((w5+11)*(1 if (1 if ((z4*26)+14) == w5 else 0) == 0 else 0)))\n",
      "z6: ((z5*((25*(1 if (1 if ((z5*26)+15) == w6 else 0) == 0 else 0))+1))+((w6+13)*(1 if (1 if ((z5*26)+15) == w6 else 0) == 0 else 0)))\n",
      "z7: ((int(z6/26)*((25*(1 if (1 if ((z6*26)+-7) == w7 else 0) == 0 else 0))+1))+((w7+11)*(1 if (1 if ((z6*26)+-7) == w7 else 0) == 0 else 0)))\n",
      "z8: ((z7*((25*(1 if (1 if ((z7*26)+10) == w8 else 0) == 0 else 0))+1))+((w8+7)*(1 if (1 if ((z7*26)+10) == w8 else 0) == 0 else 0)))\n",
      "z9: ((int(z8/26)*((25*(1 if (1 if ((z8*26)+-12) == w9 else 0) == 0 else 0))+1))+((w9+12)*(1 if (1 if ((z8*26)+-12) == w9 else 0) == 0 else 0)))\n",
      "z10: ((z9*((25*(1 if (1 if ((z9*26)+15) == w10 else 0) == 0 else 0))+1))+((w10+15)*(1 if (1 if ((z9*26)+15) == w10 else 0) == 0 else 0)))\n",
      "z11: ((int(z10/26)*((25*(1 if (1 if ((z10*26)+-16) == w11 else 0) == 0 else 0))+1))+((w11+13)*(1 if (1 if ((z10*26)+-16) == w11 else 0) == 0 else 0)))\n",
      "z12: ((int(z11/26)*((25*(1 if (1 if ((z11*26)+-9) == w12 else 0) == 0 else 0))+1))+((w12+1)*(1 if (1 if ((z11*26)+-9) == w12 else 0) == 0 else 0)))\n",
      "z13: ((int(z12/26)*((25*(1 if (1 if ((z12*26)+-8) == w13 else 0) == 0 else 0))+1))+((w13+15)*(1 if (1 if ((z12*26)+-8) == w13 else 0) == 0 else 0)))\n",
      "z14: ((int(z13/26)*((25*(1 if (1 if ((z13*26)+-8) == w14 else 0) == 0 else 0))+1))+((w14+4)*(1 if (1 if ((z13*26)+-8) == w14 else 0) == 0 else 0)))\n"
     ]
    }
   ],
   "source": [
    "for i, dic in enumerate(var_dict_list[:]):\n",
    "    print('z'+str(i+1)+':', dic['z'])"
   ]
  },
  {
   "cell_type": "markdown",
   "metadata": {},
   "source": [
    "Which can be reduced to the following:  \n",
    "```python\n",
    "z1: (w1+4)\n",
    "z2: 26*w1+26*4+w2+16\n",
    "z3: 26*26*w1+26*26*4+26*w2+26*16+w3+14\n",
    "w4 = w3 + 14 - 13 = w3 + 1\n",
    "z4: 26*w1+26*4+w2+16\n",
    "z5: 26*26*w1+26*26*4+26*w2+26*16+w5+11\n",
    "z6: 26*26*26*w1+26*26*26*4+26*26*w2+26*26*16+26*w5+26*11+w6+13\n",
    "w7 = w6 + 13 - 7 = w6 + 6\n",
    "z7: 26*26*w1+26*26*4+26*w2+26*16+w5+11\n",
    "z8: 26*26*26*w1+26*26*26*4+26*26*w2+26*26*16+26*w5+26*11+w8+7\n",
    "w9 = w8 + 7 - 12 = w8 - 5\n",
    "z9: 26*26*w1+26*26*4+26*w2+26*16+w5+11\n",
    "z10: 26*26*26*w1+26*26*26*4+26*26*w2+26*26*16+26*w5+26*11+w10+15\n",
    "w11 = w10 + 15 - 16 = w10 - 1\n",
    "z11: 26*26*w1+26*26*4+26*w2+26*16+w5+11\n",
    "w12 = w5 + 11 - 9 = w5 + 2\n",
    "z12: 26*w1+26*4+w2+16\n",
    "w13 = w2 + 16 - 8 = w2 + 8\n",
    "z12: w1 + 4\n",
    "w14 = w1 + 4 - 8 = w1 - 4\n",
    "z = 0\n",
    "```"
   ]
  },
  {
   "cell_type": "markdown",
   "metadata": {},
   "source": [
    "And that's how we extract the relationship between different 'w':\n",
    "```python\n",
    "w14 = w1 - 4\n",
    "w13 = w2 + 8\n",
    "w12 = w5 + 2\n",
    "w11 = w10 - 1\n",
    "w9 = w8 - 5\n",
    "w7 = w6 + 6\n",
    "w4 = w3 + 1\n",
    "```"
   ]
  },
  {
   "cell_type": "markdown",
   "metadata": {},
   "source": [
    "Above equations can be simplified to these 2 rules:\n",
    "```python\n",
    "if \"div z 1\":\n",
    "    z[n] = 26*(z[n-1]) + w[n] + add_y[n]  \n",
    "if \"div z 26\":\n",
    "    w[n] = z[n-1] % 26 + add_x[n]\n",
    "    z[n] = int(z[n-1]/26)\n",
    "```"
   ]
  },
  {
   "cell_type": "markdown",
   "metadata": {},
   "source": [
    "Now let's follow the same reduction process but with code (I had to modify my ALU functions as well)"
   ]
  },
  {
   "cell_type": "code",
   "execution_count": 9,
   "metadata": {},
   "outputs": [],
   "source": [
    "instructions2 = [[inputs[j] for j in range(i, len(inputs), 18)] for i in range(0,18)]\n",
    "w_dict = {}\n",
    "z_dict = {-1:0}\n",
    "add_y_list = [int(ins.split(' ')[-1]) for ins in instructions2[-3]]\n",
    "add_x_list = [int(ins.split(' ')[-1]) for ins in instructions2[5]]\n",
    "div_z_list = [int(ins.split(' ')[-1]) for ins in instructions2[4]]"
   ]
  },
  {
   "cell_type": "code",
   "execution_count": 10,
   "metadata": {},
   "outputs": [
    {
     "name": "stdout",
     "output_type": "stream",
     "text": [
      "W values pair relations: {'w3': 'w2+14-13', 'w6': 'w5+13-7', 'w8': 'w7+7-12', 'w10': 'w9+15-16', 'w11': 'w4+11-9', 'w12': 'w1+16-8', 'w13': 'w0+4-8'}\n",
      "\n",
      "\n",
      "Z values:\n"
     ]
    },
    {
     "data": {
      "text/plain": [
       "{-1: 0,\n",
       " 0: 'w0+4',\n",
       " 1: '26*w0+26*4+w1+16',\n",
       " 2: '26*26*w0+26*26*4+26*w1+26*16+w2+14',\n",
       " 3: '26*w0+26*4+w1+16',\n",
       " 4: '26*26*w0+26*26*4+26*w1+26*16+w4+11',\n",
       " 5: '26*26*26*w0+26*26*26*4+26*26*w1+26*26*16+26*w4+26*11+w5+13',\n",
       " 6: '26*26*w0+26*26*4+26*w1+26*16+w4+11',\n",
       " 7: '26*26*26*w0+26*26*26*4+26*26*w1+26*26*16+26*w4+26*11+w7+7',\n",
       " 8: '26*26*w0+26*26*4+26*w1+26*16+w4+11',\n",
       " 9: '26*26*26*w0+26*26*26*4+26*26*w1+26*26*16+26*w4+26*11+w9+15',\n",
       " 10: '26*26*w0+26*26*4+26*w1+26*16+w4+11',\n",
       " 11: '26*w0+26*4+w1+16',\n",
       " 12: 'w0+4',\n",
       " 13: '0'}"
      ]
     },
     "execution_count": 10,
     "metadata": {},
     "output_type": "execute_result"
    }
   ],
   "source": [
    "for n, div_z in zip(range(0,14), div_z_list):\n",
    "    if div_z == 1:\n",
    "        # if \"div z 1\":\n",
    "        #    z[n] = 26*(z[n-1]) + w[n] + add_y[n]\n",
    "        z_dict[n] = add(\n",
    "            mul(z_dict[n-1], 26),\n",
    "            add('w'+str(n), add_y_list[n])\n",
    "        )\n",
    "    elif div_z == 26:\n",
    "        # if \"div z 26\":\n",
    "        #    w[n] = z[n-1] % 26 + add_x[n]\n",
    "        #    z[n] = int(z[n-1]/26)\n",
    "        w_dict['w'+str(n)] = add(\n",
    "            mod(z_dict[n-1], 26),\n",
    "            add_x_list[n]\n",
    "        ).replace('+-', '-').replace('(', '').replace(')', '')\n",
    "        z_dict[n] = div(z_dict[n-1], 26)\n",
    "    z_dict[n] = z_dict[n].replace('(', '').replace(')', '')\n",
    "\n",
    "print('W values pair relations:', w_dict)\n",
    "\n",
    "print('\\n\\nZ values:')\n",
    "z_dict"
   ]
  },
  {
   "cell_type": "code",
   "execution_count": 11,
   "metadata": {},
   "outputs": [
    {
     "data": {
      "text/plain": [
       "'91897399498995'"
      ]
     },
     "execution_count": 11,
     "metadata": {},
     "output_type": "execute_result"
    }
   ],
   "source": [
    "def optimize(k, v, w_val_dict, opt='max'):\n",
    "    assert(opt in ['min', 'max'])\n",
    "    w_range = range(1,10) # <1,9>\n",
    "    if opt == 'max':\n",
    "        w_range = list(reversed(w_range))\n",
    "    wa = k\n",
    "    wb = v.split('+')[0]\n",
    "    for w in w_range:\n",
    "        v_temp = v.replace(wb, str(w))\n",
    "        res = eval(v_temp)\n",
    "        if res in w_range:\n",
    "            w_val_dict[wa] = res\n",
    "            w_val_dict[wb] = w\n",
    "            return w_val_dict\n",
    "\n",
    "# maximize\n",
    "w_val_dict = {}\n",
    "for k, v in w_dict.items():\n",
    "    w_val_dict = optimize(k,v, w_val_dict, opt='max')\n",
    "\n",
    "''.join([str(w_val_dict['w'+str(i)]) for i in range(14)])"
   ]
  },
  {
   "cell_type": "markdown",
   "metadata": {},
   "source": [
    "### --- Part Two ---"
   ]
  },
  {
   "cell_type": "code",
   "execution_count": 12,
   "metadata": {},
   "outputs": [
    {
     "data": {
      "text/plain": [
       "'51121176121391'"
      ]
     },
     "execution_count": 12,
     "metadata": {},
     "output_type": "execute_result"
    }
   ],
   "source": [
    "# now minimize\n",
    "w_val_dict = {}\n",
    "for k, v in w_dict.items():\n",
    "    w_val_dict = optimize(k,v, w_val_dict, opt='min')\n",
    "\n",
    "''.join([str(w_val_dict['w'+str(i)]) for i in range(14)])"
   ]
  },
  {
   "cell_type": "code",
   "execution_count": 13,
   "metadata": {},
   "outputs": [],
   "source": [
    "def check_number(num_str, inputs):\n",
    "    var_dict = {\n",
    "        'x' : 0, 'y': 0, 'z': 0, 'w': 0\n",
    "    }\n",
    "    w_count = 0\n",
    "    for ins_str in inputs[:]:\n",
    "        ins = ins_str.split(' ')\n",
    "        op = ins[0]\n",
    "        if op == 'inp':\n",
    "            var_dict['w'] = int(num_str[w_count])\n",
    "            w_count += 1\n",
    "        else:\n",
    "            ins = ins_str.split(' ')\n",
    "            op = ins[0]\n",
    "            a = var_dict[ins[1]]\n",
    "            b = var_dict[ins[2]] if ins[2] in var_dict.keys() else int(ins[2])\n",
    "            var_dict[ins[1]] = op_dict[op](a, b)\n",
    "    return var_dict\n"
   ]
  },
  {
   "cell_type": "code",
   "execution_count": 14,
   "metadata": {},
   "outputs": [
    {
     "name": "stdout",
     "output_type": "stream",
     "text": [
      "0\n",
      "0\n"
     ]
    }
   ],
   "source": [
    "print(check_number('91897399498995', inputs)['z'])\n",
    "print(check_number('51121176121391', inputs)['z'])"
   ]
  },
  {
   "cell_type": "markdown",
   "metadata": {},
   "source": [
    "# Day 25\n",
    "[[back to navigation]](#Navigation)  \n",
    "\n",
    "Task details: https://adventofcode.com/2021/day/25"
   ]
  },
  {
   "cell_type": "code",
   "execution_count": 15,
   "metadata": {},
   "outputs": [],
   "source": [
    "with open(\"data/day25-input.txt\", 'r') as file:\n",
    "    inputs = file.read()"
   ]
  },
  {
   "cell_type": "code",
   "execution_count": 16,
   "metadata": {},
   "outputs": [],
   "source": [
    "import numpy as np\n",
    "\n",
    "\n",
    "def move_cucumber(herd_id, inputs_map):\n",
    "    x, y = np.where(inputs_map == herd_id)\n",
    "    if herd_id == 1:\n",
    "        y_target = np.where(y+1 < inputs_map.shape[1], y+1, 0)\n",
    "        pos_move_mask = inputs_map[x, y_target] == 0\n",
    "        x_target = x[pos_move_mask]\n",
    "        y_target = y_target[pos_move_mask]\n",
    "    elif herd_id == 2:\n",
    "        x_target = np.where(x+1 < inputs_map.shape[0], x+1, 0)\n",
    "        pos_move_mask = inputs_map[x_target, y] == 0\n",
    "        x_target = x_target[pos_move_mask]\n",
    "        y_target = y[pos_move_mask]\n",
    "    \n",
    "    x = x[pos_move_mask]\n",
    "    y = y[pos_move_mask]\n",
    "    # use pos_move_mask and move sea cucumbers\n",
    "    inputs_map[x, y] = 0\n",
    "    if herd_id == 1:\n",
    "        inputs_map[x, y_target] = herd_id\n",
    "    if herd_id == 2:\n",
    "        inputs_map[x_target, y] = herd_id\n",
    "    return inputs_map"
   ]
  },
  {
   "cell_type": "code",
   "execution_count": 17,
   "metadata": {},
   "outputs": [
    {
     "name": "stdout",
     "output_type": "stream",
     "text": [
      "278\n"
     ]
    }
   ],
   "source": [
    "sign_to_int = {\n",
    "    'v': 2,\n",
    "    '>': 1,\n",
    "    '.': 0\n",
    "}\n",
    "\n",
    "inputs_map = [[sign_to_int[c] for c in line] for line in inputs.split('\\n')]\n",
    "inputs_map = np.asarray(inputs_map)\n",
    "step_counter = 0\n",
    "while True:\n",
    "    # single step\n",
    "    inputs_map_temp = inputs_map.copy()\n",
    "    inputs_map_temp = move_cucumber(1, inputs_map_temp)\n",
    "    inputs_map_temp = move_cucumber(2, inputs_map_temp)\n",
    "    step_counter += 1\n",
    "    if np.all(inputs_map == inputs_map_temp):\n",
    "        break\n",
    "    inputs_map = inputs_map_temp\n",
    "    \n",
    "print(step_counter)"
   ]
  },
  {
   "cell_type": "code",
   "execution_count": null,
   "metadata": {},
   "outputs": [],
   "source": []
  }
 ],
 "metadata": {
  "kernelspec": {
   "display_name": "Python [conda env:kaggle]",
   "language": "python",
   "name": "conda-env-kaggle-py"
  },
  "language_info": {
   "codemirror_mode": {
    "name": "ipython",
    "version": 3
   },
   "file_extension": ".py",
   "mimetype": "text/x-python",
   "name": "python",
   "nbconvert_exporter": "python",
   "pygments_lexer": "ipython3",
   "version": "3.7.6"
  }
 },
 "nbformat": 4,
 "nbformat_minor": 4
}
