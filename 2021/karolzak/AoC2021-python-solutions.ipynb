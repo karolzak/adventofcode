{
 "cells": [
  {
   "cell_type": "markdown",
   "metadata": {},
   "source": [
    "# --- Day 1: Sonar Sweep ---"
   ]
  },
  {
   "cell_type": "markdown",
   "metadata": {},
   "source": [
    "### --- Part One ---"
   ]
  },
  {
   "cell_type": "code",
   "execution_count": 1,
   "metadata": {},
   "outputs": [],
   "source": [
    "with open(\"day1-input1.txt\", 'r') as file:\n",
    "    inputs = [int(line.replace('\\n', '')) for line in file.readlines()]"
   ]
  },
  {
   "cell_type": "code",
   "execution_count": 2,
   "metadata": {},
   "outputs": [
    {
     "data": {
      "text/plain": [
       "[8299, 8306, 8317, 8320, 8341]"
      ]
     },
     "execution_count": 2,
     "metadata": {},
     "output_type": "execute_result"
    }
   ],
   "source": [
    "inputs[-5:]"
   ]
  },
  {
   "cell_type": "code",
   "execution_count": 3,
   "metadata": {},
   "outputs": [],
   "source": [
    "counter = 0\n",
    "for i in range(1, len(inputs)):\n",
    "    if inputs[i] > inputs[i-1]:\n",
    "        counter += 1"
   ]
  },
  {
   "cell_type": "code",
   "execution_count": 4,
   "metadata": {},
   "outputs": [
    {
     "data": {
      "text/plain": [
       "1581"
      ]
     },
     "execution_count": 4,
     "metadata": {},
     "output_type": "execute_result"
    }
   ],
   "source": [
    "counter"
   ]
  },
  {
   "cell_type": "markdown",
   "metadata": {},
   "source": [
    "### --- Part Two ---"
   ]
  },
  {
   "cell_type": "code",
   "execution_count": 5,
   "metadata": {},
   "outputs": [],
   "source": [
    "counter = 0\n",
    "for i in range(1, len(inputs)-2):\n",
    "    A = sum(inputs[i-1:i+2])\n",
    "    B = sum(inputs[i:i+3])\n",
    "    if B > A:\n",
    "        counter += 1"
   ]
  },
  {
   "cell_type": "code",
   "execution_count": 6,
   "metadata": {},
   "outputs": [
    {
     "data": {
      "text/plain": [
       "1618"
      ]
     },
     "execution_count": 6,
     "metadata": {},
     "output_type": "execute_result"
    }
   ],
   "source": [
    "counter"
   ]
  },
  {
   "cell_type": "markdown",
   "metadata": {},
   "source": [
    "# --- Day 2: Dive! ---"
   ]
  },
  {
   "cell_type": "markdown",
   "metadata": {},
   "source": [
    "### --- Part One ---"
   ]
  },
  {
   "cell_type": "code",
   "execution_count": 7,
   "metadata": {},
   "outputs": [],
   "source": [
    "with open(\"day2-input1.txt\", 'r') as file:\n",
    "    inputs = [line.replace('\\n', '') for line in file.readlines()]"
   ]
  },
  {
   "cell_type": "code",
   "execution_count": 8,
   "metadata": {},
   "outputs": [],
   "source": [
    "depth = 0\n",
    "horizontal = 0\n",
    "\n",
    "for direction, v in [move.split() for move in inputs]:\n",
    "    if direction == \"forward\":\n",
    "        horizontal += int(v)\n",
    "    elif direction == \"down\":\n",
    "        depth += int(v)\n",
    "    elif direction == \"up\":\n",
    "        depth -= int(v)"
   ]
  },
  {
   "cell_type": "code",
   "execution_count": 9,
   "metadata": {},
   "outputs": [
    {
     "data": {
      "text/plain": [
       "1507611"
      ]
     },
     "execution_count": 9,
     "metadata": {},
     "output_type": "execute_result"
    }
   ],
   "source": [
    "depth * horizontal"
   ]
  },
  {
   "cell_type": "markdown",
   "metadata": {},
   "source": [
    "### --- Part Two ---"
   ]
  },
  {
   "cell_type": "code",
   "execution_count": 10,
   "metadata": {},
   "outputs": [],
   "source": [
    "depth = 0\n",
    "horizontal = 0\n",
    "aim = 0\n",
    "\n",
    "for direction, v in [move.split() for move in inputs]:\n",
    "    if direction == \"forward\":\n",
    "        horizontal += int(v)\n",
    "        depth += aim * int(v)\n",
    "    elif direction == \"down\":\n",
    "        aim += int(v)\n",
    "    elif direction == \"up\":\n",
    "        aim -= int(v)"
   ]
  },
  {
   "cell_type": "code",
   "execution_count": 11,
   "metadata": {},
   "outputs": [
    {
     "data": {
      "text/plain": [
       "1880593125"
      ]
     },
     "execution_count": 11,
     "metadata": {},
     "output_type": "execute_result"
    }
   ],
   "source": [
    "depth * horizontal"
   ]
  },
  {
   "cell_type": "markdown",
   "metadata": {},
   "source": [
    "# --- Day 3: Binary Diagnostic ---"
   ]
  },
  {
   "cell_type": "markdown",
   "metadata": {},
   "source": [
    "### --- Part One ---"
   ]
  },
  {
   "cell_type": "code",
   "execution_count": 12,
   "metadata": {},
   "outputs": [],
   "source": [
    "with open(\"day3-input1.txt\", 'r') as file:\n",
    "    inputs = [line.replace('\\n', '') for line in file.readlines()]"
   ]
  },
  {
   "cell_type": "code",
   "execution_count": 13,
   "metadata": {},
   "outputs": [
    {
     "name": "stdout",
     "output_type": "stream",
     "text": [
      "Cols: 12 Rows: 1000\n"
     ]
    }
   ],
   "source": [
    "cols_num = len(inputs[0])\n",
    "rows_num = len(inputs)\n",
    "print(\"Cols:\", cols_num, \"Rows:\", rows_num)\n"
   ]
  },
  {
   "cell_type": "code",
   "execution_count": 14,
   "metadata": {},
   "outputs": [],
   "source": [
    "import numpy as np\n",
    "\n",
    "diagnostic_data = np.asarray([int(cell) for row in inputs for cell in row]).reshape(1000,12)"
   ]
  },
  {
   "cell_type": "code",
   "execution_count": 15,
   "metadata": {},
   "outputs": [
    {
     "data": {
      "text/plain": [
       "array([[0, 1, 1, 1, 0, 1, 1, 0, 1, 1, 1, 0],\n",
       "       [0, 1, 0, 1, 1, 0, 0, 0, 1, 1, 0, 1],\n",
       "       [1, 0, 0, 1, 1, 1, 0, 0, 0, 1, 1, 0],\n",
       "       [0, 1, 1, 1, 1, 0, 1, 0, 1, 0, 0, 0],\n",
       "       [1, 0, 1, 1, 0, 1, 0, 0, 0, 1, 0, 0]])"
      ]
     },
     "execution_count": 15,
     "metadata": {},
     "output_type": "execute_result"
    }
   ],
   "source": [
    "diagnostic_data[:5]"
   ]
  },
  {
   "cell_type": "code",
   "execution_count": 16,
   "metadata": {},
   "outputs": [
    {
     "name": "stdout",
     "output_type": "stream",
     "text": [
      "  gamma:  011100101100\n",
      "epsilon:  100011010011\n"
     ]
    }
   ],
   "source": [
    "gamma = ''\n",
    "for i in range(12):\n",
    "    gamma += '1' if diagnostic_data[:,i].sum() > rows_num/2 else '0'\n",
    "epsilon = ''.join(['0' if v == '1' else '1' for v in gamma]) \n",
    "print(\"  gamma: \", gamma)\n",
    "print(\"epsilon: \", epsilon)"
   ]
  },
  {
   "cell_type": "code",
   "execution_count": 17,
   "metadata": {},
   "outputs": [
    {
     "data": {
      "text/plain": [
       "4147524"
      ]
     },
     "execution_count": 17,
     "metadata": {},
     "output_type": "execute_result"
    }
   ],
   "source": [
    "int(gamma, 2) * int(epsilon, 2)"
   ]
  },
  {
   "cell_type": "markdown",
   "metadata": {},
   "source": [
    "### --- Part Two ---"
   ]
  },
  {
   "cell_type": "code",
   "execution_count": 18,
   "metadata": {},
   "outputs": [],
   "source": [
    "def rating_calc(data, col=0, mode='oxygen'):\n",
    "    if len(data) == 1:\n",
    "        return data[0]\n",
    "    # for oxygen:\n",
    "    keep_val =  1 if data[:,col].sum() >= len(data)/2 else 0\n",
    "    if mode == 'co2':\n",
    "        keep_val =  1 - keep_val\n",
    "    data = data[data[:,col] == keep_val]\n",
    "    return rating_calc(data, col+1, mode)"
   ]
  },
  {
   "cell_type": "code",
   "execution_count": 19,
   "metadata": {},
   "outputs": [
    {
     "name": "stdout",
     "output_type": "stream",
     "text": [
      "[0 1 0 1 1 0 0 1 0 0 1 1] [1 0 0 1 1 1 0 0 0 1 1 0]\n"
     ]
    }
   ],
   "source": [
    "oxygen_rating = rating_calc(diagnostic_data, mode='oxygen')\n",
    "co2_rating = rating_calc(diagnostic_data, mode='co2')\n",
    "print(oxygen_rating, co2_rating)"
   ]
  },
  {
   "cell_type": "code",
   "execution_count": 20,
   "metadata": {},
   "outputs": [],
   "source": [
    "# convert rating to binary string and then convert to int\n",
    "get_rating = lambda x: int(''.join([str(v) for v in x]), 2)"
   ]
  },
  {
   "cell_type": "code",
   "execution_count": 21,
   "metadata": {},
   "outputs": [
    {
     "data": {
      "text/plain": [
       "3570354"
      ]
     },
     "execution_count": 21,
     "metadata": {},
     "output_type": "execute_result"
    }
   ],
   "source": [
    "get_rating(oxygen_rating) * get_rating(co2_rating) "
   ]
  },
  {
   "cell_type": "markdown",
   "metadata": {},
   "source": [
    "# --- Day 4: Giant Squid ---"
   ]
  },
  {
   "cell_type": "markdown",
   "metadata": {},
   "source": [
    "### --- Part One ---"
   ]
  },
  {
   "cell_type": "code",
   "execution_count": 22,
   "metadata": {},
   "outputs": [],
   "source": [
    "with open(\"day4-numbers.txt\", 'r') as file:\n",
    "    numbers = file.read()"
   ]
  },
  {
   "cell_type": "code",
   "execution_count": 23,
   "metadata": {},
   "outputs": [],
   "source": [
    "numbers = [int(number) for number in numbers.split(',')]"
   ]
  },
  {
   "cell_type": "code",
   "execution_count": 24,
   "metadata": {},
   "outputs": [],
   "source": [
    "with open(\"day4-boards.txt\", 'r') as file:\n",
    "    boards_raw = file.read().split('\\n\\n')"
   ]
  },
  {
   "cell_type": "code",
   "execution_count": 25,
   "metadata": {},
   "outputs": [],
   "source": [
    "boards = [list(map(int, board.replace('\\n', ' ').replace('  ', ' ').strip().split(' ')))\n",
    "          for board in boards_raw]"
   ]
  },
  {
   "cell_type": "code",
   "execution_count": 26,
   "metadata": {},
   "outputs": [],
   "source": [
    "def check_bingo(boards):\n",
    "    pattern = np.asarray([True,True,True,True,True])\n",
    "    horizontal = np.where((boards==pattern).all(axis=2))[0]\n",
    "    vertical = np.where((boards==pattern.reshape(5,1)).all(axis=1))[0]\n",
    "    return np.append(horizontal, vertical)"
   ]
  },
  {
   "cell_type": "code",
   "execution_count": 27,
   "metadata": {},
   "outputs": [],
   "source": [
    "def calc_score(bingo, boards_np, boards_np_01, last_number):\n",
    "    winning_board_01 = boards_np_01[bingo]\n",
    "    winning_board_01_inv = np.logical_not(winning_board_01)\n",
    "    winning_board = boards_np[bingo]\n",
    "    final_score = winning_board[winning_board_01_inv].sum() * last_number\n",
    "    return final_score"
   ]
  },
  {
   "cell_type": "code",
   "execution_count": 28,
   "metadata": {},
   "outputs": [],
   "source": [
    "import numpy as np\n",
    "\n",
    "def play_bingo(boards, get_best=True):\n",
    "    boards_np = np.asarray(boards).reshape(-1,5,5)\n",
    "    boards_np_01 = np.zeros_like(boards_np)\n",
    "    for i in numbers:\n",
    "        boards_np_01 += boards_np == i\n",
    "        bingo = check_bingo(boards_np_01)\n",
    "        if len(bingo) > 0:\n",
    "            last_board_score = calc_score(bingo, boards_np, boards_np_01, i)\n",
    "            if get_best:\n",
    "                print(\"BINGO!!!\")\n",
    "                break;\n",
    "            # set values to something that will prevent these boards from further processing\n",
    "            boards_np_01[bingo] = 0\n",
    "            boards_np[bingo] = -1\n",
    "    return last_board_score"
   ]
  },
  {
   "cell_type": "code",
   "execution_count": 29,
   "metadata": {},
   "outputs": [
    {
     "name": "stdout",
     "output_type": "stream",
     "text": [
      "BINGO!!!\n"
     ]
    },
    {
     "data": {
      "text/plain": [
       "31424"
      ]
     },
     "execution_count": 29,
     "metadata": {},
     "output_type": "execute_result"
    }
   ],
   "source": [
    "play_bingo(boards)"
   ]
  },
  {
   "cell_type": "markdown",
   "metadata": {},
   "source": [
    "### --- Part Two ---"
   ]
  },
  {
   "cell_type": "code",
   "execution_count": 30,
   "metadata": {},
   "outputs": [
    {
     "data": {
      "text/plain": [
       "23042"
      ]
     },
     "execution_count": 30,
     "metadata": {},
     "output_type": "execute_result"
    }
   ],
   "source": [
    "play_bingo(boards, get_best=False)"
   ]
  },
  {
   "cell_type": "markdown",
   "metadata": {},
   "source": [
    "# --- Day 5: Hydrothermal Venture ---"
   ]
  },
  {
   "cell_type": "markdown",
   "metadata": {},
   "source": [
    "### --- Part One ---"
   ]
  },
  {
   "cell_type": "code",
   "execution_count": 31,
   "metadata": {},
   "outputs": [],
   "source": [
    "with open(\"day5-input1.txt\", 'r') as file:\n",
    "    inputs = [line.replace('\\n', '') for line in file.readlines()]\n",
    "    inputs = [line.replace(' -> ', ',').split(',') for line in inputs]"
   ]
  },
  {
   "cell_type": "code",
   "execution_count": 32,
   "metadata": {},
   "outputs": [],
   "source": [
    "# select just horizontal and vertical lines\n",
    "inputs_hor_and_vert = [coords for coords in inputs\n",
    "                      if coords[0]==coords[2] or coords[1]==coords[3]]"
   ]
  },
  {
   "cell_type": "code",
   "execution_count": 33,
   "metadata": {},
   "outputs": [],
   "source": [
    "import itertools\n",
    "\n",
    "def get_range(v1, v2):\n",
    "    pts_range = list(range(min(v1, v2), max(v1, v2) + 1))\n",
    "    if v1 > v2:\n",
    "        # range needs to be in correct order (important for diagonals)\n",
    "        pts_range = list(reversed(pts_range))\n",
    "    return pts_range\n",
    "\n",
    "def line2pts(x1, y1, x2, y2):\n",
    "    x_range = get_range(x1, x2)\n",
    "    y_range = get_range(y1, y2)\n",
    "\n",
    "    if len(x_range) != len(y_range):\n",
    "        # this is for horizontal and vertical lines\n",
    "        pts = list(itertools.product(x_range, y_range))\n",
    "    else:\n",
    "    # for 45 degrees diagonals\n",
    "        pts = zip(x_range, y_range)\n",
    "\n",
    "    return pts"
   ]
  },
  {
   "cell_type": "code",
   "execution_count": 34,
   "metadata": {},
   "outputs": [],
   "source": [
    "import collections\n",
    "\n",
    "def calculate_danger_pts(inputs):\n",
    "    pts_list = []\n",
    "    for coords in inputs:\n",
    "        coords = [int(coord) for coord in coords]\n",
    "        pts_list += line2pts(*coords)\n",
    "\n",
    "    duplicate_pts = [\n",
    "        item for item, count in\n",
    "        collections.Counter(pts_list).items()\n",
    "        if count > 1\n",
    "    ]\n",
    "    return len(duplicate_pts)"
   ]
  },
  {
   "cell_type": "code",
   "execution_count": 35,
   "metadata": {},
   "outputs": [
    {
     "data": {
      "text/plain": [
       "5197"
      ]
     },
     "execution_count": 35,
     "metadata": {},
     "output_type": "execute_result"
    }
   ],
   "source": [
    "calculate_danger_pts(inputs_hor_and_vert)"
   ]
  },
  {
   "cell_type": "markdown",
   "metadata": {},
   "source": [
    "### --- Part Two ---"
   ]
  },
  {
   "cell_type": "code",
   "execution_count": 36,
   "metadata": {},
   "outputs": [
    {
     "data": {
      "text/plain": [
       "18605"
      ]
     },
     "execution_count": 36,
     "metadata": {},
     "output_type": "execute_result"
    }
   ],
   "source": [
    "calculate_danger_pts(inputs)"
   ]
  },
  {
   "cell_type": "markdown",
   "metadata": {},
   "source": [
    "# --- Day 6: Lanternfish ---"
   ]
  },
  {
   "cell_type": "markdown",
   "metadata": {},
   "source": [
    "### --- Part One ---"
   ]
  },
  {
   "cell_type": "code",
   "execution_count": 37,
   "metadata": {},
   "outputs": [],
   "source": [
    "with open(\"day6-input1.txt\", 'r') as file:\n",
    "    inputs = file.read()\n",
    "    # ex: '[1,2,3,4,..]'\n",
    "    inputs = [int(v) for v in inputs.split(',')]\n",
    "    # ex: [1,2,3,4,..]"
   ]
  },
  {
   "cell_type": "code",
   "execution_count": 38,
   "metadata": {},
   "outputs": [],
   "source": [
    "import numpy as np\n",
    "\n",
    "def fish_spawner(input_fish, days):\n",
    "    timers_np = np.asarray(inputs)\n",
    "\n",
    "    for d in range(days):\n",
    "        spawn_mask = timers_np == 0\n",
    "        timers_np -= 1\n",
    "        timers_np[spawn_mask] = 6\n",
    "        timers_np = np.append(\n",
    "            timers_np, \n",
    "            np.full(spawn_mask.sum(), 8))\n",
    "    return len(timers_np)"
   ]
  },
  {
   "cell_type": "code",
   "execution_count": 39,
   "metadata": {},
   "outputs": [
    {
     "data": {
      "text/plain": [
       "394994"
      ]
     },
     "execution_count": 39,
     "metadata": {},
     "output_type": "execute_result"
    }
   ],
   "source": [
    "fish_spawner(inputs, 80)"
   ]
  },
  {
   "cell_type": "markdown",
   "metadata": {},
   "source": [
    "### --- Part Two ---"
   ]
  },
  {
   "cell_type": "code",
   "execution_count": 40,
   "metadata": {},
   "outputs": [],
   "source": [
    "import collections\n",
    "import itertools\n",
    "\n",
    "def fish_spawner_scalable(inputs, days):\n",
    "    # turn inputs into dict of counts\n",
    "    timer_dict = dict(itertools.product(range(9), [0]))\n",
    "    counter = collections.Counter(inputs)\n",
    "    for i, v in counter.items():\n",
    "        timer_dict[i] += v\n",
    "    # ex: { 0: 218, 1: 50, 2: 30, ..., 8: 0}\n",
    "        \n",
    "    for _ in range(days):\n",
    "        # keep number of newborns\n",
    "        newborns = timer_dict[0]\n",
    "        # rotate values in the dict\n",
    "        for i in range(0,8):\n",
    "            timer_dict[i] = timer_dict[i+1]\n",
    "        # add # of fish which spawned new fish to # of fish with timer 6\n",
    "        timer_dict[6] += newborns\n",
    "        # assign newly spawned fish to timer 8\n",
    "        timer_dict[8] = newborns\n",
    "    return sum(timer_dict.values())"
   ]
  },
  {
   "cell_type": "code",
   "execution_count": 41,
   "metadata": {},
   "outputs": [
    {
     "data": {
      "text/plain": [
       "1765974267455"
      ]
     },
     "execution_count": 41,
     "metadata": {},
     "output_type": "execute_result"
    }
   ],
   "source": [
    "fish_spawner_scalable(inputs, 256)"
   ]
  },
  {
   "cell_type": "code",
   "execution_count": null,
   "metadata": {},
   "outputs": [],
   "source": []
  }
 ],
 "metadata": {
  "kernelspec": {
   "display_name": "Python [conda env:kaggle]",
   "language": "python",
   "name": "conda-env-kaggle-py"
  },
  "language_info": {
   "codemirror_mode": {
    "name": "ipython",
    "version": 3
   },
   "file_extension": ".py",
   "mimetype": "text/x-python",
   "name": "python",
   "nbconvert_exporter": "python",
   "pygments_lexer": "ipython3",
   "version": "3.7.6"
  }
 },
 "nbformat": 4,
 "nbformat_minor": 4
}
