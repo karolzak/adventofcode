{
 "cells": [
  {
   "cell_type": "markdown",
   "metadata": {},
   "source": [
    "# --- Day 1: Sonar Sweep ---"
   ]
  },
  {
   "cell_type": "markdown",
   "metadata": {},
   "source": [
    "### --- Part One ---"
   ]
  },
  {
   "cell_type": "code",
   "execution_count": 24,
   "metadata": {},
   "outputs": [],
   "source": [
    "with open(\"day1-input1.txt\", 'r') as file:\n",
    "#     inputs = file.read()\n",
    "    inputs = [int(line.replace('\\n', '')) for line in file.readlines()]\n",
    "    "
   ]
  },
  {
   "cell_type": "code",
   "execution_count": 25,
   "metadata": {},
   "outputs": [
    {
     "data": {
      "text/plain": [
       "[8299, 8306, 8317, 8320, 8341]"
      ]
     },
     "execution_count": 25,
     "metadata": {},
     "output_type": "execute_result"
    }
   ],
   "source": [
    "inputs[-5:]"
   ]
  },
  {
   "cell_type": "code",
   "execution_count": 26,
   "metadata": {},
   "outputs": [],
   "source": [
    "counter = 0\n",
    "for i in range(1, len(inputs)):\n",
    "    if inputs[i] > inputs[i-1]:\n",
    "        counter += 1"
   ]
  },
  {
   "cell_type": "code",
   "execution_count": 27,
   "metadata": {},
   "outputs": [
    {
     "data": {
      "text/plain": [
       "1581"
      ]
     },
     "execution_count": 27,
     "metadata": {},
     "output_type": "execute_result"
    }
   ],
   "source": [
    "counter"
   ]
  },
  {
   "cell_type": "markdown",
   "metadata": {},
   "source": [
    "### --- Part Two ---"
   ]
  },
  {
   "cell_type": "code",
   "execution_count": 30,
   "metadata": {},
   "outputs": [],
   "source": [
    "counter = 0\n",
    "for i in range(1, len(inputs)-2):\n",
    "    A = inputs[i-1] + inputs[i] + inputs[i+1]\n",
    "    B = inputs[i] + inputs[i+1] + inputs[i+2]\n",
    "    if B > A:\n",
    "        counter += 1"
   ]
  },
  {
   "cell_type": "code",
   "execution_count": 31,
   "metadata": {},
   "outputs": [
    {
     "data": {
      "text/plain": [
       "1618"
      ]
     },
     "execution_count": 31,
     "metadata": {},
     "output_type": "execute_result"
    }
   ],
   "source": [
    "counter"
   ]
  },
  {
   "cell_type": "markdown",
   "metadata": {},
   "source": [
    "# --- Day 2: Dive! ---"
   ]
  },
  {
   "cell_type": "markdown",
   "metadata": {},
   "source": [
    "### --- Part One ---"
   ]
  },
  {
   "cell_type": "code",
   "execution_count": 33,
   "metadata": {},
   "outputs": [],
   "source": [
    "with open(\"day2-input1.txt\", 'r') as file:\n",
    "#     inputs = file.read()\n",
    "    inputs = [line.replace('\\n', '') for line in file.readlines()]\n",
    "    "
   ]
  },
  {
   "cell_type": "code",
   "execution_count": 40,
   "metadata": {},
   "outputs": [],
   "source": [
    "depth = 0\n",
    "horizontal = 0\n",
    "\n",
    "for direction, v in [move.split() for move in inputs]:\n",
    "    if direction == \"forward\":\n",
    "        horizontal += int(v)\n",
    "    elif direction == \"down\":\n",
    "        depth += int(v)\n",
    "    elif direction == \"up\":\n",
    "        depth -= int(v)"
   ]
  },
  {
   "cell_type": "code",
   "execution_count": 42,
   "metadata": {},
   "outputs": [
    {
     "data": {
      "text/plain": [
       "1507611"
      ]
     },
     "execution_count": 42,
     "metadata": {},
     "output_type": "execute_result"
    }
   ],
   "source": [
    "depth * horizontal"
   ]
  },
  {
   "cell_type": "markdown",
   "metadata": {},
   "source": [
    "### --- Part Two ---"
   ]
  },
  {
   "cell_type": "code",
   "execution_count": null,
   "metadata": {},
   "outputs": [],
   "source": [
    "down X increases your aim by X units.\n",
    "up X decreases your aim by X units.\n",
    "forward X does two things:\n",
    "It increases your horizontal position by X units.\n",
    "It increases your depth by your aim multiplied by X."
   ]
  },
  {
   "cell_type": "code",
   "execution_count": 45,
   "metadata": {},
   "outputs": [],
   "source": [
    "depth = 0\n",
    "horizontal = 0\n",
    "aim = 0\n",
    "\n",
    "for direction, v in [move.split() for move in inputs]:\n",
    "    if direction == \"forward\":\n",
    "        horizontal += int(v)\n",
    "        depth += aim * int(v)\n",
    "    elif direction == \"down\":\n",
    "        aim += int(v)\n",
    "    elif direction == \"up\":\n",
    "        aim -= int(v)"
   ]
  },
  {
   "cell_type": "code",
   "execution_count": 46,
   "metadata": {},
   "outputs": [
    {
     "data": {
      "text/plain": [
       "1880593125"
      ]
     },
     "execution_count": 46,
     "metadata": {},
     "output_type": "execute_result"
    }
   ],
   "source": [
    "depth * horizontal"
   ]
  },
  {
   "cell_type": "markdown",
   "metadata": {},
   "source": [
    "# --- Day 3: Binary Diagnostic ---"
   ]
  },
  {
   "cell_type": "markdown",
   "metadata": {},
   "source": [
    "### --- Part One ---"
   ]
  },
  {
   "cell_type": "code",
   "execution_count": 3,
   "metadata": {},
   "outputs": [],
   "source": [
    "with open(\"day3-input1.txt\", 'r') as file:\n",
    "#     inputs = file.read()\n",
    "    inputs = [line.replace('\\n', '') for line in file.readlines()]"
   ]
  },
  {
   "cell_type": "code",
   "execution_count": 11,
   "metadata": {},
   "outputs": [
    {
     "name": "stdout",
     "output_type": "stream",
     "text": [
      "Cols: 12 Rows: 1000\n"
     ]
    }
   ],
   "source": [
    "cols_num = len(inputs[0])\n",
    "rows_num = len(inputs)\n",
    "print(\"Cols:\", cols_num, \"Rows:\", rows_num)\n"
   ]
  },
  {
   "cell_type": "code",
   "execution_count": 60,
   "metadata": {},
   "outputs": [],
   "source": [
    "import numpy as np\n",
    "\n",
    "diagnostic_data = np.asarray([int(cell) for row in inputs for cell in row]).reshape(1000,12)"
   ]
  },
  {
   "cell_type": "code",
   "execution_count": 61,
   "metadata": {},
   "outputs": [
    {
     "data": {
      "text/plain": [
       "array([[0, 1, 1, 1, 0, 1, 1, 0, 1, 1, 1, 0],\n",
       "       [0, 1, 0, 1, 1, 0, 0, 0, 1, 1, 0, 1],\n",
       "       [1, 0, 0, 1, 1, 1, 0, 0, 0, 1, 1, 0],\n",
       "       [0, 1, 1, 1, 1, 0, 1, 0, 1, 0, 0, 0],\n",
       "       [1, 0, 1, 1, 0, 1, 0, 0, 0, 1, 0, 0]])"
      ]
     },
     "execution_count": 61,
     "metadata": {},
     "output_type": "execute_result"
    }
   ],
   "source": [
    "diagnostic_data[:5]"
   ]
  },
  {
   "cell_type": "code",
   "execution_count": 52,
   "metadata": {},
   "outputs": [
    {
     "name": "stdout",
     "output_type": "stream",
     "text": [
      "  gamma:  011100101100\n",
      "epsilon:  100011010011\n"
     ]
    }
   ],
   "source": [
    "gamma = ''\n",
    "for i in range(12):\n",
    "    gamma += '1' if diagnostic_data[:,i].sum() > rows_num/2 else '0'\n",
    "epsilon = ''.join(['0' if v == '1' else '1' for v in gamma]) \n",
    "print(\"  gamma: \", gamma)\n",
    "print(\"epsilon: \", epsilon)"
   ]
  },
  {
   "cell_type": "code",
   "execution_count": 53,
   "metadata": {},
   "outputs": [
    {
     "data": {
      "text/plain": [
       "4147524"
      ]
     },
     "execution_count": 53,
     "metadata": {},
     "output_type": "execute_result"
    }
   ],
   "source": [
    "int(gamma, 2) * int(epsilon, 2)"
   ]
  },
  {
   "cell_type": "markdown",
   "metadata": {},
   "source": [
    "### --- Part Two ---"
   ]
  },
  {
   "cell_type": "code",
   "execution_count": 175,
   "metadata": {},
   "outputs": [],
   "source": [
    "def rating_calc(data, col=0, mode='oxygen'):\n",
    "    if len(data) == 1:\n",
    "        return data[0]\n",
    "    # for oxygen:\n",
    "    keep_val =  1 if data[:,col].sum() >= len(data)/2 else 0\n",
    "    if mode == 'co2':\n",
    "        keep_val =  1 - keep_val\n",
    "    data = data[data[:,col] == keep_val]\n",
    "    return rating_calc(data, col+1, mode)"
   ]
  },
  {
   "cell_type": "code",
   "execution_count": 176,
   "metadata": {},
   "outputs": [
    {
     "name": "stdout",
     "output_type": "stream",
     "text": [
      "[0 1 0 1 1 0 0 1 0 0 1 1] [1 0 0 1 1 1 0 0 0 1 1 0]\n"
     ]
    }
   ],
   "source": [
    "oxygen_rating = rating_calc(diagnostic_data, mode='oxygen')\n",
    "co2_rating = rating_calc(diagnostic_data, mode='co2')\n",
    "print(oxygen_rating, co2_rating)"
   ]
  },
  {
   "cell_type": "code",
   "execution_count": 177,
   "metadata": {},
   "outputs": [
    {
     "data": {
      "text/plain": [
       "3570354"
      ]
     },
     "execution_count": 177,
     "metadata": {},
     "output_type": "execute_result"
    }
   ],
   "source": [
    "int(''.join([str(v) for v in oxygen_rating]), 2) * int(''.join([str(v) for v in co2_rating]), 2) "
   ]
  },
  {
   "cell_type": "markdown",
   "metadata": {},
   "source": [
    "# --- Day 4: Giant Squid ---"
   ]
  },
  {
   "cell_type": "markdown",
   "metadata": {},
   "source": [
    "### --- Part One ---"
   ]
  },
  {
   "cell_type": "code",
   "execution_count": 178,
   "metadata": {},
   "outputs": [],
   "source": [
    "with open(\"day4-numbers.txt\", 'r') as file:\n",
    "    numbers = file.read()\n",
    "#     numbers = [line.replace('\\n', '') for line in file.readlines()]"
   ]
  },
  {
   "cell_type": "code",
   "execution_count": 180,
   "metadata": {},
   "outputs": [],
   "source": [
    "numbers = [int(number) for number in numbers.split(',')]"
   ]
  },
  {
   "cell_type": "code",
   "execution_count": 313,
   "metadata": {},
   "outputs": [],
   "source": [
    "with open(\"day4-boards.txt\", 'r') as file:\n",
    "    boards_raw = file.read().split('\\n\\n')"
   ]
  },
  {
   "cell_type": "code",
   "execution_count": 431,
   "metadata": {},
   "outputs": [],
   "source": [
    "boards = [list(map(int, board.replace('\\n', ' ').replace('  ', ' ').strip().split(' ')))\n",
    "          for board in boards_raw]"
   ]
  },
  {
   "cell_type": "code",
   "execution_count": 432,
   "metadata": {},
   "outputs": [],
   "source": [
    "boards_np = np.asarray(boards).reshape(-1,5,5)"
   ]
  },
  {
   "cell_type": "code",
   "execution_count": 433,
   "metadata": {},
   "outputs": [],
   "source": [
    "def check_bingo(boards):\n",
    "    pattern = np.asarray([True,True,True,True,True])\n",
    "    horizontal = np.where((boards==pattern).all(axis=2))[0]\n",
    "    vertical = np.where((boards==pattern.reshape(5,1)).all(axis=1))[0]\n",
    "    return np.append(horizontal, vertical)"
   ]
  },
  {
   "cell_type": "code",
   "execution_count": 434,
   "metadata": {},
   "outputs": [
    {
     "name": "stdout",
     "output_type": "stream",
     "text": [
      "BINGO!!!\n"
     ]
    }
   ],
   "source": [
    "boards_np_01 = np.zeros_like(boards_np)\n",
    "for i in numbers:\n",
    "    boards_np_01 += boards_np == i\n",
    "    bingo = check_bingo(boards_np_01)\n",
    "    if len(bingo) > 0:\n",
    "        print(\"BINGO!!!\")\n",
    "        break;"
   ]
  },
  {
   "cell_type": "code",
   "execution_count": 435,
   "metadata": {},
   "outputs": [],
   "source": [
    "def calc_score(bingo, boards_np, boards_np_01, last_number):\n",
    "    winning_board_01 = boards_np_01[bingo]\n",
    "    winning_board_01_inv = np.logical_not(winning_board_01)\n",
    "    winning_board = boards_np[bingo]\n",
    "    final_score = winning_board[winning_board_01_inv].sum() * last_number\n",
    "    return final_score"
   ]
  },
  {
   "cell_type": "code",
   "execution_count": 437,
   "metadata": {},
   "outputs": [
    {
     "data": {
      "text/plain": [
       "31424"
      ]
     },
     "execution_count": 437,
     "metadata": {},
     "output_type": "execute_result"
    }
   ],
   "source": [
    "calc_score(bingo, boards_np, boards_np_01, i)"
   ]
  },
  {
   "cell_type": "markdown",
   "metadata": {},
   "source": [
    "### --- Part Two ---"
   ]
  },
  {
   "cell_type": "code",
   "execution_count": 438,
   "metadata": {},
   "outputs": [],
   "source": [
    "boards_np = np.asarray(boards).reshape(-1,5,5)\n",
    "boards_np_01 = np.zeros_like(boards_np)\n",
    "for i in numbers:\n",
    "    boards_np_01 += boards_np == i\n",
    "    bingo = check_bingo(boards_np_01)\n",
    "    if len(bingo) > 0:\n",
    "        last_board_score = calc_score(bingo, boards_np, boards_np_01, i)\n",
    "        # set values to something that will prevent these boards from further processing\n",
    "        boards_np_01[bingo] = 0\n",
    "        boards_np[bingo] = -1"
   ]
  },
  {
   "cell_type": "code",
   "execution_count": 439,
   "metadata": {},
   "outputs": [
    {
     "data": {
      "text/plain": [
       "23042"
      ]
     },
     "execution_count": 439,
     "metadata": {},
     "output_type": "execute_result"
    }
   ],
   "source": [
    "last_board_score"
   ]
  },
  {
   "cell_type": "code",
   "execution_count": null,
   "metadata": {},
   "outputs": [],
   "source": []
  },
  {
   "cell_type": "code",
   "execution_count": null,
   "metadata": {},
   "outputs": [],
   "source": []
  },
  {
   "cell_type": "code",
   "execution_count": null,
   "metadata": {},
   "outputs": [],
   "source": []
  }
 ],
 "metadata": {
  "kernelspec": {
   "display_name": "Python [conda env:kaggle]",
   "language": "python",
   "name": "conda-env-kaggle-py"
  },
  "language_info": {
   "codemirror_mode": {
    "name": "ipython",
    "version": 3
   },
   "file_extension": ".py",
   "mimetype": "text/x-python",
   "name": "python",
   "nbconvert_exporter": "python",
   "pygments_lexer": "ipython3",
   "version": "3.7.6"
  }
 },
 "nbformat": 4,
 "nbformat_minor": 4
}
