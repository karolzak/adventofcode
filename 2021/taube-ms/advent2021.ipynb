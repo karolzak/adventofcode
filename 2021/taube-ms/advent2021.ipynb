{
 "cells": [
  {
   "cell_type": "markdown",
   "metadata": {},
   "source": [
    "<h1>Day 1</h1>"
   ]
  },
  {
   "cell_type": "code",
   "execution_count": null,
   "metadata": {},
   "outputs": [],
   "source": []
  },
  {
   "cell_type": "code",
   "execution_count": 54,
   "metadata": {},
   "outputs": [
    {
     "data": {
      "text/plain": [
       "[199, 200, 208, 210, 200, 207, 240, 269, 260, 263]"
      ]
     },
     "execution_count": 54,
     "metadata": {},
     "output_type": "execute_result"
    }
   ],
   "source": [
    "# read data\n",
    "import re\n",
    "\n",
    "myfile = open(\"data\\day1.txt\", \"rt\") # open lorem.t'x't for reading te'x't\n",
    "contents = myfile.read()         # read the entire file to string\n",
    "myfile.close()                   # close the file\n",
    "day1 = contents.split('\\n')\n",
    "\n",
    "for i in range(len(day1)):\n",
    "    day1[i]=int(day1[i])\n",
    "\n",
    "myfile = open(\"data\\day1_ex.txt\", \"rt\") # open lorem.t'x't for reading te'x't\n",
    "contents = myfile.read()         # read the entire file to string\n",
    "myfile.close()                   # close the file\n",
    "day1_ex = contents.split('\\n')\n",
    "\n",
    "for i in range(len(day1_ex)):\n",
    "    day1_ex[i]=int(day1_ex[i])\n",
    "\n",
    "day1_ex\n",
    "len(day1_ex)\n",
    "for i in range(len(day1_ex)):\n",
    "    print(i)"
   ]
  },
  {
   "cell_type": "code",
   "execution_count": 31,
   "metadata": {},
   "outputs": [
    {
     "name": "stdout",
     "output_type": "stream",
     "text": [
      "7\n",
      "1446\n",
      "5\n",
      "1486\n"
     ]
    }
   ],
   "source": [
    "# solution day1 - part 1\n",
    "def increase_sea_level(ls):\n",
    "    step = 0\n",
    "    for i in range(1, len(ls)):\n",
    "        if ls[i] >= ls[i-1]:\n",
    "            step+=1\n",
    "    return step\n",
    "\n",
    "print(increase_sea_level(day1_ex))\n",
    "print(increase_sea_level(day1))\n",
    "# solution day1 - part 2\n",
    "\n",
    "def increase_sea_level_2(ls):\n",
    "    step = 0\n",
    "    sm_before = ls[0] + ls[1] + ls[2]\n",
    "    for i in range(1, len(ls)-2):\n",
    "        sm_new = ls[i] + ls[i+1] + ls[i+2]\n",
    "        if sm_new > sm_before:\n",
    "            step+=1\n",
    "        sm_before = sm_new\n",
    "    return step\n",
    "\n",
    "print(increase_sea_level_2(day1_ex))\n",
    "print(increase_sea_level_2(day1))\n"
   ]
  },
  {
   "cell_type": "markdown",
   "metadata": {},
   "source": [
    "<h1>Day 2</h1>"
   ]
  },
  {
   "cell_type": "code",
   "execution_count": 33,
   "metadata": {},
   "outputs": [],
   "source": [
    "# read data\n",
    "import re\n",
    "\n",
    "myfile = open(\"data\\day2.txt\", \"rt\") # open lorem.t'x't for reading te'x't\n",
    "contents = myfile.read()         # read the entire file to string\n",
    "myfile.close()                   # close the file\n",
    "day2 = contents.split('\\n')\n",
    "\n",
    "for i in range(len(day2)):\n",
    "    day2[i]=day2[i].split()\n",
    "\n",
    "myfile = open(\"data\\day2_ex.txt\", \"rt\") # open lorem.t'x't for reading te'x't\n",
    "contents = myfile.read()         # read the entire file to string\n",
    "myfile.close()                   # close the file\n",
    "day2_ex = contents.split('\\n')\n",
    "\n",
    "for i in range(len(day2_ex)):\n",
    "    day2_ex[i]=day2_ex[i].split()"
   ]
  },
  {
   "cell_type": "code",
   "execution_count": 36,
   "metadata": {},
   "outputs": [
    {
     "name": "stdout",
     "output_type": "stream",
     "text": [
      "150\n",
      "1427868\n",
      "900\n",
      "1568138742\n"
     ]
    }
   ],
   "source": [
    "# solution day2 - part 1\n",
    "\n",
    "def go_sub(ls):\n",
    "    horz = 0\n",
    "    deph = 0\n",
    "    for s in ls:\n",
    "        if s[0] == 'forward':\n",
    "            horz+=int(s[1])\n",
    "        if s[0] == 'down':\n",
    "            deph+=int(s[1])\n",
    "        if s[0] == 'up':\n",
    "            deph-=int(s[1])\n",
    "    return horz*deph\n",
    "\n",
    "print(go_sub(day2_ex))\n",
    "print(go_sub(day2))\n",
    "\n",
    "\n",
    "# solution day2 - part 2\n",
    "\n",
    "def go_sub_2(ls):\n",
    "    aim = 0\n",
    "    horz = 0\n",
    "    deph = 0\n",
    "    for s in ls:\n",
    "        if s[0] == 'forward':\n",
    "            horz+=int(s[1])\n",
    "            deph+=int(s[1])*aim\n",
    "        if s[0] == 'down':\n",
    "            aim+=int(s[1])\n",
    "        if s[0] == 'up':\n",
    "            aim-=int(s[1])\n",
    "    return horz*deph\n",
    "\n",
    "print(go_sub_2(day2_ex))\n",
    "print(go_sub_2(day2))\n",
    "\n"
   ]
  },
  {
   "cell_type": "markdown",
   "metadata": {},
   "source": [
    "<h1>Day 3 </h1>"
   ]
  },
  {
   "cell_type": "code",
   "execution_count": 56,
   "metadata": {},
   "outputs": [],
   "source": [
    "# read data\n",
    "\n",
    "myfile = open(\"data\\day3.txt\", \"rt\") # open lorem.t'x't for reading te'x't\n",
    "contents = myfile.read()         # read the entire file to string\n",
    "myfile.close()                   # close the file\n",
    "day3 = contents.split('\\n')\n",
    "\n",
    "myfile = open(\"data\\day3_ex.txt\", \"rt\") # open lorem.t'x't for reading te'x't\n",
    "contents = myfile.read()         # read the entire file to string\n",
    "myfile.close()                   # close the file\n",
    "day3_ex = contents.split('\\n')"
   ]
  },
  {
   "cell_type": "code",
   "execution_count": 75,
   "metadata": {},
   "outputs": [
    {
     "name": "stdout",
     "output_type": "stream",
     "text": [
      "198.0\n",
      "4191876.0\n"
     ]
    }
   ],
   "source": [
    "import math\n",
    "\n",
    "def gamma_epsilon(ls):\n",
    "    gamma = []\n",
    "    epsilon = []\n",
    "    for i in range(len(ls[0])):\n",
    "        zero = 0\n",
    "        one = 0\n",
    "        for j in range(len(ls)):\n",
    "            if ls[j][i] == '0':\n",
    "                zero+=1\n",
    "            if ls[j][i] == '1':\n",
    "                one+=1\n",
    "        if zero > one:\n",
    "            gamma.append(0)\n",
    "            epsilon.append(1)\n",
    "        if one > zero:\n",
    "            gamma.append(1)\n",
    "            epsilon.append(0)\n",
    "    return gamma, epsilon\n",
    "\n",
    "\n",
    "def bin_to_num(ls):\n",
    "    num = 0\n",
    "    for i in range(len(ls)):\n",
    "        num+=int(ls[len(ls)-1-i])*math.pow(2,i)\n",
    "    return num\n",
    "\n",
    "\n",
    "gamma, epsilon = gamma_epsilon(day3_ex)\n",
    "print(bin_to_num(gamma)*bin_to_num(epsilon))\n",
    "\n",
    "gamma, epsilon = gamma_epsilon(day3)\n",
    "print(bin_to_num(gamma)*bin_to_num(epsilon))"
   ]
  },
  {
   "cell_type": "code",
   "execution_count": 77,
   "metadata": {},
   "outputs": [
    {
     "name": "stdout",
     "output_type": "stream",
     "text": [
      "10111\n",
      "01010\n",
      "230.0\n",
      "010101101111\n",
      "100110010111\n",
      "3414905.0\n"
     ]
    }
   ],
   "source": [
    "\n",
    "def find_o2(ls, step):\n",
    "    if len(ls) == 1:\n",
    "        return ls[0]\n",
    "    zero = 0\n",
    "    one = 0\n",
    "    for i in range(len(ls)):\n",
    "        if ls[i][step] == '0':\n",
    "            zero+=1\n",
    "        if ls[i][step] == '1':\n",
    "            one+=1\n",
    "    if zero > one:\n",
    "        ls_new = []\n",
    "        for i in range(len(ls)):\n",
    "            if ls[i][step] == '0':\n",
    "                ls_new.append(ls[i])\n",
    "        return find_o2(ls_new, step+1)\n",
    "    if one >= zero:\n",
    "        ls_new = []\n",
    "        for i in range(len(ls)):\n",
    "            if ls[i][step] == '1':\n",
    "                ls_new.append(ls[i])\n",
    "        return find_o2(ls_new, step+1)\n",
    "\n",
    "\n",
    "def find_co2(ls, step):\n",
    "    if len(ls) == 1:\n",
    "        return ls[0]\n",
    "    zero = 0\n",
    "    one = 0\n",
    "    for i in range(len(ls)):\n",
    "        if ls[i][step] == '0':\n",
    "            zero+=1\n",
    "        if ls[i][step] == '1':\n",
    "            one+=1\n",
    "    if zero <= one:\n",
    "        ls_new = []\n",
    "        for i in range(len(ls)):\n",
    "            if ls[i][step] == '0':\n",
    "                ls_new.append(ls[i])\n",
    "        return find_co2(ls_new, step+1)\n",
    "    if one < zero:\n",
    "        ls_new = []\n",
    "        for i in range(len(ls)):\n",
    "            if ls[i][step] == '1':\n",
    "                ls_new.append(ls[i])\n",
    "        return find_co2(ls_new, step+1)\n",
    "    \n",
    "print(find_o2(day3_ex, 0))\n",
    "print(find_co2(day3_ex, 0))\n",
    "\n",
    "print(bin_to_num(find_o2(day3_ex, 0))*bin_to_num(find_co2(day3_ex, 0)))\n",
    "\n",
    "print(find_o2(day3, 0))\n",
    "print(find_co2(day3, 0))\n",
    "\n",
    "print(bin_to_num(find_o2(day3, 0))*bin_to_num(find_co2(day3, 0)))"
   ]
  },
  {
   "cell_type": "markdown",
   "metadata": {},
   "source": [
    "<h1>Day 4</h1>"
   ]
  },
  {
   "cell_type": "code",
   "execution_count": 136,
   "metadata": {},
   "outputs": [
    {
     "data": {
      "text/plain": [
       "[[['22', '13', '17', '11', '0'],\n",
       "  ['8', '2', '23', '4', '24'],\n",
       "  ['21', '9', '14', '16', '7'],\n",
       "  ['6', '10', '3', '18', '5'],\n",
       "  ['1', '12', '20', '15', '19']],\n",
       " [['3', '15', '0', '2', '22'],\n",
       "  ['9', '18', '13', '17', '5'],\n",
       "  ['19', '8', '7', '25', '23'],\n",
       "  ['20', '11', '10', '24', '4'],\n",
       "  ['14', '21', '16', '12', '6']],\n",
       " [['14', '21', '17', '24', '4'],\n",
       "  ['10', '16', '15', '9', '19'],\n",
       "  ['18', '8', '23', '26', '20'],\n",
       "  ['22', '11', '13', '6', '5'],\n",
       "  ['2', '0', '12', '3', '7']]]"
      ]
     },
     "execution_count": 136,
     "metadata": {},
     "output_type": "execute_result"
    }
   ],
   "source": [
    "# read data\n",
    "\n",
    "myfile = open(\"data\\day4.txt\", \"rt\") # open lorem.t'x't for reading te'x't\n",
    "contents = myfile.read()         # read the entire file to string\n",
    "myfile.close()                   # close the file\n",
    "day4 = contents.split('\\n\\n')\n",
    "role_numbers = day4[0].split(',')\n",
    "boards = []\n",
    "for board in day4[1:]:\n",
    "    sp_brd = []\n",
    "    brd = board.split('\\n')\n",
    "    for b in brd:\n",
    "        if b[0] == ' ':\n",
    "            b = b[1:]\n",
    "        bb = b.replace('  ', ' ').split(' ')\n",
    "        sp_brd.append(bb)\n",
    "    boards.append(sp_brd)\n",
    "\n",
    "role_numbers\n",
    "boards\n",
    "\n",
    "\n",
    "myfile = open(\"data\\day4_ex.txt\", \"rt\") # open lorem.t'x't for reading te'x't\n",
    "contents = myfile.read()         # read the entire file to string\n",
    "myfile.close()                   # close the file\n",
    "day4_ex = contents.split('\\n\\n')\n",
    "role_numbers_ex = day4_ex[0].split(',')\n",
    "boards_ex = []\n",
    "for board in day4_ex[1:]:\n",
    "    sp_brd = []\n",
    "    brd = board.split('\\n')\n",
    "    for b in brd:\n",
    "        if b[0] == ' ':\n",
    "            b = b[1:]\n",
    "        bb = b.replace('  ', ' ').split(' ')\n",
    "        sp_brd.append(bb)\n",
    "    boards_ex.append(sp_brd)\n",
    "\n",
    "role_numbers_ex\n",
    "boards_ex"
   ]
  },
  {
   "cell_type": "code",
   "execution_count": 126,
   "metadata": {},
   "outputs": [
    {
     "name": "stdout",
     "output_type": "stream",
     "text": [
      "BINGO!!!\n",
      "4512\n",
      "BINGO!!!\n",
      "44736\n"
     ]
    }
   ],
   "source": [
    "def bingo(role_numbers, boards):\n",
    "    lsij = []\n",
    "    for borad in boards:\n",
    "        i5 = []\n",
    "        j5 = []\n",
    "        for i in range(5):     \n",
    "            i5.append(0)\n",
    "            j5.append(0)\n",
    "        lsij.append({'i5':i5,'j5':j5})\n",
    "    for num in role_numbers:\n",
    "        for k in range(len(boards)):\n",
    "            for i in range(5):\n",
    "                for j in range(5):\n",
    "                    if boards[k][i][j] == num:\n",
    "                        boards[k][i][j] = 0\n",
    "                        lsij[k]['i5'][i]+=1\n",
    "                        lsij[k]['j5'][j]+=1\n",
    "                        if lsij[k]['j5'][j] == 5 or lsij[k]['i5'][i] == 5:\n",
    "                            print('BINGO!!!')\n",
    "                            return boards[k], num\n",
    "\n",
    "winning_board_ex, last_number_ex = bingo(role_numbers_ex, boards_ex)\n",
    "sm_ex=0\n",
    "for i in range(5):\n",
    "    for j in range(5):\n",
    "        sm_ex+=int(winning_board_ex[i][j])\n",
    "\n",
    "print(sm_ex*int(last_number_ex))\n",
    "\n",
    "\n",
    "winning_board, last_number = bingo(role_numbers, boards)\n",
    "sm=0\n",
    "for i in range(5):\n",
    "    for j in range(5):\n",
    "        sm+=int(winning_board[i][j])\n",
    "\n",
    "print(sm_ex*int(last_number))"
   ]
  },
  {
   "cell_type": "code",
   "execution_count": 146,
   "metadata": {},
   "outputs": [
    {
     "name": "stdout",
     "output_type": "stream",
     "text": [
      "[['3', '15', 0, 0, '22'], [0, '18', 0, 0, 0], ['19', '8', 0, '25', 0], ['20', 0, 0, 0, 0], [0, 0, 0, '12', '6']] 13\n",
      "1924\n",
      "1827\n"
     ]
    },
    {
     "data": {
      "text/plain": [
       "149"
      ]
     },
     "execution_count": 146,
     "metadata": {},
     "output_type": "execute_result"
    }
   ],
   "source": [
    "# read data\n",
    "\n",
    "myfile = open(\"data\\day4.txt\", \"rt\") # open lorem.t'x't for reading te'x't\n",
    "contents = myfile.read()         # read the entire file to string\n",
    "myfile.close()                   # close the file\n",
    "day4 = contents.split('\\n\\n')\n",
    "role_numbers = day4[0].split(',')\n",
    "boards = []\n",
    "for board in day4[1:]:\n",
    "    sp_brd = []\n",
    "    brd = board.split('\\n')\n",
    "    for b in brd:\n",
    "        if b[0] == ' ':\n",
    "            b = b[1:]\n",
    "        bb = b.replace('  ', ' ').split(' ')\n",
    "        sp_brd.append(bb)\n",
    "    boards.append(sp_brd)\n",
    "\n",
    "role_numbers\n",
    "boards\n",
    "\n",
    "\n",
    "myfile = open(\"data\\day4_ex.txt\", \"rt\") # open lorem.t'x't for reading te'x't\n",
    "contents = myfile.read()         # read the entire file to string\n",
    "myfile.close()                   # close the file\n",
    "day4_ex = contents.split('\\n\\n')\n",
    "role_numbers_ex = day4_ex[0].split(',')\n",
    "boards_ex = []\n",
    "for board in day4_ex[1:]:\n",
    "    sp_brd = []\n",
    "    brd = board.split('\\n')\n",
    "    for b in brd:\n",
    "        if b[0] == ' ':\n",
    "            b = b[1:]\n",
    "        bb = b.replace('  ', ' ').split(' ')\n",
    "        sp_brd.append(bb)\n",
    "    boards_ex.append(sp_brd)\n",
    "\n",
    "\n",
    "def bingo_lose(role_numbers, boards):\n",
    "    ls_idx=[]\n",
    "    lsij = []\n",
    "    for borad in boards:\n",
    "        ls_idx.append(0)\n",
    "        i5 = []\n",
    "        j5 = []\n",
    "        for i in range(5):     \n",
    "            i5.append(0)\n",
    "            j5.append(0)\n",
    "        lsij.append({'i5':i5,'j5':j5})\n",
    "    for num in role_numbers:\n",
    "        for k in range(len(boards)):\n",
    "            for i in range(5):\n",
    "                for j in range(5):\n",
    "                    if boards[k][i][j] == num:\n",
    "                        boards[k][i][j] = 0\n",
    "                        lsij[k]['i5'][i]+=1\n",
    "                        lsij[k]['j5'][j]+=1\n",
    "                        if (lsij[k]['j5'][j] == 5 or lsij[k]['i5'][i] == 5) and ls_idx[k]==0:\n",
    "                            ls_idx[k]=1\n",
    "                            remember_idx=k\n",
    "        if sum(ls_idx) == len(boards):\n",
    "            return boards[remember_idx], num\n",
    "\n",
    "\n",
    "lose_board_ex, last_number_ex = bingo_lose(role_numbers_ex, boards_ex)\n",
    "print(lose_board_ex, last_number_ex)\n",
    "sm_ex=0\n",
    "for i in range(5):\n",
    "    for j in range(5):\n",
    "        sm_ex+=int(lose_board_ex[i][j])\n",
    "\n",
    "print(sm_ex*int(last_number_ex))\n",
    "\n",
    "\n",
    "lose_board, last_number = bingo_lose(role_numbers, boards)\n",
    "sm=0\n",
    "for i in range(5):\n",
    "    for j in range(5):\n",
    "        sm+=int(lose_board[i][j])\n",
    "\n",
    "print(sm*int(last_number))\n",
    "\n"
   ]
  },
  {
   "cell_type": "markdown",
   "metadata": {},
   "source": [
    "<h1>Day 5</h1>"
   ]
  },
  {
   "cell_type": "code",
   "execution_count": 149,
   "metadata": {},
   "outputs": [
    {
     "data": {
      "text/plain": [
       "[{'x1': 0, 'y1': 9, 'x2': 5, 'y2': 9},\n",
       " {'x1': 8, 'y1': 0, 'x2': 0, 'y2': 8},\n",
       " {'x1': 9, 'y1': 4, 'x2': 3, 'y2': 4},\n",
       " {'x1': 2, 'y1': 2, 'x2': 2, 'y2': 1},\n",
       " {'x1': 7, 'y1': 0, 'x2': 7, 'y2': 4},\n",
       " {'x1': 6, 'y1': 4, 'x2': 2, 'y2': 0},\n",
       " {'x1': 0, 'y1': 9, 'x2': 2, 'y2': 9},\n",
       " {'x1': 3, 'y1': 4, 'x2': 1, 'y2': 4},\n",
       " {'x1': 0, 'y1': 0, 'x2': 8, 'y2': 8},\n",
       " {'x1': 5, 'y1': 5, 'x2': 8, 'y2': 2}]"
      ]
     },
     "execution_count": 149,
     "metadata": {},
     "output_type": "execute_result"
    }
   ],
   "source": [
    "# read data\n",
    "\n",
    "myfile = open(\"data\\day5.txt\", \"rt\") # open lorem.t'x't for reading te'x't\n",
    "contents = myfile.read()         # read the entire file to string\n",
    "myfile.close()                   # close the file\n",
    "day5 = contents.split('\\n')\n",
    "\n",
    "ls_xy = []\n",
    "for xy in day5:\n",
    "    vects = xy.split(' -> ')\n",
    "    xy1 = vects[0].split(',')\n",
    "    xy2 = vects[1].split(',')\n",
    "    ls_xy.append(\n",
    "        {\n",
    "            'x1':int(xy1[0]),\n",
    "            'y1':int(xy1[1]),\n",
    "            'x2':int(xy2[0]),\n",
    "            'y2':int(xy2[1]),\n",
    "        }\n",
    "    )\n",
    "\n",
    "\n",
    "myfile = open(\"data\\day5_ex.txt\", \"rt\") # open lorem.t'x't for reading te'x't\n",
    "contents = myfile.read()         # read the entire file to string\n",
    "myfile.close()                   # close the file\n",
    "day5_ex = contents.split('\\n')\n",
    "\n",
    "ls_xy_ex = []\n",
    "for xy in day5_ex:\n",
    "    vects = xy.split(' -> ')\n",
    "    xy1 = vects[0].split(',')\n",
    "    xy2 = vects[1].split(',')\n",
    "    ls_xy_ex.append(\n",
    "        {\n",
    "            'x1':int(xy1[0]),\n",
    "            'y1':int(xy1[1]),\n",
    "            'x2':int(xy2[0]),\n",
    "            'y2':int(xy2[1]),\n",
    "        }\n",
    "    )\n",
    " "
   ]
  },
  {
   "cell_type": "code",
   "execution_count": 155,
   "metadata": {},
   "outputs": [
    {
     "data": {
      "text/plain": [
       "6666"
      ]
     },
     "execution_count": 155,
     "metadata": {},
     "output_type": "execute_result"
    }
   ],
   "source": [
    "# puzzle 1\n",
    "def rows_vens(ls_xy, n):\n",
    "    mp = []\n",
    "    for i in range(n):\n",
    "        m = []\n",
    "        for j in range(n):\n",
    "            m.append(0)\n",
    "        mp.append(m)\n",
    "    for rw in ls_xy:\n",
    "        if rw['x1'] == rw['x2']:\n",
    "            for i in range(rw['y1'],rw['y2']+1):\n",
    "                mp[rw['x1']][i]+=1\n",
    "            for i in range(rw['y2'],rw['y1']+1):\n",
    "                mp[rw['x1']][i]+=1\n",
    "        if rw['y1'] == rw['y2']:\n",
    "            for i in range(rw['x1'],rw['x2']+1):\n",
    "                mp[i][rw['y1']]+=1\n",
    "            for i in range(rw['x2'],rw['x1']+1):\n",
    "                mp[i][rw['y1']]+=1\n",
    "    return mp\n",
    "\n",
    "\n",
    "mp_ex = rows_vens(ls_xy_ex, 10)\n",
    "sm_ex = 0\n",
    "for i in range(len(mp_ex)):\n",
    "    for j in range(len(mp_ex[0])):\n",
    "        if mp_ex[i][j]>=2:\n",
    "            sm_ex+=1\n",
    "sm_ex\n",
    "\n",
    "mp = rows_vens(ls_xy, 1000)\n",
    "sm = 0\n",
    "for i in range(len(mp)):\n",
    "    for j in range(len(mp[0])):\n",
    "        if mp[i][j]>=2:\n",
    "            sm+=1\n",
    "sm"
   ]
  },
  {
   "cell_type": "code",
   "execution_count": 167,
   "metadata": {},
   "outputs": [
    {
     "name": "stdout",
     "output_type": "stream",
     "text": [
      "12\n",
      "19081\n"
     ]
    }
   ],
   "source": [
    "# puzzle 2\n",
    "def all_vens(ls_xy, n):\n",
    "    mp = []\n",
    "    for i in range(n):\n",
    "        m = []\n",
    "        for j in range(n):\n",
    "            m.append(0)\n",
    "        mp.append(m)\n",
    "    for rw in ls_xy:\n",
    "        if rw['x1'] == rw['x2']:\n",
    "            for i in range(rw['y1'],rw['y2']+1):\n",
    "                mp[rw['x1']][i]+=1\n",
    "            for i in range(rw['y2'],rw['y1']+1):\n",
    "                mp[rw['x1']][i]+=1\n",
    "        if rw['y1'] == rw['y2']:\n",
    "            for i in range(rw['x1'],rw['x2']+1):\n",
    "                mp[i][rw['y1']]+=1\n",
    "            for i in range(rw['x2'],rw['x1']+1):\n",
    "                mp[i][rw['y1']]+=1\n",
    "        if rw['x1'] != rw['x2'] and rw['y1'] != rw['y2']:\n",
    "            m = (rw['y1'] - rw['y2'])/(rw['x1'] - rw['x2'])\n",
    "            n = rw['y1'] - (rw['x1']*m)\n",
    "            if m == 1:\n",
    "                if rw['x1'] < rw['x2']:\n",
    "                    for i in range(abs(rw['x1'] - rw['x2'])+1):\n",
    "                        mp[rw['x1'] + i][rw['y1'] + i]+=1\n",
    "                if rw['x1'] > rw['x2']:\n",
    "                    for i in range(abs(rw['x1'] - rw['x2'])+1):\n",
    "                        mp[rw['x2'] + i][rw['y2'] + i]+=1\n",
    "            if m == -1:\n",
    "                if rw['x1'] < rw['x2']:\n",
    "                    for i in range(abs(rw['x1'] - rw['x2'])+1):\n",
    "                        mp[rw['x1'] + i][rw['y1'] - i]+=1\n",
    "                if rw['x1'] > rw['x2']:\n",
    "                    for i in range(abs(rw['x1'] - rw['x2'])+1):\n",
    "                        mp[rw['x2'] + i][rw['y2'] - i]+=1\n",
    "            \n",
    "    return mp\n",
    "\n",
    "mp_ex = all_vens(ls_xy_ex, 10)\n",
    "\n",
    "sm_ex = 0\n",
    "for i in range(len(mp_ex)):\n",
    "    for j in range(len(mp_ex[0])):\n",
    "        if mp_ex[i][j]>=2:\n",
    "            sm_ex+=1\n",
    "mp = all_vens(ls_xy, 1000)\n",
    "sm = 0\n",
    "for i in range(len(mp)):\n",
    "    for j in range(len(mp[0])):\n",
    "        if mp[i][j]>=2:\n",
    "            sm+=1\n",
    "\n",
    "print(sm_ex)\n",
    "print(sm)\n"
   ]
  }
 ],
 "metadata": {
  "interpreter": {
   "hash": "aa2eb2128c5f8af9ad6aba703aa774db81b516ef9be9c8d965d31ca53d522192"
  },
  "kernelspec": {
   "display_name": "Python 3.8.8 64-bit ('base': conda)",
   "language": "python",
   "name": "python3"
  },
  "language_info": {
   "codemirror_mode": {
    "name": "ipython",
    "version": 3
   },
   "file_extension": ".py",
   "mimetype": "text/x-python",
   "name": "python",
   "nbconvert_exporter": "python",
   "pygments_lexer": "ipython3",
   "version": "3.8.8"
  },
  "orig_nbformat": 4
 },
 "nbformat": 4,
 "nbformat_minor": 2
}
