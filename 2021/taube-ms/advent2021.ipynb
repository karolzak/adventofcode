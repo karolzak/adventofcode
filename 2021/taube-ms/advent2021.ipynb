{
 "cells": [
  {
   "cell_type": "markdown",
   "metadata": {},
   "source": [
    "<h1>Day 1</h1>"
   ]
  },
  {
   "cell_type": "code",
   "execution_count": 54,
   "metadata": {},
   "outputs": [
    {
     "data": {
      "text/plain": [
       "[199, 200, 208, 210, 200, 207, 240, 269, 260, 263]"
      ]
     },
     "execution_count": 54,
     "metadata": {},
     "output_type": "execute_result"
    }
   ],
   "source": [
    "# read data\n",
    "import re\n",
    "\n",
    "myfile = open(\"data\\day1.txt\", \"rt\") # open lorem.t'x't for reading te'x't\n",
    "contents = myfile.read()         # read the entire file to string\n",
    "myfile.close()                   # close the file\n",
    "day1 = contents.split('\\n')\n",
    "\n",
    "for i in range(len(day1)):\n",
    "    day1[i]=int(day1[i])\n",
    "\n",
    "myfile = open(\"data\\day1_ex.txt\", \"rt\") # open lorem.t'x't for reading te'x't\n",
    "contents = myfile.read()         # read the entire file to string\n",
    "myfile.close()                   # close the file\n",
    "day1_ex = contents.split('\\n')\n",
    "\n",
    "for i in range(len(day1_ex)):\n",
    "    day1_ex[i]=int(day1_ex[i])\n",
    "\n",
    "day1_ex\n",
    "len(day1_ex)\n",
    "for i in range(len(day1_ex)):\n",
    "    print(i)"
   ]
  },
  {
   "cell_type": "code",
   "execution_count": 31,
   "metadata": {},
   "outputs": [
    {
     "name": "stdout",
     "output_type": "stream",
     "text": [
      "7\n",
      "1446\n",
      "5\n",
      "1486\n"
     ]
    }
   ],
   "source": [
    "# solution day1 - part 1\n",
    "def increase_sea_level(ls):\n",
    "    step = 0\n",
    "    for i in range(1, len(ls)):\n",
    "        if ls[i] >= ls[i-1]:\n",
    "            step+=1\n",
    "    return step\n",
    "\n",
    "print(increase_sea_level(day1_ex))\n",
    "print(increase_sea_level(day1))\n",
    "# solution day1 - part 2\n",
    "\n",
    "def increase_sea_level_2(ls):\n",
    "    step = 0\n",
    "    sm_before = ls[0] + ls[1] + ls[2]\n",
    "    for i in range(1, len(ls)-2):\n",
    "        sm_new = ls[i] + ls[i+1] + ls[i+2]\n",
    "        if sm_new > sm_before:\n",
    "            step+=1\n",
    "        sm_before = sm_new\n",
    "    return step\n",
    "\n",
    "print(increase_sea_level_2(day1_ex))\n",
    "print(increase_sea_level_2(day1))\n"
   ]
  },
  {
   "cell_type": "markdown",
   "metadata": {},
   "source": [
    "<h1>Day 2</h1>"
   ]
  },
  {
   "cell_type": "code",
   "execution_count": 33,
   "metadata": {},
   "outputs": [],
   "source": [
    "# read data\n",
    "import re\n",
    "\n",
    "myfile = open(\"data\\day2.txt\", \"rt\") # open lorem.t'x't for reading te'x't\n",
    "contents = myfile.read()         # read the entire file to string\n",
    "myfile.close()                   # close the file\n",
    "day2 = contents.split('\\n')\n",
    "\n",
    "for i in range(len(day2)):\n",
    "    day2[i]=day2[i].split()\n",
    "\n",
    "myfile = open(\"data\\day2_ex.txt\", \"rt\") # open lorem.t'x't for reading te'x't\n",
    "contents = myfile.read()         # read the entire file to string\n",
    "myfile.close()                   # close the file\n",
    "day2_ex = contents.split('\\n')\n",
    "\n",
    "for i in range(len(day2_ex)):\n",
    "    day2_ex[i]=day2_ex[i].split()"
   ]
  },
  {
   "cell_type": "code",
   "execution_count": 36,
   "metadata": {},
   "outputs": [
    {
     "name": "stdout",
     "output_type": "stream",
     "text": [
      "150\n",
      "1427868\n",
      "900\n",
      "1568138742\n"
     ]
    }
   ],
   "source": [
    "# solution day2 - part 1\n",
    "\n",
    "def go_sub(ls):\n",
    "    horz = 0\n",
    "    deph = 0\n",
    "    for s in ls:\n",
    "        if s[0] == 'forward':\n",
    "            horz+=int(s[1])\n",
    "        if s[0] == 'down':\n",
    "            deph+=int(s[1])\n",
    "        if s[0] == 'up':\n",
    "            deph-=int(s[1])\n",
    "    return horz*deph\n",
    "\n",
    "print(go_sub(day2_ex))\n",
    "print(go_sub(day2))\n",
    "\n",
    "\n",
    "# solution day2 - part 2\n",
    "\n",
    "def go_sub_2(ls):\n",
    "    aim = 0\n",
    "    horz = 0\n",
    "    deph = 0\n",
    "    for s in ls:\n",
    "        if s[0] == 'forward':\n",
    "            horz+=int(s[1])\n",
    "            deph+=int(s[1])*aim\n",
    "        if s[0] == 'down':\n",
    "            aim+=int(s[1])\n",
    "        if s[0] == 'up':\n",
    "            aim-=int(s[1])\n",
    "    return horz*deph\n",
    "\n",
    "print(go_sub_2(day2_ex))\n",
    "print(go_sub_2(day2))\n",
    "\n"
   ]
  },
  {
   "cell_type": "markdown",
   "metadata": {},
   "source": [
    "<h1>Day 3 </h1>"
   ]
  },
  {
   "cell_type": "code",
   "execution_count": 56,
   "metadata": {},
   "outputs": [],
   "source": [
    "# read data\n",
    "\n",
    "myfile = open(\"data\\day3.txt\", \"rt\") # open lorem.t'x't for reading te'x't\n",
    "contents = myfile.read()         # read the entire file to string\n",
    "myfile.close()                   # close the file\n",
    "day3 = contents.split('\\n')\n",
    "\n",
    "myfile = open(\"data\\day3_ex.txt\", \"rt\") # open lorem.t'x't for reading te'x't\n",
    "contents = myfile.read()         # read the entire file to string\n",
    "myfile.close()                   # close the file\n",
    "day3_ex = contents.split('\\n')"
   ]
  },
  {
   "cell_type": "code",
   "execution_count": 75,
   "metadata": {},
   "outputs": [
    {
     "name": "stdout",
     "output_type": "stream",
     "text": [
      "198.0\n",
      "4191876.0\n"
     ]
    }
   ],
   "source": [
    "import math\n",
    "\n",
    "def gamma_epsilon(ls):\n",
    "    gamma = []\n",
    "    epsilon = []\n",
    "    for i in range(len(ls[0])):\n",
    "        zero = 0\n",
    "        one = 0\n",
    "        for j in range(len(ls)):\n",
    "            if ls[j][i] == '0':\n",
    "                zero+=1\n",
    "            if ls[j][i] == '1':\n",
    "                one+=1\n",
    "        if zero > one:\n",
    "            gamma.append(0)\n",
    "            epsilon.append(1)\n",
    "        if one > zero:\n",
    "            gamma.append(1)\n",
    "            epsilon.append(0)\n",
    "    return gamma, epsilon\n",
    "\n",
    "\n",
    "def bin_to_num(ls):\n",
    "    num = 0\n",
    "    for i in range(len(ls)):\n",
    "        num+=int(ls[len(ls)-1-i])*math.pow(2,i)\n",
    "    return num\n",
    "\n",
    "\n",
    "gamma, epsilon = gamma_epsilon(day3_ex)\n",
    "print(bin_to_num(gamma)*bin_to_num(epsilon))\n",
    "\n",
    "gamma, epsilon = gamma_epsilon(day3)\n",
    "print(bin_to_num(gamma)*bin_to_num(epsilon))"
   ]
  },
  {
   "cell_type": "code",
   "execution_count": 77,
   "metadata": {},
   "outputs": [
    {
     "name": "stdout",
     "output_type": "stream",
     "text": [
      "10111\n",
      "01010\n",
      "230.0\n",
      "010101101111\n",
      "100110010111\n",
      "3414905.0\n"
     ]
    }
   ],
   "source": [
    "\n",
    "def find_o2(ls, step):\n",
    "    if len(ls) == 1:\n",
    "        return ls[0]\n",
    "    zero = 0\n",
    "    one = 0\n",
    "    for i in range(len(ls)):\n",
    "        if ls[i][step] == '0':\n",
    "            zero+=1\n",
    "        if ls[i][step] == '1':\n",
    "            one+=1\n",
    "    if zero > one:\n",
    "        ls_new = []\n",
    "        for i in range(len(ls)):\n",
    "            if ls[i][step] == '0':\n",
    "                ls_new.append(ls[i])\n",
    "        return find_o2(ls_new, step+1)\n",
    "    if one >= zero:\n",
    "        ls_new = []\n",
    "        for i in range(len(ls)):\n",
    "            if ls[i][step] == '1':\n",
    "                ls_new.append(ls[i])\n",
    "        return find_o2(ls_new, step+1)\n",
    "\n",
    "\n",
    "def find_co2(ls, step):\n",
    "    if len(ls) == 1:\n",
    "        return ls[0]\n",
    "    zero = 0\n",
    "    one = 0\n",
    "    for i in range(len(ls)):\n",
    "        if ls[i][step] == '0':\n",
    "            zero+=1\n",
    "        if ls[i][step] == '1':\n",
    "            one+=1\n",
    "    if zero <= one:\n",
    "        ls_new = []\n",
    "        for i in range(len(ls)):\n",
    "            if ls[i][step] == '0':\n",
    "                ls_new.append(ls[i])\n",
    "        return find_co2(ls_new, step+1)\n",
    "    if one < zero:\n",
    "        ls_new = []\n",
    "        for i in range(len(ls)):\n",
    "            if ls[i][step] == '1':\n",
    "                ls_new.append(ls[i])\n",
    "        return find_co2(ls_new, step+1)\n",
    "    \n",
    "print(find_o2(day3_ex, 0))\n",
    "print(find_co2(day3_ex, 0))\n",
    "\n",
    "print(bin_to_num(find_o2(day3_ex, 0))*bin_to_num(find_co2(day3_ex, 0)))\n",
    "\n",
    "print(find_o2(day3, 0))\n",
    "print(find_co2(day3, 0))\n",
    "\n",
    "print(bin_to_num(find_o2(day3, 0))*bin_to_num(find_co2(day3, 0)))"
   ]
  },
  {
   "cell_type": "markdown",
   "metadata": {},
   "source": [
    "<h1>Day 4</h1>"
   ]
  },
  {
   "cell_type": "code",
   "execution_count": 136,
   "metadata": {},
   "outputs": [
    {
     "data": {
      "text/plain": [
       "[[['22', '13', '17', '11', '0'],\n",
       "  ['8', '2', '23', '4', '24'],\n",
       "  ['21', '9', '14', '16', '7'],\n",
       "  ['6', '10', '3', '18', '5'],\n",
       "  ['1', '12', '20', '15', '19']],\n",
       " [['3', '15', '0', '2', '22'],\n",
       "  ['9', '18', '13', '17', '5'],\n",
       "  ['19', '8', '7', '25', '23'],\n",
       "  ['20', '11', '10', '24', '4'],\n",
       "  ['14', '21', '16', '12', '6']],\n",
       " [['14', '21', '17', '24', '4'],\n",
       "  ['10', '16', '15', '9', '19'],\n",
       "  ['18', '8', '23', '26', '20'],\n",
       "  ['22', '11', '13', '6', '5'],\n",
       "  ['2', '0', '12', '3', '7']]]"
      ]
     },
     "execution_count": 136,
     "metadata": {},
     "output_type": "execute_result"
    }
   ],
   "source": [
    "# read data\n",
    "\n",
    "myfile = open(\"data\\day4.txt\", \"rt\") # open lorem.t'x't for reading te'x't\n",
    "contents = myfile.read()         # read the entire file to string\n",
    "myfile.close()                   # close the file\n",
    "day4 = contents.split('\\n\\n')\n",
    "role_numbers = day4[0].split(',')\n",
    "boards = []\n",
    "for board in day4[1:]:\n",
    "    sp_brd = []\n",
    "    brd = board.split('\\n')\n",
    "    for b in brd:\n",
    "        if b[0] == ' ':\n",
    "            b = b[1:]\n",
    "        bb = b.replace('  ', ' ').split(' ')\n",
    "        sp_brd.append(bb)\n",
    "    boards.append(sp_brd)\n",
    "\n",
    "role_numbers\n",
    "boards\n",
    "\n",
    "\n",
    "myfile = open(\"data\\day4_ex.txt\", \"rt\") # open lorem.t'x't for reading te'x't\n",
    "contents = myfile.read()         # read the entire file to string\n",
    "myfile.close()                   # close the file\n",
    "day4_ex = contents.split('\\n\\n')\n",
    "role_numbers_ex = day4_ex[0].split(',')\n",
    "boards_ex = []\n",
    "for board in day4_ex[1:]:\n",
    "    sp_brd = []\n",
    "    brd = board.split('\\n')\n",
    "    for b in brd:\n",
    "        if b[0] == ' ':\n",
    "            b = b[1:]\n",
    "        bb = b.replace('  ', ' ').split(' ')\n",
    "        sp_brd.append(bb)\n",
    "    boards_ex.append(sp_brd)\n",
    "\n",
    "role_numbers_ex\n",
    "boards_ex"
   ]
  },
  {
   "cell_type": "code",
   "execution_count": 126,
   "metadata": {},
   "outputs": [
    {
     "name": "stdout",
     "output_type": "stream",
     "text": [
      "BINGO!!!\n",
      "4512\n",
      "BINGO!!!\n",
      "44736\n"
     ]
    }
   ],
   "source": [
    "def bingo(role_numbers, boards):\n",
    "    lsij = []\n",
    "    for borad in boards:\n",
    "        i5 = []\n",
    "        j5 = []\n",
    "        for i in range(5):     \n",
    "            i5.append(0)\n",
    "            j5.append(0)\n",
    "        lsij.append({'i5':i5,'j5':j5})\n",
    "    for num in role_numbers:\n",
    "        for k in range(len(boards)):\n",
    "            for i in range(5):\n",
    "                for j in range(5):\n",
    "                    if boards[k][i][j] == num:\n",
    "                        boards[k][i][j] = 0\n",
    "                        lsij[k]['i5'][i]+=1\n",
    "                        lsij[k]['j5'][j]+=1\n",
    "                        if lsij[k]['j5'][j] == 5 or lsij[k]['i5'][i] == 5:\n",
    "                            print('BINGO!!!')\n",
    "                            return boards[k], num\n",
    "\n",
    "winning_board_ex, last_number_ex = bingo(role_numbers_ex, boards_ex)\n",
    "sm_ex=0\n",
    "for i in range(5):\n",
    "    for j in range(5):\n",
    "        sm_ex+=int(winning_board_ex[i][j])\n",
    "\n",
    "print(sm_ex*int(last_number_ex))\n",
    "\n",
    "\n",
    "winning_board, last_number = bingo(role_numbers, boards)\n",
    "sm=0\n",
    "for i in range(5):\n",
    "    for j in range(5):\n",
    "        sm+=int(winning_board[i][j])\n",
    "\n",
    "print(sm_ex*int(last_number))"
   ]
  },
  {
   "cell_type": "code",
   "execution_count": 146,
   "metadata": {},
   "outputs": [
    {
     "name": "stdout",
     "output_type": "stream",
     "text": [
      "[['3', '15', 0, 0, '22'], [0, '18', 0, 0, 0], ['19', '8', 0, '25', 0], ['20', 0, 0, 0, 0], [0, 0, 0, '12', '6']] 13\n",
      "1924\n",
      "1827\n"
     ]
    },
    {
     "data": {
      "text/plain": [
       "149"
      ]
     },
     "execution_count": 146,
     "metadata": {},
     "output_type": "execute_result"
    }
   ],
   "source": [
    "# read data\n",
    "\n",
    "myfile = open(\"data\\day4.txt\", \"rt\") # open lorem.t'x't for reading te'x't\n",
    "contents = myfile.read()         # read the entire file to string\n",
    "myfile.close()                   # close the file\n",
    "day4 = contents.split('\\n\\n')\n",
    "role_numbers = day4[0].split(',')\n",
    "boards = []\n",
    "for board in day4[1:]:\n",
    "    sp_brd = []\n",
    "    brd = board.split('\\n')\n",
    "    for b in brd:\n",
    "        if b[0] == ' ':\n",
    "            b = b[1:]\n",
    "        bb = b.replace('  ', ' ').split(' ')\n",
    "        sp_brd.append(bb)\n",
    "    boards.append(sp_brd)\n",
    "\n",
    "role_numbers\n",
    "boards\n",
    "\n",
    "\n",
    "myfile = open(\"data\\day4_ex.txt\", \"rt\") # open lorem.t'x't for reading te'x't\n",
    "contents = myfile.read()         # read the entire file to string\n",
    "myfile.close()                   # close the file\n",
    "day4_ex = contents.split('\\n\\n')\n",
    "role_numbers_ex = day4_ex[0].split(',')\n",
    "boards_ex = []\n",
    "for board in day4_ex[1:]:\n",
    "    sp_brd = []\n",
    "    brd = board.split('\\n')\n",
    "    for b in brd:\n",
    "        if b[0] == ' ':\n",
    "            b = b[1:]\n",
    "        bb = b.replace('  ', ' ').split(' ')\n",
    "        sp_brd.append(bb)\n",
    "    boards_ex.append(sp_brd)\n",
    "\n",
    "\n",
    "def bingo_lose(role_numbers, boards):\n",
    "    ls_idx=[]\n",
    "    lsij = []\n",
    "    for borad in boards:\n",
    "        ls_idx.append(0)\n",
    "        i5 = []\n",
    "        j5 = []\n",
    "        for i in range(5):     \n",
    "            i5.append(0)\n",
    "            j5.append(0)\n",
    "        lsij.append({'i5':i5,'j5':j5})\n",
    "    for num in role_numbers:\n",
    "        for k in range(len(boards)):\n",
    "            for i in range(5):\n",
    "                for j in range(5):\n",
    "                    if boards[k][i][j] == num:\n",
    "                        boards[k][i][j] = 0\n",
    "                        lsij[k]['i5'][i]+=1\n",
    "                        lsij[k]['j5'][j]+=1\n",
    "                        if (lsij[k]['j5'][j] == 5 or lsij[k]['i5'][i] == 5) and ls_idx[k]==0:\n",
    "                            ls_idx[k]=1\n",
    "                            remember_idx=k\n",
    "        if sum(ls_idx) == len(boards):\n",
    "            return boards[remember_idx], num\n",
    "\n",
    "\n",
    "lose_board_ex, last_number_ex = bingo_lose(role_numbers_ex, boards_ex)\n",
    "print(lose_board_ex, last_number_ex)\n",
    "sm_ex=0\n",
    "for i in range(5):\n",
    "    for j in range(5):\n",
    "        sm_ex+=int(lose_board_ex[i][j])\n",
    "\n",
    "print(sm_ex*int(last_number_ex))\n",
    "\n",
    "\n",
    "lose_board, last_number = bingo_lose(role_numbers, boards)\n",
    "sm=0\n",
    "for i in range(5):\n",
    "    for j in range(5):\n",
    "        sm+=int(lose_board[i][j])\n",
    "\n",
    "print(sm*int(last_number))\n",
    "\n"
   ]
  },
  {
   "cell_type": "markdown",
   "metadata": {},
   "source": [
    "<h1>Day 5</h1>"
   ]
  },
  {
   "cell_type": "code",
   "execution_count": 149,
   "metadata": {},
   "outputs": [
    {
     "data": {
      "text/plain": [
       "[{'x1': 0, 'y1': 9, 'x2': 5, 'y2': 9},\n",
       " {'x1': 8, 'y1': 0, 'x2': 0, 'y2': 8},\n",
       " {'x1': 9, 'y1': 4, 'x2': 3, 'y2': 4},\n",
       " {'x1': 2, 'y1': 2, 'x2': 2, 'y2': 1},\n",
       " {'x1': 7, 'y1': 0, 'x2': 7, 'y2': 4},\n",
       " {'x1': 6, 'y1': 4, 'x2': 2, 'y2': 0},\n",
       " {'x1': 0, 'y1': 9, 'x2': 2, 'y2': 9},\n",
       " {'x1': 3, 'y1': 4, 'x2': 1, 'y2': 4},\n",
       " {'x1': 0, 'y1': 0, 'x2': 8, 'y2': 8},\n",
       " {'x1': 5, 'y1': 5, 'x2': 8, 'y2': 2}]"
      ]
     },
     "execution_count": 149,
     "metadata": {},
     "output_type": "execute_result"
    }
   ],
   "source": [
    "# read data\n",
    "\n",
    "myfile = open(\"data\\day5.txt\", \"rt\") # open lorem.t'x't for reading te'x't\n",
    "contents = myfile.read()         # read the entire file to string\n",
    "myfile.close()                   # close the file\n",
    "day5 = contents.split('\\n')\n",
    "\n",
    "ls_xy = []\n",
    "for xy in day5:\n",
    "    vects = xy.split(' -> ')\n",
    "    xy1 = vects[0].split(',')\n",
    "    xy2 = vects[1].split(',')\n",
    "    ls_xy.append(\n",
    "        {\n",
    "            'x1':int(xy1[0]),\n",
    "            'y1':int(xy1[1]),\n",
    "            'x2':int(xy2[0]),\n",
    "            'y2':int(xy2[1]),\n",
    "        }\n",
    "    )\n",
    "\n",
    "\n",
    "myfile = open(\"data\\day5_ex.txt\", \"rt\") # open lorem.t'x't for reading te'x't\n",
    "contents = myfile.read()         # read the entire file to string\n",
    "myfile.close()                   # close the file\n",
    "day5_ex = contents.split('\\n')\n",
    "\n",
    "ls_xy_ex = []\n",
    "for xy in day5_ex:\n",
    "    vects = xy.split(' -> ')\n",
    "    xy1 = vects[0].split(',')\n",
    "    xy2 = vects[1].split(',')\n",
    "    ls_xy_ex.append(\n",
    "        {\n",
    "            'x1':int(xy1[0]),\n",
    "            'y1':int(xy1[1]),\n",
    "            'x2':int(xy2[0]),\n",
    "            'y2':int(xy2[1]),\n",
    "        }\n",
    "    )\n",
    " "
   ]
  },
  {
   "cell_type": "code",
   "execution_count": 155,
   "metadata": {},
   "outputs": [
    {
     "data": {
      "text/plain": [
       "6666"
      ]
     },
     "execution_count": 155,
     "metadata": {},
     "output_type": "execute_result"
    }
   ],
   "source": [
    "# puzzle 1\n",
    "def rows_vens(ls_xy, n):\n",
    "    mp = []\n",
    "    for i in range(n):\n",
    "        m = []\n",
    "        for j in range(n):\n",
    "            m.append(0)\n",
    "        mp.append(m)\n",
    "    for rw in ls_xy:\n",
    "        if rw['x1'] == rw['x2']:\n",
    "            for i in range(rw['y1'],rw['y2']+1):\n",
    "                mp[rw['x1']][i]+=1\n",
    "            for i in range(rw['y2'],rw['y1']+1):\n",
    "                mp[rw['x1']][i]+=1\n",
    "        if rw['y1'] == rw['y2']:\n",
    "            for i in range(rw['x1'],rw['x2']+1):\n",
    "                mp[i][rw['y1']]+=1\n",
    "            for i in range(rw['x2'],rw['x1']+1):\n",
    "                mp[i][rw['y1']]+=1\n",
    "    return mp\n",
    "\n",
    "\n",
    "mp_ex = rows_vens(ls_xy_ex, 10)\n",
    "sm_ex = 0\n",
    "for i in range(len(mp_ex)):\n",
    "    for j in range(len(mp_ex[0])):\n",
    "        if mp_ex[i][j]>=2:\n",
    "            sm_ex+=1\n",
    "sm_ex\n",
    "\n",
    "mp = rows_vens(ls_xy, 1000)\n",
    "sm = 0\n",
    "for i in range(len(mp)):\n",
    "    for j in range(len(mp[0])):\n",
    "        if mp[i][j]>=2:\n",
    "            sm+=1\n",
    "sm"
   ]
  },
  {
   "cell_type": "code",
   "execution_count": 167,
   "metadata": {},
   "outputs": [
    {
     "name": "stdout",
     "output_type": "stream",
     "text": [
      "12\n",
      "19081\n"
     ]
    }
   ],
   "source": [
    "# puzzle 2\n",
    "def all_vens(ls_xy, n):\n",
    "    mp = []\n",
    "    for i in range(n):\n",
    "        m = []\n",
    "        for j in range(n):\n",
    "            m.append(0)\n",
    "        mp.append(m)\n",
    "    for rw in ls_xy:\n",
    "        if rw['x1'] == rw['x2']:\n",
    "            for i in range(rw['y1'],rw['y2']+1):\n",
    "                mp[rw['x1']][i]+=1\n",
    "            for i in range(rw['y2'],rw['y1']+1):\n",
    "                mp[rw['x1']][i]+=1\n",
    "        if rw['y1'] == rw['y2']:\n",
    "            for i in range(rw['x1'],rw['x2']+1):\n",
    "                mp[i][rw['y1']]+=1\n",
    "            for i in range(rw['x2'],rw['x1']+1):\n",
    "                mp[i][rw['y1']]+=1\n",
    "        if rw['x1'] != rw['x2'] and rw['y1'] != rw['y2']:\n",
    "            m = (rw['y1'] - rw['y2'])/(rw['x1'] - rw['x2'])\n",
    "            n = rw['y1'] - (rw['x1']*m)\n",
    "            if m == 1:\n",
    "                if rw['x1'] < rw['x2']:\n",
    "                    for i in range(abs(rw['x1'] - rw['x2'])+1):\n",
    "                        mp[rw['x1'] + i][rw['y1'] + i]+=1\n",
    "                if rw['x1'] > rw['x2']:\n",
    "                    for i in range(abs(rw['x1'] - rw['x2'])+1):\n",
    "                        mp[rw['x2'] + i][rw['y2'] + i]+=1\n",
    "            if m == -1:\n",
    "                if rw['x1'] < rw['x2']:\n",
    "                    for i in range(abs(rw['x1'] - rw['x2'])+1):\n",
    "                        mp[rw['x1'] + i][rw['y1'] - i]+=1\n",
    "                if rw['x1'] > rw['x2']:\n",
    "                    for i in range(abs(rw['x1'] - rw['x2'])+1):\n",
    "                        mp[rw['x2'] + i][rw['y2'] - i]+=1\n",
    "            \n",
    "    return mp\n",
    "\n",
    "mp_ex = all_vens(ls_xy_ex, 10)\n",
    "\n",
    "sm_ex = 0\n",
    "for i in range(len(mp_ex)):\n",
    "    for j in range(len(mp_ex[0])):\n",
    "        if mp_ex[i][j]>=2:\n",
    "            sm_ex+=1\n",
    "mp = all_vens(ls_xy, 1000)\n",
    "sm = 0\n",
    "for i in range(len(mp)):\n",
    "    for j in range(len(mp[0])):\n",
    "        if mp[i][j]>=2:\n",
    "            sm+=1\n",
    "\n",
    "print(sm_ex)\n",
    "print(sm)\n"
   ]
  },
  {
   "cell_type": "markdown",
   "metadata": {},
   "source": [
    "<h1>Day 6</h1>"
   ]
  },
  {
   "cell_type": "code",
   "execution_count": 174,
   "metadata": {},
   "outputs": [],
   "source": [
    "# read data\n",
    "\n",
    "myfile = open(\"data\\day6.txt\", \"rt\") # open lorem.t'x't for reading te'x't\n",
    "contents = myfile.read()         # read the entire file to string\n",
    "myfile.close()                   # close the file\n",
    "day6 = contents.split(',')\n",
    "for i in range(len(day6)):\n",
    "    day6[i]=int(day6[i])\n",
    "\n",
    "myfile = open(\"data\\day6_ex.txt\", \"rt\") # open lorem.t'x't for reading te'x't\n",
    "contents = myfile.read()         # read the entire file to string\n",
    "myfile.close()                   # close the file\n",
    "day6_ex = contents.split(',')\n",
    "for i in range(len(day6_ex)):\n",
    "    day6_ex[i]=int(day6_ex[i])\n"
   ]
  },
  {
   "cell_type": "code",
   "execution_count": 184,
   "metadata": {},
   "outputs": [
    {
     "name": "stdout",
     "output_type": "stream",
     "text": [
      "5934\n",
      "391888\n"
     ]
    }
   ],
   "source": [
    "# puzzle 1\n",
    "# read data\n",
    "\n",
    "myfile = open(\"data\\day6.txt\", \"rt\") # open lorem.t'x't for reading te'x't\n",
    "contents = myfile.read()         # read the entire file to string\n",
    "myfile.close()                   # close the file\n",
    "day6 = contents.split(',')\n",
    "for i in range(len(day6)):\n",
    "    day6[i]=int(day6[i])\n",
    "\n",
    "myfile = open(\"data\\day6_ex.txt\", \"rt\") # open lorem.t'x't for reading te'x't\n",
    "contents = myfile.read()         # read the entire file to string\n",
    "myfile.close()                   # close the file\n",
    "day6_ex = contents.split(',')\n",
    "for i in range(len(day6_ex)):\n",
    "    day6_ex[i]=int(day6_ex[i])\n",
    "\n",
    "\n",
    "def num_lanternfish(ls, days):\n",
    "    for day in range(days):\n",
    "        for i in range(len(ls)):\n",
    "            ls[i]-= 1\n",
    "            if ls[i] == -1:\n",
    "                ls[i] = 6\n",
    "                ls.append(8)\n",
    "        print(len(ls))\n",
    "    return len(ls)\n",
    "\n",
    "print(num_lanternfish(day6_ex, 80))\n",
    "print(num_lanternfish(day6, 80))"
   ]
  },
  {
   "cell_type": "code",
   "execution_count": 195,
   "metadata": {},
   "outputs": [
    {
     "data": {
      "text/plain": [
       "<AxesSubplot:>"
      ]
     },
     "execution_count": 195,
     "metadata": {},
     "output_type": "execute_result"
    },
    {
     "data": {
      "image/png": "[encoded data removed]",
      "text/plain": [
       "<Figure size 432x288 with 1 Axes>"
      ]
     },
     "metadata": {
      "needs_background": "light"
     },
     "output_type": "display_data"
    },
    {
     "data": {
      "image/png": "[encoded data removed]",
      "text/plain": [
       "<Figure size 432x288 with 1 Axes>"
      ]
     },
     "metadata": {
      "needs_background": "light"
     },
     "output_type": "display_data"
    }
   ],
   "source": [
    "import math\n",
    "import pandas as pd\n",
    "import matplotlib.pyplot as plt\n",
    "\n",
    "def num_lanternfish_plot_one(ls, days):\n",
    "    lss = []\n",
    "    for day in range(days):\n",
    "        for i in range(len(ls)):\n",
    "            ls[i]-= 1\n",
    "            if ls[i] == -1:\n",
    "                ls[i] = 6\n",
    "                ls.append(8)\n",
    "        lss.append(len(ls))\n",
    "    pd.DataFrame(lss).plot()\n",
    "\n",
    "num_lanternfish_plot_one([6],150)\n",
    "\n",
    "lss = []\n",
    "for i in range(int(150/7)):\n",
    "    lss.append(math.pow(2,i))\n",
    "pd.DataFrame(lss).plot()\n"
   ]
  },
  {
   "cell_type": "code",
   "execution_count": 206,
   "metadata": {},
   "outputs": [
    {
     "name": "stdout",
     "output_type": "stream",
     "text": [
      "26984457539\n",
      "1754597645339\n"
     ]
    }
   ],
   "source": [
    "# puzzle 2\n",
    "# read data\n",
    "\n",
    "myfile = open(\"data\\day6.txt\", \"rt\") # open lorem.t'x't for reading te'x't\n",
    "contents = myfile.read()         # read the entire file to string\n",
    "myfile.close()                   # close the file\n",
    "day6 = contents.split(',')\n",
    "for i in range(len(day6)):\n",
    "    day6[i]=int(day6[i])\n",
    "\n",
    "myfile = open(\"data\\day6_ex.txt\", \"rt\") # open lorem.t'x't for reading te'x't\n",
    "contents = myfile.read()         # read the entire file to string\n",
    "myfile.close()                   # close the file\n",
    "day6_ex = contents.split(',')\n",
    "for i in range(len(day6_ex)):\n",
    "    day6_ex[i]=int(day6_ex[i])\n",
    "\n",
    "\n",
    "def num_lanternfish_scale(ls, days):\n",
    "    int_dic = {\n",
    "        0:0,\n",
    "        1:0,\n",
    "        2:0,\n",
    "        3:0,\n",
    "        4:0,\n",
    "        5:0,\n",
    "        6:0,\n",
    "        7:0,\n",
    "        8:0,\n",
    "    }\n",
    "    for lanter in ls:\n",
    "        int_dic[lanter]+=1\n",
    "    for day in range(days):\n",
    "        save8 = int_dic[0]\n",
    "        for i in range(1,9):\n",
    "            int_dic[i-1] = int_dic[i]\n",
    "        int_dic[8] = save8\n",
    "        int_dic[6]+= save8\n",
    "    return int_dic\n",
    "\n",
    "final_dic_ex = num_lanternfish_scale(day6_ex,256)\n",
    "sm_ex = 0\n",
    "for i in range(9):\n",
    "    sm_ex+=final_dic_ex[i]\n",
    "print(sm_ex)\n",
    "\n",
    "final_dic = num_lanternfish_scale(day6,256)\n",
    "sm = 0\n",
    "for i in range(9):\n",
    "    sm+=final_dic[i]\n",
    "print(sm)\n",
    "\n"
   ]
  },
  {
   "cell_type": "markdown",
   "metadata": {},
   "source": [
    "<h1>Day 7</h1>"
   ]
  },
  {
   "cell_type": "code",
   "execution_count": 100,
   "metadata": {},
   "outputs": [
    {
     "data": {
      "text/plain": [
       "[16, 1, 2, 0, 4, 2, 7, 1, 2, 14]"
      ]
     },
     "execution_count": 100,
     "metadata": {},
     "output_type": "execute_result"
    }
   ],
   "source": [
    "myfile = open(\"data\\day7.txt\", \"rt\") # open lorem.t'x't for reading te'x't\n",
    "contents = myfile.read()         # read the entire file to string\n",
    "myfile.close()                   # close the file\n",
    "day7 = contents.split(',')\n",
    "for i in range(len(day7)):\n",
    "    day7[i] = int(day7[i])\n",
    "\n",
    "myfile = open(\"data\\day7_ex.txt\", \"rt\") # open lorem.t'x't for reading te'x't\n",
    "contents = myfile.read()         # read the entire file to string\n",
    "myfile.close()                   # close the file\n",
    "day7_ex = contents.split(',')\n",
    "for i in range(len(day7_ex)):\n",
    "    day7_ex[i] = int(day7_ex[i])\n",
    "day7_ex\n",
    "\n"
   ]
  },
  {
   "cell_type": "code",
   "execution_count": 101,
   "metadata": {},
   "outputs": [
    {
     "data": {
      "text/plain": [
       "349769.0"
      ]
     },
     "execution_count": 101,
     "metadata": {},
     "output_type": "execute_result"
    }
   ],
   "source": [
    "import numpy as np\n",
    "\n",
    "arr = np.array(day7)\n",
    "\n",
    "sum(abs(arr - np.median(arr)))\n"
   ]
  },
  {
   "cell_type": "code",
   "execution_count": 87,
   "metadata": {},
   "outputs": [
    {
     "data": {
      "text/plain": [
       "99540554"
      ]
     },
     "execution_count": 87,
     "metadata": {},
     "output_type": "execute_result"
    }
   ],
   "source": [
    "import math\n",
    "arr = np.array(day7)\n",
    "\n",
    "arr_final = abs(arr - math.floor(arr.mean()))\n",
    "\n",
    "sm1 = 0\n",
    "for num in arr_final:\n",
    "    sm1+=sum(range(num+1))\n",
    "\n",
    "arr_final = abs(arr - math.ceil(arr.mean()))\n",
    "\n",
    "sm2 = 0\n",
    "for num in arr_final:\n",
    "    sm2+=sum(range(num+1))\n",
    "\n",
    "min(sm1, sm2)\n"
   ]
  },
  {
   "cell_type": "code",
   "execution_count": 95,
   "metadata": {},
   "outputs": [],
   "source": [
    "import matplotlib.pyplot as plt\n",
    "import math\n",
    "import pandas as pd\n",
    "ls = []\n",
    "\n",
    "for i in range(1000):\n",
    "    arr = np.array(day7)\n",
    "    arr_final = abs(arr - i)\n",
    "    sm = 0\n",
    "    for num in arr_final:\n",
    "        sm+=sum(range(num+1))\n",
    "    ls.append({'num': i, 'sm' : sm})\n",
    "\n",
    "df = pd.DataFrame(ls)"
   ]
  },
  {
   "cell_type": "code",
   "execution_count": 97,
   "metadata": {},
   "outputs": [
    {
     "data": {
      "text/plain": [
       "<AxesSubplot:>"
      ]
     },
     "execution_count": 97,
     "metadata": {},
     "output_type": "execute_result"
    },
    {
     "data": {
      "image/png": "[encoded data removed]",
      "text/plain": [
       "<Figure size 432x288 with 1 Axes>"
      ]
     },
     "metadata": {
      "needs_background": "light"
     },
     "output_type": "display_data"
    }
   ],
   "source": [
    "df.sm.plot()"
   ]
  },
  {
   "cell_type": "markdown",
   "metadata": {},
   "source": [
    "<h1>Day 8</h1>"
   ]
  },
  {
   "cell_type": "code",
   "execution_count": 109,
   "metadata": {},
   "outputs": [
    {
     "data": {
      "text/plain": [
       "[{'values': ['be',\n",
       "   'cfbegad',\n",
       "   'cbdgef',\n",
       "   'fgaecd',\n",
       "   'cgeb',\n",
       "   'fdcge',\n",
       "   'agebfd',\n",
       "   'fecdb',\n",
       "   'fabcd',\n",
       "   'edb'],\n",
       "  'targets': ['fdgacbe', 'cefdb', 'cefbgd', 'gcbe']},\n",
       " {'values': ['edbfga',\n",
       "   'begcd',\n",
       "   'cbg',\n",
       "   'gc',\n",
       "   'gcadebf',\n",
       "   'fbgde',\n",
       "   'acbgfd',\n",
       "   'abcde',\n",
       "   'gfcbed',\n",
       "   'gfec'],\n",
       "  'targets': ['fcgedb', 'cgb', 'dgebacf', 'gc']},\n",
       " {'values': ['fgaebd',\n",
       "   'cg',\n",
       "   'bdaec',\n",
       "   'gdafb',\n",
       "   'agbcfd',\n",
       "   'gdcbef',\n",
       "   'bgcad',\n",
       "   'gfac',\n",
       "   'gcb',\n",
       "   'cdgabef'],\n",
       "  'targets': ['cg', 'cg', 'fdcagb', 'cbg']},\n",
       " {'values': ['fbegcd',\n",
       "   'cbd',\n",
       "   'adcefb',\n",
       "   'dageb',\n",
       "   'afcb',\n",
       "   'bc',\n",
       "   'aefdc',\n",
       "   'ecdab',\n",
       "   'fgdeca',\n",
       "   'fcdbega'],\n",
       "  'targets': ['efabcd', 'cedba', 'gadfec', 'cb']},\n",
       " {'values': ['aecbfdg',\n",
       "   'fbg',\n",
       "   'gf',\n",
       "   'bafeg',\n",
       "   'dbefa',\n",
       "   'fcge',\n",
       "   'gcbea',\n",
       "   'fcaegb',\n",
       "   'dgceab',\n",
       "   'fcbdga'],\n",
       "  'targets': ['gecf', 'egdcabf', 'bgf', 'bfgea']},\n",
       " {'values': ['fgeab',\n",
       "   'ca',\n",
       "   'afcebg',\n",
       "   'bdacfeg',\n",
       "   'cfaedg',\n",
       "   'gcfdb',\n",
       "   'baec',\n",
       "   'bfadeg',\n",
       "   'bafgc',\n",
       "   'acf'],\n",
       "  'targets': ['gebdcfa', 'ecba', 'ca', 'fadegcb']},\n",
       " {'values': ['dbcfg',\n",
       "   'fgd',\n",
       "   'bdegcaf',\n",
       "   'fgec',\n",
       "   'aegbdf',\n",
       "   'ecdfab',\n",
       "   'fbedc',\n",
       "   'dacgb',\n",
       "   'gdcebf',\n",
       "   'gf'],\n",
       "  'targets': ['cefg', 'dcbef', 'fcge', 'gbcadfe']},\n",
       " {'values': ['bdfegc',\n",
       "   'cbegaf',\n",
       "   'gecbf',\n",
       "   'dfcage',\n",
       "   'bdacg',\n",
       "   'ed',\n",
       "   'bedf',\n",
       "   'ced',\n",
       "   'adcbefg',\n",
       "   'gebcd'],\n",
       "  'targets': ['ed', 'bcgafe', 'cdgba', 'cbgef']},\n",
       " {'values': ['egadfb',\n",
       "   'cdbfeg',\n",
       "   'cegd',\n",
       "   'fecab',\n",
       "   'cgb',\n",
       "   'gbdefca',\n",
       "   'cg',\n",
       "   'fgcdab',\n",
       "   'egfdb',\n",
       "   'bfceg'],\n",
       "  'targets': ['gbdfcae', 'bgc', 'cg', 'cgb']},\n",
       " {'values': ['gcafb',\n",
       "   'gcf',\n",
       "   'dcaebfg',\n",
       "   'ecagb',\n",
       "   'gf',\n",
       "   'abcdeg',\n",
       "   'gaef',\n",
       "   'cafbge',\n",
       "   'fdbac',\n",
       "   'fegbdc'],\n",
       "  'targets': ['fgae', 'cfgab', 'fg', 'bagce']}]"
      ]
     },
     "execution_count": 109,
     "metadata": {},
     "output_type": "execute_result"
    }
   ],
   "source": [
    "myfile = open(\"data\\day8.txt\", \"rt\") # open lorem.t'x't for reading te'x't\n",
    "contents = myfile.read()         # read the entire file to string\n",
    "myfile.close()                   # close the file\n",
    "day8 = contents.split('\\n')\n",
    "ls8 = []\n",
    "for i in range(len(day8)):\n",
    "    spl = day8[i].split(' | ')\n",
    "    ls8.append({\n",
    "        'values':spl[0].split(' '),\n",
    "        'targets':spl[1].split(' '),\n",
    "    })\n",
    "ls8   \n",
    "\n",
    "myfile = open(\"data\\day8_ex.txt\", \"rt\") # open lorem.t'x't for reading te'x't\n",
    "contents = myfile.read()         # read the entire file to string\n",
    "myfile.close()                   # close the file\n",
    "day8_ex = contents.split('\\n')\n",
    "ls8_ex = []\n",
    "for i in range(len(day8_ex)):\n",
    "    spl = day8_ex[i].split(' | ')\n",
    "    ls8_ex.append({\n",
    "        'values':spl[0].split(' '),\n",
    "        'targets':spl[1].split(' '),\n",
    "    })\n",
    "ls8_ex   \n"
   ]
  },
  {
   "cell_type": "code",
   "execution_count": 124,
   "metadata": {},
   "outputs": [
    {
     "data": {
      "text/plain": [
       "543"
      ]
     },
     "execution_count": 124,
     "metadata": {},
     "output_type": "execute_result"
    }
   ],
   "source": [
    "# pazzle 1\n",
    "\n",
    "# 1 : 2\n",
    "# 4 : 4\n",
    "# 7 : 3\n",
    "# 8 : 7\n",
    "sm = 0\n",
    "ls_unique = []\n",
    "for i in range(len(ls8)):\n",
    "    for s in ls8[i]['targets']:\n",
    "        if len(s) in (2,4,3,7):\n",
    "            ls_unique.append(s)\n",
    "\n",
    "len(ls_unique)"
   ]
  },
  {
   "cell_type": "code",
   "execution_count": 241,
   "metadata": {},
   "outputs": [
    {
     "name": "stdout",
     "output_type": "stream",
     "text": [
      "61229\n",
      "994266\n"
     ]
    }
   ],
   "source": [
    "# pazzle 2\n",
    "\n",
    "myfile = open(\"data\\day8.txt\", \"rt\") # open lorem.t'x't for reading te'x't\n",
    "contents = myfile.read()         # read the entire file to string\n",
    "myfile.close()                   # close the file\n",
    "day8 = contents.split('\\n')\n",
    "for i in range(len(day8)):\n",
    "    spl = day8[i].split(' | ')\n",
    "    ls8.append({\n",
    "        'values':spl[0].split(' '),\n",
    "        'targets':spl[1].split(' '),\n",
    "    })\n",
    "   \n",
    "\n",
    "myfile = open(\"data\\day8_ex.txt\", \"rt\") # open lorem.t'x't for reading te'x't\n",
    "contents = myfile.read()         # read the entire file to string\n",
    "myfile.close()                   # close the file\n",
    "day8_ex = contents.split('\\n')\n",
    "ls8_ex = []\n",
    "for i in range(len(day8_ex)):\n",
    "    spl = day8_ex[i].split(' | ')\n",
    "    ls8_ex.append({\n",
    "        'values':spl[0].split(' '),\n",
    "        'targets':spl[1].split(' '),\n",
    "    })\n",
    "\n",
    "\n",
    "def sevent_segment_display(ls8):\n",
    "    # getting all strings to group numbers\n",
    "    list_of_num = []\n",
    "    for i in range(len(ls8)):\n",
    "        num_dic = { 0: [], 1: [],2: [], 3: [],4: [], 5: [],6: [], 7: [],8: [], 9: []}\n",
    "        for s in ls8[i]['targets']:\n",
    "            num_dic[len(s)].append(s)\n",
    "            num_dic[len(s)] = list(set(num_dic[len(s)]))\n",
    "        for s in ls8[i]['values']:\n",
    "            num_dic[len(s)].append(s)\n",
    "            num_dic[len(s)] = list(set(num_dic[len(s)]))\n",
    "        for num in num_dic:\n",
    "            for j in range(len(num_dic[num])):\n",
    "                num_dic[num][j] = ''.join(sorted(num_dic[num][j]))\n",
    "            num_dic[num] = list(set(num_dic[num]))\n",
    "        list_of_num.append(num_dic)\n",
    "\n",
    "    # getting every row to a DF by letter index\n",
    "    ls_df = []\n",
    "    for row in list_of_num:\n",
    "        ls_nm = []\n",
    "        dic_le = {'a':0,'b':0,'c':0,'d':0,'e':0,'f':0,'g':0}\n",
    "        for l1 in row.values():\n",
    "            for s in l1:\n",
    "                dic_le = {'a':0,'b':0,'c':0,'d':0,'e':0,'f':0,'g':0}\n",
    "                for char in s:\n",
    "                    dic_le[char]=1\n",
    "                ls_nm.append(dic_le)\n",
    "        df = pd.DataFrame(ls_nm)\n",
    "        ls_df.append(df)\n",
    "\n",
    "    #  0:      1:      2:      3:      4:\n",
    "    # aaaa    ....    aaaa    aaaa    ....\n",
    "    #b    c  .    c  .    c  .    c  b    c\n",
    "    #b    c  .    c  .    c  .    c  b    c\n",
    "    # ....    ....    dddd    dddd    dddd\n",
    "    #e    f  .    f  e    .  .    f  .    f\n",
    "    #e    f  .    f  e    .  .    f  .    f\n",
    "    # gggg    ....    gggg    gggg    ....\n",
    "\n",
    "    #  5:      6:      7:      8:      9:\n",
    "    # aaaa    aaaa    aaaa    aaaa    aaaa\n",
    "    #b    .  b    .  .    c  b    c  b    c\n",
    "    #b    .  b    .  .    c  b    c  b    c\n",
    "    # dddd    dddd    ....    dddd    dddd\n",
    "    #.    f  e    f  .    f  e    f  .    f\n",
    "    #.    f  e    f  .    f  e    f  .    f\n",
    "    # gggg    gggg    ....    gggg    gggg\n",
    "\n",
    "    dic_numbers = { 'abcefg' : '0',\n",
    "        'cf':'1',\n",
    "        'acdeg':'2',\n",
    "        'acdfg':'3',\n",
    "        'bcdf':'4',\n",
    "        'abdfg':'5',\n",
    "        'abdefg':'6',\n",
    "        'acf':'7',\n",
    "        'abcdefg':'8',\n",
    "        'abcdfg':'9'\n",
    "        }\n",
    "\n",
    "    sm_final = 0\n",
    "    for i in range(len(ls_df)):\n",
    "        # al rows have the same valus, aggregate and match\n",
    "        clm = ls_df[i].columns\n",
    "        arr = ls_df[i].to_numpy()\n",
    "        cl_sum = arr.sum(0)\n",
    "        rw_sum = arr.sum(1)\n",
    "        dic_trns = {}\n",
    "        for j in range(cl_sum.shape[0]):\n",
    "            # these was manully solve from the first example\n",
    "            if cl_sum[j] == 4 and sum(rw_sum*arr.T[j]) == 24:\n",
    "                dic_trns[clm[j]] = 'e'\n",
    "            if cl_sum[j] == 8 and sum(rw_sum*arr.T[j]) == 38:\n",
    "                dic_trns[clm[j]] = 'c'\n",
    "            if cl_sum[j] == 7 and sum(rw_sum*arr.T[j]) == 38:\n",
    "                dic_trns[clm[j]] = 'd'\n",
    "            if cl_sum[j] == 8 and sum(rw_sum*arr.T[j]) == 43:\n",
    "                dic_trns[clm[j]] = 'a'\n",
    "            if cl_sum[j] == 9 and sum(rw_sum*arr.T[j]) == 44:\n",
    "                dic_trns[clm[j]] = 'f'\n",
    "            if cl_sum[j] == 7 and sum(rw_sum*arr.T[j]) == 40:\n",
    "                dic_trns[clm[j]] = 'g'\n",
    "            if cl_sum[j] == 6 and sum(rw_sum*arr.T[j]) == 34:\n",
    "                dic_trns[clm[j]] = 'b'\n",
    "        final_number = ''\n",
    "        # replace target strings\n",
    "        for j in range(len(ls8[i]['targets'])):\n",
    "            for k in range(len(ls8[i]['targets'][j])):\n",
    "                ls8[i]['targets'][j] = ls8[i]['targets'][j][:k] + dic_trns[ls8[i]['targets'][j][k]] + ls8[i]['targets'][j][k+1:]\n",
    "            ls8[i]['targets'][j] = ''.join(sorted(ls8[i]['targets'][j]))\n",
    "            #transform number\n",
    "            final_number = final_number + dic_numbers[ls8[i]['targets'][j]]\n",
    "        #sum up\n",
    "        sm_final+=int(final_number)\n",
    "    return sm_final\n",
    "\n",
    "\n",
    "print(sevent_segment_display(ls8_ex))\n",
    "            \n",
    "print(sevent_segment_display(ls8))\n"
   ]
  },
  {
   "cell_type": "markdown",
   "metadata": {},
   "source": [
    "<h1>Day 9</h1>"
   ]
  },
  {
   "cell_type": "code",
   "execution_count": 254,
   "metadata": {},
   "outputs": [
    {
     "data": {
      "text/plain": [
       "[[2, 1, 9, 9, 9, 4, 3, 2, 1, 0],\n",
       " [3, 9, 8, 7, 8, 9, 4, 9, 2, 1],\n",
       " [9, 8, 5, 6, 7, 8, 9, 8, 9, 2],\n",
       " [8, 7, 6, 7, 8, 9, 6, 7, 8, 9],\n",
       " [9, 8, 9, 9, 9, 6, 5, 6, 7, 8]]"
      ]
     },
     "execution_count": 254,
     "metadata": {},
     "output_type": "execute_result"
    }
   ],
   "source": [
    "myfile = open(\"data\\day9.txt\", \"rt\") # open lorem.t'x't for reading te'x't\n",
    "contents = myfile.read()         # read the entire file to string\n",
    "myfile.close()                   # close the file\n",
    "day9 = contents.split('\\n')\n",
    "ls9 = []\n",
    "for i in range(len(day9)):\n",
    "    ls9.append([int(x) for x in day9[i]])\n",
    "\n",
    "\n",
    "myfile = open(\"data\\day9_ex.txt\", \"rt\") # open lorem.t'x't for reading te'x't\n",
    "contents = myfile.read()         # read the entire file to string\n",
    "myfile.close()                   # close the file\n",
    "day9_ex = contents.split('\\n')\n",
    "ls9_ex = []\n",
    "for i in range(len(day9_ex)):\n",
    "    ls9_ex.append([int(x) for x in day9_ex[i]])\n",
    "ls9_ex\n"
   ]
  },
  {
   "cell_type": "code",
   "execution_count": 376,
   "metadata": {},
   "outputs": [
    {
     "name": "stdout",
     "output_type": "stream",
     "text": [
      "[[10. 10. 10. 10. 10. 10. 10. 10. 10. 10. 10. 10.]\n",
      " [10. 10. 10. 10. 10. 10. 10. 10. 10. 10. 10. 10.]\n",
      " [10. 10. 10. 10. 10. 10. 10. 10. 10. 10. 10. 10.]\n",
      " [10. 10. 10. 10. 10. 10. 10. 10. 10. 10. 10. 10.]\n",
      " [10. 10. 10. 10. 10. 10. 10. 10. 10. 10. 10. 10.]\n",
      " [10. 10. 10. 10. 10. 10. 10. 10. 10. 10. 10. 10.]\n",
      " [10. 10. 10. 10. 10. 10. 10. 10. 10. 10. 10. 10.]]\n",
      "[[10. 10. 10. 10. 10. 10. 10. 10. 10. 10. 10. 10.]\n",
      " [10.  2.  1.  9.  9.  9.  4.  3.  2.  1.  0. 10.]\n",
      " [10.  3.  9.  8.  7.  8.  9.  4.  9.  2.  1. 10.]\n",
      " [10.  9.  8.  5.  6.  7.  8.  9.  8.  9.  2. 10.]\n",
      " [10.  8.  7.  6.  7.  8.  9.  6.  7.  8.  9. 10.]\n",
      " [10.  9.  8.  9.  9.  9.  6.  5.  6.  7.  8. 10.]\n",
      " [10. 10. 10. 10. 10. 10. 10. 10. 10. 10. 10. 10.]]\n",
      "15.0\n"
     ]
    }
   ],
   "source": [
    "# pazzle 1\n",
    "def deep(ls):\n",
    "    mtrx = np.ones([len(ls) + 2,len(ls[0]) + 2])*10\n",
    "    for i in range(len(ls)):\n",
    "        for j in range(len(ls[0])):\n",
    "            mtrx[i+1][j+1] = ls[i][j]\n",
    "    sm = 0\n",
    "    for i in range(len(ls)):\n",
    "        for j in range(len(ls[0])):\n",
    "            if mtrx[i+1][j+1] < mtrx[i][j+1] and mtrx[i+1][j+1] < mtrx[i+1][j] and mtrx[i+1][j+1] < mtrx[i+2][j+1] and mtrx[i+1][j+1] < mtrx[i+1][j+2]:\n",
    "                sm+=mtrx[i+1][j+1]+1\n",
    "    return sm\n",
    "\n",
    "print(deep(ls9_ex))\n",
    "print(deep(ls9))"
   ]
  },
  {
   "cell_type": "code",
   "execution_count": 359,
   "metadata": {},
   "outputs": [
    {
     "name": "stdout",
     "output_type": "stream",
     "text": [
      "[[0. 0. 0. 0. 0. 0. 0. 0. 0. 0. 0. 0.]\n",
      " [0. 2. 2. 0. 0. 0. 4. 4. 4. 4. 4. 0.]\n",
      " [0. 2. 0. 3. 3. 3. 0. 4. 0. 4. 4. 0.]\n",
      " [0. 0. 3. 3. 3. 3. 3. 0. 5. 0. 4. 0.]\n",
      " [0. 3. 3. 3. 3. 3. 0. 5. 5. 5. 0. 0.]\n",
      " [0. 0. 3. 0. 0. 0. 5. 5. 5. 5. 5. 0.]\n",
      " [0. 0. 0. 0. 0. 0. 0. 0. 0. 0. 0. 0.]]\n",
      "1134\n"
     ]
    },
    {
     "data": {
      "image/png": "[encoded data removed]",
      "text/plain": [
       "<Figure size 432x288 with 1 Axes>"
      ]
     },
     "metadata": {
      "needs_background": "light"
     },
     "output_type": "display_data"
    }
   ],
   "source": [
    "# pazzle 2\n",
    "\n",
    "def get_matrix(ls):\n",
    "    mtrx = np.zeros([len(ls) + 2,len(ls[0]) + 2])\n",
    "    for i in range(len(ls)):\n",
    "        for j in range(len(ls[0])):\n",
    "            if ls[i][j] != 9:\n",
    "                mtrx[i+1][j+1] = 1\n",
    "    return mtrx\n",
    "\n",
    "def find_block(mtrx, cnt, i, j):\n",
    "    mtrx[i, j] = cnt\n",
    "    if mtrx[i + 1, j] == 1:\n",
    "        find_block(mtrx, cnt, i + 1, j)\n",
    "    if mtrx[i, j + 1] == 1:\n",
    "        find_block(mtrx, cnt, i, j + 1)\n",
    "    if mtrx[i - 1, j] == 1:\n",
    "        find_block(mtrx, cnt, i - 1, j)\n",
    "    if mtrx[i, j - 1] == 1:\n",
    "        find_block(mtrx, cnt, i, j - 1)\n",
    "    return mtrx\n",
    "\n",
    "\n",
    "mtrx = get_matrix(ls9_ex)\n",
    "#print(mtrx)\n",
    "\n",
    "cnt = 2\n",
    "for i in range(1,mtrx.shape[1]-1):\n",
    "    for j in range(1,mtrx.shape[0]-1):\n",
    "        if mtrx[j][i] == 1:\n",
    "            mtrx = find_block(mtrx, cnt, j, i)\n",
    "            cnt+=1\n",
    "print(mtrx)\n",
    "\n",
    "# higher then 1008576\n",
    "plt.imshow(mtrx, cmap='hot', interpolation='nearest')\n",
    "\n",
    "## grouping and gettng the answer\n",
    "groups, counts = np.unique(mtrx, return_counts=True)\n",
    "counts.sort()\n",
    "print(counts[-2]*counts[-3]*counts[-4])\n",
    "\n"
   ]
  },
  {
   "cell_type": "code",
   "execution_count": 375,
   "metadata": {},
   "outputs": [
    {
     "data": {
      "text/plain": [
       "2.7249863147735596"
      ]
     },
     "execution_count": 375,
     "metadata": {},
     "output_type": "execute_result"
    }
   ],
   "source": [
    "import time\n",
    "\n",
    "ls_time = []\n",
    "for t in range(100):\n",
    "    \n",
    "\n",
    "    mtrx = get_matrix(ls9)\n",
    "    #print(mtrx)\n",
    "    to = time.time()\n",
    "    cnt = 2\n",
    "    for i in range(1,mtrx.shape[1]-1):\n",
    "        for j in range(1,mtrx.shape[0]-1):\n",
    "            if mtrx[j][i] == 1:\n",
    "                mtrx = find_block(mtrx, cnt, j, i)\n",
    "                cnt+=1\n",
    "    #print(mtrx)\n",
    "\n",
    "    # higher then 1008576\n",
    "    #plt.imshow(mtrx, cmap='hot', interpolation='nearest')\n",
    "\n",
    "    ## grouping and gettng the answer\n",
    "    groups, counts = np.unique(mtrx, return_counts=True)\n",
    "    counts.sort()\n",
    "    counts[-2]*counts[-3]*counts[-4]\n",
    "\n",
    "    ls_time.append(time.time() - to)\n",
    "\n",
    "sum(ls_time)"
   ]
  },
  {
   "cell_type": "markdown",
   "metadata": {},
   "source": [
    "<h1>Day 10</h1>"
   ]
  },
  {
   "cell_type": "code",
   "execution_count": 377,
   "metadata": {},
   "outputs": [
    {
     "data": {
      "text/plain": [
       "['[({(<(())[]>[[{[]{<()<>>',\n",
       " '[(()[<>])]({[<{<<[]>>(',\n",
       " '{([(<{}[<>[]}>{[]{[(<()>',\n",
       " '(((({<>}<{<{<>}{[]{[]{}',\n",
       " '[[<[([]))<([[{}[[()]]]',\n",
       " '[{[{({}]{}}([{[{{{}}([]',\n",
       " '{<[[]]>}<{[{[{[]{()[[[]',\n",
       " '[<(<(<(<{}))><([]([]()',\n",
       " '<{([([[(<>()){}]>(<<{{',\n",
       " '<{([{{}}[<[[[<>{}]]]>[]]']"
      ]
     },
     "execution_count": 377,
     "metadata": {},
     "output_type": "execute_result"
    }
   ],
   "source": [
    "myfile = open(\"data\\day10.txt\", \"rt\") # open lorem.t'x't for reading te'x't\n",
    "contents = myfile.read()         # read the entire file to string\n",
    "myfile.close()                   # close the file\n",
    "day10 = contents.split('\\n')\n",
    "\n",
    "myfile = open(\"data\\day10_ex.txt\", \"rt\") # open lorem.t'x't for reading te'x't\n",
    "contents = myfile.read()         # read the entire file to string\n",
    "myfile.close()                   # close the file\n",
    "day10_ex = contents.split('\\n')\n",
    "\n",
    "day10_ex"
   ]
  },
  {
   "cell_type": "code",
   "execution_count": 390,
   "metadata": {},
   "outputs": [
    {
     "name": "stdout",
     "output_type": "stream",
     "text": [
      "26397\n",
      "392043\n"
     ]
    }
   ],
   "source": [
    "close_dic = {\n",
    "    ']':'[',\n",
    "    ')':'(',\n",
    "    '}':'{',\n",
    "    '>':'<'\n",
    "    }\n",
    "open_list = ['[','(','{','<']\n",
    "dic_score = {\n",
    "    ')': 3,\n",
    "    ']': 57,\n",
    "    '}': 1197,\n",
    "    '>': 25137\n",
    "    }\n",
    "\n",
    "def count_miss(day):\n",
    "    sm_fail = 0\n",
    "    for s in day:\n",
    "        ls_check = []\n",
    "        go = True\n",
    "        i = 0\n",
    "        while go==True and i < len(s):\n",
    "            char = s[i]\n",
    "            if char in open_list:\n",
    "                ls_check.append(char)\n",
    "            else:\n",
    "                if close_dic[char] == ls_check[-1]:\n",
    "                    ls_check = ls_check[:-1]\n",
    "                else:\n",
    "                    sm_fail+=dic_score[char]\n",
    "                    go=False\n",
    "            i+=1\n",
    "    return sm_fail\n",
    "\n",
    "print(count_miss(day10_ex))\n",
    "print(count_miss(day10))\n"
   ]
  },
  {
   "cell_type": "code",
   "execution_count": 400,
   "metadata": {},
   "outputs": [
    {
     "name": "stdout",
     "output_type": "stream",
     "text": [
      "288957\n",
      "1605968119\n"
     ]
    }
   ],
   "source": [
    "def get_not_corrapted(day):\n",
    "    missing_list = []\n",
    "    for s in day:    \n",
    "        ls_check = []\n",
    "        go = True\n",
    "        i = 0\n",
    "        while go==True and i < len(s):\n",
    "            char = s[i]\n",
    "            if char in open_list:\n",
    "                ls_check.append(char)\n",
    "            else:\n",
    "                if close_dic[char] == ls_check[-1]:\n",
    "                    ls_check = ls_check[:-1]\n",
    "                else:\n",
    "                    go=False\n",
    "            i+=1\n",
    "        if i == len(s):\n",
    "            missing_list.append(ls_check)\n",
    "    return missing_list\n",
    "\n",
    "\n",
    "\n",
    "dic_score_open = {\n",
    "    '(': 1,\n",
    "    '[': 2,\n",
    "    '{': 3,\n",
    "    '<': 4\n",
    "    }\n",
    "\n",
    "def get_median_score(missing_list):\n",
    "    ls_scores = []\n",
    "    for s in missing_list:\n",
    "        sm = 0\n",
    "        for i in range(len(s)):\n",
    "            k = len(s)-i-1\n",
    "            sm = (5*sm) + dic_score_open[s[k]]\n",
    "        ls_scores.append(sm)\n",
    "\n",
    "    ls_scores.sort()\n",
    "    return ls_scores[int(len(ls_scores)/2)]\n",
    "\n",
    "\n",
    "print(get_median_score(get_not_corrapted(day10_ex)))\n",
    "print(get_median_score(get_not_corrapted(day10)))"
   ]
  },
  {
   "cell_type": "markdown",
   "metadata": {},
   "source": [
    "<h1>Day 11</h1>"
   ]
  },
  {
   "cell_type": "code",
   "execution_count": 527,
   "metadata": {},
   "outputs": [
    {
     "name": "stdout",
     "output_type": "stream",
     "text": [
      "1656.0\n",
      "1642.0\n"
     ]
    }
   ],
   "source": [
    "# pazzle 1\n",
    "import numpy as np\n",
    "\n",
    "myfile = open(\"data\\day11.txt\", \"rt\") # open lorem.t'x't for reading te'x't\n",
    "contents = myfile.read()         # read the entire file to string\n",
    "myfile.close()                   # close the file\n",
    "day11 = contents.split('\\n')\n",
    "\n",
    "mtrx11 = np.zeros([10,10])\n",
    "for i in range(10):\n",
    "    for j in range(10):\n",
    "        mtrx11[i][j] = int(day11[i][j])\n",
    "\n",
    "myfile = open(\"data\\day11_ex.txt\", \"rt\") # open lorem.t'x't for reading te'x't\n",
    "contents = myfile.read()         # read the entire file to string\n",
    "myfile.close()                   # close the file\n",
    "day11_ex = contents.split('\\n')\n",
    "mtrx11_ex = np.zeros([10,10])\n",
    "for i in range(10):\n",
    "    for j in range(10):\n",
    "        mtrx11_ex[i][j] = int(day11_ex[i][j])\n",
    "\n",
    "def pump_lights(mtrx, mtrx_memo):\n",
    "    if np.where(mtrx >= 9)[0].shape[0] == 0:\n",
    "        return (mtrx+1)*(mtrx_memo), 100-mtrx_memo.sum()\n",
    "    else:\n",
    "        nines = np.where(mtrx >= 9)\n",
    "        mtrx_temp = np.zeros([12,12])\n",
    "        mtrx_pad = np.ones([3,3])\n",
    "        for i in range(nines[0].shape[0]):\n",
    "            mtrx_temp[nines[0][i]:nines[0][i] + 3,nines[1][i]:nines[1][i] + 3] += mtrx_pad\n",
    "            mtrx_memo[nines[0][i],nines[1][i]] = 0\n",
    "        mtrx+=mtrx_temp[1:-1,1:-1]\n",
    "        mtrx=mtrx*mtrx_memo\n",
    "        return pump_lights(mtrx, mtrx_memo)\n",
    "\n",
    "sm_ex = 0\n",
    "for i in range(100):\n",
    "    mtrx11_ex,sm1 = pump_lights(mtrx11_ex, np.ones([10,10]))\n",
    "    sm_ex+=sm1\n",
    "print(sm_ex)\n",
    "\n",
    "sm = 0\n",
    "for i in range(100):\n",
    "    mtrx11,sm1 = pump_lights(mtrx11, np.ones([10,10]))\n",
    "    sm+=sm1\n",
    "print(sm)"
   ]
  },
  {
   "cell_type": "code",
   "execution_count": 528,
   "metadata": {},
   "outputs": [
    {
     "name": "stdout",
     "output_type": "stream",
     "text": [
      "195\n",
      "320\n"
     ]
    }
   ],
   "source": [
    "# pazzle 2\n",
    "import numpy as np\n",
    "\n",
    "myfile = open(\"data\\day11.txt\", \"rt\") # open lorem.t'x't for reading te'x't\n",
    "contents = myfile.read()         # read the entire file to string\n",
    "myfile.close()                   # close the file\n",
    "day11 = contents.split('\\n')\n",
    "\n",
    "mtrx11 = np.zeros([10,10])\n",
    "for i in range(10):\n",
    "    for j in range(10):\n",
    "        mtrx11[i][j] = int(day11[i][j])\n",
    "\n",
    "myfile = open(\"data\\day11_ex.txt\", \"rt\") # open lorem.t'x't for reading te'x't\n",
    "contents = myfile.read()         # read the entire file to string\n",
    "myfile.close()                   # close the file\n",
    "day11_ex = contents.split('\\n')\n",
    "mtrx11_ex = np.zeros([10,10])\n",
    "for i in range(10):\n",
    "    for j in range(10):\n",
    "        mtrx11_ex[i][j] = int(day11_ex[i][j])\n",
    "\n",
    "\n",
    "end_round_ex = 0\n",
    "while mtrx11_ex.sum() != 0:\n",
    "    mtrx11_ex,sm1 = pump_lights(mtrx11_ex, np.ones([10,10]))\n",
    "    end_round_ex+=1\n",
    "print(end_round_ex)\n",
    "\n",
    "end_round = 0\n",
    "while mtrx11.sum() != 0:\n",
    "    mtrx11,sm1 = pump_lights(mtrx11, np.ones([10,10]))\n",
    "    end_round+=1\n",
    "print(end_round)"
   ]
  },
  {
   "cell_type": "markdown",
   "metadata": {},
   "source": [
    "<h1>Day 12</h1>"
   ]
  },
  {
   "cell_type": "code",
   "execution_count": 565,
   "metadata": {},
   "outputs": [
    {
     "data": {
      "text/plain": [
       "{'start': ['A', 'b'],\n",
       " 'A': ['start', 'c', 'b', 'end'],\n",
       " 'b': ['start', 'A', 'd', 'end'],\n",
       " 'c': ['A'],\n",
       " 'd': ['b'],\n",
       " 'end': ['A', 'b']}"
      ]
     },
     "execution_count": 565,
     "metadata": {},
     "output_type": "execute_result"
    }
   ],
   "source": [
    "# pazzle 1\n",
    "myfile = open(\"data\\day12_ex.txt\", \"rt\") # open lorem.t'x't for reading te'x't\n",
    "contents = myfile.read()         # read the entire file to string\n",
    "myfile.close()                   # close the file\n",
    "day12_ex = contents.split('\\n')\n",
    "ls_path_12_ex = [(path.split('-')[0],path.split('-')[1]) for path in day12_ex]\n",
    "dic_path_12_ex = {}\n",
    "for i in range(len(ls_path_12_ex)):\n",
    "    dic_path_12_ex[ls_path_12_ex[i][0]] = []\n",
    "    dic_path_12_ex[ls_path_12_ex[i][1]] = []\n",
    "for i in range(len(ls_path_12_ex)):\n",
    "    dic_path_12_ex[ls_path_12_ex[i][0]].append(ls_path_12_ex[i][1])\n",
    "    dic_path_12_ex[ls_path_12_ex[i][1]].append(ls_path_12_ex[i][0])\n"
   ]
  },
  {
   "cell_type": "code",
   "execution_count": 109,
   "metadata": {},
   "outputs": [],
   "source": [
    "# pazzle 1\n",
    "myfile = open(\"data\\day12_ex.txt\", \"rt\") # open lorem.t'x't for reading te'x't\n",
    "contents = myfile.read()         # read the entire file to string\n",
    "myfile.close()                   # close the file\n",
    "day12_ex = contents.split('\\n')\n",
    "ls_path_12_ex = [(path.split('-')[0],path.split('-')[1]) for path in day12_ex]\n",
    "dic_path_12_ex = {}\n",
    "for i in range(len(ls_path_12_ex)):\n",
    "    dic_path_12_ex[ls_path_12_ex[i][0]] = []\n",
    "    dic_path_12_ex[ls_path_12_ex[i][1]] = []\n",
    "for i in range(len(ls_path_12_ex)):\n",
    "    dic_path_12_ex[ls_path_12_ex[i][0]].append(ls_path_12_ex[i][1])\n",
    "    dic_path_12_ex[ls_path_12_ex[i][1]].append(ls_path_12_ex[i][0])\n",
    "\n",
    "myfile = open(\"data\\day12_ex2.txt\", \"rt\") # open lorem.t'x't for reading te'x't\n",
    "contents = myfile.read()         # read the entire file to string\n",
    "myfile.close()                   # close the file\n",
    "day12_ex2 = contents.split('\\n')\n",
    "ls_path_12_ex2 = [(path.split('-')[0],path.split('-')[1]) for path in day12_ex2]\n",
    "dic_path_12_ex2 = {}\n",
    "for i in range(len(ls_path_12_ex2)):\n",
    "    dic_path_12_ex2[ls_path_12_ex2[i][0]] = []\n",
    "    dic_path_12_ex2[ls_path_12_ex2[i][1]] = []\n",
    "for i in range(len(ls_path_12_ex2)):\n",
    "    dic_path_12_ex2[ls_path_12_ex2[i][0]].append(ls_path_12_ex2[i][1])\n",
    "    dic_path_12_ex2[ls_path_12_ex2[i][1]].append(ls_path_12_ex2[i][0])\n",
    "\n",
    "myfile = open(\"data\\day12_ex3.txt\", \"rt\") # open lorem.t'x't for reading te'x't\n",
    "contents = myfile.read()         # read the entire file to string\n",
    "myfile.close()                   # close the file\n",
    "day12_ex3 = contents.split('\\n')\n",
    "ls_path_12_ex3 = [(path.split('-')[0],path.split('-')[1]) for path in day12_ex3]\n",
    "dic_path_12_ex3 = {}\n",
    "for i in range(len(ls_path_12_ex3)):\n",
    "    dic_path_12_ex3[ls_path_12_ex3[i][0]] = []\n",
    "    dic_path_12_ex3[ls_path_12_ex3[i][1]] = []\n",
    "for i in range(len(ls_path_12_ex3)):\n",
    "    dic_path_12_ex3[ls_path_12_ex3[i][0]].append(ls_path_12_ex3[i][1])\n",
    "    dic_path_12_ex3[ls_path_12_ex3[i][1]].append(ls_path_12_ex3[i][0])\n",
    "\n",
    "\n",
    "\n",
    "myfile = open(\"data\\day12.txt\", \"rt\") # open lorem.t'x't for reading te'x't\n",
    "contents = myfile.read()         # read the entire file to string\n",
    "myfile.close()                   # close the file\n",
    "day12 = contents.split('\\n')\n",
    "ls_path_12 = [(path.split('-')[0],path.split('-')[1]) for path in day12]\n",
    "dic_path_12 = {}\n",
    "for i in range(len(ls_path_12)):\n",
    "    dic_path_12[ls_path_12[i][0]] = []\n",
    "    dic_path_12[ls_path_12[i][1]] = []\n",
    "for i in range(len(ls_path_12)):\n",
    "    dic_path_12[ls_path_12[i][0]].append(ls_path_12[i][1])\n",
    "    dic_path_12[ls_path_12[i][1]].append(ls_path_12[i][0])"
   ]
  },
  {
   "cell_type": "code",
   "execution_count": 113,
   "metadata": {},
   "outputs": [
    {
     "name": "stdout",
     "output_type": "stream",
     "text": [
      "10\n",
      "example:\n",
      "['start', 'A', 'c', 'A', 'b', 'A', 'end']\n",
      "['start', 'A', 'c', 'A', 'b', 'end']\n",
      "['start', 'A', 'c', 'A', 'end']\n",
      "['start', 'A', 'b', 'A', 'c', 'A', 'end']\n",
      "['start', 'A', 'b', 'A', 'end']\n",
      "['start', 'A', 'b', 'end']\n",
      "['start', 'A', 'end']\n",
      "['start', 'b', 'A', 'c', 'A', 'end']\n",
      "['start', 'b', 'A', 'end']\n",
      "['start', 'b', 'end']\n",
      "19\n",
      "226\n",
      "4691\n"
     ]
    }
   ],
   "source": [
    "A = []\n",
    "\n",
    "def maze(dic, path, ls_dont_go, rout):\n",
    "    global A\n",
    "    if path == 'end':\n",
    "        A.append(rout)\n",
    "        return True\n",
    "    ls_paths = dic[path]\n",
    "    lss = [ls_dont_go.copy() for i in range(len(ls_paths))]\n",
    "    routs = [rout.copy() for i in range(len(ls_paths))]\n",
    "    for i in range(len(ls_paths)):\n",
    "        new_path = ls_paths[i]\n",
    "        new_rout = routs[i]\n",
    "        if new_path not in lss[i]:\n",
    "            new_rout.append(new_path)\n",
    "            if new_path.islower():\n",
    "                lss[i].append(new_path)\n",
    "            maze(dic, new_path, lss[i], new_rout)\n",
    "\n",
    "#ex1\n",
    "for key in dic_path_12_ex:\n",
    "    if 'start' in dic_path_12_ex[key]:\n",
    "        dic_path_12_ex[key].remove('start')\n",
    "\n",
    "A = []\n",
    "maze(dic_path_12_ex, 'start', ['start'], ['start'])\n",
    "print(len(A))\n",
    "print('example:')\n",
    "for s in A:\n",
    "    print(s)\n",
    "\n",
    "#ex2\n",
    "for key in dic_path_12_ex2:\n",
    "    if 'start' in dic_path_12_ex2[key]:\n",
    "        dic_path_12_ex2[key].remove('start')\n",
    "A = []\n",
    "maze(dic_path_12_ex2, 'start', ['start'], ['start'])\n",
    "print(len(A))\n",
    "\n",
    "#ex3\n",
    "for key in dic_path_12_ex3:\n",
    "    if 'start' in dic_path_12_ex3[key]:\n",
    "        dic_path_12_ex3[key].remove('start')\n",
    "A = []\n",
    "maze(dic_path_12_ex3, 'start', ['start'], ['start'])\n",
    "print(len(A))\n",
    "\n",
    "#sol\n",
    "for key in dic_path_12:\n",
    "    if 'start' in dic_path_12[key]:\n",
    "        dic_path_12[key].remove('start')\n",
    "A = []\n",
    "maze(dic_path_12, 'start', ['start'], ['start'])\n",
    "print(len(A))\n"
   ]
  },
  {
   "cell_type": "code",
   "execution_count": 114,
   "metadata": {},
   "outputs": [
    {
     "name": "stdout",
     "output_type": "stream",
     "text": [
      "36\n",
      "example\n",
      "['start', 'A', 'c', 'A', 'c', 'A', 'b', 'end']\n",
      "['start', 'A', 'c', 'A', 'b', 'A', 'c', 'A', 'end']\n",
      "['start', 'A', 'c', 'A', 'b', 'A', 'end']\n",
      "['start', 'b', 'A', 'b', 'end']\n",
      "['start', 'b', 'd', 'b', 'end']\n",
      "['start', 'A', 'c', 'A', 'b', 'A', 'b', 'end']\n",
      "['start', 'A', 'b', 'A', 'end']\n",
      "['start', 'A', 'c', 'A', 'b', 'end']\n",
      "['start', 'A', 'c', 'A', 'end']\n",
      "['start', 'A', 'b', 'd', 'b', 'A', 'end']\n",
      "['start', 'A', 'b', 'd', 'b', 'end']\n",
      "['start', 'A', 'b', 'A', 'c', 'A', 'end']\n",
      "['start', 'A', 'b', 'A', 'c', 'A', 'c', 'A', 'end']\n",
      "['start', 'A', 'b', 'A', 'c', 'A', 'b', 'end']\n",
      "['start', 'A', 'c', 'A', 'b', 'd', 'b', 'A', 'end']\n",
      "['start', 'b', 'd', 'b', 'A', 'end']\n",
      "['start', 'b', 'A', 'c', 'A', 'end']\n",
      "['start', 'A', 'b', 'A', 'b', 'A', 'end']\n",
      "['start', 'A', 'b', 'A', 'c', 'A', 'b', 'A', 'end']\n",
      "['start', 'b', 'A', 'c', 'A', 'b', 'end']\n",
      "['start', 'b', 'end']\n",
      "['start', 'b', 'A', 'b', 'A', 'c', 'A', 'end']\n",
      "['start', 'b', 'A', 'c', 'A', 'c', 'A', 'end']\n",
      "['start', 'b', 'd', 'b', 'A', 'c', 'A', 'end']\n",
      "['start', 'b', 'A', 'c', 'A', 'b', 'A', 'end']\n",
      "['start', 'A', 'c', 'A', 'c', 'A', 'b', 'A', 'end']\n",
      "['start', 'A', 'b', 'd', 'b', 'A', 'c', 'A', 'end']\n",
      "['start', 'A', 'c', 'A', 'b', 'd', 'b', 'end']\n",
      "['start', 'A', 'b', 'end']\n",
      "['start', 'A', 'end']\n",
      "['start', 'A', 'b', 'A', 'b', 'end']\n",
      "['start', 'A', 'c', 'A', 'b', 'A', 'b', 'A', 'end']\n",
      "['start', 'A', 'b', 'A', 'b', 'A', 'c', 'A', 'end']\n",
      "['start', 'A', 'c', 'A', 'c', 'A', 'end']\n",
      "['start', 'b', 'A', 'end']\n",
      "['start', 'b', 'A', 'b', 'A', 'end']\n",
      "103\n",
      "3509\n",
      "140718\n"
     ]
    }
   ],
   "source": [
    "#pazzle 2\n",
    "\n",
    "A = []\n",
    "def maze_2(dic, path, ls_dont_go, lower, cnt, rout):\n",
    "    global A\n",
    "    if path == 'end':\n",
    "        A.append(rout)\n",
    "        return True\n",
    "    ls_paths = dic[path]\n",
    "    # creating lists of reference\n",
    "    # lss - caves not to enter\n",
    "    # routs - all the routs\n",
    "    # counts - the remember the second small cave\n",
    "    lss = [ls_dont_go.copy() for i in range(len(ls_paths))]\n",
    "    routs = [rout.copy() for i in range(len(ls_paths))]\n",
    "    counts = [cnt for i in range(len(ls_paths))]\n",
    "    for i in range(len(ls_paths)):\n",
    "        new_path = ls_paths[i]\n",
    "        new_rout = routs[i]\n",
    "        if new_path not in lss[i] :\n",
    "            new_rout.append(new_path)\n",
    "            if new_path == lower and counts[i] > 0:\n",
    "                lss[i].append(new_path)\n",
    "            if new_path == lower:\n",
    "                counts[i]+=1\n",
    "            if new_path.islower() and new_path != lower:\n",
    "                lss[i].append(new_path)\n",
    "            maze_2(dic, new_path, lss[i], lower, counts[i], new_rout)\n",
    "\n",
    "# ex1\n",
    "lowers = [key for key in dic_path_12_ex if key.islower() and key not in ['start','end']]\n",
    "A = []\n",
    "for lower in lowers:\n",
    "    maze_2(dic_path_12_ex, 'start', ['start'], lower, 0, ['start'])\n",
    "\n",
    "print(len([list(x) for x in set(tuple(x) for x in A)]))\n",
    "print('example')\n",
    "for s in [list(x) for x in set(tuple(x) for x in A)]:\n",
    "    print(s)\n",
    "\n",
    "# ex2\n",
    "lowers = [key for key in dic_path_12_ex2 if key.islower() and key not in ['start','end']]\n",
    "A = []\n",
    "for lower in lowers:\n",
    "    maze_2(dic_path_12_ex2, 'start', ['start'], lower, 0, [])\n",
    "\n",
    "print(len([list(x) for x in set(tuple(x) for x in A)]))\n",
    "\n",
    "# ex3\n",
    "lowers = [key for key in dic_path_12_ex3 if key.islower() and key not in ['start','end']]\n",
    "A = []\n",
    "for lower in lowers:\n",
    "    maze_2(dic_path_12_ex3, 'start', ['start'], lower, 0, ['start'])\n",
    "\n",
    "print(len([list(x) for x in set(tuple(x) for x in A)]))\n",
    "\n",
    "# solution\n",
    "lowers = [key for key in dic_path_12 if key.islower() and key not in ['start','end']]\n",
    "A = []\n",
    "for lower in lowers:\n",
    "    maze_2(dic_path_12, 'start', ['start'], lower, 0, ['start'])\n",
    "\n",
    "print(len([list(x) for x in set(tuple(x) for x in A)]))\n"
   ]
  }
 ],
 "metadata": {
  "interpreter": {
   "hash": "aa2eb2128c5f8af9ad6aba703aa774db81b516ef9be9c8d965d31ca53d522192"
  },
  "kernelspec": {
   "display_name": "Python 3.8.8 64-bit ('base': conda)",
   "language": "python",
   "name": "python3"
  },
  "language_info": {
   "codemirror_mode": {
    "name": "ipython",
    "version": 3
   },
   "file_extension": ".py",
   "mimetype": "text/x-python",
   "name": "python",
   "nbconvert_exporter": "python",
   "pygments_lexer": "ipython3",
   "version": "3.8.8"
  },
  "orig_nbformat": 4
 },
 "nbformat": 4,
 "nbformat_minor": 2
}
